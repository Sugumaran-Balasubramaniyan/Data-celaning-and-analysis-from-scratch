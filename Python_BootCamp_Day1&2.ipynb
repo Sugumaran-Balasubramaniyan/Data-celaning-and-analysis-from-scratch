{
 "cells": [
  {
   "cell_type": "markdown",
   "id": "b823326b",
   "metadata": {},
   "source": [
    "<a class='anchor' id=\"summary\"></a>\n",
    "### [Table of Contents](#summary)\n",
    "\n",
    "\n",
    "- **[Day 1](#day1)**\n",
    "    - [Intro : check the original dataset](#intro)\n",
    "    - [Part I : Data rows preprocessing](#part1)\n",
    "    - [Part II : Data set preprocessing](#part2)\n",
    "    - [Part III : Refactorization](#part3)\n",
    "- **[Day 2](#day2)**\n",
    "    - [Summary statistics](#statistics)\n",
    "    - [Imputing missing values](#missing)\n",
    "    - [Compute value_counts for categorical columns](#value_counts)\n",
    "    - [Data lookup](#lookup)\n",
    "        - [Question 1](#question1)\n",
    "        - [Question 2](#question2)\n",
    "        - [Question 3](#question3)\n",
    "        - [Question 4](#question4)\n",
    "        - [Question 5](#question5)"
   ]
  },
  {
   "cell_type": "markdown",
   "id": "768f3e63",
   "metadata": {},
   "source": [
    "<a class='anchor' id=\"day1\"></span>\n",
    "# <span style=\"color:blue\"> Day 1</span>\n",
    "[Table of Contents](#summary)"
   ]
  },
  {
   "cell_type": "markdown",
   "id": "eab4171c",
   "metadata": {},
   "source": [
    "<a class='anchor' id='intro'></a>\n",
    "## Intro : check the original dataset\n",
    "\n",
    "You may download the original dataset from :\n",
    "https://www.kaggle.com/PromptCloudHQ/innerwear-data-from-victorias-secret-and-others\n",
    "- Explore the meta-data of the dataset\n",
    "- Understand the global content of the dataset\n",
    "- Check for the different variables and their type\n",
    "\n",
    "For this class, we will use a slightly modified version available here :\n",
    "https://github.com/jaotombo/data_science_from_scratch/tree/main/data\n",
    "<br>Download and unzip the `victoria` file into this course's data folder\n",
    "\n",
    "[Table of Contents](#summary)"
   ]
  },
  {
   "cell_type": "markdown",
   "id": "drawn-lightweight",
   "metadata": {},
   "source": [
    "<a class='anchor' id='part1'></a>\n",
    "## Part I : Data rows preprocessing\n",
    "[Table of Contents](#summary)"
   ]
  },
  {
   "cell_type": "code",
   "execution_count": 1,
   "id": "spare-confidentiality",
   "metadata": {},
   "outputs": [],
   "source": [
    "import pandas as pd\n",
    "import numpy as np\n",
    "import os"
   ]
  },
  {
   "cell_type": "code",
   "execution_count": 2,
   "id": "peaceful-tonight",
   "metadata": {},
   "outputs": [
    {
     "data": {
      "text/plain": [
       "'/Users/sugumaran/Documents/EM-LYON/Data cleaning and Analysis from scratch/Day 2'"
      ]
     },
     "execution_count": 2,
     "metadata": {},
     "output_type": "execute_result"
    }
   ],
   "source": [
    "os.getcwd()"
   ]
  },
  {
   "cell_type": "code",
   "execution_count": 3,
   "id": "tracked-clarity",
   "metadata": {},
   "outputs": [],
   "source": [
    "DATA_PATH = r'/Users/sugumaran/Documents/EM-LYON/Data cleaning and Analysis from scratch/Day 2'"
   ]
  },
  {
   "cell_type": "code",
   "execution_count": 4,
   "id": "536f321e",
   "metadata": {},
   "outputs": [],
   "source": [
    "# os.chdir('../../data')\n",
    "os.chdir(DATA_PATH)"
   ]
  },
  {
   "cell_type": "markdown",
   "id": "0a44100c",
   "metadata": {},
   "source": [
    "### Check a few data points (steps 1 and 2)\n",
    "\n",
    "**Check a few lines** (the first 3 or 5 lines - enough to be able to check the content) of the data file `data/victoria.csv`, \n",
    "\n",
    "**Pick one line, and see how to process it.**\n",
    "\n",
    "Which means: Check how lines are structured\n",
    "- what kind of delimiter\n",
    "- which variables (column names)\n",
    "- which type of data (str, float, int, ...)\n",
    "- Save one line for later analysis in one variable"
   ]
  },
  {
   "cell_type": "code",
   "execution_count": 5,
   "id": "sticky-therapist",
   "metadata": {},
   "outputs": [
    {
     "name": "stdout",
     "output_type": "stream",
     "text": [
      "product_name*mrp*price*pdp_url*brand_name*product_category*retailer*description*rating*review_count*style_attributes*total_sizes*available_size*color\n",
      "\n",
      "Very Sexy Strappy Lace Thong Panty*$14.50 *$14.50 *https://www.victoriassecret.com/panties/shop-all-panties/strappy-lace-thong-panty-very-sexy?ProductID=328310&CatalogueType=OLS*Victoria's Secret*Strappy Lace Thong Panty*Victoriassecret US*Lots of cheek peek, pretty lace, a strappy back—this sexy panty is so not subtle. Allover lace with front bow V-back with crisscross straps Low rise Minimal back coverage: lots of cheek peek Imported nylon/spandex****\"[\"\"XS\"\", \"\"S\"\", \"\"M\"\", \"\"L\"\", \"\"XL\"\"]\"*S*peach melba\n",
      "\n",
      "Very Sexy Strappy Lace Thong Panty*$14.50 *$14.50 *https://www.victoriassecret.com/panties/shop-all-panties/strappy-lace-thong-panty-very-sexy?ProductID=328310&CatalogueType=OLS*Victoria's Secret*Strappy Lace Thong Panty*Victoriassecret US*Lots of cheek peek, pretty lace, a strappy back—this sexy panty is so not subtle. Allover lace with front bow V-back with crisscross straps Low rise Minimal back coverage: lots of cheek peek Imported nylon/spandex****\"[\"\"XS\"\", \"\"S\"\", \"\"M\"\", \"\"L\"\", \"\"XL\"\"]\"*S*black\n",
      "\n",
      "Very Sexy Strappy Lace Thong Panty*$14.50 *$14.50 *https://www.victoriassecret.com/panties/shop-all-panties/strappy-lace-thong-panty-very-sexy?ProductID=328310&CatalogueType=OLS*Victoria's Secret*Strappy Lace Thong Panty*Victoriassecret US*Lots of cheek peek, pretty lace, a strappy back—this sexy panty is so not subtle. Allover lace with front bow V-back with crisscross straps Low rise Minimal back coverage: lots of cheek peek Imported nylon/spandex****\"[\"\"XS\"\", \"\"S\"\", \"\"M\"\", \"\"L\"\", \"\"XL\"\"]\"*S*plum dust\n",
      "\n"
     ]
    }
   ],
   "source": [
    "with open('victoria.csv','r', encoding='utf-8') as file:\n",
    "    count = 0\n",
    "    for line in file:\n",
    "        print(line)\n",
    "        count += 1\n",
    "        if count > 3 : break"
   ]
  },
  {
   "cell_type": "code",
   "execution_count": 6,
   "id": "magnetic-milwaukee",
   "metadata": {},
   "outputs": [],
   "source": [
    "one_line = line"
   ]
  },
  {
   "cell_type": "markdown",
   "id": "c1a6099f",
   "metadata": {},
   "source": [
    "## Experiment with one line to define data preprocessing"
   ]
  },
  {
   "cell_type": "code",
   "execution_count": 7,
   "id": "oriented-option",
   "metadata": {},
   "outputs": [
    {
     "data": {
      "text/plain": [
       "'Very Sexy Strappy Lace Thong Panty*$14.50 *$14.50 *https://www.victoriassecret.com/panties/shop-all-panties/strappy-lace-thong-panty-very-sexy?ProductID=328310&CatalogueType=OLS*Victoria\\'s Secret*Strappy Lace Thong Panty*Victoriassecret US*Lots of cheek peek, pretty lace, a strappy back—this sexy panty is so not subtle. Allover lace with front bow V-back with crisscross straps Low rise Minimal back coverage: lots of cheek peek Imported nylon/spandex****\"[\"\"XS\"\", \"\"S\"\", \"\"M\"\", \"\"L\"\", \"\"XL\"\"]\"*S*plum dust\\n'"
      ]
     },
     "execution_count": 7,
     "metadata": {},
     "output_type": "execute_result"
    }
   ],
   "source": [
    "# print the last line read in the dataset\n",
    "one_line"
   ]
  },
  {
   "cell_type": "code",
   "execution_count": 8,
   "id": "crucial-operation",
   "metadata": {},
   "outputs": [
    {
     "name": "stdout",
     "output_type": "stream",
     "text": [
      "product_name*mrp*price*pdp_url*brand_name*product_category*retailer*description*rating*review_count*style_attributes*total_sizes*available_size*color\n",
      "\n"
     ]
    }
   ],
   "source": [
    "# print an save the first line of the dataset\n",
    "with open('victoria.csv','r') as file:\n",
    "    for line in file:\n",
    "        print(line)\n",
    "        break\n",
    "\n",
    "columns = line"
   ]
  },
  {
   "cell_type": "code",
   "execution_count": 9,
   "id": "trained-pontiac",
   "metadata": {
    "scrolled": true
   },
   "outputs": [
    {
     "data": {
      "text/plain": [
       "['product_name',\n",
       " 'mrp',\n",
       " 'price',\n",
       " 'pdp_url',\n",
       " 'brand_name',\n",
       " 'product_category',\n",
       " 'retailer',\n",
       " 'description',\n",
       " 'rating',\n",
       " 'review_count',\n",
       " 'style_attributes',\n",
       " 'total_sizes',\n",
       " 'available_size',\n",
       " 'color\\n']"
      ]
     },
     "execution_count": 9,
     "metadata": {},
     "output_type": "execute_result"
    }
   ],
   "source": [
    "# split the first line using * as a delimiter : it outputs a list\n",
    "columns = columns.split('*')\n",
    "columns"
   ]
  },
  {
   "cell_type": "code",
   "execution_count": 10,
   "id": "comparable-reducing",
   "metadata": {},
   "outputs": [
    {
     "data": {
      "text/plain": [
       "['product_name',\n",
       " 'mrp',\n",
       " 'price',\n",
       " 'pdp_url',\n",
       " 'brand_name',\n",
       " 'product_category',\n",
       " 'retailer',\n",
       " 'description',\n",
       " 'rating',\n",
       " 'review_count',\n",
       " 'style_attributes',\n",
       " 'total_sizes',\n",
       " 'available_size',\n",
       " 'color']"
      ]
     },
     "execution_count": 10,
     "metadata": {},
     "output_type": "execute_result"
    }
   ],
   "source": [
    "# strip all the white spaces in the columns variable\n",
    "columns = [var.strip() for var in columns]\n",
    "columns"
   ]
  },
  {
   "cell_type": "code",
   "execution_count": 11,
   "id": "specific-civilization",
   "metadata": {
    "scrolled": true
   },
   "outputs": [
    {
     "data": {
      "text/plain": [
       "['Very Sexy Strappy Lace Thong Panty',\n",
       " '$14.50 ',\n",
       " '$14.50 ',\n",
       " 'https://www.victoriassecret.com/panties/shop-all-panties/strappy-lace-thong-panty-very-sexy?ProductID=328310&CatalogueType=OLS',\n",
       " \"Victoria's Secret\",\n",
       " 'Strappy Lace Thong Panty',\n",
       " 'Victoriassecret US',\n",
       " 'Lots of cheek peek, pretty lace, a strappy back—this sexy panty is so not subtle. Allover lace with front bow V-back with crisscross straps Low rise Minimal back coverage: lots of cheek peek Imported nylon/spandex',\n",
       " '',\n",
       " '',\n",
       " '',\n",
       " '\"[\"\"XS\"\", \"\"S\"\", \"\"M\"\", \"\"L\"\", \"\"XL\"\"]\"',\n",
       " 'S',\n",
       " 'plum dust\\n']"
      ]
     },
     "execution_count": 11,
     "metadata": {},
     "output_type": "execute_result"
    }
   ],
   "source": [
    "# split the fourth line of the dataset\n",
    "line_list = one_line.split('*')\n",
    "line_list"
   ]
  },
  {
   "cell_type": "code",
   "execution_count": 12,
   "id": "de31d099",
   "metadata": {},
   "outputs": [],
   "source": [
    "# a function that strips the white space from an element of a list\n",
    "def clean_last(element):\n",
    "    return element.strip()"
   ]
  },
  {
   "cell_type": "code",
   "execution_count": 13,
   "id": "8a610647",
   "metadata": {},
   "outputs": [
    {
     "data": {
      "text/plain": [
       "'plum dust'"
      ]
     },
     "execution_count": 13,
     "metadata": {},
     "output_type": "execute_result"
    }
   ],
   "source": [
    "# apply it on the last element of the fourth row of the dataset\n",
    "clean_last(line_list[-1])"
   ]
  },
  {
   "cell_type": "code",
   "execution_count": 14,
   "id": "d91ae186",
   "metadata": {},
   "outputs": [],
   "source": [
    "# a function that cleans a row of the dataset with a given delimiter\n",
    "def clean_line(row, delimiter):\n",
    "    row_list = row.split(delimiter)\n",
    "    return [val.strip() for val in row_list]"
   ]
  },
  {
   "cell_type": "code",
   "execution_count": 15,
   "id": "cf2febaa",
   "metadata": {
    "scrolled": true
   },
   "outputs": [
    {
     "data": {
      "text/plain": [
       "['Very Sexy Strappy Lace Thong Panty',\n",
       " '$14.50',\n",
       " '$14.50',\n",
       " 'https://www.victoriassecret.com/panties/shop-all-panties/strappy-lace-thong-panty-very-sexy?ProductID=328310&CatalogueType=OLS',\n",
       " \"Victoria's Secret\",\n",
       " 'Strappy Lace Thong Panty',\n",
       " 'Victoriassecret US',\n",
       " 'Lots of cheek peek, pretty lace, a strappy back—this sexy panty is so not subtle. Allover lace with front bow V-back with crisscross straps Low rise Minimal back coverage: lots of cheek peek Imported nylon/spandex',\n",
       " '',\n",
       " '',\n",
       " '',\n",
       " '\"[\"\"XS\"\", \"\"S\"\", \"\"M\"\", \"\"L\"\", \"\"XL\"\"]\"',\n",
       " 'S',\n",
       " 'plum dust']"
      ]
     },
     "execution_count": 15,
     "metadata": {},
     "output_type": "execute_result"
    }
   ],
   "source": [
    "# apply on the saved line, with the relevant delimiter *\n",
    "clean_line(one_line,'*')"
   ]
  },
  {
   "cell_type": "code",
   "execution_count": 16,
   "id": "852e0d97",
   "metadata": {
    "scrolled": true
   },
   "outputs": [
    {
     "data": {
      "text/plain": [
       "['product_name',\n",
       " 'mrp',\n",
       " 'price',\n",
       " 'pdp_url',\n",
       " 'brand_name',\n",
       " 'product_category',\n",
       " 'retailer',\n",
       " 'description',\n",
       " 'rating',\n",
       " 'review_count',\n",
       " 'style_attributes',\n",
       " 'total_sizes',\n",
       " 'available_size',\n",
       " 'color']"
      ]
     },
     "execution_count": 16,
     "metadata": {},
     "output_type": "execute_result"
    }
   ],
   "source": [
    "# apply on the first line, with the relevant delimiter *\n",
    "clean_line(line,'*')"
   ]
  },
  {
   "cell_type": "code",
   "execution_count": 17,
   "id": "distinguished-vietnamese",
   "metadata": {},
   "outputs": [],
   "source": [
    "def conv(price):\n",
    "    return (float(price.strip('$') if '$' in price else np.nan))"
   ]
  },
  {
   "cell_type": "code",
   "execution_count": 18,
   "id": "incorrect-ocean",
   "metadata": {},
   "outputs": [
    {
     "data": {
      "text/plain": [
       "14.5"
      ]
     },
     "execution_count": 18,
     "metadata": {},
     "output_type": "execute_result"
    }
   ],
   "source": [
    "conv(line_list[1])"
   ]
  },
  {
   "cell_type": "code",
   "execution_count": 19,
   "id": "appointed-ability",
   "metadata": {},
   "outputs": [],
   "source": [
    "# a function that converts price into float, otherwise into NANs\n",
    "def conv_price(l_value):\n",
    "    if '$' in l_value :\n",
    "        value = l_value.strip('$')\n",
    "    else:\n",
    "        value = np.nan\n",
    "    return float(value)"
   ]
  },
  {
   "cell_type": "code",
   "execution_count": 20,
   "id": "continental-disclosure",
   "metadata": {},
   "outputs": [
    {
     "name": "stdout",
     "output_type": "stream",
     "text": [
      "14.5\n",
      "14.5\n"
     ]
    }
   ],
   "source": [
    "# applying the function on the two price variables\n",
    "for value in line_list[1:3]:\n",
    "    print(conv_price(value))"
   ]
  },
  {
   "cell_type": "code",
   "execution_count": 21,
   "id": "e161809c",
   "metadata": {},
   "outputs": [
    {
     "name": "stdout",
     "output_type": "stream",
     "text": [
      "mrp 14.5\n",
      "price 14.5\n"
     ]
    }
   ],
   "source": [
    "# applying the function on the two price variables- version 2\n",
    "for j in range(1,3):\n",
    "    print(columns[j], conv_price(line_list[j]))"
   ]
  },
  {
   "cell_type": "code",
   "execution_count": 22,
   "id": "sealed-rogers",
   "metadata": {},
   "outputs": [],
   "source": [
    "# a function replacing empty values by \"nan\" otherwise into a float\n",
    "def repl_nan(l_value):\n",
    "    if l_value == '':\n",
    "        value = np.nan\n",
    "    else:\n",
    "        value = l_value\n",
    "    return float(value)"
   ]
  },
  {
   "cell_type": "code",
   "execution_count": 23,
   "id": "coordinate-conservative",
   "metadata": {},
   "outputs": [],
   "source": [
    "# a function replacing empty values by \"nan\" otherwise into a float - shorter implementation\n",
    "def repl_nan(l_value):\n",
    "    return (np.nan if l_value=='' else float(l_value))"
   ]
  },
  {
   "cell_type": "code",
   "execution_count": 24,
   "id": "taken-senate",
   "metadata": {},
   "outputs": [
    {
     "name": "stdout",
     "output_type": "stream",
     "text": [
      "nan\n",
      "nan\n",
      "nan\n"
     ]
    }
   ],
   "source": [
    "# applying it on three columns\n",
    "for value in line_list[8:11]:\n",
    "    print(repl_nan(value))"
   ]
  },
  {
   "cell_type": "code",
   "execution_count": 25,
   "id": "monetary-plain",
   "metadata": {},
   "outputs": [
    {
     "data": {
      "text/plain": [
       "['Very Sexy Strappy Lace Thong Panty',\n",
       " '$14.50 ',\n",
       " '$14.50 ',\n",
       " 'https://www.victoriassecret.com/panties/shop-all-panties/strappy-lace-thong-panty-very-sexy?ProductID=328310&CatalogueType=OLS',\n",
       " \"Victoria's Secret\",\n",
       " 'Strappy Lace Thong Panty',\n",
       " 'Victoriassecret US',\n",
       " 'Lots of cheek peek, pretty lace, a strappy back—this sexy panty is so not subtle. Allover lace with front bow V-back with crisscross straps Low rise Minimal back coverage: lots of cheek peek Imported nylon/spandex',\n",
       " '',\n",
       " '',\n",
       " '',\n",
       " '\"[\"\"XS\"\", \"\"S\"\", \"\"M\"\", \"\"L\"\", \"\"XL\"\"]\"',\n",
       " 'S',\n",
       " 'plum dust\\n']"
      ]
     },
     "execution_count": 25,
     "metadata": {},
     "output_type": "execute_result"
    }
   ],
   "source": [
    "line_list"
   ]
  },
  {
   "cell_type": "code",
   "execution_count": 26,
   "id": "collectible-singing",
   "metadata": {},
   "outputs": [],
   "source": [
    "# a function transforming size variables into a list or size in string\n",
    "def conv_size(l_string):\n",
    "    import regex as re\n",
    "    l_size = l_string.split(',')\n",
    "    return [re.sub('[^A-Z0-9]', '', size) for size in l_size]"
   ]
  },
  {
   "cell_type": "code",
   "execution_count": 27,
   "id": "alternate-division",
   "metadata": {},
   "outputs": [
    {
     "data": {
      "text/plain": [
       "['XS', 'S', 'M', 'L', 'XL']"
      ]
     },
     "execution_count": 27,
     "metadata": {},
     "output_type": "execute_result"
    }
   ],
   "source": [
    "# applying it on the total_sizes variable\n",
    "conv_size(line_list[-3])"
   ]
  },
  {
   "cell_type": "code",
   "execution_count": 28,
   "id": "alert-context",
   "metadata": {},
   "outputs": [],
   "source": [
    "# a synthetic preprocessing function\n",
    "def preproc(line_list):\n",
    "    '''\n",
    "    replaces all non $ prices (columns 1&2) into nan's\n",
    "    replaces all empty values (columns 8-10) into nan's\n",
    "    converts total size values into size list\n",
    "    removes the '\\n' character at the end of each row\n",
    "    '''\n",
    "    line_list[1:3] = [conv_price(value) for value in line_list[1:3]]\n",
    "    line_list[8:11] = [repl_nan(value) for value in line_list[8:11]]\n",
    "    line_list[-3] = conv_size(line_list[-3])\n",
    "    line_list[-1] = clean_last(line_list[-1])\n",
    "    return line_list"
   ]
  },
  {
   "cell_type": "code",
   "execution_count": 29,
   "id": "democratic-ballet",
   "metadata": {
    "scrolled": false
   },
   "outputs": [
    {
     "data": {
      "text/plain": [
       "['Very Sexy Strappy Lace Thong Panty',\n",
       " 14.5,\n",
       " 14.5,\n",
       " 'https://www.victoriassecret.com/panties/shop-all-panties/strappy-lace-thong-panty-very-sexy?ProductID=328310&CatalogueType=OLS',\n",
       " \"Victoria's Secret\",\n",
       " 'Strappy Lace Thong Panty',\n",
       " 'Victoriassecret US',\n",
       " 'Lots of cheek peek, pretty lace, a strappy back—this sexy panty is so not subtle. Allover lace with front bow V-back with crisscross straps Low rise Minimal back coverage: lots of cheek peek Imported nylon/spandex',\n",
       " nan,\n",
       " nan,\n",
       " nan,\n",
       " ['XS', 'S', 'M', 'L', 'XL'],\n",
       " 'S',\n",
       " 'plum dust']"
      ]
     },
     "execution_count": 29,
     "metadata": {},
     "output_type": "execute_result"
    }
   ],
   "source": [
    "preproc(line_list)"
   ]
  },
  {
   "cell_type": "markdown",
   "id": "0c02dd92",
   "metadata": {},
   "source": [
    "[Table of Contents](#summary)"
   ]
  },
  {
   "cell_type": "markdown",
   "id": "reported-photography",
   "metadata": {},
   "source": [
    "<a class='anchor' id='part2'></a>\n",
    "## Part 2 : Dataset preprocessing\n",
    "[Table of Contents](#summary)"
   ]
  },
  {
   "cell_type": "code",
   "execution_count": 30,
   "id": "norman-hands",
   "metadata": {},
   "outputs": [],
   "source": [
    "# reading all the the rows of the data set - version 1\n",
    "df_raw = dict()\n",
    "with open('victoria.csv', 'r', encoding='utf-8') as file:\n",
    "    idx = -1\n",
    "    for line in file:\n",
    "        row = line.split('*')\n",
    "        if idx == -1 :\n",
    "            df_raw['columns'] = row\n",
    "            idx = 0\n",
    "            continue\n",
    "        df_raw[idx] = row\n",
    "        idx += 1"
   ]
  },
  {
   "cell_type": "code",
   "execution_count": 31,
   "id": "structural-innocent",
   "metadata": {},
   "outputs": [],
   "source": [
    "# reading all the the rows of the data set - version 2\n",
    "df_raw = dict()\n",
    "with open('victoria.csv', 'r', encoding='utf-8') as file:\n",
    "    idx = -1\n",
    "    for line in file:\n",
    "        row = line.split('*')\n",
    "        if idx == -1 :\n",
    "            df_raw['columns'] = row\n",
    "            idx += 1\n",
    "        else :\n",
    "            df_raw[idx] = row\n",
    "            idx += 1"
   ]
  },
  {
   "cell_type": "code",
   "execution_count": 32,
   "id": "complex-dryer",
   "metadata": {},
   "outputs": [
    {
     "data": {
      "text/plain": [
       "453387"
      ]
     },
     "execution_count": 32,
     "metadata": {},
     "output_type": "execute_result"
    }
   ],
   "source": [
    "# check length of 'dataframe' dictionary\n",
    "len(df_raw)"
   ]
  },
  {
   "cell_type": "code",
   "execution_count": 33,
   "id": "minute-crest",
   "metadata": {},
   "outputs": [],
   "source": [
    "import copy\n",
    "raw_df = copy.deepcopy(df_raw)"
   ]
  },
  {
   "cell_type": "code",
   "execution_count": 34,
   "id": "cultural-edward",
   "metadata": {},
   "outputs": [
    {
     "data": {
      "text/plain": [
       "['product_name',\n",
       " 'mrp',\n",
       " 'price',\n",
       " 'pdp_url',\n",
       " 'brand_name',\n",
       " 'product_category',\n",
       " 'retailer',\n",
       " 'description',\n",
       " 'rating',\n",
       " 'review_count',\n",
       " 'style_attributes',\n",
       " 'total_sizes',\n",
       " 'available_size',\n",
       " 'color\\n']"
      ]
     },
     "execution_count": 34,
     "metadata": {},
     "output_type": "execute_result"
    }
   ],
   "source": [
    "# check the column name\n",
    "df_raw['columns']"
   ]
  },
  {
   "cell_type": "code",
   "execution_count": 35,
   "id": "falling-scanning",
   "metadata": {
    "scrolled": true
   },
   "outputs": [
    {
     "data": {
      "text/plain": [
       "['Victoria Sport NEW! Incredible by Victoria Sport Front-close Sport Bra',\n",
       " '$36.50 ',\n",
       " '$36.50 ',\n",
       " 'https://www.victoriassecret.com/victorias-secret-sport/shop-all/incredible-by-victoria-sport-front-close-sport-bra-victoria-sport?ProductID=336653&CatalogueType=OLS',\n",
       " \"Victoria's Secret\",\n",
       " 'Incredible by Victoria Sport Front-close Sport Bra',\n",
       " 'Victoriassecret US',\n",
       " 'Game-changer: your favorite maximum-support sport bra meets a zip-front for easy on and off, with a flexible underwire you can’t feel and fully adjustable straps, all in stay-cool Body-Wick fabric. Details Maximum support Breathable padding with wicking liner to keep you extra dry Flexible underwire for maximum comfort Fully adjustable straps Bonded, seamless technology that eliminates irritation Supersoft elastic band for comfort & movement Locking zip-front with inside hook-&-eye closure \\xa0 Performance & Fabric Perfect for running, boxing and cardio Body-Wick keeps you cool & dry Machine wash. Tumble dry. Imported. Body: nylon/LYCRA®spandex. Mesh: polyester/spandex.',\n",
       " '',\n",
       " '',\n",
       " '',\n",
       " '\"[\"\"32A\"\", \"\"32B\"\", \"\"32C\"\", \"\"32D\"\", \"\"32DD\"\", \"\"32DDD\"\", \"\"34A\"\", \"\"34B\"\", \"\"34C\"\", \"\"34D\"\", \"\"34DD\"\", \"\"34DDD\"\", \"\"36A\"\", \"\"36B\"\", \"\"36C\"\", \"\"36D\"\", \"\"36DD\"\", \"\"36DDD\"\", \"\"38A\"\", \"\"38B\"\", \"\"38C\"\", \"\"38D\"\", \"\"38DD\"\", \"\"38DDD\"\", \"\"40A\"\", \"\"40B\"\", \"\"40C\"\", \"\"40D\"\", \"\"40DD\"\", \"\"40DDD\"\"]\"',\n",
       " '34D',\n",
       " 'Black\\n']"
      ]
     },
     "execution_count": 35,
     "metadata": {},
     "output_type": "execute_result"
    }
   ],
   "source": [
    "# check the row # 90000\n",
    "df_raw[90000]"
   ]
  },
  {
   "cell_type": "code",
   "execution_count": 36,
   "id": "smooth-applicant",
   "metadata": {},
   "outputs": [
    {
     "data": {
      "text/plain": [
       "['Easy Push-Up Bra',\n",
       " 'Rp474.522',\n",
       " 'Rp474.522',\n",
       " 'https://www.victoriassecret.com/bralettes/all-bralettes/easy-push-up-bra?ProductID=331621&CatalogueType=OLS',\n",
       " \"Victoria's Secret\",\n",
       " 'Easy Push-Up Bra',\n",
       " 'Victoriassecret US',\n",
       " 'Like magic: the lift you love without the wires, in an unbelievably soft and sleek shape. \\xa0 Lift & Lining Push-up padding Wireless cups Straps & Hooks Adjustable straps Pullover style Details & Fabric Racerback Long line Supersoft, lined sides for the smoothest shape Imported nylon/spandex',\n",
       " '4.5',\n",
       " '554.0',\n",
       " '',\n",
       " '\"[\"\"32A\"\", \"\"32B\"\", \"\"32C\"\", \"\"32D\"\", \"\"32DD\"\", \"\"34A\"\", \"\"34B\"\", \"\"34C\"\", \"\"34D\"\", \"\"34DD\"\", \"\"36A\"\", \"\"36B\"\", \"\"36C\"\", \"\"36D\"\", \"\"36DD\"\", \"\"38A\"\", \"\"38B\"\", \"\"38C\"\", \"\"38D\"\", \"\"38DD\"\"]\"',\n",
       " '34A',\n",
       " 'Sterling Pewter Lace\\n']"
      ]
     },
     "execution_count": 36,
     "metadata": {},
     "output_type": "execute_result"
    }
   ],
   "source": [
    "df_raw[393544]"
   ]
  },
  {
   "cell_type": "code",
   "execution_count": 37,
   "id": "fantastic-auckland",
   "metadata": {},
   "outputs": [],
   "source": [
    "# apply preprocessing on the whole raw 'dataframe' dictionary\n",
    "df_proc = {idx:preproc(row) for idx,row in df_raw.items() if type(idx)==int}"
   ]
  },
  {
   "cell_type": "code",
   "execution_count": 38,
   "id": "extraordinary-savannah",
   "metadata": {},
   "outputs": [
    {
     "data": {
      "text/plain": [
       "453386"
      ]
     },
     "execution_count": 38,
     "metadata": {},
     "output_type": "execute_result"
    }
   ],
   "source": [
    "# check the size of the processed dataset - it does not have a column row\n",
    "len(df_proc)"
   ]
  },
  {
   "cell_type": "code",
   "execution_count": 39,
   "id": "recent-tractor",
   "metadata": {},
   "outputs": [
    {
     "data": {
      "text/plain": [
       "['Easy Push-Up Bra',\n",
       " nan,\n",
       " nan,\n",
       " 'https://www.victoriassecret.com/bralettes/all-bralettes/easy-push-up-bra?ProductID=331621&CatalogueType=OLS',\n",
       " \"Victoria's Secret\",\n",
       " 'Easy Push-Up Bra',\n",
       " 'Victoriassecret US',\n",
       " 'Like magic: the lift you love without the wires, in an unbelievably soft and sleek shape. \\xa0 Lift & Lining Push-up padding Wireless cups Straps & Hooks Adjustable straps Pullover style Details & Fabric Racerback Long line Supersoft, lined sides for the smoothest shape Imported nylon/spandex',\n",
       " 4.5,\n",
       " 554.0,\n",
       " nan,\n",
       " ['32A',\n",
       "  '32B',\n",
       "  '32C',\n",
       "  '32D',\n",
       "  '32DD',\n",
       "  '34A',\n",
       "  '34B',\n",
       "  '34C',\n",
       "  '34D',\n",
       "  '34DD',\n",
       "  '36A',\n",
       "  '36B',\n",
       "  '36C',\n",
       "  '36D',\n",
       "  '36DD',\n",
       "  '38A',\n",
       "  '38B',\n",
       "  '38C',\n",
       "  '38D',\n",
       "  '38DD'],\n",
       " '34A',\n",
       " 'Sterling Pewter Lace']"
      ]
     },
     "execution_count": 39,
     "metadata": {},
     "output_type": "execute_result"
    }
   ],
   "source": [
    "df_proc[393544]"
   ]
  },
  {
   "cell_type": "code",
   "execution_count": 40,
   "id": "motivated-calculator",
   "metadata": {},
   "outputs": [
    {
     "data": {
      "text/plain": [
       "['Easy Push-Up Bra',\n",
       " 'Rp474.522',\n",
       " 'Rp474.522',\n",
       " 'https://www.victoriassecret.com/bralettes/all-bralettes/easy-push-up-bra?ProductID=331621&CatalogueType=OLS',\n",
       " \"Victoria's Secret\",\n",
       " 'Easy Push-Up Bra',\n",
       " 'Victoriassecret US',\n",
       " 'Like magic: the lift you love without the wires, in an unbelievably soft and sleek shape. \\xa0 Lift & Lining Push-up padding Wireless cups Straps & Hooks Adjustable straps Pullover style Details & Fabric Racerback Long line Supersoft, lined sides for the smoothest shape Imported nylon/spandex',\n",
       " '4.5',\n",
       " '554.0',\n",
       " '',\n",
       " '\"[\"\"32A\"\", \"\"32B\"\", \"\"32C\"\", \"\"32D\"\", \"\"32DD\"\", \"\"34A\"\", \"\"34B\"\", \"\"34C\"\", \"\"34D\"\", \"\"34DD\"\", \"\"36A\"\", \"\"36B\"\", \"\"36C\"\", \"\"36D\"\", \"\"36DD\"\", \"\"38A\"\", \"\"38B\"\", \"\"38C\"\", \"\"38D\"\", \"\"38DD\"\"]\"',\n",
       " '34A',\n",
       " 'Sterling Pewter Lace\\n']"
      ]
     },
     "execution_count": 40,
     "metadata": {},
     "output_type": "execute_result"
    }
   ],
   "source": [
    "raw_df[393544]"
   ]
  },
  {
   "cell_type": "code",
   "execution_count": 41,
   "id": "liquid-disease",
   "metadata": {},
   "outputs": [
    {
     "name": "stdout",
     "output_type": "stream",
     "text": [
      "506\n"
     ]
    }
   ],
   "source": [
    "# count the number on non $ currencies (nan) for the price variables\n",
    "count = 0\n",
    "for row in df_raw.values():\n",
    "    if row[1] is np.nan or row[2] is np.nan :\n",
    "        count += 1\n",
    "print(count)"
   ]
  },
  {
   "cell_type": "code",
   "execution_count": 42,
   "id": "adverse-indonesian",
   "metadata": {},
   "outputs": [],
   "source": [
    "# create a dataframe with non $ currencies\n",
    "df_proc_nan = {idx:row for idx,row in df_proc.items() if (row[1] is not np.nan and row[2] is not np.nan)}"
   ]
  },
  {
   "cell_type": "code",
   "execution_count": 43,
   "id": "abroad-partner",
   "metadata": {},
   "outputs": [
    {
     "data": {
      "text/plain": [
       "452880"
      ]
     },
     "execution_count": 43,
     "metadata": {},
     "output_type": "execute_result"
    }
   ],
   "source": [
    "# check size of non $ dataframe\n",
    "len(df_proc_nan)"
   ]
  },
  {
   "cell_type": "code",
   "execution_count": 44,
   "id": "parliamentary-cambridge",
   "metadata": {},
   "outputs": [
    {
     "data": {
      "text/plain": [
       "True"
      ]
     },
     "execution_count": 44,
     "metadata": {},
     "output_type": "execute_result"
    }
   ],
   "source": [
    "# check length of full processed dataframe\n",
    "len(df_proc) == len(df_proc_nan) + count"
   ]
  },
  {
   "cell_type": "code",
   "execution_count": 45,
   "id": "infinite-estimate",
   "metadata": {},
   "outputs": [],
   "source": [
    "# extract the mrp column variable from the processed currency dataframe\n",
    "mrp = [row[1] for row in df_proc_nan.values()]"
   ]
  },
  {
   "cell_type": "code",
   "execution_count": 46,
   "id": "leading-elite",
   "metadata": {},
   "outputs": [
    {
     "data": {
      "text/plain": [
       "36.028994877230176"
      ]
     },
     "execution_count": 46,
     "metadata": {},
     "output_type": "execute_result"
    }
   ],
   "source": [
    "# compute value of the mean with numpy\n",
    "np.mean(mrp)"
   ]
  },
  {
   "cell_type": "code",
   "execution_count": 47,
   "id": "sized-extent",
   "metadata": {},
   "outputs": [
    {
     "data": {
      "text/plain": [
       "36.028994877193064"
      ]
     },
     "execution_count": 47,
     "metadata": {},
     "output_type": "execute_result"
    }
   ],
   "source": [
    "# check\n",
    "av = sum(mrp)/len(mrp)\n",
    "av"
   ]
  },
  {
   "cell_type": "code",
   "execution_count": 48,
   "id": "faced-chart",
   "metadata": {},
   "outputs": [
    {
     "data": {
      "text/plain": [
       "36.0"
      ]
     },
     "execution_count": 48,
     "metadata": {},
     "output_type": "execute_result"
    }
   ],
   "source": [
    "# compute median with numpy\n",
    "np.median(mrp)"
   ]
  },
  {
   "cell_type": "code",
   "execution_count": 49,
   "id": "brief-crowd",
   "metadata": {},
   "outputs": [
    {
     "data": {
      "text/plain": [
       "36.0"
      ]
     },
     "execution_count": 49,
     "metadata": {},
     "output_type": "execute_result"
    }
   ],
   "source": [
    "# create a median function & check\n",
    "mrp.sort()\n",
    "l=len(mrp)\n",
    "if l%2 == 1:\n",
    "    med = mrp[int(l/2)]\n",
    "else:\n",
    "    med = (mrp[int(l/2)-1]+ mrp[int(l/2)])/2\n",
    "\n",
    "med"
   ]
  },
  {
   "cell_type": "code",
   "execution_count": 50,
   "id": "african-kingston",
   "metadata": {},
   "outputs": [
    {
     "data": {
      "text/plain": [
       "(8.5, 98.0)"
      ]
     },
     "execution_count": 50,
     "metadata": {},
     "output_type": "execute_result"
    }
   ],
   "source": [
    "# compute extremas\n",
    "min(mrp), max(mrp)"
   ]
  },
  {
   "cell_type": "code",
   "execution_count": 51,
   "id": "alpha-express",
   "metadata": {},
   "outputs": [
    {
     "data": {
      "text/plain": [
       "14.7628850988695"
      ]
     },
     "execution_count": 51,
     "metadata": {},
     "output_type": "execute_result"
    }
   ],
   "source": [
    "# compute standard deviation with numpy\n",
    "np.std(mrp, ddof=1)"
   ]
  },
  {
   "cell_type": "code",
   "execution_count": 52,
   "id": "bibliographic-frederick",
   "metadata": {},
   "outputs": [
    {
     "data": {
      "text/plain": [
       "14.76288509888004"
      ]
     },
     "execution_count": 52,
     "metadata": {},
     "output_type": "execute_result"
    }
   ],
   "source": [
    "# create a std function and check\n",
    "import math\n",
    "var = sum([(p-av)**2 for p in mrp])/(len(mrp)-1)\n",
    "std = math.sqrt(var)\n",
    "std"
   ]
  },
  {
   "cell_type": "code",
   "execution_count": 53,
   "id": "current-layer",
   "metadata": {},
   "outputs": [
    {
     "data": {
      "text/plain": [
       "29.5"
      ]
     },
     "execution_count": 53,
     "metadata": {},
     "output_type": "execute_result"
    }
   ],
   "source": [
    "# compute quartile 1\n",
    "np.percentile(mrp, 25)"
   ]
  },
  {
   "cell_type": "code",
   "execution_count": 54,
   "id": "compressed-bookmark",
   "metadata": {},
   "outputs": [
    {
     "data": {
      "text/plain": [
       "29.5"
      ]
     },
     "execution_count": 54,
     "metadata": {},
     "output_type": "execute_result"
    }
   ],
   "source": [
    "# hand computed quartile 1\n",
    "mrp.sort()\n",
    "n = len(mrp)\n",
    "quartile_1 = mrp[int(n/4-1)] + 0.25*(mrp[int(n/4)]-mrp[int(n/4)-1])\n",
    "quartile_1"
   ]
  },
  {
   "cell_type": "code",
   "execution_count": 55,
   "id": "active-nudist",
   "metadata": {},
   "outputs": [
    {
     "data": {
      "text/plain": [
       "46.5"
      ]
     },
     "execution_count": 55,
     "metadata": {},
     "output_type": "execute_result"
    }
   ],
   "source": [
    "# compute quartile 3\n",
    "np.percentile(mrp, 75)"
   ]
  },
  {
   "cell_type": "code",
   "execution_count": 56,
   "id": "acoustic-stable",
   "metadata": {},
   "outputs": [
    {
     "data": {
      "text/plain": [
       "46.5"
      ]
     },
     "execution_count": 56,
     "metadata": {},
     "output_type": "execute_result"
    }
   ],
   "source": [
    "# hand computed quartile 3\n",
    "mrp.sort()\n",
    "n = len(mrp)\n",
    "quartile_3 = mrp[int(3*n/4-1)] + 0.75*(mrp[int(3*n/4)]-mrp[int(3*n/4)-1])\n",
    "quartile_3"
   ]
  },
  {
   "cell_type": "markdown",
   "id": "58e20ad3",
   "metadata": {},
   "source": [
    "[Table of Contents](#summary)"
   ]
  },
  {
   "cell_type": "markdown",
   "id": "8ab1aee9",
   "metadata": {},
   "source": [
    "<a class=\"anchor\" id=\"day2\"></a>\n",
    "# <span style=\"color:blue\"> Day 2 </span>"
   ]
  },
  {
   "cell_type": "markdown",
   "id": "incorrect-referral",
   "metadata": {},
   "source": [
    "<a class='anchor' id='part3'></a>\n",
    "## Part 3 : Refactorization\n",
    "[Table of Contents](#summary)"
   ]
  },
  {
   "cell_type": "markdown",
   "id": "placed-margin",
   "metadata": {},
   "source": [
    "<a class='anchor' id='statistics'></a>\n",
    "### Summary statistics"
   ]
  },
  {
   "cell_type": "code",
   "execution_count": 57,
   "id": "prescribed-relations",
   "metadata": {},
   "outputs": [
    {
     "name": "stdout",
     "output_type": "stream",
     "text": [
      "0 product_name\n",
      "1 mrp\n",
      "2 price\n",
      "3 pdp_url\n",
      "4 brand_name\n",
      "5 product_category\n",
      "6 retailer\n",
      "7 description\n",
      "8 rating\n",
      "9 review_count\n",
      "10 style_attributes\n",
      "11 total_sizes\n",
      "12 available_size\n",
      "13 color\n",
      "\n"
     ]
    }
   ],
   "source": [
    "for idx,name in enumerate(raw_df['columns']) :\n",
    "    print(idx, name)"
   ]
  },
  {
   "cell_type": "code",
   "execution_count": 58,
   "id": "sexual-findings",
   "metadata": {},
   "outputs": [
    {
     "data": {
      "text/plain": [
       "137734"
      ]
     },
     "execution_count": 58,
     "metadata": {},
     "output_type": "execute_result"
    }
   ],
   "source": [
    "col_8 = [row[8] for row in df_proc.values() if row[8] is not np.nan]\n",
    "len(col_8)"
   ]
  },
  {
   "cell_type": "code",
   "execution_count": 59,
   "id": "94ab1724",
   "metadata": {},
   "outputs": [
    {
     "data": {
      "text/plain": [
       "452880"
      ]
     },
     "execution_count": 59,
     "metadata": {},
     "output_type": "execute_result"
    }
   ],
   "source": [
    "col_1 = [row[1] for row in df_proc.values() if row[1] is not np.nan]\n",
    "len(col_1)"
   ]
  },
  {
   "cell_type": "code",
   "execution_count": 60,
   "id": "manual-collectible",
   "metadata": {},
   "outputs": [
    {
     "data": {
      "text/plain": [
       "137734"
      ]
     },
     "execution_count": 60,
     "metadata": {},
     "output_type": "execute_result"
    }
   ],
   "source": [
    "col = []\n",
    "col_index=8\n",
    "for row in df_proc.values():\n",
    "    if type(row[col_index]) not in [float, int] :\n",
    "        print('Non numerical column')\n",
    "        break        \n",
    "    elif type(row[col_index]) in [float, int] and row[col_index] is not np.nan:\n",
    "        col.append(row[col_index])\n",
    "\n",
    "len(col)"
   ]
  },
  {
   "cell_type": "code",
   "execution_count": 61,
   "id": "fixed-coordinate",
   "metadata": {},
   "outputs": [
    {
     "data": {
      "text/plain": [
       "['Dream Angels NEW! Lace Mini Slip',\n",
       " 48.0,\n",
       " 48.0,\n",
       " 'https://www.victoriassecret.com/lingerie/shop-all-lingerie/lace-mini-slip-dream-angels?ProductID=334003&CatalogueType=OLS',\n",
       " \"Victoria's Secret\",\n",
       " 'Lace Mini Slip',\n",
       " 'Victoriassecret US',\n",
       " '\"All you need is a little lace, here in the cutest shape with a scalloped hem. Slight v-neck Sheer, unlined Adjustable v-back straps 32\"\"\\xa0from shoulder; hits at thigh Imported nylon/spandex\"',\n",
       " nan,\n",
       " nan,\n",
       " nan,\n",
       " ['XS', 'S', 'M', 'L', 'XL'],\n",
       " 'M',\n",
       " 'mulled grape']"
      ]
     },
     "execution_count": 61,
     "metadata": {},
     "output_type": "execute_result"
    }
   ],
   "source": [
    "row"
   ]
  },
  {
   "cell_type": "code",
   "execution_count": 62,
   "id": "governing-parliament",
   "metadata": {},
   "outputs": [],
   "source": [
    "# a function returning numerical columns - version 1\n",
    "def num_col(df, col_index):\n",
    "    col = []\n",
    "    for row in df.values():\n",
    "        if type(row[col_index]) not in [float, int] :\n",
    "            print('Non numerical column')\n",
    "            break        \n",
    "        elif type(row[col_index]) in [float, int] and row[col_index] is not np.nan:\n",
    "            col.append(row[col_index])\n",
    "    return col"
   ]
  },
  {
   "cell_type": "code",
   "execution_count": 63,
   "id": "excited-intake",
   "metadata": {},
   "outputs": [
    {
     "data": {
      "text/plain": [
       "137734"
      ]
     },
     "execution_count": 63,
     "metadata": {},
     "output_type": "execute_result"
    }
   ],
   "source": [
    "col1 = num_col(df_proc,8)\n",
    "len(col1)"
   ]
  },
  {
   "cell_type": "code",
   "execution_count": 64,
   "id": "2b82983d",
   "metadata": {},
   "outputs": [
    {
     "name": "stdout",
     "output_type": "stream",
     "text": [
      "Non numerical column\n"
     ]
    },
    {
     "data": {
      "text/plain": [
       "[]"
      ]
     },
     "execution_count": 64,
     "metadata": {},
     "output_type": "execute_result"
    }
   ],
   "source": [
    "num_col(df_proc,3)"
   ]
  },
  {
   "cell_type": "code",
   "execution_count": 65,
   "id": "oriented-oasis",
   "metadata": {},
   "outputs": [],
   "source": [
    "# a function returning numerical columns - version 2\n",
    "def extract_num_col(df,col_index):\n",
    "    return [row[col_index] for row in df.values() if type(row[col_index]) in [float, int] and row[col_index] is not np.nan]"
   ]
  },
  {
   "cell_type": "code",
   "execution_count": 66,
   "id": "fuzzy-monthly",
   "metadata": {},
   "outputs": [
    {
     "data": {
      "text/plain": [
       "137734"
      ]
     },
     "execution_count": 66,
     "metadata": {},
     "output_type": "execute_result"
    }
   ],
   "source": [
    "col2 = extract_num_col(df_proc,8)\n",
    "len(col2)"
   ]
  },
  {
   "cell_type": "code",
   "execution_count": 67,
   "id": "banned-trash",
   "metadata": {},
   "outputs": [
    {
     "data": {
      "text/plain": [
       "True"
      ]
     },
     "execution_count": 67,
     "metadata": {},
     "output_type": "execute_result"
    }
   ],
   "source": [
    "col1 == col2"
   ]
  },
  {
   "cell_type": "code",
   "execution_count": 68,
   "id": "instrumental-cleaner",
   "metadata": {},
   "outputs": [],
   "source": [
    "# a function computing the mean of a column\n",
    "def mean(col):\n",
    "    return sum(col)/len(col)"
   ]
  },
  {
   "cell_type": "code",
   "execution_count": 69,
   "id": "instant-tribune",
   "metadata": {},
   "outputs": [],
   "source": [
    "# a function computing the median of column\n",
    "def median(col):\n",
    "    col.sort()\n",
    "    n = len(col)\n",
    "    if n%2==1:\n",
    "        median = col[int(n/2)] # for python indexing starts at 0\n",
    "    else:\n",
    "        median = (col[int(n/2)-1] + col[int(n/2)])/2\n",
    "    return(median)"
   ]
  },
  {
   "cell_type": "code",
   "execution_count": 70,
   "id": "subjective-fitness",
   "metadata": {},
   "outputs": [],
   "source": [
    "# a function computing the standard deviation of a column\n",
    "def std_dev(col):\n",
    "    import math\n",
    "    m =  mean(col)\n",
    "    n = len(col)\n",
    "    var = sum([(p-m)**2 for p in col])/(n-1)\n",
    "    return math.sqrt(var)"
   ]
  },
  {
   "cell_type": "code",
   "execution_count": 71,
   "id": "manual-termination",
   "metadata": {},
   "outputs": [],
   "source": [
    "def quartile(col, q):\n",
    "    col.sort()\n",
    "    n = len(col)\n",
    "    quartile = col[int(q*n/4-1)] + q/4*(mrp[int(q*n/4)]-col[int(q*n/4)-1])\n",
    "    return quartile"
   ]
  },
  {
   "cell_type": "code",
   "execution_count": 72,
   "id": "relative-acrylic",
   "metadata": {},
   "outputs": [
    {
     "data": {
      "text/plain": [
       "29.5"
      ]
     },
     "execution_count": 72,
     "metadata": {},
     "output_type": "execute_result"
    }
   ],
   "source": [
    "quartile(mrp, 1)"
   ]
  },
  {
   "cell_type": "code",
   "execution_count": 73,
   "id": "expressed-vertex",
   "metadata": {},
   "outputs": [
    {
     "data": {
      "text/plain": [
       "46.5"
      ]
     },
     "execution_count": 73,
     "metadata": {},
     "output_type": "execute_result"
    }
   ],
   "source": [
    "quartile(mrp, 3)"
   ]
  },
  {
   "cell_type": "code",
   "execution_count": 74,
   "id": "inappropriate-exhibit",
   "metadata": {},
   "outputs": [],
   "source": [
    "# a function computing and returning the summary statistics of a column \n",
    "def simple_stats(col):\n",
    "    if len(col)==0 :\n",
    "        print('All values missing')\n",
    "        return\n",
    "    else :\n",
    "        mini = min(col)\n",
    "        maxi = max(col)\n",
    "        q1 = quartile(col,1)\n",
    "        q3 = quartile(col,3)\n",
    "        iqr = q3-q1\n",
    "        med = median(col)\n",
    "        aver = mean(col)\n",
    "        stdev = std_dev(col)\n",
    "        print(f\"minimum : {mini:.3e}\")\n",
    "        print(f\"maximum : {maxi:.3e}\")\n",
    "        print(f\"first quartile : {q1:.3e}\")\n",
    "        print(f\"third quartile : {q3:.3e}\")\n",
    "        print(f\"interquartile interval : {iqr:.3e}\")\n",
    "        print(f\"median : {med:.3e}\")\n",
    "        print(f\"mean : {aver:.3e}\")\n",
    "        print(f\"standard deviation : {stdev:.3e}\")\n",
    "        return mini, maxi, q1, q3, iqr, med, aver, stdev"
   ]
  },
  {
   "cell_type": "code",
   "execution_count": 75,
   "id": "empty-mention",
   "metadata": {},
   "outputs": [
    {
     "name": "stdout",
     "output_type": "stream",
     "text": [
      "minimum : 8.500e+00\n",
      "maximum : 9.800e+01\n",
      "first quartile : 2.950e+01\n",
      "third quartile : 4.650e+01\n",
      "interquartile interval : 1.700e+01\n",
      "median : 3.600e+01\n",
      "mean : 3.603e+01\n",
      "standard deviation : 1.476e+01\n"
     ]
    },
    {
     "data": {
      "text/plain": [
       "(8.5, 98.0, 29.5, 46.5, 17.0, 36.0, 36.02899487724441, 14.76288509886649)"
      ]
     },
     "execution_count": 75,
     "metadata": {},
     "output_type": "execute_result"
    }
   ],
   "source": [
    "# an application on the mrp variable\n",
    "simple_stats(mrp)"
   ]
  },
  {
   "cell_type": "code",
   "execution_count": 76,
   "id": "inside-steel",
   "metadata": {},
   "outputs": [],
   "source": [
    "# a function printing and returning the descriptive statistics of a given variable\n",
    "def descrip_num(df,col_name):\n",
    "    col_index = columns.index(col_name)\n",
    "    col = num_col(df, col_index)\n",
    "    if len(df) > len(col):\n",
    "        print(f\"There are {len(df)-len(col)} missing values in {col_name}\")\n",
    "    else :\n",
    "        print(f\"There are no missing values in {col_name} \")\n",
    "    return simple_stats(col)"
   ]
  },
  {
   "cell_type": "code",
   "execution_count": 77,
   "id": "consistent-omaha",
   "metadata": {},
   "outputs": [
    {
     "name": "stdout",
     "output_type": "stream",
     "text": [
      "There are no missing values in mrp \n",
      "minimum : 8.500e+00\n",
      "maximum : 9.800e+01\n",
      "first quartile : 2.950e+01\n",
      "third quartile : 4.650e+01\n",
      "interquartile interval : 1.700e+01\n",
      "median : 3.600e+01\n",
      "mean : 3.603e+01\n",
      "standard deviation : 1.476e+01\n"
     ]
    },
    {
     "data": {
      "text/plain": [
       "(8.5, 98.0, 29.5, 46.5, 17.0, 36.0, 36.02899487724441, 14.76288509886649)"
      ]
     },
     "execution_count": 77,
     "metadata": {},
     "output_type": "execute_result"
    }
   ],
   "source": [
    "descrip_num(df_proc_nan,\"mrp\")"
   ]
  },
  {
   "cell_type": "code",
   "execution_count": 78,
   "id": "d28ae492",
   "metadata": {},
   "outputs": [
    {
     "name": "stdout",
     "output_type": "stream",
     "text": [
      "There are 506 missing values in mrp\n",
      "minimum : 8.500e+00\n",
      "maximum : 9.800e+01\n",
      "first quartile : 2.950e+01\n",
      "third quartile : 4.650e+01\n",
      "interquartile interval : 1.700e+01\n",
      "median : 3.600e+01\n",
      "mean : 3.603e+01\n",
      "standard deviation : 1.476e+01\n"
     ]
    },
    {
     "data": {
      "text/plain": [
       "(8.5, 98.0, 29.5, 46.5, 17.0, 36.0, 36.02899487724441, 14.76288509886649)"
      ]
     },
     "execution_count": 78,
     "metadata": {},
     "output_type": "execute_result"
    }
   ],
   "source": [
    "descrip_num(df_proc,\"mrp\")"
   ]
  },
  {
   "cell_type": "code",
   "execution_count": 79,
   "id": "caroline-surname",
   "metadata": {},
   "outputs": [
    {
     "name": "stdout",
     "output_type": "stream",
     "text": [
      "There are no missing values in price \n",
      "minimum : 2.990e+00\n",
      "maximum : 9.800e+01\n",
      "first quartile : 2.237e+01\n",
      "third quartile : 4.550e+01\n",
      "interquartile interval : 2.313e+01\n",
      "median : 3.450e+01\n",
      "mean : 3.234e+01\n",
      "standard deviation : 1.566e+01\n"
     ]
    },
    {
     "data": {
      "text/plain": [
       "(2.99,\n",
       " 98.0,\n",
       " 22.3675,\n",
       " 45.5,\n",
       " 23.1325,\n",
       " 34.5,\n",
       " 32.33864317261112,\n",
       " 15.657393911034182)"
      ]
     },
     "execution_count": 79,
     "metadata": {},
     "output_type": "execute_result"
    }
   ],
   "source": [
    "descrip_num(df_proc_nan, \"price\")"
   ]
  },
  {
   "cell_type": "code",
   "execution_count": 80,
   "id": "musical-turkey",
   "metadata": {},
   "outputs": [
    {
     "name": "stdout",
     "output_type": "stream",
     "text": [
      "There are 315652 missing values in rating\n",
      "minimum : 0.000e+00\n",
      "maximum : 5.000e+00\n",
      "first quartile : 5.625e+00\n",
      "third quartile : 1.984e+01\n",
      "interquartile interval : 1.421e+01\n",
      "median : 4.300e+00\n",
      "mean : 4.166e+00\n",
      "standard deviation : 4.875e-01\n"
     ]
    },
    {
     "data": {
      "text/plain": [
       "(0.0,\n",
       " 5.0,\n",
       " 5.625,\n",
       " 19.8375,\n",
       " 14.212499999999999,\n",
       " 4.3,\n",
       " 4.16581889729658,\n",
       " 0.4875238322648745)"
      ]
     },
     "execution_count": 80,
     "metadata": {},
     "output_type": "execute_result"
    }
   ],
   "source": [
    "descrip_num(df_proc,\"rating\")"
   ]
  },
  {
   "cell_type": "code",
   "execution_count": 81,
   "id": "joined-ceiling",
   "metadata": {},
   "outputs": [
    {
     "name": "stdout",
     "output_type": "stream",
     "text": [
      "There are 315652 missing values in review_count\n",
      "minimum : 2.000e+00\n",
      "maximum : 1.560e+38\n",
      "first quartile : 3.188e+01\n",
      "third quartile : 1.212e+02\n",
      "interquartile interval : 8.934e+01\n",
      "median : 1.470e+02\n",
      "mean : 9.203e+35\n",
      "standard deviation : 1.163e+37\n"
     ]
    },
    {
     "data": {
      "text/plain": [
       "(2.0,\n",
       " 1.5600000000000001e+38,\n",
       " 31.875,\n",
       " 121.21249999999998,\n",
       " 89.33749999999998,\n",
       " 147.0,\n",
       " 9.202883819536225e+35,\n",
       " 1.1629288368775872e+37)"
      ]
     },
     "execution_count": 81,
     "metadata": {},
     "output_type": "execute_result"
    }
   ],
   "source": [
    "descrip_num(df_proc,\"review_count\")"
   ]
  },
  {
   "cell_type": "code",
   "execution_count": 82,
   "id": "meaningful-kazakhstan",
   "metadata": {},
   "outputs": [
    {
     "name": "stdout",
     "output_type": "stream",
     "text": [
      "There are 453386 missing values in style_attributes\n",
      "All values missing\n"
     ]
    }
   ],
   "source": [
    "descrip_num(df_proc,\"style_attributes\")"
   ]
  },
  {
   "cell_type": "markdown",
   "id": "referenced-medicine",
   "metadata": {},
   "source": [
    "[Table of Contents](#summary)"
   ]
  },
  {
   "cell_type": "markdown",
   "id": "familiar-thunder",
   "metadata": {},
   "source": [
    "<a class='anchor' id='missing'></a>\n",
    "### Imputing missing values"
   ]
  },
  {
   "cell_type": "code",
   "execution_count": 83,
   "id": "surrounded-physics",
   "metadata": {},
   "outputs": [],
   "source": [
    "# imputation function - version 1\n",
    "def impute(df, colname, value, inplace=False):\n",
    "    from inspect import isfunction\n",
    "    try:\n",
    "        col_index = columns.index(colname)\n",
    "    except:\n",
    "        print(\"column not found\")\n",
    "        return\n",
    "    col = [row[col_index] for row in df.values()]\n",
    "    impute = []\n",
    "    for col_val in col :\n",
    "        if col_val is np.nan :\n",
    "            if isfunction(value) :\n",
    "                impute.append(value(col))\n",
    "            else:\n",
    "                impute.append(value)\n",
    "        else:\n",
    "            impute.append(col_val)\n",
    "    \n",
    "    if inplace:\n",
    "        for row, new_val in zip(df.values(), impute):\n",
    "            row[col_index] = new_val\n",
    "    else:        \n",
    "        return impute"
   ]
  },
  {
   "cell_type": "code",
   "execution_count": 84,
   "id": "destroyed-battle",
   "metadata": {},
   "outputs": [],
   "source": [
    "# imputation function - version 2\n",
    "def impute(df, colname, value, inplace=False):\n",
    "    from inspect import isfunction\n",
    "    try:\n",
    "        col_index = columns.index(colname)\n",
    "    except:\n",
    "        print(\"column not found\")\n",
    "        return\n",
    "    \n",
    "    full_col = [row[col_index] for row in df.values()]\n",
    "    col = extract_num_col(df, col_index)\n",
    "    \n",
    "    if isfunction(value):\n",
    "        subst = value(col)\n",
    "    else:\n",
    "        subst = value\n",
    "    \n",
    "    impute = [val if val is not np.nan else subst for val in full_col]\n",
    "    \n",
    "    if inplace:\n",
    "        for row, new_val in zip(df.values(), impute):\n",
    "            row[col_index] = new_val\n",
    "    else:        \n",
    "        return impute"
   ]
  },
  {
   "cell_type": "code",
   "execution_count": 85,
   "id": "pacific-marble",
   "metadata": {},
   "outputs": [],
   "source": [
    "# imputation function - version 3\n",
    "def impute(df, colname, value, inplace=False):\n",
    "    from inspect import isfunction\n",
    "    try:\n",
    "        col_index = columns.index(colname)\n",
    "    except:\n",
    "        print(\"column not found\")\n",
    "        return\n",
    "    col = [row[col_index] for row in df.values()]\n",
    "    impute = []\n",
    "    for col_val in col :\n",
    "        if col_val is np.nan :\n",
    "            if isfunction(value) :\n",
    "                impute.append(value(col))\n",
    "            else:\n",
    "                impute.append(value)\n",
    "        else:\n",
    "            impute.append(col_val)\n",
    "    \n",
    "    if inplace:\n",
    "        for row, new_val in zip(df.values(), impute):\n",
    "            row[col_index] = new_val\n",
    "    else:        \n",
    "        return impute"
   ]
  },
  {
   "cell_type": "code",
   "execution_count": 86,
   "id": "patient-ranch",
   "metadata": {},
   "outputs": [],
   "source": [
    "# imputation function - version 2\n",
    "def fill_na(df, col_name, value, in_place=False):\n",
    "    \"\"\" value arg can be numeric or a function\n",
    "        if in_place = true changes df inplace\n",
    "        else returns updated column\n",
    "    \"\"\"\n",
    "    from inspect import isfunction\n",
    "    try:\n",
    "            col_index = columns.index(col_name)\n",
    "    except:\n",
    "        print(\"column not found\")\n",
    "        return\n",
    "    \n",
    "    full_column = [row[col_index] for row in df.values()]\n",
    "    if isfunction(value):\n",
    "        column = extract_num_col(df,col_index)\n",
    "        value_to_fill = value(column)                      \n",
    "    else:\n",
    "        value_to_fill = value\n",
    "        \n",
    "    full_column = [val if val is not np.nan else value_to_fill for val in full_column]\n",
    "    \n",
    "    if in_place:\n",
    "        for row, new_val in zip(df.values(),full_column):\n",
    "            row[col_index] = new_val\n",
    "    else:\n",
    "        return full_column"
   ]
  },
  {
   "cell_type": "code",
   "execution_count": 87,
   "id": "passing-spoke",
   "metadata": {},
   "outputs": [
    {
     "data": {
      "text/html": [
       "<div>\n",
       "<style scoped>\n",
       "    .dataframe tbody tr th:only-of-type {\n",
       "        vertical-align: middle;\n",
       "    }\n",
       "\n",
       "    .dataframe tbody tr th {\n",
       "        vertical-align: top;\n",
       "    }\n",
       "\n",
       "    .dataframe thead th {\n",
       "        text-align: right;\n",
       "    }\n",
       "</style>\n",
       "<table border=\"1\" class=\"dataframe\">\n",
       "  <thead>\n",
       "    <tr style=\"text-align: right;\">\n",
       "      <th></th>\n",
       "      <th>0</th>\n",
       "      <th>1</th>\n",
       "      <th>2</th>\n",
       "    </tr>\n",
       "  </thead>\n",
       "  <tbody>\n",
       "    <tr>\n",
       "      <th>0</th>\n",
       "      <td>1.0</td>\n",
       "      <td>2.0</td>\n",
       "      <td>3.0</td>\n",
       "    </tr>\n",
       "    <tr>\n",
       "      <th>1</th>\n",
       "      <td>NaN</td>\n",
       "      <td>2.0</td>\n",
       "      <td>3.0</td>\n",
       "    </tr>\n",
       "    <tr>\n",
       "      <th>2</th>\n",
       "      <td>NaN</td>\n",
       "      <td>NaN</td>\n",
       "      <td>3.0</td>\n",
       "    </tr>\n",
       "  </tbody>\n",
       "</table>\n",
       "</div>"
      ],
      "text/plain": [
       "     0    1    2\n",
       "0  1.0  2.0  3.0\n",
       "1  NaN  2.0  3.0\n",
       "2  NaN  NaN  3.0"
      ]
     },
     "execution_count": 87,
     "metadata": {},
     "output_type": "execute_result"
    }
   ],
   "source": [
    "df_test = {0:[1.,2.,3.], \n",
    "           1:[np.nan, 2., 3.], \n",
    "           2:[np.nan, np.nan, 3.]}\n",
    "\n",
    "pd.DataFrame.from_dict(df_test, orient='index')"
   ]
  },
  {
   "cell_type": "code",
   "execution_count": 88,
   "id": "incomplete-senate",
   "metadata": {},
   "outputs": [
    {
     "data": {
      "text/plain": [
       "nan"
      ]
     },
     "execution_count": 88,
     "metadata": {},
     "output_type": "execute_result"
    }
   ],
   "source": [
    "mean([2.0,2.0,np.nan])"
   ]
  },
  {
   "cell_type": "code",
   "execution_count": 89,
   "id": "expired-genome",
   "metadata": {},
   "outputs": [
    {
     "data": {
      "text/plain": [
       "([1.0, 0, 0], [2.0, 2.0, nan], [3.0, 3.0, 3.0])"
      ]
     },
     "execution_count": 89,
     "metadata": {},
     "output_type": "execute_result"
    }
   ],
   "source": [
    "impute(df_test, 'product_name', 0), impute(df_test, 'mrp', mean), impute(df_test, 'price', median)"
   ]
  },
  {
   "cell_type": "code",
   "execution_count": 90,
   "id": "engaged-leave",
   "metadata": {},
   "outputs": [
    {
     "data": {
      "text/plain": [
       "([1.0, 0, 0], [2.0, 2.0, 2.0], [3.0, 3.0, 3.0])"
      ]
     },
     "execution_count": 90,
     "metadata": {},
     "output_type": "execute_result"
    }
   ],
   "source": [
    "fill_na(df_test, 'product_name', 0), fill_na(df_test, 'mrp', mean), fill_na(df_test, 'price', median)"
   ]
  },
  {
   "cell_type": "code",
   "execution_count": 91,
   "id": "focused-brand",
   "metadata": {},
   "outputs": [
    {
     "data": {
      "text/plain": [
       "{0: [1.0, 2.0, 3.0], 1: [nan, 2.0, 3.0], 2: [nan, 2.0, 3.0]}"
      ]
     },
     "execution_count": 91,
     "metadata": {},
     "output_type": "execute_result"
    }
   ],
   "source": [
    "impute(df_test, 'mrp', median, inplace=True)\n",
    "df_test"
   ]
  },
  {
   "cell_type": "code",
   "execution_count": 92,
   "id": "boxed-layout",
   "metadata": {},
   "outputs": [
    {
     "data": {
      "text/plain": [
       "(453386, 506)"
      ]
     },
     "execution_count": 92,
     "metadata": {},
     "output_type": "execute_result"
    }
   ],
   "source": [
    "len(df_proc), len(df_proc)-len(df_proc_nan)"
   ]
  },
  {
   "cell_type": "code",
   "execution_count": 93,
   "id": "nonprofit-people",
   "metadata": {},
   "outputs": [
    {
     "name": "stdout",
     "output_type": "stream",
     "text": [
      "CPU times: user 868 ms, sys: 35.1 ms, total: 903 ms\n",
      "Wall time: 913 ms\n"
     ]
    }
   ],
   "source": [
    "%%time\n",
    "fill_na(df_proc, 'mrp', median, in_place=True)\n",
    "fill_na(df_proc, 'price', median, in_place=True)"
   ]
  },
  {
   "cell_type": "code",
   "execution_count": 94,
   "id": "mental-grounds",
   "metadata": {
    "scrolled": true
   },
   "outputs": [
    {
     "name": "stdout",
     "output_type": "stream",
     "text": [
      "CPU times: user 381 ms, sys: 16.5 ms, total: 397 ms\n",
      "Wall time: 401 ms\n"
     ]
    }
   ],
   "source": [
    "%%time\n",
    "impute(df_proc, 'mrp', median, inplace=True)\n",
    "impute(df_proc, 'price', median, inplace=True)"
   ]
  },
  {
   "cell_type": "markdown",
   "id": "acoustic-shift",
   "metadata": {},
   "source": [
    "[Table of Contents](#summary)"
   ]
  },
  {
   "cell_type": "markdown",
   "id": "spanish-vertical",
   "metadata": {},
   "source": [
    "<a class='ancor' id='value_counts'></a>\n",
    "### Compute value_ counts for categorical columns"
   ]
  },
  {
   "cell_type": "code",
   "execution_count": 95,
   "id": "basic-living",
   "metadata": {},
   "outputs": [
    {
     "data": {
      "text/plain": [
       "['Very Sexy Strappy Lace Thong Panty',\n",
       " 'Very Sexy Strappy Lace Thong Panty',\n",
       " 'Very Sexy Strappy Lace Thong Panty',\n",
       " 'Very Sexy Strappy Lace Thong Panty',\n",
       " 'Very Sexy Strappy Lace Thong Panty',\n",
       " 'Very Sexy Strappy Lace Thong Panty',\n",
       " 'Very Sexy Strappy Lace Thong Panty',\n",
       " 'Very Sexy Strappy Lace Thong Panty',\n",
       " 'Very Sexy Strappy Lace Thong Panty',\n",
       " 'Very Sexy Strappy Lace Thong Panty']"
      ]
     },
     "execution_count": 95,
     "metadata": {},
     "output_type": "execute_result"
    }
   ],
   "source": [
    "product_name = [row[0] for row in df_proc.values()]\n",
    "product_name[:10]"
   ]
  },
  {
   "cell_type": "code",
   "execution_count": 96,
   "id": "short-hometown",
   "metadata": {},
   "outputs": [
    {
     "data": {
      "text/plain": [
       "[('Body by Victoria Perfect Coverage Bra', 17922),\n",
       " ('Victoria Sport Incredible by Victoria Sport Bra', 12274),\n",
       " ('Dream Angels Push-Up Bra', 11878),\n",
       " ('Very Sexy Push-Up Bra', 10985),\n",
       " ('Body by Victoria Demi Bra', 10881),\n",
       " ('Dream Angels Demi Bra', 10635),\n",
       " ('Victoria Sport Knockout by Victoria Sport Front-Close Sport Bra', 10320),\n",
       " ('PINK NEW! Wear Everywhere Push-Up Bra', 9539),\n",
       " ('Body by Victoria Perfect Shape Bra', 8516),\n",
       " ('PINK NEW! Wear Everywhere T-Shirt Bra', 8443)]"
      ]
     },
     "execution_count": 96,
     "metadata": {},
     "output_type": "execute_result"
    }
   ],
   "source": [
    "from collections import Counter\n",
    "counts = Counter(product_name)\n",
    "counts.most_common(10)"
   ]
  },
  {
   "cell_type": "code",
   "execution_count": 97,
   "id": "opposed-grounds",
   "metadata": {},
   "outputs": [],
   "source": [
    "# value_counts() function - version 1\n",
    "def value_counts(df,colname, nrows):\n",
    "    from collections import Counter\n",
    "    col_index = columns.index(colname)\n",
    "    col = [row[col_index] for row in df.values()]\n",
    "    counts = Counter(col)\n",
    "    return counts.most_common(nrows)"
   ]
  },
  {
   "cell_type": "code",
   "execution_count": 98,
   "id": "lightweight-blade",
   "metadata": {},
   "outputs": [
    {
     "data": {
      "text/plain": [
       "[('Body by Victoria Perfect Coverage Bra', 17922),\n",
       " ('Victoria Sport Incredible by Victoria Sport Bra', 12274),\n",
       " ('Dream Angels Push-Up Bra', 11878),\n",
       " ('Very Sexy Push-Up Bra', 10985),\n",
       " ('Body by Victoria Demi Bra', 10881),\n",
       " ('Dream Angels Demi Bra', 10635),\n",
       " ('Victoria Sport Knockout by Victoria Sport Front-Close Sport Bra', 10320),\n",
       " ('PINK NEW! Wear Everywhere Push-Up Bra', 9539),\n",
       " ('Body by Victoria Perfect Shape Bra', 8516),\n",
       " ('PINK NEW! Wear Everywhere T-Shirt Bra', 8443)]"
      ]
     },
     "execution_count": 98,
     "metadata": {},
     "output_type": "execute_result"
    }
   ],
   "source": [
    "value_counts(df_proc,'product_name',10)"
   ]
  },
  {
   "cell_type": "code",
   "execution_count": 99,
   "id": "completed-iraqi",
   "metadata": {},
   "outputs": [
    {
     "data": {
      "text/plain": [
       "[(\"Victoria's Secret\", 342533), (\"Victoria's Secret Pink\", 110853)]"
      ]
     },
     "execution_count": 99,
     "metadata": {},
     "output_type": "execute_result"
    }
   ],
   "source": [
    "# value_counts of brand name\n",
    "value_counts(df_proc,'brand_name',10)"
   ]
  },
  {
   "cell_type": "code",
   "execution_count": 100,
   "id": "laden-conversation",
   "metadata": {},
   "outputs": [
    {
     "data": {
      "text/plain": [
       "[('Black', 17474),\n",
       " ('black', 13134),\n",
       " ('White', 10803),\n",
       " ('pure black', 7101),\n",
       " ('Ensign', 6738),\n",
       " ('Almost Nude', 6271),\n",
       " ('bayberry', 5441),\n",
       " ('Hello Lovely', 5159),\n",
       " ('Sheer Pink', 4985),\n",
       " ('Radiating Aztec', 4862)]"
      ]
     },
     "execution_count": 100,
     "metadata": {},
     "output_type": "execute_result"
    }
   ],
   "source": [
    "# value_counts of color\n",
    "value_counts(df_proc,'color',10)"
   ]
  },
  {
   "cell_type": "code",
   "execution_count": 101,
   "id": "broad-moore",
   "metadata": {},
   "outputs": [],
   "source": [
    "# value_counts() function - version 2\n",
    "def extract_cat_col(df,col_index):\n",
    "    return [raw[col_index] for raw in df.values() if type(raw[col_index]) == str and raw[col_index]!='']\n",
    "\n",
    "def value_counts(col_name, nb_items=10):\n",
    "    col_index = columns.index(col_name)\n",
    "    column = extract_cat_col(df_proc, col_index)\n",
    "    print(\"counts of categorical values in column\", col_name,\":\")\n",
    "    for val, count in Counter(column).most_common(nb_items):\n",
    "        print(count, \"-\", val)"
   ]
  },
  {
   "cell_type": "code",
   "execution_count": null,
   "id": "danish-startup",
   "metadata": {},
   "outputs": [],
   "source": []
  },
  {
   "cell_type": "markdown",
   "id": "sorted-leone",
   "metadata": {},
   "source": [
    "[Table of Contents](#summary)"
   ]
  },
  {
   "cell_type": "markdown",
   "id": "grave-poetry",
   "metadata": {},
   "source": [
    "<a class='anchor' id='lookup'></a>\n",
    "### Data lookup"
   ]
  },
  {
   "cell_type": "code",
   "execution_count": 102,
   "id": "facial-backup",
   "metadata": {
    "scrolled": true
   },
   "outputs": [
    {
     "name": "stdout",
     "output_type": "stream",
     "text": [
      "0 product_name\n",
      "1 mrp\n",
      "2 price\n",
      "3 pdp_url\n",
      "4 brand_name\n",
      "5 product_category\n",
      "6 retailer\n",
      "7 description\n",
      "8 rating\n",
      "9 review_count\n",
      "10 style_attributes\n",
      "11 total_sizes\n",
      "12 available_size\n",
      "13 color\n",
      "\n"
     ]
    }
   ],
   "source": [
    "def columns() :\n",
    "    for col_index,col_name in enumerate(raw_df['columns']) : print(col_index,col_name)\n",
    "\n",
    "columns()"
   ]
  },
  {
   "cell_type": "code",
   "execution_count": 103,
   "id": "526b4e63",
   "metadata": {
    "scrolled": true
   },
   "outputs": [
    {
     "data": {
      "text/plain": [
       "('product_name', 'product_category', 'price')"
      ]
     },
     "execution_count": 103,
     "metadata": {},
     "output_type": "execute_result"
    }
   ],
   "source": [
    "col_names_list = ['product_name','product_category','price']\n",
    "tuple(var for var in col_names_list)"
   ]
  },
  {
   "cell_type": "code",
   "execution_count": 106,
   "id": "6898aae5",
   "metadata": {},
   "outputs": [],
   "source": [
    "columns = raw_df['columns']"
   ]
  },
  {
   "cell_type": "code",
   "execution_count": 107,
   "id": "d988ee84",
   "metadata": {
    "scrolled": true
   },
   "outputs": [],
   "source": [
    "def extract_cols(df, col_names_list):\n",
    "    extract = [tuple(row[columns.index(var)] for var in col_names_list) for row in df.values()]\n",
    "    return extract"
   ]
  },
  {
   "cell_type": "code",
   "execution_count": 108,
   "id": "6888d480",
   "metadata": {},
   "outputs": [
    {
     "data": {
      "text/plain": [
       "[('Very Sexy Strappy Lace Thong Panty', 14.5),\n",
       " ('Very Sexy Strappy Lace Thong Panty', 14.5),\n",
       " ('Very Sexy Strappy Lace Thong Panty', 14.5),\n",
       " ('Very Sexy Strappy Lace Thong Panty', 14.5),\n",
       " ('Very Sexy Strappy Lace Thong Panty', 14.5),\n",
       " ('Very Sexy Strappy Lace Thong Panty', 14.5),\n",
       " ('Very Sexy Strappy Lace Thong Panty', 14.5),\n",
       " ('Very Sexy Strappy Lace Thong Panty', 14.5),\n",
       " ('Very Sexy Strappy Lace Thong Panty', 14.5),\n",
       " ('Very Sexy Strappy Lace Thong Panty', 14.5)]"
      ]
     },
     "execution_count": 108,
     "metadata": {},
     "output_type": "execute_result"
    }
   ],
   "source": [
    "extract_cols(df_proc, ['product_name','price'])[:10]"
   ]
  },
  {
   "cell_type": "markdown",
   "id": "everyday-washer",
   "metadata": {},
   "source": [
    "[Table of Contents](#summary)\n",
    "<a class='anchor' id='question1'></a>\n",
    "#### Question 1"
   ]
  },
  {
   "cell_type": "code",
   "execution_count": 109,
   "id": "distant-apparel",
   "metadata": {},
   "outputs": [
    {
     "data": {
      "text/plain": [
       "98.0"
      ]
     },
     "execution_count": 109,
     "metadata": {},
     "output_type": "execute_result"
    }
   ],
   "source": [
    "# highest price\n",
    "price = num_col(df_proc, columns.index('price'))\n",
    "max_price = max(price)\n",
    "max_price"
   ]
  },
  {
   "cell_type": "code",
   "execution_count": 110,
   "id": "concrete-button",
   "metadata": {},
   "outputs": [
    {
     "data": {
      "text/plain": [
       "578"
      ]
     },
     "execution_count": 110,
     "metadata": {},
     "output_type": "execute_result"
    }
   ],
   "source": [
    "np.argmax(price)"
   ]
  },
  {
   "cell_type": "code",
   "execution_count": 111,
   "id": "saving-hindu",
   "metadata": {},
   "outputs": [
    {
     "data": {
      "text/plain": [
       "578"
      ]
     },
     "execution_count": 111,
     "metadata": {},
     "output_type": "execute_result"
    }
   ],
   "source": [
    "price.index(98.0)"
   ]
  },
  {
   "cell_type": "code",
   "execution_count": 112,
   "id": "neutral-dividend",
   "metadata": {},
   "outputs": [],
   "source": [
    "product = [row[0] for row in df_proc.values()]"
   ]
  },
  {
   "cell_type": "code",
   "execution_count": 113,
   "id": "valued-capacity",
   "metadata": {},
   "outputs": [
    {
     "data": {
      "text/plain": [
       "[(578, 'Very Sexy Fishnet Lace Kimono'),\n",
       " (579, 'Very Sexy Fishnet Lace Kimono'),\n",
       " (22386, 'Very Sexy NEW! Keyhole Lace Teddy'),\n",
       " (22387, 'Very Sexy NEW! Keyhole Lace Teddy'),\n",
       " (22388, 'Very Sexy NEW! Keyhole Lace Teddy'),\n",
       " (22389, 'Very Sexy NEW! Keyhole Lace Teddy'),\n",
       " (22390, 'Very Sexy NEW! Keyhole Lace Teddy'),\n",
       " (22391, 'Very Sexy NEW! Keyhole Lace Teddy'),\n",
       " (22392, 'Very Sexy NEW! Keyhole Lace Teddy'),\n",
       " (22393, 'Very Sexy NEW! Keyhole Lace Teddy'),\n",
       " (22394, 'Very Sexy NEW! Keyhole Lace Teddy'),\n",
       " (22395, 'Very Sexy NEW! Keyhole Lace Teddy'),\n",
       " (22396, 'Very Sexy NEW! Keyhole Lace Teddy'),\n",
       " (76850, 'Very Sexy Fishnet Lace Kimono'),\n",
       " (76851, 'Very Sexy Fishnet Lace Kimono'),\n",
       " (78840, 'Very Sexy NEW! Keyhole Lace Teddy'),\n",
       " (78841, 'Very Sexy NEW! Keyhole Lace Teddy'),\n",
       " (78842, 'Very Sexy NEW! Keyhole Lace Teddy'),\n",
       " (78843, 'Very Sexy NEW! Keyhole Lace Teddy'),\n",
       " (78844, 'Very Sexy NEW! Keyhole Lace Teddy'),\n",
       " (78845, 'Very Sexy NEW! Keyhole Lace Teddy'),\n",
       " (78846, 'Very Sexy NEW! Keyhole Lace Teddy'),\n",
       " (78847, 'Very Sexy NEW! Keyhole Lace Teddy'),\n",
       " (78848, 'Very Sexy NEW! Keyhole Lace Teddy'),\n",
       " (78849, 'Very Sexy NEW! Keyhole Lace Teddy'),\n",
       " (78850, 'Very Sexy NEW! Keyhole Lace Teddy'),\n",
       " (113212, 'Very Sexy NEW! Keyhole Lace Teddy'),\n",
       " (113213, 'Very Sexy NEW! Keyhole Lace Teddy'),\n",
       " (113214, 'Very Sexy NEW! Keyhole Lace Teddy'),\n",
       " (113215, 'Very Sexy NEW! Keyhole Lace Teddy'),\n",
       " (113216, 'Very Sexy NEW! Keyhole Lace Teddy'),\n",
       " (113217, 'Very Sexy NEW! Keyhole Lace Teddy'),\n",
       " (113218, 'Very Sexy NEW! Keyhole Lace Teddy'),\n",
       " (113219, 'Very Sexy NEW! Keyhole Lace Teddy'),\n",
       " (113220, 'Very Sexy NEW! Keyhole Lace Teddy'),\n",
       " (113221, 'Very Sexy NEW! Keyhole Lace Teddy'),\n",
       " (113222, 'Very Sexy NEW! Keyhole Lace Teddy'),\n",
       " (118465, 'Very Sexy Fishnet Lace Kimono'),\n",
       " (118466, 'Very Sexy Fishnet Lace Kimono'),\n",
       " (126021, 'Very Sexy NEW! Keyhole Lace Teddy'),\n",
       " (126022, 'Very Sexy NEW! Keyhole Lace Teddy'),\n",
       " (126023, 'Very Sexy NEW! Keyhole Lace Teddy'),\n",
       " (126024, 'Very Sexy NEW! Keyhole Lace Teddy'),\n",
       " (126025, 'Very Sexy NEW! Keyhole Lace Teddy'),\n",
       " (126026, 'Very Sexy NEW! Keyhole Lace Teddy'),\n",
       " (126027, 'Very Sexy NEW! Keyhole Lace Teddy'),\n",
       " (126028, 'Very Sexy NEW! Keyhole Lace Teddy'),\n",
       " (126029, 'Very Sexy NEW! Keyhole Lace Teddy'),\n",
       " (126030, 'Very Sexy NEW! Keyhole Lace Teddy'),\n",
       " (126031, 'Very Sexy NEW! Keyhole Lace Teddy'),\n",
       " (134892, 'Very Sexy Fishnet Lace Kimono'),\n",
       " (134893, 'Very Sexy Fishnet Lace Kimono'),\n",
       " (183391, 'Very Sexy NEW! Keyhole Lace Teddy'),\n",
       " (183392, 'Very Sexy NEW! Keyhole Lace Teddy'),\n",
       " (183393, 'Very Sexy NEW! Keyhole Lace Teddy'),\n",
       " (183394, 'Very Sexy NEW! Keyhole Lace Teddy'),\n",
       " (183395, 'Very Sexy NEW! Keyhole Lace Teddy'),\n",
       " (183396, 'Very Sexy NEW! Keyhole Lace Teddy'),\n",
       " (183397, 'Very Sexy NEW! Keyhole Lace Teddy'),\n",
       " (183398, 'Very Sexy NEW! Keyhole Lace Teddy'),\n",
       " (183399, 'Very Sexy NEW! Keyhole Lace Teddy'),\n",
       " (183400, 'Very Sexy NEW! Keyhole Lace Teddy'),\n",
       " (183401, 'Very Sexy NEW! Keyhole Lace Teddy'),\n",
       " (194748, 'Very Sexy NEW! Keyhole Lace Teddy'),\n",
       " (194749, 'Very Sexy NEW! Keyhole Lace Teddy'),\n",
       " (194750, 'Very Sexy NEW! Keyhole Lace Teddy'),\n",
       " (194751, 'Very Sexy NEW! Keyhole Lace Teddy'),\n",
       " (194752, 'Very Sexy NEW! Keyhole Lace Teddy'),\n",
       " (194753, 'Very Sexy NEW! Keyhole Lace Teddy'),\n",
       " (194754, 'Very Sexy NEW! Keyhole Lace Teddy'),\n",
       " (194755, 'Very Sexy NEW! Keyhole Lace Teddy'),\n",
       " (194756, 'Very Sexy NEW! Keyhole Lace Teddy'),\n",
       " (194757, 'Very Sexy NEW! Keyhole Lace Teddy'),\n",
       " (194758, 'Very Sexy NEW! Keyhole Lace Teddy'),\n",
       " (223725, 'Very Sexy Fishnet Lace Kimono'),\n",
       " (223726, 'Very Sexy Fishnet Lace Kimono'),\n",
       " (241355, 'Very Sexy Fishnet Lace Dress'),\n",
       " (241356, 'Very Sexy Fishnet Lace Dress'),\n",
       " (257548, 'Very Sexy NEW! Keyhole Lace Teddy'),\n",
       " (257549, 'Very Sexy NEW! Keyhole Lace Teddy'),\n",
       " (257550, 'Very Sexy NEW! Keyhole Lace Teddy'),\n",
       " (257551, 'Very Sexy NEW! Keyhole Lace Teddy'),\n",
       " (257552, 'Very Sexy NEW! Keyhole Lace Teddy'),\n",
       " (257553, 'Very Sexy NEW! Keyhole Lace Teddy'),\n",
       " (257554, 'Very Sexy NEW! Keyhole Lace Teddy'),\n",
       " (257555, 'Very Sexy NEW! Keyhole Lace Teddy'),\n",
       " (257556, 'Very Sexy NEW! Keyhole Lace Teddy'),\n",
       " (257557, 'Very Sexy NEW! Keyhole Lace Teddy'),\n",
       " (257558, 'Very Sexy NEW! Keyhole Lace Teddy'),\n",
       " (258919, 'Very Sexy Fishnet Lace Kimono'),\n",
       " (258920, 'Very Sexy Fishnet Lace Kimono'),\n",
       " (274772, 'Very Sexy Fishnet Lace Kimono'),\n",
       " (274773, 'Very Sexy Fishnet Lace Kimono'),\n",
       " (293739, 'Very Sexy Fishnet Lace Kimono'),\n",
       " (293740, 'Very Sexy Fishnet Lace Kimono'),\n",
       " (296500, 'Very Sexy NEW! Keyhole Lace Teddy'),\n",
       " (296501, 'Very Sexy NEW! Keyhole Lace Teddy'),\n",
       " (296502, 'Very Sexy NEW! Keyhole Lace Teddy'),\n",
       " (296503, 'Very Sexy NEW! Keyhole Lace Teddy'),\n",
       " (296504, 'Very Sexy NEW! Keyhole Lace Teddy'),\n",
       " (296505, 'Very Sexy NEW! Keyhole Lace Teddy'),\n",
       " (296506, 'Very Sexy NEW! Keyhole Lace Teddy'),\n",
       " (296507, 'Very Sexy NEW! Keyhole Lace Teddy'),\n",
       " (296508, 'Very Sexy NEW! Keyhole Lace Teddy'),\n",
       " (296509, 'Very Sexy NEW! Keyhole Lace Teddy'),\n",
       " (296510, 'Very Sexy NEW! Keyhole Lace Teddy'),\n",
       " (327736, 'Very Sexy NEW! Keyhole Lace Teddy'),\n",
       " (327737, 'Very Sexy NEW! Keyhole Lace Teddy'),\n",
       " (327738, 'Very Sexy NEW! Keyhole Lace Teddy'),\n",
       " (327739, 'Very Sexy NEW! Keyhole Lace Teddy'),\n",
       " (327740, 'Very Sexy NEW! Keyhole Lace Teddy'),\n",
       " (327741, 'Very Sexy NEW! Keyhole Lace Teddy'),\n",
       " (327742, 'Very Sexy NEW! Keyhole Lace Teddy'),\n",
       " (327743, 'Very Sexy NEW! Keyhole Lace Teddy'),\n",
       " (327744, 'Very Sexy NEW! Keyhole Lace Teddy'),\n",
       " (327745, 'Very Sexy NEW! Keyhole Lace Teddy'),\n",
       " (327746, 'Very Sexy NEW! Keyhole Lace Teddy'),\n",
       " (400977, 'Very Sexy NEW! Keyhole Lace Teddy'),\n",
       " (400978, 'Very Sexy NEW! Keyhole Lace Teddy'),\n",
       " (400979, 'Very Sexy NEW! Keyhole Lace Teddy'),\n",
       " (400980, 'Very Sexy NEW! Keyhole Lace Teddy'),\n",
       " (400981, 'Very Sexy NEW! Keyhole Lace Teddy'),\n",
       " (400982, 'Very Sexy NEW! Keyhole Lace Teddy'),\n",
       " (400983, 'Very Sexy NEW! Keyhole Lace Teddy'),\n",
       " (400984, 'Very Sexy NEW! Keyhole Lace Teddy'),\n",
       " (400985, 'Very Sexy NEW! Keyhole Lace Teddy'),\n",
       " (400986, 'Very Sexy NEW! Keyhole Lace Teddy'),\n",
       " (400987, 'Very Sexy NEW! Keyhole Lace Teddy'),\n",
       " (401245, 'Very Sexy Fishnet Lace Dress'),\n",
       " (401246, 'Very Sexy Fishnet Lace Dress'),\n",
       " (422754, 'Very Sexy Fishnet Lace Dress'),\n",
       " (422755, 'Very Sexy Fishnet Lace Dress'),\n",
       " (444129, 'Very Sexy NEW! Keyhole Lace Teddy'),\n",
       " (444130, 'Very Sexy NEW! Keyhole Lace Teddy'),\n",
       " (444131, 'Very Sexy NEW! Keyhole Lace Teddy'),\n",
       " (444132, 'Very Sexy NEW! Keyhole Lace Teddy'),\n",
       " (444133, 'Very Sexy NEW! Keyhole Lace Teddy'),\n",
       " (444134, 'Very Sexy NEW! Keyhole Lace Teddy'),\n",
       " (444135, 'Very Sexy NEW! Keyhole Lace Teddy'),\n",
       " (444136, 'Very Sexy NEW! Keyhole Lace Teddy'),\n",
       " (444137, 'Very Sexy NEW! Keyhole Lace Teddy'),\n",
       " (444138, 'Very Sexy NEW! Keyhole Lace Teddy'),\n",
       " (444139, 'Very Sexy NEW! Keyhole Lace Teddy')]"
      ]
     },
     "execution_count": 113,
     "metadata": {},
     "output_type": "execute_result"
    }
   ],
   "source": [
    "# indices of the highest prices\n",
    "price_index = []\n",
    "products = []\n",
    "for i in range(len(price)):\n",
    "    if price[i] == max_price :\n",
    "        price_index.append(i)\n",
    "        products.append(product[i])\n",
    "\n",
    "[(idx, prod) for idx,prod in zip(price_index,products)]"
   ]
  },
  {
   "cell_type": "markdown",
   "id": "minus-still",
   "metadata": {},
   "source": []
  },
  {
   "cell_type": "code",
   "execution_count": 114,
   "id": "public-canal",
   "metadata": {},
   "outputs": [
    {
     "data": {
      "text/plain": [
       "[(578, 'Very Sexy Fishnet Lace Kimono'),\n",
       " (579, 'Very Sexy Fishnet Lace Kimono'),\n",
       " (22386, 'Very Sexy NEW! Keyhole Lace Teddy'),\n",
       " (22387, 'Very Sexy NEW! Keyhole Lace Teddy'),\n",
       " (22388, 'Very Sexy NEW! Keyhole Lace Teddy'),\n",
       " (22389, 'Very Sexy NEW! Keyhole Lace Teddy'),\n",
       " (22390, 'Very Sexy NEW! Keyhole Lace Teddy'),\n",
       " (22391, 'Very Sexy NEW! Keyhole Lace Teddy'),\n",
       " (22392, 'Very Sexy NEW! Keyhole Lace Teddy'),\n",
       " (22393, 'Very Sexy NEW! Keyhole Lace Teddy'),\n",
       " (22394, 'Very Sexy NEW! Keyhole Lace Teddy'),\n",
       " (22395, 'Very Sexy NEW! Keyhole Lace Teddy'),\n",
       " (22396, 'Very Sexy NEW! Keyhole Lace Teddy'),\n",
       " (76850, 'Very Sexy Fishnet Lace Kimono'),\n",
       " (76851, 'Very Sexy Fishnet Lace Kimono'),\n",
       " (78840, 'Very Sexy NEW! Keyhole Lace Teddy'),\n",
       " (78841, 'Very Sexy NEW! Keyhole Lace Teddy'),\n",
       " (78842, 'Very Sexy NEW! Keyhole Lace Teddy'),\n",
       " (78843, 'Very Sexy NEW! Keyhole Lace Teddy'),\n",
       " (78844, 'Very Sexy NEW! Keyhole Lace Teddy'),\n",
       " (78845, 'Very Sexy NEW! Keyhole Lace Teddy'),\n",
       " (78846, 'Very Sexy NEW! Keyhole Lace Teddy'),\n",
       " (78847, 'Very Sexy NEW! Keyhole Lace Teddy'),\n",
       " (78848, 'Very Sexy NEW! Keyhole Lace Teddy'),\n",
       " (78849, 'Very Sexy NEW! Keyhole Lace Teddy'),\n",
       " (78850, 'Very Sexy NEW! Keyhole Lace Teddy'),\n",
       " (113212, 'Very Sexy NEW! Keyhole Lace Teddy'),\n",
       " (113213, 'Very Sexy NEW! Keyhole Lace Teddy'),\n",
       " (113214, 'Very Sexy NEW! Keyhole Lace Teddy'),\n",
       " (113215, 'Very Sexy NEW! Keyhole Lace Teddy'),\n",
       " (113216, 'Very Sexy NEW! Keyhole Lace Teddy'),\n",
       " (113217, 'Very Sexy NEW! Keyhole Lace Teddy'),\n",
       " (113218, 'Very Sexy NEW! Keyhole Lace Teddy'),\n",
       " (113219, 'Very Sexy NEW! Keyhole Lace Teddy'),\n",
       " (113220, 'Very Sexy NEW! Keyhole Lace Teddy'),\n",
       " (113221, 'Very Sexy NEW! Keyhole Lace Teddy'),\n",
       " (113222, 'Very Sexy NEW! Keyhole Lace Teddy'),\n",
       " (118465, 'Very Sexy Fishnet Lace Kimono'),\n",
       " (118466, 'Very Sexy Fishnet Lace Kimono'),\n",
       " (126021, 'Very Sexy NEW! Keyhole Lace Teddy'),\n",
       " (126022, 'Very Sexy NEW! Keyhole Lace Teddy'),\n",
       " (126023, 'Very Sexy NEW! Keyhole Lace Teddy'),\n",
       " (126024, 'Very Sexy NEW! Keyhole Lace Teddy'),\n",
       " (126025, 'Very Sexy NEW! Keyhole Lace Teddy'),\n",
       " (126026, 'Very Sexy NEW! Keyhole Lace Teddy'),\n",
       " (126027, 'Very Sexy NEW! Keyhole Lace Teddy'),\n",
       " (126028, 'Very Sexy NEW! Keyhole Lace Teddy'),\n",
       " (126029, 'Very Sexy NEW! Keyhole Lace Teddy'),\n",
       " (126030, 'Very Sexy NEW! Keyhole Lace Teddy'),\n",
       " (126031, 'Very Sexy NEW! Keyhole Lace Teddy'),\n",
       " (134892, 'Very Sexy Fishnet Lace Kimono'),\n",
       " (134893, 'Very Sexy Fishnet Lace Kimono'),\n",
       " (183391, 'Very Sexy NEW! Keyhole Lace Teddy'),\n",
       " (183392, 'Very Sexy NEW! Keyhole Lace Teddy'),\n",
       " (183393, 'Very Sexy NEW! Keyhole Lace Teddy'),\n",
       " (183394, 'Very Sexy NEW! Keyhole Lace Teddy'),\n",
       " (183395, 'Very Sexy NEW! Keyhole Lace Teddy'),\n",
       " (183396, 'Very Sexy NEW! Keyhole Lace Teddy'),\n",
       " (183397, 'Very Sexy NEW! Keyhole Lace Teddy'),\n",
       " (183398, 'Very Sexy NEW! Keyhole Lace Teddy'),\n",
       " (183399, 'Very Sexy NEW! Keyhole Lace Teddy'),\n",
       " (183400, 'Very Sexy NEW! Keyhole Lace Teddy'),\n",
       " (183401, 'Very Sexy NEW! Keyhole Lace Teddy'),\n",
       " (194748, 'Very Sexy NEW! Keyhole Lace Teddy'),\n",
       " (194749, 'Very Sexy NEW! Keyhole Lace Teddy'),\n",
       " (194750, 'Very Sexy NEW! Keyhole Lace Teddy'),\n",
       " (194751, 'Very Sexy NEW! Keyhole Lace Teddy'),\n",
       " (194752, 'Very Sexy NEW! Keyhole Lace Teddy'),\n",
       " (194753, 'Very Sexy NEW! Keyhole Lace Teddy'),\n",
       " (194754, 'Very Sexy NEW! Keyhole Lace Teddy'),\n",
       " (194755, 'Very Sexy NEW! Keyhole Lace Teddy'),\n",
       " (194756, 'Very Sexy NEW! Keyhole Lace Teddy'),\n",
       " (194757, 'Very Sexy NEW! Keyhole Lace Teddy'),\n",
       " (194758, 'Very Sexy NEW! Keyhole Lace Teddy'),\n",
       " (223725, 'Very Sexy Fishnet Lace Kimono'),\n",
       " (223726, 'Very Sexy Fishnet Lace Kimono'),\n",
       " (241355, 'Very Sexy Fishnet Lace Dress'),\n",
       " (241356, 'Very Sexy Fishnet Lace Dress'),\n",
       " (257548, 'Very Sexy NEW! Keyhole Lace Teddy'),\n",
       " (257549, 'Very Sexy NEW! Keyhole Lace Teddy'),\n",
       " (257550, 'Very Sexy NEW! Keyhole Lace Teddy'),\n",
       " (257551, 'Very Sexy NEW! Keyhole Lace Teddy'),\n",
       " (257552, 'Very Sexy NEW! Keyhole Lace Teddy'),\n",
       " (257553, 'Very Sexy NEW! Keyhole Lace Teddy'),\n",
       " (257554, 'Very Sexy NEW! Keyhole Lace Teddy'),\n",
       " (257555, 'Very Sexy NEW! Keyhole Lace Teddy'),\n",
       " (257556, 'Very Sexy NEW! Keyhole Lace Teddy'),\n",
       " (257557, 'Very Sexy NEW! Keyhole Lace Teddy'),\n",
       " (257558, 'Very Sexy NEW! Keyhole Lace Teddy'),\n",
       " (258919, 'Very Sexy Fishnet Lace Kimono'),\n",
       " (258920, 'Very Sexy Fishnet Lace Kimono'),\n",
       " (274772, 'Very Sexy Fishnet Lace Kimono'),\n",
       " (274773, 'Very Sexy Fishnet Lace Kimono'),\n",
       " (293739, 'Very Sexy Fishnet Lace Kimono'),\n",
       " (293740, 'Very Sexy Fishnet Lace Kimono'),\n",
       " (296500, 'Very Sexy NEW! Keyhole Lace Teddy'),\n",
       " (296501, 'Very Sexy NEW! Keyhole Lace Teddy'),\n",
       " (296502, 'Very Sexy NEW! Keyhole Lace Teddy'),\n",
       " (296503, 'Very Sexy NEW! Keyhole Lace Teddy'),\n",
       " (296504, 'Very Sexy NEW! Keyhole Lace Teddy'),\n",
       " (296505, 'Very Sexy NEW! Keyhole Lace Teddy'),\n",
       " (296506, 'Very Sexy NEW! Keyhole Lace Teddy'),\n",
       " (296507, 'Very Sexy NEW! Keyhole Lace Teddy'),\n",
       " (296508, 'Very Sexy NEW! Keyhole Lace Teddy'),\n",
       " (296509, 'Very Sexy NEW! Keyhole Lace Teddy'),\n",
       " (296510, 'Very Sexy NEW! Keyhole Lace Teddy'),\n",
       " (327736, 'Very Sexy NEW! Keyhole Lace Teddy'),\n",
       " (327737, 'Very Sexy NEW! Keyhole Lace Teddy'),\n",
       " (327738, 'Very Sexy NEW! Keyhole Lace Teddy'),\n",
       " (327739, 'Very Sexy NEW! Keyhole Lace Teddy'),\n",
       " (327740, 'Very Sexy NEW! Keyhole Lace Teddy'),\n",
       " (327741, 'Very Sexy NEW! Keyhole Lace Teddy'),\n",
       " (327742, 'Very Sexy NEW! Keyhole Lace Teddy'),\n",
       " (327743, 'Very Sexy NEW! Keyhole Lace Teddy'),\n",
       " (327744, 'Very Sexy NEW! Keyhole Lace Teddy'),\n",
       " (327745, 'Very Sexy NEW! Keyhole Lace Teddy'),\n",
       " (327746, 'Very Sexy NEW! Keyhole Lace Teddy'),\n",
       " (400977, 'Very Sexy NEW! Keyhole Lace Teddy'),\n",
       " (400978, 'Very Sexy NEW! Keyhole Lace Teddy'),\n",
       " (400979, 'Very Sexy NEW! Keyhole Lace Teddy'),\n",
       " (400980, 'Very Sexy NEW! Keyhole Lace Teddy'),\n",
       " (400981, 'Very Sexy NEW! Keyhole Lace Teddy'),\n",
       " (400982, 'Very Sexy NEW! Keyhole Lace Teddy'),\n",
       " (400983, 'Very Sexy NEW! Keyhole Lace Teddy'),\n",
       " (400984, 'Very Sexy NEW! Keyhole Lace Teddy'),\n",
       " (400985, 'Very Sexy NEW! Keyhole Lace Teddy'),\n",
       " (400986, 'Very Sexy NEW! Keyhole Lace Teddy'),\n",
       " (400987, 'Very Sexy NEW! Keyhole Lace Teddy'),\n",
       " (401245, 'Very Sexy Fishnet Lace Dress'),\n",
       " (401246, 'Very Sexy Fishnet Lace Dress'),\n",
       " (422754, 'Very Sexy Fishnet Lace Dress'),\n",
       " (422755, 'Very Sexy Fishnet Lace Dress'),\n",
       " (444129, 'Very Sexy NEW! Keyhole Lace Teddy'),\n",
       " (444130, 'Very Sexy NEW! Keyhole Lace Teddy'),\n",
       " (444131, 'Very Sexy NEW! Keyhole Lace Teddy'),\n",
       " (444132, 'Very Sexy NEW! Keyhole Lace Teddy'),\n",
       " (444133, 'Very Sexy NEW! Keyhole Lace Teddy'),\n",
       " (444134, 'Very Sexy NEW! Keyhole Lace Teddy'),\n",
       " (444135, 'Very Sexy NEW! Keyhole Lace Teddy'),\n",
       " (444136, 'Very Sexy NEW! Keyhole Lace Teddy'),\n",
       " (444137, 'Very Sexy NEW! Keyhole Lace Teddy'),\n",
       " (444138, 'Very Sexy NEW! Keyhole Lace Teddy'),\n",
       " (444139, 'Very Sexy NEW! Keyhole Lace Teddy')]"
      ]
     },
     "execution_count": 114,
     "metadata": {},
     "output_type": "execute_result"
    }
   ],
   "source": [
    "# extract product and price\n",
    "prod_price = [(idx, s[0]) for idx,s in df_proc.items() if s[2]==max_price]\n",
    "prod_price"
   ]
  },
  {
   "cell_type": "code",
   "execution_count": 115,
   "id": "naughty-positive",
   "metadata": {},
   "outputs": [
    {
     "data": {
      "text/plain": [
       "{'Very Sexy Fishnet Lace Dress',\n",
       " 'Very Sexy Fishnet Lace Kimono',\n",
       " 'Very Sexy NEW! Keyhole Lace Teddy'}"
      ]
     },
     "execution_count": 115,
     "metadata": {},
     "output_type": "execute_result"
    }
   ],
   "source": [
    "# the products with highest prices\n",
    "set(p[1] for p in prod_price)"
   ]
  },
  {
   "cell_type": "markdown",
   "id": "entire-japanese",
   "metadata": {},
   "source": [
    "[Table of Contents](#summary)\n",
    "<a class='anchor' id='question2'></a>\n",
    "#### Question 2"
   ]
  },
  {
   "cell_type": "code",
   "execution_count": null,
   "id": "returning-comparative",
   "metadata": {},
   "outputs": [],
   "source": [
    "columns()"
   ]
  },
  {
   "cell_type": "code",
   "execution_count": 117,
   "id": "dried-hayes",
   "metadata": {},
   "outputs": [],
   "source": [
    "# extract product, price, size\n",
    "prod_price_size = [(row[0],row[2],row[11]) for row in df_proc.values() if '38A' in row[11]]"
   ]
  },
  {
   "cell_type": "code",
   "execution_count": 118,
   "id": "underlying-truck",
   "metadata": {},
   "outputs": [
    {
     "data": {
      "text/plain": [
       "186370"
      ]
     },
     "execution_count": 118,
     "metadata": {},
     "output_type": "execute_result"
    }
   ],
   "source": [
    "# extract prices of product with price = 38A\n",
    "price_38A = [p[1] for p in prod_price_size]\n",
    "len(price_38A)"
   ]
  },
  {
   "cell_type": "code",
   "execution_count": 119,
   "id": "weird-bulgaria",
   "metadata": {},
   "outputs": [
    {
     "data": {
      "text/plain": [
       "{'Keyhole Push-Up Bra', 'Lace Easy Push-Up Bra'}"
      ]
     },
     "execution_count": 119,
     "metadata": {},
     "output_type": "execute_result"
    }
   ],
   "source": [
    "# save the cheapest price for size 38A products\n",
    "min_price_38A = min(price_38A)\n",
    "\n",
    "# save products with minimum size = 9.99\n",
    "prod_min_price_38A = [p[0] for p in prod_price_size if  p[1]==min_price_38A]\n",
    "\n",
    "# print all the products with that minimum size\n",
    "set(prod_min_price_38A)"
   ]
  },
  {
   "cell_type": "markdown",
   "id": "984da21a",
   "metadata": {},
   "source": [
    "[Table of Contents](#summary)\n",
    "<a class='anchor' id='question3'></a>\n",
    "#### Question 3"
   ]
  },
  {
   "cell_type": "code",
   "execution_count": null,
   "id": "inner-receiver",
   "metadata": {},
   "outputs": [],
   "source": [
    "columns()"
   ]
  },
  {
   "cell_type": "code",
   "execution_count": 121,
   "id": "153c856c",
   "metadata": {},
   "outputs": [
    {
     "data": {
      "text/plain": [
       "0"
      ]
     },
     "execution_count": 121,
     "metadata": {},
     "output_type": "execute_result"
    }
   ],
   "source": [
    "# select all tuple of (product name, price and available sizes equal to '38A')\n",
    "prod_price_avsize_38A = [(row[0], row[2], row[12]) for row in df_proc.values() if '38A'in row[12]]\n",
    "len(prod_price_avsize_38A)"
   ]
  },
  {
   "cell_type": "markdown",
   "id": "medieval-enhancement",
   "metadata": {},
   "source": [
    "**No product with available size '38A'**"
   ]
  },
  {
   "cell_type": "markdown",
   "id": "3abbeee3",
   "metadata": {},
   "source": [
    "[Table of Contents](#summary)\n",
    "<a class='anchor' id='question4'></a>\n",
    "#### Question 4"
   ]
  },
  {
   "cell_type": "code",
   "execution_count": 122,
   "id": "e341a6a5",
   "metadata": {
    "scrolled": true
   },
   "outputs": [
    {
     "data": {
      "text/plain": [
       "0"
      ]
     },
     "execution_count": 122,
     "metadata": {},
     "output_type": "execute_result"
    }
   ],
   "source": [
    "# extract tuples of product category equal to 'Sport Bra', price and available size equal to 30\n",
    "sportbra_price_avsize_30 = [(row[5], row[2], row[12]) for row in df_proc.values() if 'sport bra' in row[5].lower() and '30' in row[12] ]\n",
    "len(sportbra_price_avsize_30)"
   ]
  },
  {
   "cell_type": "markdown",
   "id": "essential-unknown",
   "metadata": {},
   "source": [
    "**No 'Sport Bra' of size '30' available**"
   ]
  },
  {
   "cell_type": "markdown",
   "id": "5cd2acfe",
   "metadata": {},
   "source": [
    "[Table of Contents](#summary)\n",
    "<a class='anchor' id='question5'></a>\n",
    "#### Question 5"
   ]
  },
  {
   "cell_type": "code",
   "execution_count": null,
   "id": "correct-xerox",
   "metadata": {},
   "outputs": [],
   "source": [
    "columns()"
   ]
  },
  {
   "cell_type": "code",
   "execution_count": 124,
   "id": "intelligent-unemployment",
   "metadata": {},
   "outputs": [
    {
     "data": {
      "text/plain": [
       "[('Very Sexy Heart Lace Garter Belt',\n",
       "  'Heart Lace Garter Belt',\n",
       "  19.99,\n",
       "  'black hearts print'),\n",
       " ('Very Sexy Heart Lace Garter Belt',\n",
       "  'Heart Lace Garter Belt',\n",
       "  19.99,\n",
       "  'black hearts print')]"
      ]
     },
     "execution_count": 124,
     "metadata": {},
     "output_type": "execute_result"
    }
   ],
   "source": [
    "# extract product category equal to 'belt', price, and color.\n",
    "product_belt_price_color = [(row[0],row[5],row[2],row[13]) for row in df_proc.values() if 'belt' in row[5].lower()]\n",
    "product_belt_price_color"
   ]
  },
  {
   "cell_type": "code",
   "execution_count": 125,
   "id": "fitted-leather",
   "metadata": {},
   "outputs": [
    {
     "data": {
      "text/plain": [
       "{('Very Sexy Heart Lace Garter Belt', 19.99)}"
      ]
     },
     "execution_count": 125,
     "metadata": {},
     "output_type": "execute_result"
    }
   ],
   "source": [
    "max_price_belt = max([p[2] for p in product_belt_price_color])\n",
    "prod_max_price_belt = [(p[0],p[2]) for p in product_belt_price_color if p[2]== max_price_belt]\n",
    "set(prod_max_price_belt)"
   ]
  },
  {
   "cell_type": "markdown",
   "id": "4d23f891",
   "metadata": {},
   "source": [
    "[Table of Contents](#summary)"
   ]
  }
 ],
 "metadata": {
  "kernelspec": {
   "display_name": "Python 3 (ipykernel)",
   "language": "python",
   "name": "python3"
  },
  "language_info": {
   "codemirror_mode": {
    "name": "ipython",
    "version": 3
   },
   "file_extension": ".py",
   "mimetype": "text/x-python",
   "name": "python",
   "nbconvert_exporter": "python",
   "pygments_lexer": "ipython3",
   "version": "3.9.13"
  }
 },
 "nbformat": 4,
 "nbformat_minor": 5
}
