{
 "cells": [
  {
   "cell_type": "markdown",
   "metadata": {},
   "source": [
    "# Data Cleaning and Analysis from Scratch \n"
   ]
  },
  {
   "cell_type": "markdown",
   "metadata": {},
   "source": [
    "### Some librairies importation for this Jupyter Notebook"
   ]
  },
  {
   "cell_type": "code",
   "execution_count": 1,
   "metadata": {},
   "outputs": [],
   "source": [
    "import pandas as pd\n",
    "import numpy as np\n",
    "import os"
   ]
  },
  {
   "cell_type": "markdown",
   "metadata": {},
   "source": [
    "-----"
   ]
  },
  {
   "cell_type": "markdown",
   "metadata": {},
   "source": [
    "## Dataset of the bootcamp \n",
    "\n",
    "During this bootcamp, we are going to focus on one specific dataset from kaggle website.\n",
    "\n",
    "Create a kaggle account, export data files from https://www.kaggle.com/PromptCloudHQ/innerwear-data-from-victorias-secret-and-others and store them in a `data` folder on your computer.\n",
    "\n",
    "First of all : \n",
    "- Explore the meta-data of the dataset\n",
    "- Understand the global content of the dataset\n",
    "- Check for the different variables and their type"
   ]
  },
  {
   "cell_type": "markdown",
   "metadata": {},
   "source": [
    "## Import and unzip data files"
   ]
  },
  {
   "cell_type": "markdown",
   "metadata": {},
   "source": [
    "For this class, we will use a slightly modified version available here :\n",
    "https://github.com/jaotombo/data_science_from_scratch/tree/main/data\n",
    "<br>Download and unzip the `victoria` file into this course's data folder\n"
   ]
  },
  {
   "cell_type": "markdown",
   "metadata": {},
   "source": [
    "# I. DATA PREPROCESSING "
   ]
  },
  {
   "cell_type": "markdown",
   "metadata": {
    "heading_collapsed": true
   },
   "source": [
    "## Check a few data points\n",
    "\n",
    "Let's have a look at lines inside the csv file !"
   ]
  },
  {
   "cell_type": "markdown",
   "metadata": {
    "hidden": true
   },
   "source": [
    "### Step 1:\n",
    "\n",
    "**Check a few lines** (the first 3 or 5 lines - enough to be able to check the content) of the data file `data/victoria.csv`, \n",
    "\n",
    "**Pick one line, and see how to process it.**\n",
    "\n",
    "Which means: Check how lines are structured\n",
    "- what kind of delimiter\n",
    "- which variables (column names)\n",
    "- which type of data (str, float, int, ...)\n",
    "- ... "
   ]
  },
  {
   "cell_type": "code",
   "execution_count": 2,
   "metadata": {},
   "outputs": [
    {
     "data": {
      "text/plain": [
       "'/Users/sugumaran/Documents/EM-LYON/Data cleaning and Analysis from scratch/Day 1'"
      ]
     },
     "execution_count": 2,
     "metadata": {},
     "output_type": "execute_result"
    }
   ],
   "source": [
    "os.getcwd()"
   ]
  },
  {
   "cell_type": "code",
   "execution_count": 3,
   "metadata": {},
   "outputs": [],
   "source": [
    "data_path = '/Users/sugumaran/Documents/EM-LYON/Data cleaning and Analysis from scratch/Day 1/Victoria Dataset'"
   ]
  },
  {
   "cell_type": "code",
   "execution_count": 4,
   "metadata": {
    "scrolled": true
   },
   "outputs": [
    {
     "name": "stdout",
     "output_type": "stream",
     "text": [
      "product_name,mrp,price,pdp_url,brand_name,product_category,retailer,description,rating,review_count,style_attributes,total_sizes,available_size,color\n",
      "Very Sexy Strappy Lace Thong Panty,$14.50 ,$14.50 ,https://www.victoriassecret.com/panties/shop-all-panties/strappy-lace-thong-panty-very-sexy?ProductID=328310&CatalogueType=OLS,Victoria's Secret,Strappy Lace Thong Panty,Victoriassecret US,\"Lots of cheek peek, pretty lace, a strappy back—this sexy panty is so not subtle. Allover lace with front bow V-back with crisscross straps Low rise Minimal back coverage: lots of cheek peek Imported nylon/spandex\",NULL,NULL,NULL,\"[\"\"XS\"\", \"\"S\"\", \"\"M\"\", \"\"L\"\", \"\"XL\"\"]\",S,peach melba\n",
      "Very Sexy Strappy Lace Thong Panty,$14.50 ,$14.50 ,https://www.victoriassecret.com/panties/shop-all-panties/strappy-lace-thong-panty-very-sexy?ProductID=328310&CatalogueType=OLS,Victoria's Secret,Strappy Lace Thong Panty,Victoriassecret US,\"Lots of cheek peek, pretty lace, a strappy back—this sexy panty is so not subtle. Al\n"
     ]
    }
   ],
   "source": [
    "    file = open(\"/Users/sugumaran/Documents/EM-LYON/Data cleaning and Analysis from scratch/Day 1/Victoria Dataset/victoriassecret_com.csv\", mode = \"r\", encoding = \"UTF-8\")\n",
    "print(file.read(1000))"
   ]
  },
  {
   "cell_type": "code",
   "execution_count": 7,
   "metadata": {},
   "outputs": [],
   "source": [
    "filename = \"/Users/sugumaran/Documents/EM-LYON/Data cleaning and Analysis from scratch/Day 1/Victoria Dataset/victoriassecret_com.csv\"\n",
    ">>> with open(filename) as diary_file:\n",
    "...     contents = diary_file.read()"
   ]
  },
  {
   "cell_type": "code",
   "execution_count": 123,
   "metadata": {
    "scrolled": false
   },
   "outputs": [
    {
     "name": "stdout",
     "output_type": "stream",
     "text": [
      "1 product_name,mrp,price,pdp_url,brand_name,product_category,retailer,description,rating,review_count,style_attributes,total_sizes,available_size,color\n",
      "\n",
      "2 Very Sexy Strappy Lace Thong Panty,$14.50 ,$14.50 ,https://www.victoriassecret.com/panties/shop-all-panties/strappy-lace-thong-panty-very-sexy?ProductID=328310&CatalogueType=OLS,Victoria's Secret,Strappy Lace Thong Panty,Victoriassecret US,\"Lots of cheek peek, pretty lace, a strappy back—this sexy panty is so not subtle. Allover lace with front bow V-back with crisscross straps Low rise Minimal back coverage: lots of cheek peek Imported nylon/spandex\",NULL,NULL,NULL,\"[\"\"XS\"\", \"\"S\"\", \"\"M\"\", \"\"L\"\", \"\"XL\"\"]\",S,peach melba\n",
      "\n",
      "3 Very Sexy Strappy Lace Thong Panty,$14.50 ,$14.50 ,https://www.victoriassecret.com/panties/shop-all-panties/strappy-lace-thong-panty-very-sexy?ProductID=328310&CatalogueType=OLS,Victoria's Secret,Strappy Lace Thong Panty,Victoriassecret US,\"Lots of cheek peek, pretty lace, a strappy back—this sexy panty is so not subtle. Allover lace with front bow V-back with crisscross straps Low rise Minimal back coverage: lots of cheek peek Imported nylon/spandex\",NULL,NULL,NULL,\"[\"\"XS\"\", \"\"S\"\", \"\"M\"\", \"\"L\"\", \"\"XL\"\"]\",S,black\n",
      "\n",
      "4 Very Sexy Strappy Lace Thong Panty,$14.50 ,$14.50 ,https://www.victoriassecret.com/panties/shop-all-panties/strappy-lace-thong-panty-very-sexy?ProductID=328310&CatalogueType=OLS,Victoria's Secret,Strappy Lace Thong Panty,Victoriassecret US,\"Lots of cheek peek, pretty lace, a strappy back—this sexy panty is so not subtle. Allover lace with front bow V-back with crisscross straps Low rise Minimal back coverage: lots of cheek peek Imported nylon/spandex\",NULL,NULL,NULL,\"[\"\"XS\"\", \"\"S\"\", \"\"M\"\", \"\"L\"\", \"\"XL\"\"]\",S,plum dust\n",
      "\n",
      "5 Very Sexy Strappy Lace Thong Panty,$14.50 ,$14.50 ,https://www.victoriassecret.com/panties/shop-all-panties/strappy-lace-thong-panty-very-sexy?ProductID=328310&CatalogueType=OLS,Victoria's Secret,Strappy Lace Thong Panty,Victoriassecret US,\"Lots of cheek peek, pretty lace, a strappy back—this sexy panty is so not subtle. Allover lace with front bow V-back with crisscross straps Low rise Minimal back coverage: lots of cheek peek Imported nylon/spandex\",NULL,NULL,NULL,\"[\"\"XS\"\", \"\"S\"\", \"\"M\"\", \"\"L\"\", \"\"XL\"\"]\",S,ensign blue\n",
      "\n",
      "6 Very Sexy Strappy Lace Thong Panty,$14.50 ,$14.50 ,https://www.victoriassecret.com/panties/shop-all-panties/strappy-lace-thong-panty-very-sexy?ProductID=328310&CatalogueType=OLS,Victoria's Secret,Strappy Lace Thong Panty,Victoriassecret US,\"Lots of cheek peek, pretty lace, a strappy back—this sexy panty is so not subtle. Allover lace with front bow V-back with crisscross straps Low rise Minimal back coverage: lots of cheek peek Imported nylon/spandex\",NULL,NULL,NULL,\"[\"\"XS\"\", \"\"S\"\", \"\"M\"\", \"\"L\"\", \"\"XL\"\"]\",S,fair orchid\n",
      "\n",
      "7 Very Sexy Strappy Lace Thong Panty,$14.50 ,$14.50 ,https://www.victoriassecret.com/panties/shop-all-panties/strappy-lace-thong-panty-very-sexy?ProductID=328310&CatalogueType=OLS,Victoria's Secret,Strappy Lace Thong Panty,Victoriassecret US,\"Lots of cheek peek, pretty lace, a strappy back—this sexy panty is so not subtle. Allover lace with front bow V-back with crisscross straps Low rise Minimal back coverage: lots of cheek peek Imported nylon/spandex\",NULL,NULL,NULL,\"[\"\"XS\"\", \"\"S\"\", \"\"M\"\", \"\"L\"\", \"\"XL\"\"]\",S,windy blue\n",
      "\n",
      "8 Very Sexy Strappy Lace Thong Panty,$14.50 ,$14.50 ,https://www.victoriassecret.com/panties/shop-all-panties/strappy-lace-thong-panty-very-sexy?ProductID=328310&CatalogueType=OLS,Victoria's Secret,Strappy Lace Thong Panty,Victoriassecret US,\"Lots of cheek peek, pretty lace, a strappy back—this sexy panty is so not subtle. Allover lace with front bow V-back with crisscross straps Low rise Minimal back coverage: lots of cheek peek Imported nylon/spandex\",NULL,NULL,NULL,\"[\"\"XS\"\", \"\"S\"\", \"\"M\"\", \"\"L\"\", \"\"XL\"\"]\",S,coconut white\n",
      "\n",
      "9 Very Sexy Strappy Lace Thong Panty,$14.50 ,$14.50 ,https://www.victoriassecret.com/panties/shop-all-panties/strappy-lace-thong-panty-very-sexy?ProductID=328310&CatalogueType=OLS,Victoria's Secret,Strappy Lace Thong Panty,Victoriassecret US,\"Lots of cheek peek, pretty lace, a strappy back—this sexy panty is so not subtle. Allover lace with front bow V-back with crisscross straps Low rise Minimal back coverage: lots of cheek peek Imported nylon/spandex\",NULL,NULL,NULL,\"[\"\"XS\"\", \"\"S\"\", \"\"M\"\", \"\"L\"\", \"\"XL\"\"]\",XL,peach melba\n",
      "\n",
      "10 Very Sexy Strappy Lace Thong Panty,$14.50 ,$14.50 ,https://www.victoriassecret.com/panties/shop-all-panties/strappy-lace-thong-panty-very-sexy?ProductID=328310&CatalogueType=OLS,Victoria's Secret,Strappy Lace Thong Panty,Victoriassecret US,\"Lots of cheek peek, pretty lace, a strappy back—this sexy panty is so not subtle. Allover lace with front bow V-back with crisscross straps Low rise Minimal back coverage: lots of cheek peek Imported nylon/spandex\",NULL,NULL,NULL,\"[\"\"XS\"\", \"\"S\"\", \"\"M\"\", \"\"L\"\", \"\"XL\"\"]\",XL,black\n",
      "\n",
      "11 Very Sexy Strappy Lace Thong Panty,$14.50 ,$14.50 ,https://www.victoriassecret.com/panties/shop-all-panties/strappy-lace-thong-panty-very-sexy?ProductID=328310&CatalogueType=OLS,Victoria's Secret,Strappy Lace Thong Panty,Victoriassecret US,\"Lots of cheek peek, pretty lace, a strappy back—this sexy panty is so not subtle. Allover lace with front bow V-back with crisscross straps Low rise Minimal back coverage: lots of cheek peek Imported nylon/spandex\",NULL,NULL,NULL,\"[\"\"XS\"\", \"\"S\"\", \"\"M\"\", \"\"L\"\", \"\"XL\"\"]\",XL,plum dust\n",
      "\n",
      "12 Very Sexy Strappy Lace Thong Panty,$14.50 ,$14.50 ,https://www.victoriassecret.com/panties/shop-all-panties/strappy-lace-thong-panty-very-sexy?ProductID=328310&CatalogueType=OLS,Victoria's Secret,Strappy Lace Thong Panty,Victoriassecret US,\"Lots of cheek peek, pretty lace, a strappy back—this sexy panty is so not subtle. Allover lace with front bow V-back with crisscross straps Low rise Minimal back coverage: lots of cheek peek Imported nylon/spandex\",NULL,NULL,NULL,\"[\"\"XS\"\", \"\"S\"\", \"\"M\"\", \"\"L\"\", \"\"XL\"\"]\",XL,ensign blue\n",
      "\n",
      "13 Very Sexy Strappy Lace Thong Panty,$14.50 ,$14.50 ,https://www.victoriassecret.com/panties/shop-all-panties/strappy-lace-thong-panty-very-sexy?ProductID=328310&CatalogueType=OLS,Victoria's Secret,Strappy Lace Thong Panty,Victoriassecret US,\"Lots of cheek peek, pretty lace, a strappy back—this sexy panty is so not subtle. Allover lace with front bow V-back with crisscross straps Low rise Minimal back coverage: lots of cheek peek Imported nylon/spandex\",NULL,NULL,NULL,\"[\"\"XS\"\", \"\"S\"\", \"\"M\"\", \"\"L\"\", \"\"XL\"\"]\",XL,fair orchid\n",
      "\n",
      "14 Very Sexy Strappy Lace Thong Panty,$14.50 ,$14.50 ,https://www.victoriassecret.com/panties/shop-all-panties/strappy-lace-thong-panty-very-sexy?ProductID=328310&CatalogueType=OLS,Victoria's Secret,Strappy Lace Thong Panty,Victoriassecret US,\"Lots of cheek peek, pretty lace, a strappy back—this sexy panty is so not subtle. Allover lace with front bow V-back with crisscross straps Low rise Minimal back coverage: lots of cheek peek Imported nylon/spandex\",NULL,NULL,NULL,\"[\"\"XS\"\", \"\"S\"\", \"\"M\"\", \"\"L\"\", \"\"XL\"\"]\",XL,windy blue\n",
      "\n",
      "15 Very Sexy Strappy Lace Thong Panty,$14.50 ,$14.50 ,https://www.victoriassecret.com/panties/shop-all-panties/strappy-lace-thong-panty-very-sexy?ProductID=328310&CatalogueType=OLS,Victoria's Secret,Strappy Lace Thong Panty,Victoriassecret US,\"Lots of cheek peek, pretty lace, a strappy back—this sexy panty is so not subtle. Allover lace with front bow V-back with crisscross straps Low rise Minimal back coverage: lots of cheek peek Imported nylon/spandex\",NULL,NULL,NULL,\"[\"\"XS\"\", \"\"S\"\", \"\"M\"\", \"\"L\"\", \"\"XL\"\"]\",XL,coconut white\n",
      "\n",
      "16 Very Sexy Strappy Lace Thong Panty,$14.50 ,$14.50 ,https://www.victoriassecret.com/panties/shop-all-panties/strappy-lace-thong-panty-very-sexy?ProductID=328310&CatalogueType=OLS,Victoria's Secret,Strappy Lace Thong Panty,Victoriassecret US,\"Lots of cheek peek, pretty lace, a strappy back—this sexy panty is so not subtle. Allover lace with front bow V-back with crisscross straps Low rise Minimal back coverage: lots of cheek peek Imported nylon/spandex\",NULL,NULL,NULL,\"[\"\"XS\"\", \"\"S\"\", \"\"M\"\", \"\"L\"\", \"\"XL\"\"]\",XS,peach melba\n",
      "\n",
      "17 Very Sexy Strappy Lace Thong Panty,$14.50 ,$14.50 ,https://www.victoriassecret.com/panties/shop-all-panties/strappy-lace-thong-panty-very-sexy?ProductID=328310&CatalogueType=OLS,Victoria's Secret,Strappy Lace Thong Panty,Victoriassecret US,\"Lots of cheek peek, pretty lace, a strappy back—this sexy panty is so not subtle. Allover lace with front bow V-back with crisscross straps Low rise Minimal back coverage: lots of cheek peek Imported nylon/spandex\",NULL,NULL,NULL,\"[\"\"XS\"\", \"\"S\"\", \"\"M\"\", \"\"L\"\", \"\"XL\"\"]\",XS,plum dust\n",
      "\n",
      "18 Very Sexy Strappy Lace Thong Panty,$14.50 ,$14.50 ,https://www.victoriassecret.com/panties/shop-all-panties/strappy-lace-thong-panty-very-sexy?ProductID=328310&CatalogueType=OLS,Victoria's Secret,Strappy Lace Thong Panty,Victoriassecret US,\"Lots of cheek peek, pretty lace, a strappy back—this sexy panty is so not subtle. Allover lace with front bow V-back with crisscross straps Low rise Minimal back coverage: lots of cheek peek Imported nylon/spandex\",NULL,NULL,NULL,\"[\"\"XS\"\", \"\"S\"\", \"\"M\"\", \"\"L\"\", \"\"XL\"\"]\",XS,ensign blue\n",
      "\n",
      "19 Very Sexy Strappy Lace Thong Panty,$14.50 ,$14.50 ,https://www.victoriassecret.com/panties/shop-all-panties/strappy-lace-thong-panty-very-sexy?ProductID=328310&CatalogueType=OLS,Victoria's Secret,Strappy Lace Thong Panty,Victoriassecret US,\"Lots of cheek peek, pretty lace, a strappy back—this sexy panty is so not subtle. Allover lace with front bow V-back with crisscross straps Low rise Minimal back coverage: lots of cheek peek Imported nylon/spandex\",NULL,NULL,NULL,\"[\"\"XS\"\", \"\"S\"\", \"\"M\"\", \"\"L\"\", \"\"XL\"\"]\",XS,fair orchid\n",
      "\n",
      "20 Very Sexy Strappy Lace Thong Panty,$14.50 ,$14.50 ,https://www.victoriassecret.com/panties/shop-all-panties/strappy-lace-thong-panty-very-sexy?ProductID=328310&CatalogueType=OLS,Victoria's Secret,Strappy Lace Thong Panty,Victoriassecret US,\"Lots of cheek peek, pretty lace, a strappy back—this sexy panty is so not subtle. Allover lace with front bow V-back with crisscross straps Low rise Minimal back coverage: lots of cheek peek Imported nylon/spandex\",NULL,NULL,NULL,\"[\"\"XS\"\", \"\"S\"\", \"\"M\"\", \"\"L\"\", \"\"XL\"\"]\",XS,windy blue\n",
      "\n",
      "21 Very Sexy Strappy Lace Thong Panty,$14.50 ,$14.50 ,https://www.victoriassecret.com/panties/shop-all-panties/strappy-lace-thong-panty-very-sexy?ProductID=328310&CatalogueType=OLS,Victoria's Secret,Strappy Lace Thong Panty,Victoriassecret US,\"Lots of cheek peek, pretty lace, a strappy back—this sexy panty is so not subtle. Allover lace with front bow V-back with crisscross straps Low rise Minimal back coverage: lots of cheek peek Imported nylon/spandex\",NULL,NULL,NULL,\"[\"\"XS\"\", \"\"S\"\", \"\"M\"\", \"\"L\"\", \"\"XL\"\"]\",XS,coconut white\n",
      "\n",
      "22 Very Sexy Strappy Lace Thong Panty,$14.50 ,$14.50 ,https://www.victoriassecret.com/panties/shop-all-panties/strappy-lace-thong-panty-very-sexy?ProductID=328310&CatalogueType=OLS,Victoria's Secret,Strappy Lace Thong Panty,Victoriassecret US,\"Lots of cheek peek, pretty lace, a strappy back—this sexy panty is so not subtle. Allover lace with front bow V-back with crisscross straps Low rise Minimal back coverage: lots of cheek peek Imported nylon/spandex\",NULL,NULL,NULL,\"[\"\"XS\"\", \"\"S\"\", \"\"M\"\", \"\"L\"\", \"\"XL\"\"]\",L,peach melba\n",
      "\n",
      "23 Very Sexy Strappy Lace Thong Panty,$14.50 ,$14.50 ,https://www.victoriassecret.com/panties/shop-all-panties/strappy-lace-thong-panty-very-sexy?ProductID=328310&CatalogueType=OLS,Victoria's Secret,Strappy Lace Thong Panty,Victoriassecret US,\"Lots of cheek peek, pretty lace, a strappy back—this sexy panty is so not subtle. Allover lace with front bow V-back with crisscross straps Low rise Minimal back coverage: lots of cheek peek Imported nylon/spandex\",NULL,NULL,NULL,\"[\"\"XS\"\", \"\"S\"\", \"\"M\"\", \"\"L\"\", \"\"XL\"\"]\",L,black\n",
      "\n",
      "24 Very Sexy Strappy Lace Thong Panty,$14.50 ,$14.50 ,https://www.victoriassecret.com/panties/shop-all-panties/strappy-lace-thong-panty-very-sexy?ProductID=328310&CatalogueType=OLS,Victoria's Secret,Strappy Lace Thong Panty,Victoriassecret US,\"Lots of cheek peek, pretty lace, a strappy back—this sexy panty is so not subtle. Allover lace with front bow V-back with crisscross straps Low rise Minimal back coverage: lots of cheek peek Imported nylon/spandex\",NULL,NULL,NULL,\"[\"\"XS\"\", \"\"S\"\", \"\"M\"\", \"\"L\"\", \"\"XL\"\"]\",L,plum dust\n",
      "\n",
      "25 Very Sexy Strappy Lace Thong Panty,$14.50 ,$14.50 ,https://www.victoriassecret.com/panties/shop-all-panties/strappy-lace-thong-panty-very-sexy?ProductID=328310&CatalogueType=OLS,Victoria's Secret,Strappy Lace Thong Panty,Victoriassecret US,\"Lots of cheek peek, pretty lace, a strappy back—this sexy panty is so not subtle. Allover lace with front bow V-back with crisscross straps Low rise Minimal back coverage: lots of cheek peek Imported nylon/spandex\",NULL,NULL,NULL,\"[\"\"XS\"\", \"\"S\"\", \"\"M\"\", \"\"L\"\", \"\"XL\"\"]\",L,ensign blue\n",
      "\n",
      "26 Very Sexy Strappy Lace Thong Panty,$14.50 ,$14.50 ,https://www.victoriassecret.com/panties/shop-all-panties/strappy-lace-thong-panty-very-sexy?ProductID=328310&CatalogueType=OLS,Victoria's Secret,Strappy Lace Thong Panty,Victoriassecret US,\"Lots of cheek peek, pretty lace, a strappy back—this sexy panty is so not subtle. Allover lace with front bow V-back with crisscross straps Low rise Minimal back coverage: lots of cheek peek Imported nylon/spandex\",NULL,NULL,NULL,\"[\"\"XS\"\", \"\"S\"\", \"\"M\"\", \"\"L\"\", \"\"XL\"\"]\",L,fair orchid\n",
      "\n",
      "27 Very Sexy Strappy Lace Thong Panty,$14.50 ,$14.50 ,https://www.victoriassecret.com/panties/shop-all-panties/strappy-lace-thong-panty-very-sexy?ProductID=328310&CatalogueType=OLS,Victoria's Secret,Strappy Lace Thong Panty,Victoriassecret US,\"Lots of cheek peek, pretty lace, a strappy back—this sexy panty is so not subtle. Allover lace with front bow V-back with crisscross straps Low rise Minimal back coverage: lots of cheek peek Imported nylon/spandex\",NULL,NULL,NULL,\"[\"\"XS\"\", \"\"S\"\", \"\"M\"\", \"\"L\"\", \"\"XL\"\"]\",L,windy blue\n",
      "\n",
      "28 Very Sexy Strappy Lace Thong Panty,$14.50 ,$14.50 ,https://www.victoriassecret.com/panties/shop-all-panties/strappy-lace-thong-panty-very-sexy?ProductID=328310&CatalogueType=OLS,Victoria's Secret,Strappy Lace Thong Panty,Victoriassecret US,\"Lots of cheek peek, pretty lace, a strappy back—this sexy panty is so not subtle. Allover lace with front bow V-back with crisscross straps Low rise Minimal back coverage: lots of cheek peek Imported nylon/spandex\",NULL,NULL,NULL,\"[\"\"XS\"\", \"\"S\"\", \"\"M\"\", \"\"L\"\", \"\"XL\"\"]\",L,coconut white\n",
      "\n",
      "29 Very Sexy Strappy Lace Thong Panty,$14.50 ,$14.50 ,https://www.victoriassecret.com/panties/shop-all-panties/strappy-lace-thong-panty-very-sexy?ProductID=328310&CatalogueType=OLS,Victoria's Secret,Strappy Lace Thong Panty,Victoriassecret US,\"Lots of cheek peek, pretty lace, a strappy back—this sexy panty is so not subtle. Allover lace with front bow V-back with crisscross straps Low rise Minimal back coverage: lots of cheek peek Imported nylon/spandex\",NULL,NULL,NULL,\"[\"\"XS\"\", \"\"S\"\", \"\"M\"\", \"\"L\"\", \"\"XL\"\"]\",M,peach melba\n",
      "\n",
      "30 Very Sexy Strappy Lace Thong Panty,$14.50 ,$14.50 ,https://www.victoriassecret.com/panties/shop-all-panties/strappy-lace-thong-panty-very-sexy?ProductID=328310&CatalogueType=OLS,Victoria's Secret,Strappy Lace Thong Panty,Victoriassecret US,\"Lots of cheek peek, pretty lace, a strappy back—this sexy panty is so not subtle. Allover lace with front bow V-back with crisscross straps Low rise Minimal back coverage: lots of cheek peek Imported nylon/spandex\",NULL,NULL,NULL,\"[\"\"XS\"\", \"\"S\"\", \"\"M\"\", \"\"L\"\", \"\"XL\"\"]\",M,black\n",
      "\n",
      "31 Very Sexy Strappy Lace Thong Panty,$14.50 ,$14.50 ,https://www.victoriassecret.com/panties/shop-all-panties/strappy-lace-thong-panty-very-sexy?ProductID=328310&CatalogueType=OLS,Victoria's Secret,Strappy Lace Thong Panty,Victoriassecret US,\"Lots of cheek peek, pretty lace, a strappy back—this sexy panty is so not subtle. Allover lace with front bow V-back with crisscross straps Low rise Minimal back coverage: lots of cheek peek Imported nylon/spandex\",NULL,NULL,NULL,\"[\"\"XS\"\", \"\"S\"\", \"\"M\"\", \"\"L\"\", \"\"XL\"\"]\",M,plum dust\n",
      "\n",
      "32 Very Sexy Strappy Lace Thong Panty,$14.50 ,$14.50 ,https://www.victoriassecret.com/panties/shop-all-panties/strappy-lace-thong-panty-very-sexy?ProductID=328310&CatalogueType=OLS,Victoria's Secret,Strappy Lace Thong Panty,Victoriassecret US,\"Lots of cheek peek, pretty lace, a strappy back—this sexy panty is so not subtle. Allover lace with front bow V-back with crisscross straps Low rise Minimal back coverage: lots of cheek peek Imported nylon/spandex\",NULL,NULL,NULL,\"[\"\"XS\"\", \"\"S\"\", \"\"M\"\", \"\"L\"\", \"\"XL\"\"]\",M,ensign blue\n",
      "\n",
      "33 Very Sexy Strappy Lace Thong Panty,$14.50 ,$14.50 ,https://www.victoriassecret.com/panties/shop-all-panties/strappy-lace-thong-panty-very-sexy?ProductID=328310&CatalogueType=OLS,Victoria's Secret,Strappy Lace Thong Panty,Victoriassecret US,\"Lots of cheek peek, pretty lace, a strappy back—this sexy panty is so not subtle. Allover lace with front bow V-back with crisscross straps Low rise Minimal back coverage: lots of cheek peek Imported nylon/spandex\",NULL,NULL,NULL,\"[\"\"XS\"\", \"\"S\"\", \"\"M\"\", \"\"L\"\", \"\"XL\"\"]\",M,fair orchid\n",
      "\n",
      "34 Very Sexy Strappy Lace Thong Panty,$14.50 ,$14.50 ,https://www.victoriassecret.com/panties/shop-all-panties/strappy-lace-thong-panty-very-sexy?ProductID=328310&CatalogueType=OLS,Victoria's Secret,Strappy Lace Thong Panty,Victoriassecret US,\"Lots of cheek peek, pretty lace, a strappy back—this sexy panty is so not subtle. Allover lace with front bow V-back with crisscross straps Low rise Minimal back coverage: lots of cheek peek Imported nylon/spandex\",NULL,NULL,NULL,\"[\"\"XS\"\", \"\"S\"\", \"\"M\"\", \"\"L\"\", \"\"XL\"\"]\",M,windy blue\n",
      "\n",
      "35 Very Sexy Strappy Lace Thong Panty,$14.50 ,$14.50 ,https://www.victoriassecret.com/panties/shop-all-panties/strappy-lace-thong-panty-very-sexy?ProductID=328310&CatalogueType=OLS,Victoria's Secret,Strappy Lace Thong Panty,Victoriassecret US,\"Lots of cheek peek, pretty lace, a strappy back—this sexy panty is so not subtle. Allover lace with front bow V-back with crisscross straps Low rise Minimal back coverage: lots of cheek peek Imported nylon/spandex\",NULL,NULL,NULL,\"[\"\"XS\"\", \"\"S\"\", \"\"M\"\", \"\"L\"\", \"\"XL\"\"]\",M,coconut white\n",
      "\n",
      "36 Victoria Sport NEW! The Player by Victoria Sport Sport Bra,$15.00 ,$15.00 ,https://www.victoriassecret.com/victorias-secret-sport/shop-all/the-player-by-victoria-sport-sport-bra-victoria-sport?ProductID=336665&CatalogueType=OLS,Victoria's Secret,The Player by Victoria Sport Sport Bra,Victoriassecret US,\"From cycling to circuit training, this medium-support sport bra with a comfy racerback keeps you dry in smooth Body-Wick fabric. Details Medium support. Pullover style Performance & Fabric Perfect for spinning, kickboxing and circuit training Nylon performance fabric with 4-way stretch Body-Wick keeps you dry Machine wash. Tumble dry. Imported polyester/spandex\",NULL,NULL,NULL,\"[\"\"XS\"\", \"\"S\"\", \"\"M\"\", \"\"L\"\", \"\"XL\"\"]\",S,Multi Slasher Stripe\n",
      "\n",
      "37 Victoria Sport NEW! The Player by Victoria Sport Sport Bra,$15.00 ,$15.00 ,https://www.victoriassecret.com/victorias-secret-sport/shop-all/the-player-by-victoria-sport-sport-bra-victoria-sport?ProductID=336665&CatalogueType=OLS,Victoria's Secret,The Player by Victoria Sport Sport Bra,Victoriassecret US,\"From cycling to circuit training, this medium-support sport bra with a comfy racerback keeps you dry in smooth Body-Wick fabric. Details Medium support. Pullover style Performance & Fabric Perfect for spinning, kickboxing and circuit training Nylon performance fabric with 4-way stretch Body-Wick keeps you dry Machine wash. Tumble dry. Imported polyester/spandex\",NULL,NULL,NULL,\"[\"\"XS\"\", \"\"S\"\", \"\"M\"\", \"\"L\"\", \"\"XL\"\"]\",XL,Multi Slasher Stripe\n",
      "\n",
      "38 Victoria Sport NEW! The Player by Victoria Sport Sport Bra,$15.00 ,$15.00 ,https://www.victoriassecret.com/victorias-secret-sport/shop-all/the-player-by-victoria-sport-sport-bra-victoria-sport?ProductID=336665&CatalogueType=OLS,Victoria's Secret,The Player by Victoria Sport Sport Bra,Victoriassecret US,\"From cycling to circuit training, this medium-support sport bra with a comfy racerback keeps you dry in smooth Body-Wick fabric. Details Medium support. Pullover style Performance & Fabric Perfect for spinning, kickboxing and circuit training Nylon performance fabric with 4-way stretch Body-Wick keeps you dry Machine wash. Tumble dry. Imported polyester/spandex\",NULL,NULL,NULL,\"[\"\"XS\"\", \"\"S\"\", \"\"M\"\", \"\"L\"\", \"\"XL\"\"]\",XS,Multi Slasher Stripe\n",
      "\n",
      "39 Victoria Sport NEW! The Player by Victoria Sport Sport Bra,$15.00 ,$15.00 ,https://www.victoriassecret.com/victorias-secret-sport/shop-all/the-player-by-victoria-sport-sport-bra-victoria-sport?ProductID=336665&CatalogueType=OLS,Victoria's Secret,The Player by Victoria Sport Sport Bra,Victoriassecret US,\"From cycling to circuit training, this medium-support sport bra with a comfy racerback keeps you dry in smooth Body-Wick fabric. Details Medium support. Pullover style Performance & Fabric Perfect for spinning, kickboxing and circuit training Nylon performance fabric with 4-way stretch Body-Wick keeps you dry Machine wash. Tumble dry. Imported polyester/spandex\",NULL,NULL,NULL,\"[\"\"XS\"\", \"\"S\"\", \"\"M\"\", \"\"L\"\", \"\"XL\"\"]\",L,Multi Slasher Stripe\n",
      "\n",
      "40 Victoria Sport NEW! The Player by Victoria Sport Sport Bra,$15.00 ,$15.00 ,https://www.victoriassecret.com/victorias-secret-sport/shop-all/the-player-by-victoria-sport-sport-bra-victoria-sport?ProductID=336665&CatalogueType=OLS,Victoria's Secret,The Player by Victoria Sport Sport Bra,Victoriassecret US,\"From cycling to circuit training, this medium-support sport bra with a comfy racerback keeps you dry in smooth Body-Wick fabric. Details Medium support. Pullover style Performance & Fabric Perfect for spinning, kickboxing and circuit training Nylon performance fabric with 4-way stretch Body-Wick keeps you dry Machine wash. Tumble dry. Imported polyester/spandex\",NULL,NULL,NULL,\"[\"\"XS\"\", \"\"S\"\", \"\"M\"\", \"\"L\"\", \"\"XL\"\"]\",M,Multi Slasher Stripe\n",
      "\n",
      "41 Victoria Sport NEW! The Player by Victoria Sport Sport Bra,$15.00 ,$15.00 ,https://www.victoriassecret.com/victorias-secret-sport/shop-all/the-player-by-victoria-sport-sport-bra-victoria-sport?ProductID=336665&CatalogueType=OLS,Victoria's Secret,The Player by Victoria Sport Sport Bra,Victoriassecret US,\"From cycling to circuit training, this medium-support sport bra with a comfy racerback keeps you dry in smooth Body-Wick fabric. Details Medium support. Pullover style Performance & Fabric Perfect for spinning, kickboxing and circuit training Nylon performance fabric with 4-way stretch Body-Wick keeps you dry Machine wash. Tumble dry. Imported polyester/spandex\",NULL,NULL,NULL,\"[\"\"XS\"\", \"\"S\"\", \"\"M\"\", \"\"L\"\", \"\"XL\"\"]\",S,Hello Lovely\n",
      "\n",
      "42 Victoria Sport NEW! The Player by Victoria Sport Sport Bra,$15.00 ,$15.00 ,https://www.victoriassecret.com/victorias-secret-sport/shop-all/the-player-by-victoria-sport-sport-bra-victoria-sport?ProductID=336665&CatalogueType=OLS,Victoria's Secret,The Player by Victoria Sport Sport Bra,Victoriassecret US,\"From cycling to circuit training, this medium-support sport bra with a comfy racerback keeps you dry in smooth Body-Wick fabric. Details Medium support. Pullover style Performance & Fabric Perfect for spinning, kickboxing and circuit training Nylon performance fabric with 4-way stretch Body-Wick keeps you dry Machine wash. Tumble dry. Imported polyester/spandex\",NULL,NULL,NULL,\"[\"\"XS\"\", \"\"S\"\", \"\"M\"\", \"\"L\"\", \"\"XL\"\"]\",S,Black\n",
      "\n",
      "43 Victoria Sport NEW! The Player by Victoria Sport Sport Bra,$15.00 ,$15.00 ,https://www.victoriassecret.com/victorias-secret-sport/shop-all/the-player-by-victoria-sport-sport-bra-victoria-sport?ProductID=336665&CatalogueType=OLS,Victoria's Secret,The Player by Victoria Sport Sport Bra,Victoriassecret US,\"From cycling to circuit training, this medium-support sport bra with a comfy racerback keeps you dry in smooth Body-Wick fabric. Details Medium support. Pullover style Performance & Fabric Perfect for spinning, kickboxing and circuit training Nylon performance fabric with 4-way stretch Body-Wick keeps you dry Machine wash. Tumble dry. Imported polyester/spandex\",NULL,NULL,NULL,\"[\"\"XS\"\", \"\"S\"\", \"\"M\"\", \"\"L\"\", \"\"XL\"\"]\",S,Black Marl\n",
      "\n",
      "44 Victoria Sport NEW! The Player by Victoria Sport Sport Bra,$15.00 ,$15.00 ,https://www.victoriassecret.com/victorias-secret-sport/shop-all/the-player-by-victoria-sport-sport-bra-victoria-sport?ProductID=336665&CatalogueType=OLS,Victoria's Secret,The Player by Victoria Sport Sport Bra,Victoriassecret US,\"From cycling to circuit training, this medium-support sport bra with a comfy racerback keeps you dry in smooth Body-Wick fabric. Details Medium support. Pullover style Performance & Fabric Perfect for spinning, kickboxing and circuit training Nylon performance fabric with 4-way stretch Body-Wick keeps you dry Machine wash. Tumble dry. Imported polyester/spandex\",NULL,NULL,NULL,\"[\"\"XS\"\", \"\"S\"\", \"\"M\"\", \"\"L\"\", \"\"XL\"\"]\",XL,Hello Lovely\n",
      "\n",
      "45 Victoria Sport NEW! The Player by Victoria Sport Sport Bra,$15.00 ,$15.00 ,https://www.victoriassecret.com/victorias-secret-sport/shop-all/the-player-by-victoria-sport-sport-bra-victoria-sport?ProductID=336665&CatalogueType=OLS,Victoria's Secret,The Player by Victoria Sport Sport Bra,Victoriassecret US,\"From cycling to circuit training, this medium-support sport bra with a comfy racerback keeps you dry in smooth Body-Wick fabric. Details Medium support. Pullover style Performance & Fabric Perfect for spinning, kickboxing and circuit training Nylon performance fabric with 4-way stretch Body-Wick keeps you dry Machine wash. Tumble dry. Imported polyester/spandex\",NULL,NULL,NULL,\"[\"\"XS\"\", \"\"S\"\", \"\"M\"\", \"\"L\"\", \"\"XL\"\"]\",XL,Black\n",
      "\n",
      "46 Victoria Sport NEW! The Player by Victoria Sport Sport Bra,$15.00 ,$15.00 ,https://www.victoriassecret.com/victorias-secret-sport/shop-all/the-player-by-victoria-sport-sport-bra-victoria-sport?ProductID=336665&CatalogueType=OLS,Victoria's Secret,The Player by Victoria Sport Sport Bra,Victoriassecret US,\"From cycling to circuit training, this medium-support sport bra with a comfy racerback keeps you dry in smooth Body-Wick fabric. Details Medium support. Pullover style Performance & Fabric Perfect for spinning, kickboxing and circuit training Nylon performance fabric with 4-way stretch Body-Wick keeps you dry Machine wash. Tumble dry. Imported polyester/spandex\",NULL,NULL,NULL,\"[\"\"XS\"\", \"\"S\"\", \"\"M\"\", \"\"L\"\", \"\"XL\"\"]\",XL,Black Marl\n",
      "\n",
      "47 Victoria Sport NEW! The Player by Victoria Sport Sport Bra,$15.00 ,$15.00 ,https://www.victoriassecret.com/victorias-secret-sport/shop-all/the-player-by-victoria-sport-sport-bra-victoria-sport?ProductID=336665&CatalogueType=OLS,Victoria's Secret,The Player by Victoria Sport Sport Bra,Victoriassecret US,\"From cycling to circuit training, this medium-support sport bra with a comfy racerback keeps you dry in smooth Body-Wick fabric. Details Medium support. Pullover style Performance & Fabric Perfect for spinning, kickboxing and circuit training Nylon performance fabric with 4-way stretch Body-Wick keeps you dry Machine wash. Tumble dry. Imported polyester/spandex\",NULL,NULL,NULL,\"[\"\"XS\"\", \"\"S\"\", \"\"M\"\", \"\"L\"\", \"\"XL\"\"]\",XS,Hello Lovely\n",
      "\n",
      "48 Victoria Sport NEW! The Player by Victoria Sport Sport Bra,$15.00 ,$15.00 ,https://www.victoriassecret.com/victorias-secret-sport/shop-all/the-player-by-victoria-sport-sport-bra-victoria-sport?ProductID=336665&CatalogueType=OLS,Victoria's Secret,The Player by Victoria Sport Sport Bra,Victoriassecret US,\"From cycling to circuit training, this medium-support sport bra with a comfy racerback keeps you dry in smooth Body-Wick fabric. Details Medium support. Pullover style Performance & Fabric Perfect for spinning, kickboxing and circuit training Nylon performance fabric with 4-way stretch Body-Wick keeps you dry Machine wash. Tumble dry. Imported polyester/spandex\",NULL,NULL,NULL,\"[\"\"XS\"\", \"\"S\"\", \"\"M\"\", \"\"L\"\", \"\"XL\"\"]\",XS,Black\n",
      "\n",
      "49 Victoria Sport NEW! The Player by Victoria Sport Sport Bra,$15.00 ,$15.00 ,https://www.victoriassecret.com/victorias-secret-sport/shop-all/the-player-by-victoria-sport-sport-bra-victoria-sport?ProductID=336665&CatalogueType=OLS,Victoria's Secret,The Player by Victoria Sport Sport Bra,Victoriassecret US,\"From cycling to circuit training, this medium-support sport bra with a comfy racerback keeps you dry in smooth Body-Wick fabric. Details Medium support. Pullover style Performance & Fabric Perfect for spinning, kickboxing and circuit training Nylon performance fabric with 4-way stretch Body-Wick keeps you dry Machine wash. Tumble dry. Imported polyester/spandex\",NULL,NULL,NULL,\"[\"\"XS\"\", \"\"S\"\", \"\"M\"\", \"\"L\"\", \"\"XL\"\"]\",XS,Black Marl\n",
      "\n",
      "50 Victoria Sport NEW! The Player by Victoria Sport Sport Bra,$15.00 ,$15.00 ,https://www.victoriassecret.com/victorias-secret-sport/shop-all/the-player-by-victoria-sport-sport-bra-victoria-sport?ProductID=336665&CatalogueType=OLS,Victoria's Secret,The Player by Victoria Sport Sport Bra,Victoriassecret US,\"From cycling to circuit training, this medium-support sport bra with a comfy racerback keeps you dry in smooth Body-Wick fabric. Details Medium support. Pullover style Performance & Fabric Perfect for spinning, kickboxing and circuit training Nylon performance fabric with 4-way stretch Body-Wick keeps you dry Machine wash. Tumble dry. Imported polyester/spandex\",NULL,NULL,NULL,\"[\"\"XS\"\", \"\"S\"\", \"\"M\"\", \"\"L\"\", \"\"XL\"\"]\",L,Hello Lovely\n",
      "\n",
      "51 Victoria Sport NEW! The Player by Victoria Sport Sport Bra,$15.00 ,$15.00 ,https://www.victoriassecret.com/victorias-secret-sport/shop-all/the-player-by-victoria-sport-sport-bra-victoria-sport?ProductID=336665&CatalogueType=OLS,Victoria's Secret,The Player by Victoria Sport Sport Bra,Victoriassecret US,\"From cycling to circuit training, this medium-support sport bra with a comfy racerback keeps you dry in smooth Body-Wick fabric. Details Medium support. Pullover style Performance & Fabric Perfect for spinning, kickboxing and circuit training Nylon performance fabric with 4-way stretch Body-Wick keeps you dry Machine wash. Tumble dry. Imported polyester/spandex\",NULL,NULL,NULL,\"[\"\"XS\"\", \"\"S\"\", \"\"M\"\", \"\"L\"\", \"\"XL\"\"]\",L,Black\n",
      "\n",
      "52 Victoria Sport NEW! The Player by Victoria Sport Sport Bra,$15.00 ,$15.00 ,https://www.victoriassecret.com/victorias-secret-sport/shop-all/the-player-by-victoria-sport-sport-bra-victoria-sport?ProductID=336665&CatalogueType=OLS,Victoria's Secret,The Player by Victoria Sport Sport Bra,Victoriassecret US,\"From cycling to circuit training, this medium-support sport bra with a comfy racerback keeps you dry in smooth Body-Wick fabric. Details Medium support. Pullover style Performance & Fabric Perfect for spinning, kickboxing and circuit training Nylon performance fabric with 4-way stretch Body-Wick keeps you dry Machine wash. Tumble dry. Imported polyester/spandex\",NULL,NULL,NULL,\"[\"\"XS\"\", \"\"S\"\", \"\"M\"\", \"\"L\"\", \"\"XL\"\"]\",L,Black Marl\n",
      "\n",
      "53 Victoria Sport NEW! The Player by Victoria Sport Sport Bra,$15.00 ,$15.00 ,https://www.victoriassecret.com/victorias-secret-sport/shop-all/the-player-by-victoria-sport-sport-bra-victoria-sport?ProductID=336665&CatalogueType=OLS,Victoria's Secret,The Player by Victoria Sport Sport Bra,Victoriassecret US,\"From cycling to circuit training, this medium-support sport bra with a comfy racerback keeps you dry in smooth Body-Wick fabric. Details Medium support. Pullover style Performance & Fabric Perfect for spinning, kickboxing and circuit training Nylon performance fabric with 4-way stretch Body-Wick keeps you dry Machine wash. Tumble dry. Imported polyester/spandex\",NULL,NULL,NULL,\"[\"\"XS\"\", \"\"S\"\", \"\"M\"\", \"\"L\"\", \"\"XL\"\"]\",M,Hello Lovely\n",
      "\n",
      "54 Victoria Sport NEW! The Player by Victoria Sport Sport Bra,$15.00 ,$15.00 ,https://www.victoriassecret.com/victorias-secret-sport/shop-all/the-player-by-victoria-sport-sport-bra-victoria-sport?ProductID=336665&CatalogueType=OLS,Victoria's Secret,The Player by Victoria Sport Sport Bra,Victoriassecret US,\"From cycling to circuit training, this medium-support sport bra with a comfy racerback keeps you dry in smooth Body-Wick fabric. Details Medium support. Pullover style Performance & Fabric Perfect for spinning, kickboxing and circuit training Nylon performance fabric with 4-way stretch Body-Wick keeps you dry Machine wash. Tumble dry. Imported polyester/spandex\",NULL,NULL,NULL,\"[\"\"XS\"\", \"\"S\"\", \"\"M\"\", \"\"L\"\", \"\"XL\"\"]\",M,Black\n",
      "\n",
      "55 Victoria Sport NEW! The Player by Victoria Sport Sport Bra,$15.00 ,$15.00 ,https://www.victoriassecret.com/victorias-secret-sport/shop-all/the-player-by-victoria-sport-sport-bra-victoria-sport?ProductID=336665&CatalogueType=OLS,Victoria's Secret,The Player by Victoria Sport Sport Bra,Victoriassecret US,\"From cycling to circuit training, this medium-support sport bra with a comfy racerback keeps you dry in smooth Body-Wick fabric. Details Medium support. Pullover style Performance & Fabric Perfect for spinning, kickboxing and circuit training Nylon performance fabric with 4-way stretch Body-Wick keeps you dry Machine wash. Tumble dry. Imported polyester/spandex\",NULL,NULL,NULL,\"[\"\"XS\"\", \"\"S\"\", \"\"M\"\", \"\"L\"\", \"\"XL\"\"]\",M,Black Marl\n",
      "\n",
      "56 Victoria Sport NEW! The Player by Victoria Sport Sport Bra,$15.00 ,$15.00 ,https://www.victoriassecret.com/victorias-secret-sport/shop-all/the-player-by-victoria-sport-sport-bra-victoria-sport?ProductID=336665&CatalogueType=OLS,Victoria's Secret,The Player by Victoria Sport Sport Bra,Victoriassecret US,\"From cycling to circuit training, this medium-support sport bra with a comfy racerback keeps you dry in smooth Body-Wick fabric. Details Medium support. Pullover style Performance & Fabric Perfect for spinning, kickboxing and circuit training Nylon performance fabric with 4-way stretch Body-Wick keeps you dry Machine wash. Tumble dry. Imported polyester/spandex\",NULL,NULL,NULL,\"[\"\"XS\"\", \"\"S\"\", \"\"M\"\", \"\"L\"\", \"\"XL\"\"]\",S,Grey Oasis\n",
      "\n",
      "57 Victoria Sport NEW! The Player by Victoria Sport Sport Bra,$15.00 ,$15.00 ,https://www.victoriassecret.com/victorias-secret-sport/shop-all/the-player-by-victoria-sport-sport-bra-victoria-sport?ProductID=336665&CatalogueType=OLS,Victoria's Secret,The Player by Victoria Sport Sport Bra,Victoriassecret US,\"From cycling to circuit training, this medium-support sport bra with a comfy racerback keeps you dry in smooth Body-Wick fabric. Details Medium support. Pullover style Performance & Fabric Perfect for spinning, kickboxing and circuit training Nylon performance fabric with 4-way stretch Body-Wick keeps you dry Machine wash. Tumble dry. Imported polyester/spandex\",NULL,NULL,NULL,\"[\"\"XS\"\", \"\"S\"\", \"\"M\"\", \"\"L\"\", \"\"XL\"\"]\",XL,Grey Oasis\n",
      "\n",
      "58 Victoria Sport NEW! The Player by Victoria Sport Sport Bra,$15.00 ,$15.00 ,https://www.victoriassecret.com/victorias-secret-sport/shop-all/the-player-by-victoria-sport-sport-bra-victoria-sport?ProductID=336665&CatalogueType=OLS,Victoria's Secret,The Player by Victoria Sport Sport Bra,Victoriassecret US,\"From cycling to circuit training, this medium-support sport bra with a comfy racerback keeps you dry in smooth Body-Wick fabric. Details Medium support. Pullover style Performance & Fabric Perfect for spinning, kickboxing and circuit training Nylon performance fabric with 4-way stretch Body-Wick keeps you dry Machine wash. Tumble dry. Imported polyester/spandex\",NULL,NULL,NULL,\"[\"\"XS\"\", \"\"S\"\", \"\"M\"\", \"\"L\"\", \"\"XL\"\"]\",XS,Grey Oasis\n",
      "\n",
      "59 Victoria Sport NEW! The Player by Victoria Sport Sport Bra,$15.00 ,$15.00 ,https://www.victoriassecret.com/victorias-secret-sport/shop-all/the-player-by-victoria-sport-sport-bra-victoria-sport?ProductID=336665&CatalogueType=OLS,Victoria's Secret,The Player by Victoria Sport Sport Bra,Victoriassecret US,\"From cycling to circuit training, this medium-support sport bra with a comfy racerback keeps you dry in smooth Body-Wick fabric. Details Medium support. Pullover style Performance & Fabric Perfect for spinning, kickboxing and circuit training Nylon performance fabric with 4-way stretch Body-Wick keeps you dry Machine wash. Tumble dry. Imported polyester/spandex\",NULL,NULL,NULL,\"[\"\"XS\"\", \"\"S\"\", \"\"M\"\", \"\"L\"\", \"\"XL\"\"]\",L,Grey Oasis\n",
      "\n",
      "60 Victoria Sport NEW! The Player by Victoria Sport Sport Bra,$15.00 ,$15.00 ,https://www.victoriassecret.com/victorias-secret-sport/shop-all/the-player-by-victoria-sport-sport-bra-victoria-sport?ProductID=336665&CatalogueType=OLS,Victoria's Secret,The Player by Victoria Sport Sport Bra,Victoriassecret US,\"From cycling to circuit training, this medium-support sport bra with a comfy racerback keeps you dry in smooth Body-Wick fabric. Details Medium support. Pullover style Performance & Fabric Perfect for spinning, kickboxing and circuit training Nylon performance fabric with 4-way stretch Body-Wick keeps you dry Machine wash. Tumble dry. Imported polyester/spandex\",NULL,NULL,NULL,\"[\"\"XS\"\", \"\"S\"\", \"\"M\"\", \"\"L\"\", \"\"XL\"\"]\",M,Grey Oasis\n",
      "\n",
      "61 Victoria Sport NEW! The Player by Victoria Sport Sport Bra,$20.00 ,$20.00 ,https://www.victoriassecret.com/victorias-secret-sport/shop-all/the-player-by-victoria-sport-sport-bra-victoria-sport?ProductID=336665&CatalogueType=OLS,Victoria's Secret,The Player by Victoria Sport Sport Bra,Victoriassecret US,\"From cycling to circuit training, this medium-support sport bra with a comfy racerback keeps you dry in smooth Body-Wick fabric. Details Medium support. Pullover style Performance & Fabric Perfect for spinning, kickboxing and circuit training Nylon performance fabric with 4-way stretch Body-Wick keeps you dry Machine wash. Tumble dry. Imported polyester/spandex\",NULL,NULL,NULL,\"[\"\"XS\"\", \"\"S\"\", \"\"M\"\", \"\"L\"\", \"\"XL\"\"]\",S,Blackberry\n",
      "\n",
      "62 Victoria Sport NEW! The Player by Victoria Sport Sport Bra,$20.00 ,$20.00 ,https://www.victoriassecret.com/victorias-secret-sport/shop-all/the-player-by-victoria-sport-sport-bra-victoria-sport?ProductID=336665&CatalogueType=OLS,Victoria's Secret,The Player by Victoria Sport Sport Bra,Victoriassecret US,\"From cycling to circuit training, this medium-support sport bra with a comfy racerback keeps you dry in smooth Body-Wick fabric. Details Medium support. Pullover style Performance & Fabric Perfect for spinning, kickboxing and circuit training Nylon performance fabric with 4-way stretch Body-Wick keeps you dry Machine wash. Tumble dry. Imported polyester/spandex\",NULL,NULL,NULL,\"[\"\"XS\"\", \"\"S\"\", \"\"M\"\", \"\"L\"\", \"\"XL\"\"]\",XL,Blackberry\n",
      "\n",
      "63 Victoria Sport NEW! The Player by Victoria Sport Sport Bra,$20.00 ,$20.00 ,https://www.victoriassecret.com/victorias-secret-sport/shop-all/the-player-by-victoria-sport-sport-bra-victoria-sport?ProductID=336665&CatalogueType=OLS,Victoria's Secret,The Player by Victoria Sport Sport Bra,Victoriassecret US,\"From cycling to circuit training, this medium-support sport bra with a comfy racerback keeps you dry in smooth Body-Wick fabric. Details Medium support. Pullover style Performance & Fabric Perfect for spinning, kickboxing and circuit training Nylon performance fabric with 4-way stretch Body-Wick keeps you dry Machine wash. Tumble dry. Imported polyester/spandex\",NULL,NULL,NULL,\"[\"\"XS\"\", \"\"S\"\", \"\"M\"\", \"\"L\"\", \"\"XL\"\"]\",XS,Blackberry\n",
      "\n",
      "64 Victoria Sport NEW! The Player by Victoria Sport Sport Bra,$20.00 ,$20.00 ,https://www.victoriassecret.com/victorias-secret-sport/shop-all/the-player-by-victoria-sport-sport-bra-victoria-sport?ProductID=336665&CatalogueType=OLS,Victoria's Secret,The Player by Victoria Sport Sport Bra,Victoriassecret US,\"From cycling to circuit training, this medium-support sport bra with a comfy racerback keeps you dry in smooth Body-Wick fabric. Details Medium support. Pullover style Performance & Fabric Perfect for spinning, kickboxing and circuit training Nylon performance fabric with 4-way stretch Body-Wick keeps you dry Machine wash. Tumble dry. Imported polyester/spandex\",NULL,NULL,NULL,\"[\"\"XS\"\", \"\"S\"\", \"\"M\"\", \"\"L\"\", \"\"XL\"\"]\",L,Blackberry\n",
      "\n",
      "65 Victoria Sport NEW! The Player by Victoria Sport Sport Bra,$20.00 ,$20.00 ,https://www.victoriassecret.com/victorias-secret-sport/shop-all/the-player-by-victoria-sport-sport-bra-victoria-sport?ProductID=336665&CatalogueType=OLS,Victoria's Secret,The Player by Victoria Sport Sport Bra,Victoriassecret US,\"From cycling to circuit training, this medium-support sport bra with a comfy racerback keeps you dry in smooth Body-Wick fabric. Details Medium support. Pullover style Performance & Fabric Perfect for spinning, kickboxing and circuit training Nylon performance fabric with 4-way stretch Body-Wick keeps you dry Machine wash. Tumble dry. Imported polyester/spandex\",NULL,NULL,NULL,\"[\"\"XS\"\", \"\"S\"\", \"\"M\"\", \"\"L\"\", \"\"XL\"\"]\",M,Blackberry\n",
      "\n",
      "66 Victoria Sport NEW! The Player by Victoria Sport Sport Bra,$20.00 ,$20.00 ,https://www.victoriassecret.com/victorias-secret-sport/shop-all/the-player-by-victoria-sport-sport-bra-victoria-sport?ProductID=336665&CatalogueType=OLS,Victoria's Secret,The Player by Victoria Sport Sport Bra,Victoriassecret US,\"From cycling to circuit training, this medium-support sport bra with a comfy racerback keeps you dry in smooth Body-Wick fabric. Details Medium support. Pullover style Performance & Fabric Perfect for spinning, kickboxing and circuit training Nylon performance fabric with 4-way stretch Body-Wick keeps you dry Machine wash. Tumble dry. Imported polyester/spandex\",NULL,NULL,NULL,\"[\"\"XS\"\", \"\"S\"\", \"\"M\"\", \"\"L\"\", \"\"XL\"\"]\",S,Black/Victoria Sport Logo Waistband\n",
      "\n",
      "67 Victoria Sport NEW! The Player by Victoria Sport Sport Bra,$20.00 ,$20.00 ,https://www.victoriassecret.com/victorias-secret-sport/shop-all/the-player-by-victoria-sport-sport-bra-victoria-sport?ProductID=336665&CatalogueType=OLS,Victoria's Secret,The Player by Victoria Sport Sport Bra,Victoriassecret US,\"From cycling to circuit training, this medium-support sport bra with a comfy racerback keeps you dry in smooth Body-Wick fabric. Details Medium support. Pullover style Performance & Fabric Perfect for spinning, kickboxing and circuit training Nylon performance fabric with 4-way stretch Body-Wick keeps you dry Machine wash. Tumble dry. Imported polyester/spandex\",NULL,NULL,NULL,\"[\"\"XS\"\", \"\"S\"\", \"\"M\"\", \"\"L\"\", \"\"XL\"\"]\",S,White/Victoria Sport Logo/Black Waistband\n",
      "\n",
      "68 Victoria Sport NEW! The Player by Victoria Sport Sport Bra,$20.00 ,$20.00 ,https://www.victoriassecret.com/victorias-secret-sport/shop-all/the-player-by-victoria-sport-sport-bra-victoria-sport?ProductID=336665&CatalogueType=OLS,Victoria's Secret,The Player by Victoria Sport Sport Bra,Victoriassecret US,\"From cycling to circuit training, this medium-support sport bra with a comfy racerback keeps you dry in smooth Body-Wick fabric. Details Medium support. Pullover style Performance & Fabric Perfect for spinning, kickboxing and circuit training Nylon performance fabric with 4-way stretch Body-Wick keeps you dry Machine wash. Tumble dry. Imported polyester/spandex\",NULL,NULL,NULL,\"[\"\"XS\"\", \"\"S\"\", \"\"M\"\", \"\"L\"\", \"\"XL\"\"]\",XL,Black/Victoria Sport Logo Waistband\n",
      "\n",
      "69 Victoria Sport NEW! The Player by Victoria Sport Sport Bra,$20.00 ,$20.00 ,https://www.victoriassecret.com/victorias-secret-sport/shop-all/the-player-by-victoria-sport-sport-bra-victoria-sport?ProductID=336665&CatalogueType=OLS,Victoria's Secret,The Player by Victoria Sport Sport Bra,Victoriassecret US,\"From cycling to circuit training, this medium-support sport bra with a comfy racerback keeps you dry in smooth Body-Wick fabric. Details Medium support. Pullover style Performance & Fabric Perfect for spinning, kickboxing and circuit training Nylon performance fabric with 4-way stretch Body-Wick keeps you dry Machine wash. Tumble dry. Imported polyester/spandex\",NULL,NULL,NULL,\"[\"\"XS\"\", \"\"S\"\", \"\"M\"\", \"\"L\"\", \"\"XL\"\"]\",XL,White/Victoria Sport Logo/Black Waistband\n",
      "\n",
      "70 Victoria Sport NEW! The Player by Victoria Sport Sport Bra,$20.00 ,$20.00 ,https://www.victoriassecret.com/victorias-secret-sport/shop-all/the-player-by-victoria-sport-sport-bra-victoria-sport?ProductID=336665&CatalogueType=OLS,Victoria's Secret,The Player by Victoria Sport Sport Bra,Victoriassecret US,\"From cycling to circuit training, this medium-support sport bra with a comfy racerback keeps you dry in smooth Body-Wick fabric. Details Medium support. Pullover style Performance & Fabric Perfect for spinning, kickboxing and circuit training Nylon performance fabric with 4-way stretch Body-Wick keeps you dry Machine wash. Tumble dry. Imported polyester/spandex\",NULL,NULL,NULL,\"[\"\"XS\"\", \"\"S\"\", \"\"M\"\", \"\"L\"\", \"\"XL\"\"]\",XS,White/Victoria Sport Logo/Black Waistband\n",
      "\n",
      "71 Victoria Sport NEW! The Player by Victoria Sport Sport Bra,$20.00 ,$20.00 ,https://www.victoriassecret.com/victorias-secret-sport/shop-all/the-player-by-victoria-sport-sport-bra-victoria-sport?ProductID=336665&CatalogueType=OLS,Victoria's Secret,The Player by Victoria Sport Sport Bra,Victoriassecret US,\"From cycling to circuit training, this medium-support sport bra with a comfy racerback keeps you dry in smooth Body-Wick fabric. Details Medium support. Pullover style Performance & Fabric Perfect for spinning, kickboxing and circuit training Nylon performance fabric with 4-way stretch Body-Wick keeps you dry Machine wash. Tumble dry. Imported polyester/spandex\",NULL,NULL,NULL,\"[\"\"XS\"\", \"\"S\"\", \"\"M\"\", \"\"L\"\", \"\"XL\"\"]\",L,White/Victoria Sport Logo/Black Waistband\n",
      "\n",
      "72 Victoria Sport NEW! The Player by Victoria Sport Sport Bra,$20.00 ,$20.00 ,https://www.victoriassecret.com/victorias-secret-sport/shop-all/the-player-by-victoria-sport-sport-bra-victoria-sport?ProductID=336665&CatalogueType=OLS,Victoria's Secret,The Player by Victoria Sport Sport Bra,Victoriassecret US,\"From cycling to circuit training, this medium-support sport bra with a comfy racerback keeps you dry in smooth Body-Wick fabric. Details Medium support. Pullover style Performance & Fabric Perfect for spinning, kickboxing and circuit training Nylon performance fabric with 4-way stretch Body-Wick keeps you dry Machine wash. Tumble dry. Imported polyester/spandex\",NULL,NULL,NULL,\"[\"\"XS\"\", \"\"S\"\", \"\"M\"\", \"\"L\"\", \"\"XL\"\"]\",M,White/Victoria Sport Logo/Black Waistband\n",
      "\n",
      "73 Dream Angels NEW! Lace Cutout Thong Panty,$16.50 ,$16.50 ,https://www.victoriassecret.com/panties/shop-all-panties/lace-cutout-thong-panty-dream-angels?ProductID=328126&CatalogueType=OLS,Victoria's Secret,Lace Cutout Thong Panty,Victoriassecret US,Lace and right-now cutouts add sexy little details to this thong. Front center bow and Mesh back Cutouts at front Lace detail at front Low rise No back coverage Imported nylon/spandex/cotton,NULL,NULL,NULL,\"[\"\"XS\"\", \"\"S\"\", \"\"M\"\", \"\"L\"\", \"\"XL\"\"]\",S,peach melba\n",
      "\n",
      "74 Dream Angels NEW! Lace Cutout Thong Panty,$16.50 ,$16.50 ,https://www.victoriassecret.com/panties/shop-all-panties/lace-cutout-thong-panty-dream-angels?ProductID=328126&CatalogueType=OLS,Victoria's Secret,Lace Cutout Thong Panty,Victoriassecret US,Lace and right-now cutouts add sexy little details to this thong. Front center bow and Mesh back Cutouts at front Lace detail at front Low rise No back coverage Imported nylon/spandex/cotton,NULL,NULL,NULL,\"[\"\"XS\"\", \"\"S\"\", \"\"M\"\", \"\"L\"\", \"\"XL\"\"]\",XL,peach melba\n",
      "\n",
      "75 Dream Angels NEW! Lace Cutout Thong Panty,$16.50 ,$16.50 ,https://www.victoriassecret.com/panties/shop-all-panties/lace-cutout-thong-panty-dream-angels?ProductID=328126&CatalogueType=OLS,Victoria's Secret,Lace Cutout Thong Panty,Victoriassecret US,Lace and right-now cutouts add sexy little details to this thong. Front center bow and Mesh back Cutouts at front Lace detail at front Low rise No back coverage Imported nylon/spandex/cotton,NULL,NULL,NULL,\"[\"\"XS\"\", \"\"S\"\", \"\"M\"\", \"\"L\"\", \"\"XL\"\"]\",XL,black\n",
      "\n",
      "76 Dream Angels NEW! Lace Cutout Thong Panty,$16.50 ,$16.50 ,https://www.victoriassecret.com/panties/shop-all-panties/lace-cutout-thong-panty-dream-angels?ProductID=328126&CatalogueType=OLS,Victoria's Secret,Lace Cutout Thong Panty,Victoriassecret US,Lace and right-now cutouts add sexy little details to this thong. Front center bow and Mesh back Cutouts at front Lace detail at front Low rise No back coverage Imported nylon/spandex/cotton,NULL,NULL,NULL,\"[\"\"XS\"\", \"\"S\"\", \"\"M\"\", \"\"L\"\", \"\"XL\"\"]\",XL,ensign blue\n",
      "\n",
      "77 Dream Angels NEW! Lace Cutout Thong Panty,$16.50 ,$16.50 ,https://www.victoriassecret.com/panties/shop-all-panties/lace-cutout-thong-panty-dream-angels?ProductID=328126&CatalogueType=OLS,Victoria's Secret,Lace Cutout Thong Panty,Victoriassecret US,Lace and right-now cutouts add sexy little details to this thong. Front center bow and Mesh back Cutouts at front Lace detail at front Low rise No back coverage Imported nylon/spandex/cotton,NULL,NULL,NULL,\"[\"\"XS\"\", \"\"S\"\", \"\"M\"\", \"\"L\"\", \"\"XL\"\"]\",XS,peach melba\n",
      "\n",
      "78 Dream Angels NEW! Lace Cutout Thong Panty,$16.50 ,$16.50 ,https://www.victoriassecret.com/panties/shop-all-panties/lace-cutout-thong-panty-dream-angels?ProductID=328126&CatalogueType=OLS,Victoria's Secret,Lace Cutout Thong Panty,Victoriassecret US,Lace and right-now cutouts add sexy little details to this thong. Front center bow and Mesh back Cutouts at front Lace detail at front Low rise No back coverage Imported nylon/spandex/cotton,NULL,NULL,NULL,\"[\"\"XS\"\", \"\"S\"\", \"\"M\"\", \"\"L\"\", \"\"XL\"\"]\",L,peach melba\n",
      "\n",
      "79 Dream Angels NEW! Lace Cutout Thong Panty,$16.50 ,$16.50 ,https://www.victoriassecret.com/panties/shop-all-panties/lace-cutout-thong-panty-dream-angels?ProductID=328126&CatalogueType=OLS,Victoria's Secret,Lace Cutout Thong Panty,Victoriassecret US,Lace and right-now cutouts add sexy little details to this thong. Front center bow and Mesh back Cutouts at front Lace detail at front Low rise No back coverage Imported nylon/spandex/cotton,NULL,NULL,NULL,\"[\"\"XS\"\", \"\"S\"\", \"\"M\"\", \"\"L\"\", \"\"XL\"\"]\",L,black\n",
      "\n",
      "80 Dream Angels NEW! Lace Cutout Thong Panty,$16.50 ,$16.50 ,https://www.victoriassecret.com/panties/shop-all-panties/lace-cutout-thong-panty-dream-angels?ProductID=328126&CatalogueType=OLS,Victoria's Secret,Lace Cutout Thong Panty,Victoriassecret US,Lace and right-now cutouts add sexy little details to this thong. Front center bow and Mesh back Cutouts at front Lace detail at front Low rise No back coverage Imported nylon/spandex/cotton,NULL,NULL,NULL,\"[\"\"XS\"\", \"\"S\"\", \"\"M\"\", \"\"L\"\", \"\"XL\"\"]\",L,ensign blue\n",
      "\n",
      "81 Dream Angels NEW! Lace Cutout Thong Panty,$16.50 ,$16.50 ,https://www.victoriassecret.com/panties/shop-all-panties/lace-cutout-thong-panty-dream-angels?ProductID=328126&CatalogueType=OLS,Victoria's Secret,Lace Cutout Thong Panty,Victoriassecret US,Lace and right-now cutouts add sexy little details to this thong. Front center bow and Mesh back Cutouts at front Lace detail at front Low rise No back coverage Imported nylon/spandex/cotton,NULL,NULL,NULL,\"[\"\"XS\"\", \"\"S\"\", \"\"M\"\", \"\"L\"\", \"\"XL\"\"]\",M,peach melba\n",
      "\n",
      "82 Dream Angels NEW! Lace Cutout Thong Panty,$16.50 ,$16.50 ,https://www.victoriassecret.com/panties/shop-all-panties/lace-cutout-thong-panty-dream-angels?ProductID=328126&CatalogueType=OLS,Victoria's Secret,Lace Cutout Thong Panty,Victoriassecret US,Lace and right-now cutouts add sexy little details to this thong. Front center bow and Mesh back Cutouts at front Lace detail at front Low rise No back coverage Imported nylon/spandex/cotton,NULL,NULL,NULL,\"[\"\"XS\"\", \"\"S\"\", \"\"M\"\", \"\"L\"\", \"\"XL\"\"]\",M,black\n",
      "\n",
      "83 Dream Angels NEW! Lace Cutout Thong Panty,$16.50 ,$16.50 ,https://www.victoriassecret.com/panties/shop-all-panties/lace-cutout-thong-panty-dream-angels?ProductID=328126&CatalogueType=OLS,Victoria's Secret,Lace Cutout Thong Panty,Victoriassecret US,Lace and right-now cutouts add sexy little details to this thong. Front center bow and Mesh back Cutouts at front Lace detail at front Low rise No back coverage Imported nylon/spandex/cotton,NULL,NULL,NULL,\"[\"\"XS\"\", \"\"S\"\", \"\"M\"\", \"\"L\"\", \"\"XL\"\"]\",M,ensign blue\n",
      "\n",
      "84 PINK NEW! Lace Back No-Show Thong,$10.50 ,$10.50 ,https://www.victoriassecret.com/pink/panties/lace-back-no-show-thong-pink?ProductID=300118&CatalogueType=OLS,Victoria's Secret Pink,Lace Back No-Show Thong,Victoriassecret US,\"Smooth and stretchy, this barely-there thong is essential under slim-fit pants and skinny jeans. Seamless with a cute lacy back that won’t show through!Only by Victoria’s Secret PINK. Extra low rise Seamless raw edge Lace back detail No show through Imported polyamide/spandex\",NULL,NULL,NULL,\"[\"\"XS\"\", \"\"S\"\", \"\"M\"\", \"\"L\"\"]\",S,ruby beauty\n",
      "\n",
      "85 PINK NEW! Lace Back No-Show Thong,$10.50 ,$10.50 ,https://www.victoriassecret.com/pink/panties/lace-back-no-show-thong-pink?ProductID=300118&CatalogueType=OLS,Victoria's Secret Pink,Lace Back No-Show Thong,Victoriassecret US,\"Smooth and stretchy, this barely-there thong is essential under slim-fit pants and skinny jeans. Seamless with a cute lacy back that won’t show through!Only by Victoria’s Secret PINK. Extra low rise Seamless raw edge Lace back detail No show through Imported polyamide/spandex\",NULL,NULL,NULL,\"[\"\"XS\"\", \"\"S\"\", \"\"M\"\", \"\"L\"\"]\",S,red pepper palm print\n",
      "\n",
      "86 PINK NEW! Lace Back No-Show Thong,$10.50 ,$10.50 ,https://www.victoriassecret.com/pink/panties/lace-back-no-show-thong-pink?ProductID=300118&CatalogueType=OLS,Victoria's Secret Pink,Lace Back No-Show Thong,Victoriassecret US,\"Smooth and stretchy, this barely-there thong is essential under slim-fit pants and skinny jeans. Seamless with a cute lacy back that won’t show through!Only by Victoria’s Secret PINK. Extra low rise Seamless raw edge Lace back detail No show through Imported polyamide/spandex\",NULL,NULL,NULL,\"[\"\"XS\"\", \"\"S\"\", \"\"M\"\", \"\"L\"\"]\",S,venetian teal\n",
      "\n",
      "87 PINK NEW! Lace Back No-Show Thong,$10.50 ,$10.50 ,https://www.victoriassecret.com/pink/panties/lace-back-no-show-thong-pink?ProductID=300118&CatalogueType=OLS,Victoria's Secret Pink,Lace Back No-Show Thong,Victoriassecret US,\"Smooth and stretchy, this barely-there thong is essential under slim-fit pants and skinny jeans. Seamless with a cute lacy back that won’t show through!Only by Victoria’s Secret PINK. Extra low rise Seamless raw edge Lace back detail No show through Imported polyamide/spandex\",NULL,NULL,NULL,\"[\"\"XS\"\", \"\"S\"\", \"\"M\"\", \"\"L\"\"]\",S,neon princess\n",
      "\n",
      "88 PINK NEW! Lace Back No-Show Thong,$10.50 ,$10.50 ,https://www.victoriassecret.com/pink/panties/lace-back-no-show-thong-pink?ProductID=300118&CatalogueType=OLS,Victoria's Secret Pink,Lace Back No-Show Thong,Victoriassecret US,\"Smooth and stretchy, this barely-there thong is essential under slim-fit pants and skinny jeans. Seamless with a cute lacy back that won’t show through!Only by Victoria’s Secret PINK. Extra low rise Seamless raw edge Lace back detail No show through Imported polyamide/spandex\",NULL,NULL,NULL,\"[\"\"XS\"\", \"\"S\"\", \"\"M\"\", \"\"L\"\"]\",S,buff\n",
      "\n",
      "89 PINK NEW! Lace Back No-Show Thong,$10.50 ,$10.50 ,https://www.victoriassecret.com/pink/panties/lace-back-no-show-thong-pink?ProductID=300118&CatalogueType=OLS,Victoria's Secret Pink,Lace Back No-Show Thong,Victoriassecret US,\"Smooth and stretchy, this barely-there thong is essential under slim-fit pants and skinny jeans. Seamless with a cute lacy back that won’t show through!Only by Victoria’s Secret PINK. Extra low rise Seamless raw edge Lace back detail No show through Imported polyamide/spandex\",NULL,NULL,NULL,\"[\"\"XS\"\", \"\"S\"\", \"\"M\"\", \"\"L\"\"]\",S,forever young\n",
      "\n",
      "90 PINK NEW! Lace Back No-Show Thong,$10.50 ,$10.50 ,https://www.victoriassecret.com/pink/panties/lace-back-no-show-thong-pink?ProductID=300118&CatalogueType=OLS,Victoria's Secret Pink,Lace Back No-Show Thong,Victoriassecret US,\"Smooth and stretchy, this barely-there thong is essential under slim-fit pants and skinny jeans. Seamless with a cute lacy back that won’t show through!Only by Victoria’s Secret PINK. Extra low rise Seamless raw edge Lace back detail No show through Imported polyamide/spandex\",NULL,NULL,NULL,\"[\"\"XS\"\", \"\"S\"\", \"\"M\"\", \"\"L\"\"]\",XS,ruby beauty\n",
      "\n",
      "91 PINK NEW! Lace Back No-Show Thong,$10.50 ,$10.50 ,https://www.victoriassecret.com/pink/panties/lace-back-no-show-thong-pink?ProductID=300118&CatalogueType=OLS,Victoria's Secret Pink,Lace Back No-Show Thong,Victoriassecret US,\"Smooth and stretchy, this barely-there thong is essential under slim-fit pants and skinny jeans. Seamless with a cute lacy back that won’t show through!Only by Victoria’s Secret PINK. Extra low rise Seamless raw edge Lace back detail No show through Imported polyamide/spandex\",NULL,NULL,NULL,\"[\"\"XS\"\", \"\"S\"\", \"\"M\"\", \"\"L\"\"]\",XS,red pepper palm print\n",
      "\n",
      "92 PINK NEW! Lace Back No-Show Thong,$10.50 ,$10.50 ,https://www.victoriassecret.com/pink/panties/lace-back-no-show-thong-pink?ProductID=300118&CatalogueType=OLS,Victoria's Secret Pink,Lace Back No-Show Thong,Victoriassecret US,\"Smooth and stretchy, this barely-there thong is essential under slim-fit pants and skinny jeans. Seamless with a cute lacy back that won’t show through!Only by Victoria’s Secret PINK. Extra low rise Seamless raw edge Lace back detail No show through Imported polyamide/spandex\",NULL,NULL,NULL,\"[\"\"XS\"\", \"\"S\"\", \"\"M\"\", \"\"L\"\"]\",XS,fresh violet\n",
      "\n",
      "93 PINK NEW! Lace Back No-Show Thong,$10.50 ,$10.50 ,https://www.victoriassecret.com/pink/panties/lace-back-no-show-thong-pink?ProductID=300118&CatalogueType=OLS,Victoria's Secret Pink,Lace Back No-Show Thong,Victoriassecret US,\"Smooth and stretchy, this barely-there thong is essential under slim-fit pants and skinny jeans. Seamless with a cute lacy back that won’t show through!Only by Victoria’s Secret PINK. Extra low rise Seamless raw edge Lace back detail No show through Imported polyamide/spandex\",NULL,NULL,NULL,\"[\"\"XS\"\", \"\"S\"\", \"\"M\"\", \"\"L\"\"]\",XS,venetian teal\n",
      "\n",
      "94 PINK NEW! Lace Back No-Show Thong,$10.50 ,$10.50 ,https://www.victoriassecret.com/pink/panties/lace-back-no-show-thong-pink?ProductID=300118&CatalogueType=OLS,Victoria's Secret Pink,Lace Back No-Show Thong,Victoriassecret US,\"Smooth and stretchy, this barely-there thong is essential under slim-fit pants and skinny jeans. Seamless with a cute lacy back that won’t show through!Only by Victoria’s Secret PINK. Extra low rise Seamless raw edge Lace back detail No show through Imported polyamide/spandex\",NULL,NULL,NULL,\"[\"\"XS\"\", \"\"S\"\", \"\"M\"\", \"\"L\"\"]\",XS,pure black\n",
      "\n",
      "95 PINK NEW! Lace Back No-Show Thong,$10.50 ,$10.50 ,https://www.victoriassecret.com/pink/panties/lace-back-no-show-thong-pink?ProductID=300118&CatalogueType=OLS,Victoria's Secret Pink,Lace Back No-Show Thong,Victoriassecret US,\"Smooth and stretchy, this barely-there thong is essential under slim-fit pants and skinny jeans. Seamless with a cute lacy back that won’t show through!Only by Victoria’s Secret PINK. Extra low rise Seamless raw edge Lace back detail No show through Imported polyamide/spandex\",NULL,NULL,NULL,\"[\"\"XS\"\", \"\"S\"\", \"\"M\"\", \"\"L\"\"]\",XS,neon princess\n",
      "\n",
      "96 PINK NEW! Lace Back No-Show Thong,$10.50 ,$10.50 ,https://www.victoriassecret.com/pink/panties/lace-back-no-show-thong-pink?ProductID=300118&CatalogueType=OLS,Victoria's Secret Pink,Lace Back No-Show Thong,Victoriassecret US,\"Smooth and stretchy, this barely-there thong is essential under slim-fit pants and skinny jeans. Seamless with a cute lacy back that won’t show through!Only by Victoria’s Secret PINK. Extra low rise Seamless raw edge Lace back detail No show through Imported polyamide/spandex\",NULL,NULL,NULL,\"[\"\"XS\"\", \"\"S\"\", \"\"M\"\", \"\"L\"\"]\",XS,buff\n",
      "\n",
      "97 PINK NEW! Lace Back No-Show Thong,$10.50 ,$10.50 ,https://www.victoriassecret.com/pink/panties/lace-back-no-show-thong-pink?ProductID=300118&CatalogueType=OLS,Victoria's Secret Pink,Lace Back No-Show Thong,Victoriassecret US,\"Smooth and stretchy, this barely-there thong is essential under slim-fit pants and skinny jeans. Seamless with a cute lacy back that won’t show through!Only by Victoria’s Secret PINK. Extra low rise Seamless raw edge Lace back detail No show through Imported polyamide/spandex\",NULL,NULL,NULL,\"[\"\"XS\"\", \"\"S\"\", \"\"M\"\", \"\"L\"\"]\",XS,forever young\n",
      "\n",
      "98 PINK NEW! Lace Back No-Show Thong,$10.50 ,$10.50 ,https://www.victoriassecret.com/pink/panties/lace-back-no-show-thong-pink?ProductID=300118&CatalogueType=OLS,Victoria's Secret Pink,Lace Back No-Show Thong,Victoriassecret US,\"Smooth and stretchy, this barely-there thong is essential under slim-fit pants and skinny jeans. Seamless with a cute lacy back that won’t show through!Only by Victoria’s Secret PINK. Extra low rise Seamless raw edge Lace back detail No show through Imported polyamide/spandex\",NULL,NULL,NULL,\"[\"\"XS\"\", \"\"S\"\", \"\"M\"\", \"\"L\"\"]\",L,ruby beauty\n",
      "\n",
      "99 PINK NEW! Lace Back No-Show Thong,$10.50 ,$10.50 ,https://www.victoriassecret.com/pink/panties/lace-back-no-show-thong-pink?ProductID=300118&CatalogueType=OLS,Victoria's Secret Pink,Lace Back No-Show Thong,Victoriassecret US,\"Smooth and stretchy, this barely-there thong is essential under slim-fit pants and skinny jeans. Seamless with a cute lacy back that won’t show through!Only by Victoria’s Secret PINK. Extra low rise Seamless raw edge Lace back detail No show through Imported polyamide/spandex\",NULL,NULL,NULL,\"[\"\"XS\"\", \"\"S\"\", \"\"M\"\", \"\"L\"\"]\",L,red pepper palm print\n",
      "\n",
      "100 PINK NEW! Lace Back No-Show Thong,$10.50 ,$10.50 ,https://www.victoriassecret.com/pink/panties/lace-back-no-show-thong-pink?ProductID=300118&CatalogueType=OLS,Victoria's Secret Pink,Lace Back No-Show Thong,Victoriassecret US,\"Smooth and stretchy, this barely-there thong is essential under slim-fit pants and skinny jeans. Seamless with a cute lacy back that won’t show through!Only by Victoria’s Secret PINK. Extra low rise Seamless raw edge Lace back detail No show through Imported polyamide/spandex\",NULL,NULL,NULL,\"[\"\"XS\"\", \"\"S\"\", \"\"M\"\", \"\"L\"\"]\",L,venetian teal\n",
      "\n"
     ]
    }
   ],
   "source": [
    "with open(filename) as diary_file:\n",
    "    n = 1\n",
    "    for line in diary_file:\n",
    "        print(n, line)\n",
    "        n += 1\n",
    "        if n > 100: break"
   ]
  },
  {
   "cell_type": "code",
   "execution_count": 124,
   "metadata": {},
   "outputs": [],
   "source": [
    "import pandas as pd\n",
    "import numpy as np\n",
    "import os"
   ]
  },
  {
   "cell_type": "code",
   "execution_count": 125,
   "metadata": {},
   "outputs": [
    {
     "data": {
      "text/plain": [
       "'/Users/sugumaran/Documents/EM-LYON/Data cleaning and Analysis from scratch/Day 1/Victoria Dataset'"
      ]
     },
     "execution_count": 125,
     "metadata": {},
     "output_type": "execute_result"
    }
   ],
   "source": [
    "os.getcwd()"
   ]
  },
  {
   "cell_type": "code",
   "execution_count": 126,
   "metadata": {},
   "outputs": [],
   "source": [
    "data_path = r'/Users/sugumaran/Documents/EM-LYON/Data cleaning and Analysis from scratch/Day 1/Victoria Dataset'"
   ]
  },
  {
   "cell_type": "code",
   "execution_count": 127,
   "metadata": {},
   "outputs": [],
   "source": [
    "os.chdir(data_path)"
   ]
  },
  {
   "cell_type": "code",
   "execution_count": 128,
   "metadata": {},
   "outputs": [
    {
     "data": {
      "text/plain": [
       "'/Users/sugumaran/Documents/EM-LYON/Data cleaning and Analysis from scratch/Day 1/Victoria Dataset'"
      ]
     },
     "execution_count": 128,
     "metadata": {},
     "output_type": "execute_result"
    }
   ],
   "source": [
    "os.getcwd()"
   ]
  },
  {
   "cell_type": "code",
   "execution_count": 129,
   "metadata": {},
   "outputs": [
    {
     "name": "stdout",
     "output_type": "stream",
     "text": [
      "1 product_name,mrp,price,pdp_url,brand_name,product_category,retailer,description,rating,review_count,style_attributes,total_sizes,available_size,color\n",
      "\n",
      "2 Very Sexy Strappy Lace Thong Panty,$14.50 ,$14.50 ,https://www.victoriassecret.com/panties/shop-all-panties/strappy-lace-thong-panty-very-sexy?ProductID=328310&CatalogueType=OLS,Victoria's Secret,Strappy Lace Thong Panty,Victoriassecret US,\"Lots of cheek peek, pretty lace, a strappy back—this sexy panty is so not subtle. Allover lace with front bow V-back with crisscross straps Low rise Minimal back coverage: lots of cheek peek Imported nylon/spandex\",NULL,NULL,NULL,\"[\"\"XS\"\", \"\"S\"\", \"\"M\"\", \"\"L\"\", \"\"XL\"\"]\",S,peach melba\n",
      "\n",
      "3 Very Sexy Strappy Lace Thong Panty,$14.50 ,$14.50 ,https://www.victoriassecret.com/panties/shop-all-panties/strappy-lace-thong-panty-very-sexy?ProductID=328310&CatalogueType=OLS,Victoria's Secret,Strappy Lace Thong Panty,Victoriassecret US,\"Lots of cheek peek, pretty lace, a strappy back—this sexy panty is so not subtle. Allover lace with front bow V-back with crisscross straps Low rise Minimal back coverage: lots of cheek peek Imported nylon/spandex\",NULL,NULL,NULL,\"[\"\"XS\"\", \"\"S\"\", \"\"M\"\", \"\"L\"\", \"\"XL\"\"]\",S,black\n",
      "\n",
      "4 Very Sexy Strappy Lace Thong Panty,$14.50 ,$14.50 ,https://www.victoriassecret.com/panties/shop-all-panties/strappy-lace-thong-panty-very-sexy?ProductID=328310&CatalogueType=OLS,Victoria's Secret,Strappy Lace Thong Panty,Victoriassecret US,\"Lots of cheek peek, pretty lace, a strappy back—this sexy panty is so not subtle. Allover lace with front bow V-back with crisscross straps Low rise Minimal back coverage: lots of cheek peek Imported nylon/spandex\",NULL,NULL,NULL,\"[\"\"XS\"\", \"\"S\"\", \"\"M\"\", \"\"L\"\", \"\"XL\"\"]\",S,plum dust\n",
      "\n",
      "5 Very Sexy Strappy Lace Thong Panty,$14.50 ,$14.50 ,https://www.victoriassecret.com/panties/shop-all-panties/strappy-lace-thong-panty-very-sexy?ProductID=328310&CatalogueType=OLS,Victoria's Secret,Strappy Lace Thong Panty,Victoriassecret US,\"Lots of cheek peek, pretty lace, a strappy back—this sexy panty is so not subtle. Allover lace with front bow V-back with crisscross straps Low rise Minimal back coverage: lots of cheek peek Imported nylon/spandex\",NULL,NULL,NULL,\"[\"\"XS\"\", \"\"S\"\", \"\"M\"\", \"\"L\"\", \"\"XL\"\"]\",S,ensign blue\n",
      "\n"
     ]
    }
   ],
   "source": [
    "with open(filename) as diary_file:\n",
    "    n = 1\n",
    "    for line in diary_file:\n",
    "        print(n, line)\n",
    "        n += 1\n",
    "        if n > 5: break"
   ]
  },
  {
   "cell_type": "markdown",
   "metadata": {
    "hidden": true
   },
   "source": [
    "### Step 2:\n",
    "\n",
    "Save one line for later analysis in one variable"
   ]
  },
  {
   "cell_type": "code",
   "execution_count": 130,
   "metadata": {
    "hidden": true
   },
   "outputs": [],
   "source": [
    "one_line = line"
   ]
  },
  {
   "cell_type": "code",
   "execution_count": 131,
   "metadata": {},
   "outputs": [
    {
     "data": {
      "text/plain": [
       "'Very Sexy Strappy Lace Thong Panty,$14.50 ,$14.50 ,https://www.victoriassecret.com/panties/shop-all-panties/strappy-lace-thong-panty-very-sexy?ProductID=328310&CatalogueType=OLS,Victoria\\'s Secret,Strappy Lace Thong Panty,Victoriassecret US,\"Lots of cheek peek, pretty lace, a strappy back—this sexy panty is so not subtle. Allover lace with front bow V-back with crisscross straps Low rise Minimal back coverage: lots of cheek peek Imported nylon/spandex\",NULL,NULL,NULL,\"[\"\"XS\"\", \"\"S\"\", \"\"M\"\", \"\"L\"\", \"\"XL\"\"]\",S,ensign blue\\n'"
      ]
     },
     "execution_count": 131,
     "metadata": {},
     "output_type": "execute_result"
    }
   ],
   "source": [
    "one_line"
   ]
  },
  {
   "cell_type": "markdown",
   "metadata": {
    "heading_collapsed": true
   },
   "source": [
    "## Experiment with one line to define data preprocessing"
   ]
  },
  {
   "cell_type": "markdown",
   "metadata": {
    "hidden": true
   },
   "source": [
    "### Step 1:\n",
    "Store column names into a list. \n",
    "\n",
    "Return to your previous cell used for the reading of files and extract the head of the file. \n",
    "\n",
    "Then, split the line and put the elements into a list you will create. "
   ]
  },
  {
   "cell_type": "code",
   "execution_count": 132,
   "metadata": {},
   "outputs": [
    {
     "name": "stdout",
     "output_type": "stream",
     "text": [
      "1 product_name,mrp,price,pdp_url,brand_name,product_category,retailer,description,rating,review_count,style_attributes,total_sizes,available_size,color\n",
      "\n"
     ]
    }
   ],
   "source": [
    "#Reading the first(head) line of the file  \n",
    "with open(filename) as diary_file:\n",
    "    n = 1\n",
    "    for line in diary_file:\n",
    "        print(n, line)\n",
    "        n += 1\n",
    "        if n > 1: break"
   ]
  },
  {
   "cell_type": "code",
   "execution_count": 133,
   "metadata": {},
   "outputs": [],
   "source": [
    "col_names = line"
   ]
  },
  {
   "cell_type": "code",
   "execution_count": 134,
   "metadata": {},
   "outputs": [],
   "source": [
    "#Splitting the column names \n",
    "col_names = col_names.split(\",\")"
   ]
  },
  {
   "cell_type": "code",
   "execution_count": 21,
   "metadata": {},
   "outputs": [
    {
     "data": {
      "text/plain": [
       "['product_name',\n",
       " 'mrp',\n",
       " 'price',\n",
       " 'pdp_url',\n",
       " 'brand_name',\n",
       " 'product_category',\n",
       " 'retailer',\n",
       " 'description',\n",
       " 'rating',\n",
       " 'review_count',\n",
       " 'style_attributes',\n",
       " 'total_sizes',\n",
       " 'available_size',\n",
       " 'color\\n']"
      ]
     },
     "execution_count": 21,
     "metadata": {},
     "output_type": "execute_result"
    }
   ],
   "source": [
    "col_names"
   ]
  },
  {
   "cell_type": "code",
   "execution_count": 135,
   "metadata": {},
   "outputs": [],
   "source": [
    "#Removing the \\n from the last column name \n",
    "col_names[-1] = col_names[-1].strip('\\n')"
   ]
  },
  {
   "cell_type": "code",
   "execution_count": 136,
   "metadata": {},
   "outputs": [
    {
     "data": {
      "text/plain": [
       "['product_name',\n",
       " 'mrp',\n",
       " 'price',\n",
       " 'pdp_url',\n",
       " 'brand_name',\n",
       " 'product_category',\n",
       " 'retailer',\n",
       " 'description',\n",
       " 'rating',\n",
       " 'review_count',\n",
       " 'style_attributes',\n",
       " 'total_sizes',\n",
       " 'available_size',\n",
       " 'color']"
      ]
     },
     "execution_count": 136,
     "metadata": {},
     "output_type": "execute_result"
    }
   ],
   "source": [
    "col_names"
   ]
  },
  {
   "cell_type": "code",
   "execution_count": 137,
   "metadata": {},
   "outputs": [
    {
     "data": {
      "text/plain": [
       "['product_name',\n",
       " 'mrp',\n",
       " 'price',\n",
       " 'pdp_url',\n",
       " 'brand_name',\n",
       " 'product_category',\n",
       " 'retailer',\n",
       " 'description',\n",
       " 'rating',\n",
       " 'review_count',\n",
       " 'style_attributes',\n",
       " 'total_sizes',\n",
       " 'available_size',\n",
       " 'color']"
      ]
     },
     "execution_count": 137,
     "metadata": {},
     "output_type": "execute_result"
    }
   ],
   "source": [
    "#Removing spaces in the list of column names\n",
    "col_names = [s.strip() for s in col_names]\n",
    "col_names"
   ]
  },
  {
   "cell_type": "markdown",
   "metadata": {},
   "source": [
    "**Check your list!**\n",
    "Is there an issue with the last element? \n",
    "\n",
    "Apply to your list a specific method to remove additional components. "
   ]
  },
  {
   "cell_type": "markdown",
   "metadata": {
    "hidden": true
   },
   "source": [
    "### Step 2:\n",
    "Now let's work on the saved line\n",
    "\n",
    "- Count the number of elements inside \n",
    "- Create a list with the line (use the specific delimiter you identified)\n",
    "- Clean the last line ! \n",
    "\n",
    "**Use a different cell for each of these steps to see the content at each step.**"
   ]
  },
  {
   "cell_type": "code",
   "execution_count": 138,
   "metadata": {},
   "outputs": [
    {
     "data": {
      "text/plain": [
       "'Very Sexy Strappy Lace Thong Panty,$14.50 ,$14.50 ,https://www.victoriassecret.com/panties/shop-all-panties/strappy-lace-thong-panty-very-sexy?ProductID=328310&CatalogueType=OLS,Victoria\\'s Secret,Strappy Lace Thong Panty,Victoriassecret US,\"Lots of cheek peek, pretty lace, a strappy back—this sexy panty is so not subtle. Allover lace with front bow V-back with crisscross straps Low rise Minimal back coverage: lots of cheek peek Imported nylon/spandex\",NULL,NULL,NULL,\"[\"\"XS\"\", \"\"S\"\", \"\"M\"\", \"\"L\"\", \"\"XL\"\"]\",S,ensign blue\\n'"
      ]
     },
     "execution_count": 138,
     "metadata": {},
     "output_type": "execute_result"
    }
   ],
   "source": [
    "one_line"
   ]
  },
  {
   "cell_type": "code",
   "execution_count": 26,
   "metadata": {},
   "outputs": [
    {
     "data": {
      "text/plain": [
       "525"
      ]
     },
     "execution_count": 26,
     "metadata": {},
     "output_type": "execute_result"
    }
   ],
   "source": [
    "len(one_line)"
   ]
  },
  {
   "cell_type": "code",
   "execution_count": 27,
   "metadata": {},
   "outputs": [
    {
     "data": {
      "text/plain": [
       "str"
      ]
     },
     "execution_count": 27,
     "metadata": {},
     "output_type": "execute_result"
    }
   ],
   "source": [
    "type(one_line)"
   ]
  },
  {
   "cell_type": "code",
   "execution_count": 139,
   "metadata": {},
   "outputs": [],
   "source": [
    "one_line_list = one_line.split(',')"
   ]
  },
  {
   "cell_type": "code",
   "execution_count": 140,
   "metadata": {},
   "outputs": [
    {
     "data": {
      "text/plain": [
       "['Very Sexy Strappy Lace Thong Panty',\n",
       " '$14.50 ',\n",
       " '$14.50 ',\n",
       " 'https://www.victoriassecret.com/panties/shop-all-panties/strappy-lace-thong-panty-very-sexy?ProductID=328310&CatalogueType=OLS',\n",
       " \"Victoria's Secret\",\n",
       " 'Strappy Lace Thong Panty',\n",
       " 'Victoriassecret US',\n",
       " '\"Lots of cheek peek',\n",
       " ' pretty lace',\n",
       " ' a strappy back—this sexy panty is so not subtle. Allover lace with front bow V-back with crisscross straps Low rise Minimal back coverage: lots of cheek peek Imported nylon/spandex\"',\n",
       " 'NULL',\n",
       " 'NULL',\n",
       " 'NULL',\n",
       " '\"[\"\"XS\"\"',\n",
       " ' \"\"S\"\"',\n",
       " ' \"\"M\"\"',\n",
       " ' \"\"L\"\"',\n",
       " ' \"\"XL\"\"]\"',\n",
       " 'S',\n",
       " 'ensign blue\\n']"
      ]
     },
     "execution_count": 140,
     "metadata": {},
     "output_type": "execute_result"
    }
   ],
   "source": [
    "one_line_list"
   ]
  },
  {
   "cell_type": "code",
   "execution_count": 30,
   "metadata": {},
   "outputs": [
    {
     "data": {
      "text/plain": [
       "20"
      ]
     },
     "execution_count": 30,
     "metadata": {},
     "output_type": "execute_result"
    }
   ],
   "source": [
    "len(one_line_list)"
   ]
  },
  {
   "cell_type": "code",
   "execution_count": 31,
   "metadata": {},
   "outputs": [],
   "source": [
    "one_line_list[-1] = one_line_list[-1].strip('\\n')"
   ]
  },
  {
   "cell_type": "code",
   "execution_count": 32,
   "metadata": {},
   "outputs": [
    {
     "data": {
      "text/plain": [
       "['Very Sexy Strappy Lace Thong Panty',\n",
       " '$14.50 ',\n",
       " '$14.50 ',\n",
       " 'https://www.victoriassecret.com/panties/shop-all-panties/strappy-lace-thong-panty-very-sexy?ProductID=328310&CatalogueType=OLS',\n",
       " \"Victoria's Secret\",\n",
       " 'Strappy Lace Thong Panty',\n",
       " 'Victoriassecret US',\n",
       " '\"Lots of cheek peek',\n",
       " ' pretty lace',\n",
       " ' a strappy back—this sexy panty is so not subtle. Allover lace with front bow V-back with crisscross straps Low rise Minimal back coverage: lots of cheek peek Imported nylon/spandex\"',\n",
       " 'NULL',\n",
       " 'NULL',\n",
       " 'NULL',\n",
       " '\"[\"\"XS\"\"',\n",
       " ' \"\"S\"\"',\n",
       " ' \"\"M\"\"',\n",
       " ' \"\"L\"\"',\n",
       " ' \"\"XL\"\"]\"',\n",
       " 'S',\n",
       " 'ensign blue']"
      ]
     },
     "execution_count": 32,
     "metadata": {},
     "output_type": "execute_result"
    }
   ],
   "source": [
    "one_line_list"
   ]
  },
  {
   "cell_type": "markdown",
   "metadata": {
    "hidden": true
   },
   "source": [
    "Clean last string. Create a small function to clean each element of the list."
   ]
  },
  {
   "cell_type": "code",
   "execution_count": 33,
   "metadata": {},
   "outputs": [],
   "source": [
    "def clean_str(x: list ) -> list:\n",
    "    clean_str = [x.strip() for x in col_names]\n",
    "    return clean_str"
   ]
  },
  {
   "cell_type": "code",
   "execution_count": 34,
   "metadata": {},
   "outputs": [
    {
     "data": {
      "text/plain": [
       "['product_name',\n",
       " 'mrp',\n",
       " 'price',\n",
       " 'pdp_url',\n",
       " 'brand_name',\n",
       " 'product_category',\n",
       " 'retailer',\n",
       " 'description',\n",
       " 'rating',\n",
       " 'review_count',\n",
       " 'style_attributes',\n",
       " 'total_sizes',\n",
       " 'available_size',\n",
       " 'color']"
      ]
     },
     "execution_count": 34,
     "metadata": {},
     "output_type": "execute_result"
    }
   ],
   "source": [
    "clean_str(one_line_list)"
   ]
  },
  {
   "cell_type": "code",
   "execution_count": 35,
   "metadata": {},
   "outputs": [
    {
     "data": {
      "text/plain": [
       "['Very Sexy Strappy Lace Thong Panty',\n",
       " '$14.50 ',\n",
       " '$14.50 ',\n",
       " 'https://www.victoriassecret.com/panties/shop-all-panties/strappy-lace-thong-panty-very-sexy?ProductID=328310&CatalogueType=OLS',\n",
       " \"Victoria's Secret\",\n",
       " 'Strappy Lace Thong Panty',\n",
       " 'Victoriassecret US',\n",
       " '\"Lots of cheek peek',\n",
       " ' pretty lace',\n",
       " ' a strappy back—this sexy panty is so not subtle. Allover lace with front bow V-back with crisscross straps Low rise Minimal back coverage: lots of cheek peek Imported nylon/spandex\"',\n",
       " 'NULL',\n",
       " 'NULL',\n",
       " 'NULL',\n",
       " '\"[\"\"XS\"\"',\n",
       " ' \"\"S\"\"',\n",
       " ' \"\"M\"\"',\n",
       " ' \"\"L\"\"',\n",
       " ' \"\"XL\"\"]\"',\n",
       " 'S',\n",
       " 'ensign blue']"
      ]
     },
     "execution_count": 35,
     "metadata": {},
     "output_type": "execute_result"
    }
   ],
   "source": [
    "one_line_list"
   ]
  },
  {
   "cell_type": "code",
   "execution_count": 36,
   "metadata": {},
   "outputs": [],
   "source": [
    "#Function to strip the white space from an element of the given list\n",
    "def clean_last(s):\n",
    "    return s.strip()"
   ]
  },
  {
   "cell_type": "code",
   "execution_count": 37,
   "metadata": {},
   "outputs": [],
   "source": [
    "#Example:\n",
    "#one_list[-1] = clean_last(one_list[-1])"
   ]
  },
  {
   "cell_type": "markdown",
   "metadata": {},
   "source": [
    "### Step 3:\n",
    "\n",
    "**Now:**\n",
    "- Check the variable price. Convert the value to float.\n",
    "- Create a function that takes a variable as argument and converts it into a float if a $ character appears in it, Nan if not. \n"
   ]
  },
  {
   "cell_type": "markdown",
   "metadata": {
    "hidden": true
   },
   "source": [
    "First try to convert prices to numbers with command line on one example."
   ]
  },
  {
   "cell_type": "code",
   "execution_count": 38,
   "metadata": {},
   "outputs": [
    {
     "data": {
      "text/plain": [
       "['Very Sexy Strappy Lace Thong Panty',\n",
       " '$14.50 ',\n",
       " '$14.50 ',\n",
       " 'https://www.victoriassecret.com/panties/shop-all-panties/strappy-lace-thong-panty-very-sexy?ProductID=328310&CatalogueType=OLS',\n",
       " \"Victoria's Secret\",\n",
       " 'Strappy Lace Thong Panty',\n",
       " 'Victoriassecret US',\n",
       " '\"Lots of cheek peek',\n",
       " ' pretty lace',\n",
       " ' a strappy back—this sexy panty is so not subtle. Allover lace with front bow V-back with crisscross straps Low rise Minimal back coverage: lots of cheek peek Imported nylon/spandex\"',\n",
       " 'NULL',\n",
       " 'NULL',\n",
       " 'NULL',\n",
       " '\"[\"\"XS\"\"',\n",
       " ' \"\"S\"\"',\n",
       " ' \"\"M\"\"',\n",
       " ' \"\"L\"\"',\n",
       " ' \"\"XL\"\"]\"',\n",
       " 'S',\n",
       " 'ensign blue']"
      ]
     },
     "execution_count": 38,
     "metadata": {},
     "output_type": "execute_result"
    }
   ],
   "source": [
    "one_line_list"
   ]
  },
  {
   "cell_type": "code",
   "execution_count": 39,
   "metadata": {
    "scrolled": true
   },
   "outputs": [
    {
     "data": {
      "text/plain": [
       "['product_name',\n",
       " 'mrp',\n",
       " 'price',\n",
       " 'pdp_url',\n",
       " 'brand_name',\n",
       " 'product_category',\n",
       " 'retailer',\n",
       " 'description',\n",
       " 'rating',\n",
       " 'review_count',\n",
       " 'style_attributes',\n",
       " 'total_sizes',\n",
       " 'available_size',\n",
       " 'color']"
      ]
     },
     "execution_count": 39,
     "metadata": {},
     "output_type": "execute_result"
    }
   ],
   "source": [
    "col_names"
   ]
  },
  {
   "cell_type": "code",
   "execution_count": 40,
   "metadata": {
    "scrolled": false
   },
   "outputs": [
    {
     "data": {
      "text/plain": [
       "('$14.50 ', str)"
      ]
     },
     "execution_count": 40,
     "metadata": {},
     "output_type": "execute_result"
    }
   ],
   "source": [
    "one_line_list[2], type(one_line_list[2])"
   ]
  },
  {
   "cell_type": "code",
   "execution_count": 41,
   "metadata": {},
   "outputs": [
    {
     "data": {
      "text/plain": [
       "True"
      ]
     },
     "execution_count": 41,
     "metadata": {},
     "output_type": "execute_result"
    }
   ],
   "source": [
    "'$' in one_line_list[2]"
   ]
  },
  {
   "cell_type": "code",
   "execution_count": 42,
   "metadata": {},
   "outputs": [],
   "source": [
    "price_copy = one_line_list[2]"
   ]
  },
  {
   "cell_type": "code",
   "execution_count": 43,
   "metadata": {},
   "outputs": [
    {
     "data": {
      "text/plain": [
       "'$14.50'"
      ]
     },
     "execution_count": 43,
     "metadata": {},
     "output_type": "execute_result"
    }
   ],
   "source": [
    "price_copy.strip()"
   ]
  },
  {
   "cell_type": "code",
   "execution_count": 57,
   "metadata": {},
   "outputs": [],
   "source": [
    "price_copy = price_copy.replace('$','')"
   ]
  },
  {
   "cell_type": "code",
   "execution_count": 58,
   "metadata": {},
   "outputs": [],
   "source": [
    "price_copy = float(price_copy)"
   ]
  },
  {
   "cell_type": "code",
   "execution_count": 59,
   "metadata": {},
   "outputs": [
    {
     "data": {
      "text/plain": [
       "float"
      ]
     },
     "execution_count": 59,
     "metadata": {},
     "output_type": "execute_result"
    }
   ],
   "source": [
    "type(price_copy)"
   ]
  },
  {
   "cell_type": "code",
   "execution_count": 64,
   "metadata": {},
   "outputs": [],
   "source": [
    "def convert_price(price_copy):\n",
    "    if '$' in price_copy:\n",
    "        price_copy = price_copy.strip()\n",
    "        price_copy = price_copy.strip('$')\n",
    "    else:\n",
    "        price_copy = np.nan\n",
    "    return float(price_copy)"
   ]
  },
  {
   "cell_type": "code",
   "execution_count": 65,
   "metadata": {},
   "outputs": [],
   "source": [
    "def con(price):\n",
    "    return (float(price.strip('$') if '$' in price else np.nan))"
   ]
  },
  {
   "cell_type": "code",
   "execution_count": 66,
   "metadata": {},
   "outputs": [],
   "source": [
    "price_copy = one_line_list[2]"
   ]
  },
  {
   "cell_type": "code",
   "execution_count": 67,
   "metadata": {},
   "outputs": [
    {
     "data": {
      "text/plain": [
       "('$14.50 ', str)"
      ]
     },
     "execution_count": 67,
     "metadata": {},
     "output_type": "execute_result"
    }
   ],
   "source": [
    "price_copy, type(price_copy)"
   ]
  },
  {
   "cell_type": "code",
   "execution_count": 68,
   "metadata": {},
   "outputs": [
    {
     "data": {
      "text/plain": [
       "'$14.50 '"
      ]
     },
     "execution_count": 68,
     "metadata": {},
     "output_type": "execute_result"
    }
   ],
   "source": [
    "price_copy"
   ]
  },
  {
   "cell_type": "code",
   "execution_count": 71,
   "metadata": {},
   "outputs": [],
   "source": [
    "price_copy = convert_price(price_copy)"
   ]
  },
  {
   "cell_type": "code",
   "execution_count": 72,
   "metadata": {},
   "outputs": [
    {
     "data": {
      "text/plain": [
       "float"
      ]
     },
     "execution_count": 72,
     "metadata": {},
     "output_type": "execute_result"
    }
   ],
   "source": [
    "type(price_copy)"
   ]
  },
  {
   "cell_type": "markdown",
   "metadata": {},
   "source": [
    "### Step 4:\n",
    "\n",
    "Then we will insert NaNs when value are empty (= ' ')\n",
    "- Identify in which columns we have empty values \n",
    "- Create a function that takes a value and replaces empty values with NaN, and returns the value converted into float if not."
   ]
  },
  {
   "cell_type": "markdown",
   "metadata": {
    "hidden": true
   },
   "source": [
    "Like previously, try to insert NaNs on one example."
   ]
  },
  {
   "cell_type": "code",
   "execution_count": 73,
   "metadata": {},
   "outputs": [
    {
     "data": {
      "text/plain": [
       "['product_name',\n",
       " 'mrp',\n",
       " 'price',\n",
       " 'pdp_url',\n",
       " 'brand_name',\n",
       " 'product_category',\n",
       " 'retailer',\n",
       " 'description',\n",
       " 'rating',\n",
       " 'review_count',\n",
       " 'style_attributes',\n",
       " 'total_sizes',\n",
       " 'available_size',\n",
       " 'color']"
      ]
     },
     "execution_count": 73,
     "metadata": {},
     "output_type": "execute_result"
    }
   ],
   "source": [
    "col_names"
   ]
  },
  {
   "cell_type": "code",
   "execution_count": 74,
   "metadata": {},
   "outputs": [
    {
     "data": {
      "text/plain": [
       "['Very Sexy Strappy Lace Thong Panty',\n",
       " '$14.50 ',\n",
       " '$14.50 ',\n",
       " 'https://www.victoriassecret.com/panties/shop-all-panties/strappy-lace-thong-panty-very-sexy?ProductID=328310&CatalogueType=OLS',\n",
       " \"Victoria's Secret\",\n",
       " 'Strappy Lace Thong Panty',\n",
       " 'Victoriassecret US',\n",
       " '\"Lots of cheek peek',\n",
       " ' pretty lace',\n",
       " ' a strappy back—this sexy panty is so not subtle. Allover lace with front bow V-back with crisscross straps Low rise Minimal back coverage: lots of cheek peek Imported nylon/spandex\"',\n",
       " 'NULL',\n",
       " 'NULL',\n",
       " 'NULL',\n",
       " '\"[\"\"XS\"\"',\n",
       " ' \"\"S\"\"',\n",
       " ' \"\"M\"\"',\n",
       " ' \"\"L\"\"',\n",
       " ' \"\"XL\"\"]\"',\n",
       " 'S',\n",
       " 'ensign blue']"
      ]
     },
     "execution_count": 74,
     "metadata": {},
     "output_type": "execute_result"
    }
   ],
   "source": [
    "one_line_list"
   ]
  },
  {
   "cell_type": "code",
   "execution_count": 105,
   "metadata": {},
   "outputs": [
    {
     "data": {
      "text/plain": [
       "(20, 14)"
      ]
     },
     "execution_count": 105,
     "metadata": {},
     "output_type": "execute_result"
    }
   ],
   "source": [
    "len(one_line_list), len(col_names)"
   ]
  },
  {
   "cell_type": "code",
   "execution_count": 147,
   "metadata": {},
   "outputs": [
    {
     "name": "stdout",
     "output_type": "stream",
     "text": [
      "[]\n"
     ]
    }
   ],
   "source": [
    "list_indices = []\n",
    "\n",
    "for i in range(len(one_line_list)):\n",
    "    if one_line_list[i] == 'NULL':\n",
    "        one_line_list[i] = 'NaN'\n",
    "        list_indices.append(col_names[i])\n",
    "    elif type(one_line_list[i] == str):\n",
    "        one_line_list[i] == one_line_list[i]\n",
    "    else: \n",
    "        one_line_list[i] == float(one_line_list)\n",
    "print(list_indices)\n"
   ]
  },
  {
   "cell_type": "code",
   "execution_count": 143,
   "metadata": {},
   "outputs": [
    {
     "data": {
      "text/plain": [
       "['Very Sexy Strappy Lace Thong Panty',\n",
       " '$14.50 ',\n",
       " '$14.50 ',\n",
       " 'https://www.victoriassecret.com/panties/shop-all-panties/strappy-lace-thong-panty-very-sexy?ProductID=328310&CatalogueType=OLS',\n",
       " \"Victoria's Secret\",\n",
       " 'Strappy Lace Thong Panty',\n",
       " 'Victoriassecret US',\n",
       " '\"Lots of cheek peek',\n",
       " ' pretty lace',\n",
       " ' a strappy back—this sexy panty is so not subtle. Allover lace with front bow V-back with crisscross straps Low rise Minimal back coverage: lots of cheek peek Imported nylon/spandex\"',\n",
       " 'NaN',\n",
       " 'NaN',\n",
       " 'NaN',\n",
       " '\"[\"\"XS\"\"',\n",
       " ' \"\"S\"\"',\n",
       " ' \"\"M\"\"',\n",
       " ' \"\"L\"\"',\n",
       " ' \"\"XL\"\"]\"',\n",
       " 'S',\n",
       " 'ensign blue\\n']"
      ]
     },
     "execution_count": 143,
     "metadata": {},
     "output_type": "execute_result"
    }
   ],
   "source": [
    "one_line_list"
   ]
  },
  {
   "cell_type": "code",
   "execution_count": 146,
   "metadata": {},
   "outputs": [
    {
     "data": {
      "text/plain": [
       "('$14.50 ', str)"
      ]
     },
     "execution_count": 146,
     "metadata": {},
     "output_type": "execute_result"
    }
   ],
   "source": [
    "one_line_list[2], type(one_line_list[2])"
   ]
  },
  {
   "cell_type": "code",
   "execution_count": 157,
   "metadata": {},
   "outputs": [],
   "source": [
    "\n",
    "def replace_nan(one_line_list):\n",
    "    list_indices=[]\n",
    "    for i in range(len(one_line_list)):\n",
    "        if one_line_list[i] == \"NULL\":\n",
    "            list_indices.append(i)\n",
    "            one_line_list[i] == \"NaN\"\n",
    "        elif type(one_line_list) != str :\n",
    "            pass\n",
    "        else:\n",
    "            one_line_list[i] == float(one_line_list[i])\n",
    "    return one_line_list"
   ]
  },
  {
   "cell_type": "code",
   "execution_count": 158,
   "metadata": {},
   "outputs": [
    {
     "data": {
      "text/plain": [
       "['Very Sexy Strappy Lace Thong Panty',\n",
       " '$14.50 ',\n",
       " '$14.50 ',\n",
       " 'https://www.victoriassecret.com/panties/shop-all-panties/strappy-lace-thong-panty-very-sexy?ProductID=328310&CatalogueType=OLS',\n",
       " \"Victoria's Secret\",\n",
       " 'Strappy Lace Thong Panty',\n",
       " 'Victoriassecret US',\n",
       " '\"Lots of cheek peek',\n",
       " ' pretty lace',\n",
       " ' a strappy back—this sexy panty is so not subtle. Allover lace with front bow V-back with crisscross straps Low rise Minimal back coverage: lots of cheek peek Imported nylon/spandex\"',\n",
       " 'NaN',\n",
       " 'NaN',\n",
       " 'NaN',\n",
       " '\"[\"\"XS\"\"',\n",
       " ' \"\"S\"\"',\n",
       " ' \"\"M\"\"',\n",
       " ' \"\"L\"\"',\n",
       " ' \"\"XL\"\"]\"',\n",
       " 'S',\n",
       " 'ensign blue\\n']"
      ]
     },
     "execution_count": 158,
     "metadata": {},
     "output_type": "execute_result"
    }
   ],
   "source": [
    "one_line_list"
   ]
  },
  {
   "cell_type": "code",
   "execution_count": 159,
   "metadata": {},
   "outputs": [
    {
     "data": {
      "text/plain": [
       "['Very Sexy Strappy Lace Thong Panty',\n",
       " '$14.50 ',\n",
       " '$14.50 ',\n",
       " 'https://www.victoriassecret.com/panties/shop-all-panties/strappy-lace-thong-panty-very-sexy?ProductID=328310&CatalogueType=OLS',\n",
       " \"Victoria's Secret\",\n",
       " 'Strappy Lace Thong Panty',\n",
       " 'Victoriassecret US',\n",
       " '\"Lots of cheek peek',\n",
       " ' pretty lace',\n",
       " ' a strappy back—this sexy panty is so not subtle. Allover lace with front bow V-back with crisscross straps Low rise Minimal back coverage: lots of cheek peek Imported nylon/spandex\"',\n",
       " 'NaN',\n",
       " 'NaN',\n",
       " 'NaN',\n",
       " '\"[\"\"XS\"\"',\n",
       " ' \"\"S\"\"',\n",
       " ' \"\"M\"\"',\n",
       " ' \"\"L\"\"',\n",
       " ' \"\"XL\"\"]\"',\n",
       " 'S',\n",
       " 'ensign blue\\n']"
      ]
     },
     "execution_count": 159,
     "metadata": {},
     "output_type": "execute_result"
    }
   ],
   "source": [
    "replace_nan(one_line_list)"
   ]
  },
  {
   "cell_type": "code",
   "execution_count": 160,
   "metadata": {},
   "outputs": [
    {
     "data": {
      "text/plain": [
       "('$14.50 ', str)"
      ]
     },
     "execution_count": 160,
     "metadata": {},
     "output_type": "execute_result"
    }
   ],
   "source": [
    "one_line_list[2], type(one_line_list[2])"
   ]
  },
  {
   "cell_type": "markdown",
   "metadata": {},
   "source": [
    "And then create a function to do so"
   ]
  },
  {
   "cell_type": "code",
   "execution_count": null,
   "metadata": {},
   "outputs": [],
   "source": [
    "# Solution\n",
    "# replace empty values by \"nan\" otherwise into a float\n",
    "\n",
    "def repl_nan(1_value):\n",
    "    if 1_value == '':\n",
    "        value = np.nan\n",
    "    else:\n",
    "        value = 1_value\n",
    "    return float(value)\n"
   ]
  },
  {
   "cell_type": "code",
   "execution_count": null,
   "metadata": {},
   "outputs": [],
   "source": [
    "# replacing empty values by 'nan' otherwise into a float - shorter implementation\n",
    "def repl_nan(1_value):\n",
    "    return (np.nan if 1_value='' else float(1_value)) "
   ]
  },
  {
   "cell_type": "code",
   "execution_count": null,
   "metadata": {},
   "outputs": [],
   "source": [
    "# applying it on three columns\n",
    "for value in line_list[8:11]\n",
    "print(repl_nan(value))"
   ]
  },
  {
   "cell_type": "markdown",
   "metadata": {
    "hidden": true
   },
   "source": [
    "### Step 5:\n",
    "\n",
    "- Convert string of sizes into lists (remove all useless elements)\n",
    "First check with one example from your saved line\n",
    "\n",
    "- Create a function that takes one value from sizes in the line and converts it into a list of the elements"
   ]
  },
  {
   "cell_type": "code",
   "execution_count": null,
   "metadata": {},
   "outputs": [],
   "source": [
    "# transformin size variables into a list or size in string\n",
    "def con_size(1_string):\n",
    "    import regex as re\n",
    "    i_size = 1_string.split(',')\n",
    "    return [re.sub('[^A-Z0-9]','', size) for size in 1_size]"
   ]
  },
  {
   "cell_type": "code",
   "execution_count": null,
   "metadata": {},
   "outputs": [],
   "source": [
    "# applying it on total_sizes variable\n",
    "conv_size(line_list[-3])"
   ]
  },
  {
   "cell_type": "markdown",
   "metadata": {
    "hidden": true
   },
   "source": [
    "### Step 6:\n",
    "\n",
    "**Almost done!** \n",
    "- Create a function that uses all the previous defined function to clean and convert a raw argument which is a list. Take one argument as a list. Return a cleaned list.\n",
    "\n",
    "In another cell, apply this function to the saved line "
   ]
  },
  {
   "cell_type": "code",
   "execution_count": null,
   "metadata": {},
   "outputs": [],
   "source": [
    "# a[synthetic preprocessing function]\n",
    "def preproc(line_list):\n",
    "    ''' replaces all non $ prices (columns 1 &2) into nan's\n",
    "        replaces all empty values (columns 8-10) into nan\n",
    "        converts total size values into size list\n",
    "        removes the '\\n' character at the end of each row'''\n",
    "        \n",
    "        line_list[1:3] = [conv_price(value) for value in line_list[1:3]]\n",
    "        line_list[8:11] = [repl_nan(value) for value in line_list[8:11]]\n",
    "        line_list[-3] = conv_size(line_list[-3])\n",
    "        line_list[-1] = clean_last(line_list[-1])\n",
    "        return line_list"
   ]
  },
  {
   "cell_type": "code",
   "execution_count": null,
   "metadata": {},
   "outputs": [],
   "source": [
    "preproc(liste)"
   ]
  },
  {
   "cell_type": "markdown",
   "metadata": {},
   "source": [
    "-----"
   ]
  },
  {
   "cell_type": "markdown",
   "metadata": {},
   "source": [
    "# II. Data loading & manipulation "
   ]
  },
  {
   "cell_type": "markdown",
   "metadata": {
    "heading_collapsed": true
   },
   "source": [
    "## load full data and process it"
   ]
  },
  {
   "cell_type": "markdown",
   "metadata": {
    "hidden": true
   },
   "source": [
    "### Step 1: \n",
    "\n",
    "**Loading full data**\n",
    "\n",
    "Let's return to the `victoria.csv` dataset file from the beginning, and containing all data. \n"
   ]
  },
  {
   "cell_type": "markdown",
   "metadata": {},
   "source": [
    "Let's create a dictionary containing all the lines from the csv file. The keys of this dictionary should be indexes which should start with 0\n",
    "\n",
    "Be careful of the first line which contains the column titles. You store this one with a key index \"columns\"."
   ]
  },
  {
   "cell_type": "code",
   "execution_count": 55,
   "metadata": {
    "hidden": true
   },
   "outputs": [],
   "source": [
    "df_raw = dict()"
   ]
  },
  {
   "cell_type": "markdown",
   "metadata": {},
   "source": [
    "Check the length of the dictionary. It should contain 453387 elements."
   ]
  },
  {
   "cell_type": "markdown",
   "metadata": {},
   "source": [
    "Let's have a look at one specific element. Here the element 90000."
   ]
  },
  {
   "cell_type": "code",
   "execution_count": 59,
   "metadata": {
    "hidden": true,
    "scrolled": true
   },
   "outputs": [
    {
     "data": {
      "text/plain": [
       "['Victoria Sport NEW! Incredible by Victoria Sport Front-close Sport Bra',\n",
       " '$36.50 ',\n",
       " '$36.50 ',\n",
       " 'https://www.victoriassecret.com/victorias-secret-sport/shop-all/incredible-by-victoria-sport-front-close-sport-bra-victoria-sport?ProductID=336653&CatalogueType=OLS',\n",
       " \"Victoria's Secret\",\n",
       " 'Incredible by Victoria Sport Front-close Sport Bra',\n",
       " 'Victoriassecret US',\n",
       " 'Game-changer: your favorite maximum-support sport bra meets a zip-front for easy on and off, with a flexible underwire you can’t feel and fully adjustable straps, all in stay-cool Body-Wick fabric. Details Maximum support Breathable padding with wicking liner to keep you extra dry Flexible underwire for maximum comfort Fully adjustable straps Bonded, seamless technology that eliminates irritation Supersoft elastic band for comfort & movement Locking zip-front with inside hook-&-eye closure \\xa0 Performance & Fabric Perfect for running, boxing and cardio Body-Wick keeps you cool & dry Machine wash. Tumble dry. Imported. Body: nylon/LYCRA®spandex. Mesh: polyester/spandex.',\n",
       " '',\n",
       " '',\n",
       " '',\n",
       " '\"[\"\"32A\"\", \"\"32B\"\", \"\"32C\"\", \"\"32D\"\", \"\"32DD\"\", \"\"32DDD\"\", \"\"34A\"\", \"\"34B\"\", \"\"34C\"\", \"\"34D\"\", \"\"34DD\"\", \"\"34DDD\"\", \"\"36A\"\", \"\"36B\"\", \"\"36C\"\", \"\"36D\"\", \"\"36DD\"\", \"\"36DDD\"\", \"\"38A\"\", \"\"38B\"\", \"\"38C\"\", \"\"38D\"\", \"\"38DD\"\", \"\"38DDD\"\", \"\"40A\"\", \"\"40B\"\", \"\"40C\"\", \"\"40D\"\", \"\"40DD\"\", \"\"40DDD\"\"]\"',\n",
       " '34D',\n",
       " 'Black\\n']"
      ]
     },
     "execution_count": 59,
     "metadata": {},
     "output_type": "execute_result"
    }
   ],
   "source": [
    "df_raw[90000]"
   ]
  },
  {
   "cell_type": "markdown",
   "metadata": {},
   "source": [
    "Also, check the `columns` index values"
   ]
  },
  {
   "cell_type": "markdown",
   "metadata": {
    "hidden": true
   },
   "source": [
    "### Step 2: \n",
    "\n",
    "Clean and convert rows of your dictionary by applying your previous \"preprocessing\" function (see step 6 from previous section).\n",
    "\n",
    "Maybe (probably ;)) this not going to work correctly the first time. Check for errors and see which cases you forgot to take into account. \n",
    "You might have to create a new dictionary (df_proc for processed dictionary) to have a cleaned df_raw to use."
   ]
  },
  {
   "cell_type": "code",
   "execution_count": null,
   "metadata": {},
   "outputs": [],
   "source": []
  },
  {
   "cell_type": "markdown",
   "metadata": {},
   "source": [
    "Verify that for the element 393544, non USD prices have been replace by nan."
   ]
  },
  {
   "cell_type": "code",
   "execution_count": null,
   "metadata": {},
   "outputs": [],
   "source": []
  },
  {
   "cell_type": "markdown",
   "metadata": {
    "hidden": true
   },
   "source": [
    "Check rows with non USD currencies:\n",
    "- Count how many you have \n",
    "- and drop them \n",
    "\n",
    "The objective is to have a dictionary cleaned without those lines / raws"
   ]
  },
  {
   "cell_type": "code",
   "execution_count": null,
   "metadata": {},
   "outputs": [],
   "source": []
  },
  {
   "cell_type": "code",
   "execution_count": null,
   "metadata": {},
   "outputs": [],
   "source": []
  },
  {
   "cell_type": "code",
   "execution_count": 99,
   "metadata": {
    "hidden": true
   },
   "outputs": [],
   "source": [
    "# Verify the length of your dictionary\n",
    "# If no output, this means that the lenght of your df_proc is correct\n",
    "assert len(df_proc) + 506 == 453386"
   ]
  },
  {
   "cell_type": "markdown",
   "metadata": {
    "heading_collapsed": true
   },
   "source": [
    "### Step 3: \n",
    "\n",
    "Compute min/max, means, stdev, medians, and quartiles of numerical columns in two ways\n",
    "- with numpy\n",
    "- with your own custom function"
   ]
  },
  {
   "cell_type": "code",
   "execution_count": 88,
   "metadata": {
    "hidden": true,
    "scrolled": false
   },
   "outputs": [
    {
     "data": {
      "text/plain": [
       "['product_name',\n",
       " 'mrp',\n",
       " 'price',\n",
       " 'pdp_url',\n",
       " 'brand_name',\n",
       " 'product_category',\n",
       " 'retailer',\n",
       " 'description',\n",
       " 'rating',\n",
       " 'review_count',\n",
       " 'style_attributes',\n",
       " 'total_sizes',\n",
       " 'available_size',\n",
       " 'color']"
      ]
     },
     "execution_count": 88,
     "metadata": {},
     "output_type": "execute_result"
    }
   ],
   "source": [
    "columns"
   ]
  },
  {
   "cell_type": "code",
   "execution_count": 2,
   "metadata": {},
   "outputs": [],
   "source": [
    "import math"
   ]
  },
  {
   "cell_type": "code",
   "execution_count": null,
   "metadata": {},
   "outputs": [],
   "source": [
    "# check for missing or incorrectly converted values\n"
   ]
  },
  {
   "cell_type": "code",
   "execution_count": null,
   "metadata": {},
   "outputs": [],
   "source": []
  },
  {
   "cell_type": "code",
   "execution_count": null,
   "metadata": {},
   "outputs": [],
   "source": []
  },
  {
   "cell_type": "code",
   "execution_count": null,
   "metadata": {},
   "outputs": [],
   "source": []
  },
  {
   "cell_type": "markdown",
   "metadata": {},
   "source": [
    "----------"
   ]
  },
  {
   "cell_type": "markdown",
   "metadata": {},
   "source": [
    "----------"
   ]
  },
  {
   "cell_type": "markdown",
   "metadata": {},
   "source": [
    "# III. Factorisation\n"
   ]
  },
  {
   "cell_type": "markdown",
   "metadata": {},
   "source": [
    "## Step 1:\n",
    "\n",
    "### Refactor statistics\n",
    "\n",
    "Create functions for each calculations done previously: \n",
    "- Extract the numerical columns\n",
    "- Calculate the median, the first and third quartiles (q1 and q3) and the interquartile interval (iqr = q3 - q1)\n",
    "- Calculate the mean (average) and the standard deviation\n",
    "- Compile all in one function to be called to compute a complete summary statistics for quantitative data : min, max, q1, q3, iqr, med, mean, standard deviation"
   ]
  },
  {
   "cell_type": "code",
   "execution_count": null,
   "metadata": {},
   "outputs": [],
   "source": []
  },
  {
   "cell_type": "markdown",
   "metadata": {},
   "source": [
    "Call the previous function\n",
    "and add some comments"
   ]
  },
  {
   "cell_type": "code",
   "execution_count": null,
   "metadata": {},
   "outputs": [],
   "source": []
  },
  {
   "cell_type": "markdown",
   "metadata": {},
   "source": [
    "Create a function which contains what you setup above. \n",
    "\n",
    "Your function will take one argument which is the column name from which you want to calculate \n",
    "the previous statistics.\n",
    "\n",
    "Alternatively, you may create a function providing a nice descriptive statistics of a given column in a given data frame (dictionary)"
   ]
  },
  {
   "cell_type": "code",
   "execution_count": null,
   "metadata": {},
   "outputs": [],
   "source": []
  },
  {
   "cell_type": "markdown",
   "metadata": {},
   "source": [
    "Test your function with some columns"
   ]
  },
  {
   "cell_type": "code",
   "execution_count": null,
   "metadata": {},
   "outputs": [],
   "source": []
  },
  {
   "cell_type": "code",
   "execution_count": null,
   "metadata": {},
   "outputs": [],
   "source": []
  },
  {
   "cell_type": "code",
   "execution_count": null,
   "metadata": {},
   "outputs": [],
   "source": []
  },
  {
   "cell_type": "code",
   "execution_count": null,
   "metadata": {},
   "outputs": [],
   "source": []
  },
  {
   "cell_type": "code",
   "execution_count": null,
   "metadata": {},
   "outputs": [],
   "source": []
  },
  {
   "cell_type": "code",
   "execution_count": null,
   "metadata": {},
   "outputs": [],
   "source": []
  },
  {
   "cell_type": "markdown",
   "metadata": {},
   "source": [
    "## Step 2: \n",
    "### Replace missing values"
   ]
  },
  {
   "cell_type": "markdown",
   "metadata": {},
   "source": [
    "We left out 506 raws, where `product_price` or `mrp` was not in USD currency.\n",
    "\n",
    "Also, all values in `style_attributes` column, and 315380 values in `review_count` column are missing.\n",
    "\n",
    "We can replace missing values by a chosen fixed value or by an estimated value. <br>\n",
    "We may add an \"inplace\" argument thus that if it is true, it will replace the missing values directly in the dataframe. <br>\n",
    "Otherwise, it will just output the imputed column.\n",
    "\n",
    "**Note:**\n",
    "We can pass a function as an argument"
   ]
  },
  {
   "cell_type": "code",
   "execution_count": null,
   "metadata": {},
   "outputs": [],
   "source": []
  },
  {
   "cell_type": "code",
   "execution_count": null,
   "metadata": {},
   "outputs": [],
   "source": []
  },
  {
   "cell_type": "code",
   "execution_count": null,
   "metadata": {},
   "outputs": [],
   "source": []
  },
  {
   "cell_type": "code",
   "execution_count": null,
   "metadata": {},
   "outputs": [],
   "source": []
  },
  {
   "cell_type": "code",
   "execution_count": null,
   "metadata": {},
   "outputs": [],
   "source": []
  },
  {
   "cell_type": "markdown",
   "metadata": {},
   "source": [
    "Now we replace non-USD `mrp` and `price` by medians (get back to df_raw since we dropped the rows)"
   ]
  },
  {
   "cell_type": "code",
   "execution_count": null,
   "metadata": {},
   "outputs": [],
   "source": []
  },
  {
   "cell_type": "code",
   "execution_count": null,
   "metadata": {},
   "outputs": [],
   "source": []
  },
  {
   "cell_type": "code",
   "execution_count": null,
   "metadata": {},
   "outputs": [],
   "source": []
  },
  {
   "cell_type": "markdown",
   "metadata": {},
   "source": [
    "## Step 3: \n",
    "### Compute value_counts of categorical columns\n",
    "\n",
    "Test with your df_proc where product names are and how to access them.\n",
    "\n",
    "Then you can use the Counter module from Collections."
   ]
  },
  {
   "cell_type": "code",
   "execution_count": null,
   "metadata": {},
   "outputs": [],
   "source": []
  },
  {
   "cell_type": "code",
   "execution_count": null,
   "metadata": {},
   "outputs": [],
   "source": []
  },
  {
   "cell_type": "code",
   "execution_count": null,
   "metadata": {},
   "outputs": [],
   "source": []
  },
  {
   "cell_type": "markdown",
   "metadata": {},
   "source": [
    "Compile all that into one or two functions. Test your function by calling it.\n",
    "\n",
    "Choose to have 2 arguments: \n",
    "- the column name,\n",
    "- the number of items to count (regarding the most commun items)"
   ]
  },
  {
   "cell_type": "code",
   "execution_count": null,
   "metadata": {},
   "outputs": [],
   "source": []
  },
  {
   "cell_type": "code",
   "execution_count": null,
   "metadata": {},
   "outputs": [],
   "source": []
  },
  {
   "cell_type": "markdown",
   "metadata": {},
   "source": [
    "-----"
   ]
  },
  {
   "cell_type": "markdown",
   "metadata": {},
   "source": [
    "-----"
   ]
  },
  {
   "cell_type": "markdown",
   "metadata": {},
   "source": [
    "# IV. Data lookup"
   ]
  },
  {
   "cell_type": "markdown",
   "metadata": {},
   "source": [
    "**The purpose of data science is to answer questions you ask yourself. This is where we go from now.**\n",
    "\n",
    "Using all the previous functions you have created, answer the different following questions. "
   ]
  },
  {
   "cell_type": "markdown",
   "metadata": {},
   "source": [
    "**Question 1:**\n",
    "\n",
    "Which product has the highest price? what are the indices of corresponding rows in `df_proc` and corresponding products?"
   ]
  },
  {
   "cell_type": "code",
   "execution_count": null,
   "metadata": {},
   "outputs": [],
   "source": []
  },
  {
   "cell_type": "code",
   "execution_count": null,
   "metadata": {},
   "outputs": [],
   "source": []
  },
  {
   "cell_type": "markdown",
   "metadata": {},
   "source": [
    "**Question 2:**\n",
    "\n",
    "What are the cheapest products with size 38A?\n"
   ]
  },
  {
   "cell_type": "code",
   "execution_count": null,
   "metadata": {},
   "outputs": [],
   "source": []
  },
  {
   "cell_type": "code",
   "execution_count": null,
   "metadata": {},
   "outputs": [],
   "source": []
  },
  {
   "cell_type": "markdown",
   "metadata": {},
   "source": [
    "**Question 3:**\n",
    "\n",
    "What are the cheapest products with available size 38A?"
   ]
  },
  {
   "cell_type": "code",
   "execution_count": null,
   "metadata": {},
   "outputs": [],
   "source": []
  },
  {
   "cell_type": "code",
   "execution_count": null,
   "metadata": {},
   "outputs": [],
   "source": []
  },
  {
   "cell_type": "markdown",
   "metadata": {},
   "source": [
    "**Question 4:**\n",
    "\n",
    "What are the cheapest 'sport bras' available in size 30?"
   ]
  },
  {
   "cell_type": "code",
   "execution_count": null,
   "metadata": {},
   "outputs": [],
   "source": []
  },
  {
   "cell_type": "code",
   "execution_count": null,
   "metadata": {},
   "outputs": [],
   "source": []
  },
  {
   "cell_type": "markdown",
   "metadata": {},
   "source": [
    "**Question 5:**\n",
    "\n",
    "What is the most expensive belt? and in which color is it available?"
   ]
  },
  {
   "cell_type": "code",
   "execution_count": null,
   "metadata": {},
   "outputs": [],
   "source": []
  },
  {
   "cell_type": "code",
   "execution_count": null,
   "metadata": {},
   "outputs": [],
   "source": []
  }
 ],
 "metadata": {
  "celltoolbar": "Create Assignment",
  "kernelspec": {
   "display_name": "Python 3 (ipykernel)",
   "language": "python",
   "name": "python3"
  },
  "language_info": {
   "codemirror_mode": {
    "name": "ipython",
    "version": 3
   },
   "file_extension": ".py",
   "mimetype": "text/x-python",
   "name": "python",
   "nbconvert_exporter": "python",
   "pygments_lexer": "ipython3",
   "version": "3.9.13"
  }
 },
 "nbformat": 4,
 "nbformat_minor": 4
}
