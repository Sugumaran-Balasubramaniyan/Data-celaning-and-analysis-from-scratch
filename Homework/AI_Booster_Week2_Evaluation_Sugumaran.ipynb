{
 "cells": [
  {
   "cell_type": "markdown",
   "metadata": {},
   "source": [
    "# <span style=\"color:red\"> AI Booster Week 2 Evaluation </span>\n",
    "\n",
    "### Complete this notebook according to the following requirements :\n",
    "\n",
    "1. Fill-in the blanks by answering the questions\n",
    "2. Comment clearly on each of your answer\n",
    "3. Make sure your notebook is functioning as we will run it from beginning to end and each error will be penalized"
   ]
  },
  {
   "cell_type": "markdown",
   "metadata": {},
   "source": [
    "-------------------------------------------------------------------------------------------"
   ]
  },
  {
   "cell_type": "code",
   "execution_count": 1,
   "metadata": {
    "ExecuteTime": {
     "end_time": "2022-10-09T11:26:11.787995Z",
     "start_time": "2022-10-09T11:26:06.890172Z"
    }
   },
   "outputs": [],
   "source": [
    "#importing pandas, numpy, zipfile and os libraries\n",
    "\n",
    "import pandas as pd\n",
    "import numpy as np\n",
    "import matplotlib.pyplot as plt\n",
    "import zipfile\n",
    "import os"
   ]
  },
  {
   "cell_type": "markdown",
   "metadata": {},
   "source": [
    "## import and unzip data files"
   ]
  },
  {
   "cell_type": "markdown",
   "metadata": {},
   "source": [
    "Download the datasets from : https://github.com/jaotombo/data_science_from_scratch/tree/main/data"
   ]
  },
  {
   "cell_type": "markdown",
   "metadata": {
    "heading_collapsed": true
   },
   "source": [
    "### I. Load data into pandas dataframe"
   ]
  },
  {
   "cell_type": "markdown",
   "metadata": {},
   "source": [
    "Here, use the **read_csv method** to load data into pandas dataframe. \n",
    "\n",
    "Look how it is similar to what we did when using methods for the DataFrame class.\n",
    "\n",
    "**Note:** Have a look at the pandas doc to understand the read_csv syntax"
   ]
  },
  {
   "cell_type": "markdown",
   "metadata": {},
   "source": [
    "#### Start by readind the `victoria.csv` dataset and call it `df`"
   ]
  },
  {
   "cell_type": "code",
   "execution_count": 2,
   "metadata": {
    "ExecuteTime": {
     "end_time": "2022-10-09T11:26:11.807922Z",
     "start_time": "2022-10-09T11:26:11.791550Z"
    }
   },
   "outputs": [],
   "source": [
    "## Your code here ##"
   ]
  },
  {
   "cell_type": "code",
   "execution_count": 3,
   "metadata": {
    "ExecuteTime": {
     "end_time": "2022-10-09T11:26:16.364226Z",
     "start_time": "2022-10-09T11:26:11.816050Z"
    }
   },
   "outputs": [],
   "source": [
    "# loading the dataset to 'df' using read_csv method from pandas  \n",
    "# using arguments 'utf-8' for encoding, '*' as delimiter and '0' for header since 1st line of dataset has column names \n",
    "\n",
    "df = pd.read_csv('victoria.csv', encoding='utf-8', header = 0, sep = '*')"
   ]
  },
  {
   "cell_type": "code",
   "execution_count": 4,
   "metadata": {
    "ExecuteTime": {
     "end_time": "2022-10-09T11:26:16.420587Z",
     "start_time": "2022-10-09T11:26:16.368604Z"
    }
   },
   "outputs": [
    {
     "data": {
      "text/html": [
       "<div>\n",
       "<style scoped>\n",
       "    .dataframe tbody tr th:only-of-type {\n",
       "        vertical-align: middle;\n",
       "    }\n",
       "\n",
       "    .dataframe tbody tr th {\n",
       "        vertical-align: top;\n",
       "    }\n",
       "\n",
       "    .dataframe thead th {\n",
       "        text-align: right;\n",
       "    }\n",
       "</style>\n",
       "<table border=\"1\" class=\"dataframe\">\n",
       "  <thead>\n",
       "    <tr style=\"text-align: right;\">\n",
       "      <th></th>\n",
       "      <th>product_name</th>\n",
       "      <th>mrp</th>\n",
       "      <th>price</th>\n",
       "      <th>pdp_url</th>\n",
       "      <th>brand_name</th>\n",
       "      <th>product_category</th>\n",
       "      <th>retailer</th>\n",
       "      <th>description</th>\n",
       "      <th>rating</th>\n",
       "      <th>review_count</th>\n",
       "      <th>style_attributes</th>\n",
       "      <th>total_sizes</th>\n",
       "      <th>available_size</th>\n",
       "      <th>color</th>\n",
       "    </tr>\n",
       "  </thead>\n",
       "  <tbody>\n",
       "    <tr>\n",
       "      <th>0</th>\n",
       "      <td>Very Sexy Strappy Lace Thong Panty</td>\n",
       "      <td>$14.50</td>\n",
       "      <td>$14.50</td>\n",
       "      <td>https://www.victoriassecret.com/panties/shop-a...</td>\n",
       "      <td>Victoria's Secret</td>\n",
       "      <td>Strappy Lace Thong Panty</td>\n",
       "      <td>Victoriassecret US</td>\n",
       "      <td>Lots of cheek peek, pretty lace, a strappy bac...</td>\n",
       "      <td>NaN</td>\n",
       "      <td>NaN</td>\n",
       "      <td>NaN</td>\n",
       "      <td>[\"XS\", \"S\", \"M\", \"L\", \"XL\"]</td>\n",
       "      <td>S</td>\n",
       "      <td>peach melba</td>\n",
       "    </tr>\n",
       "    <tr>\n",
       "      <th>1</th>\n",
       "      <td>Very Sexy Strappy Lace Thong Panty</td>\n",
       "      <td>$14.50</td>\n",
       "      <td>$14.50</td>\n",
       "      <td>https://www.victoriassecret.com/panties/shop-a...</td>\n",
       "      <td>Victoria's Secret</td>\n",
       "      <td>Strappy Lace Thong Panty</td>\n",
       "      <td>Victoriassecret US</td>\n",
       "      <td>Lots of cheek peek, pretty lace, a strappy bac...</td>\n",
       "      <td>NaN</td>\n",
       "      <td>NaN</td>\n",
       "      <td>NaN</td>\n",
       "      <td>[\"XS\", \"S\", \"M\", \"L\", \"XL\"]</td>\n",
       "      <td>S</td>\n",
       "      <td>black</td>\n",
       "    </tr>\n",
       "    <tr>\n",
       "      <th>2</th>\n",
       "      <td>Very Sexy Strappy Lace Thong Panty</td>\n",
       "      <td>$14.50</td>\n",
       "      <td>$14.50</td>\n",
       "      <td>https://www.victoriassecret.com/panties/shop-a...</td>\n",
       "      <td>Victoria's Secret</td>\n",
       "      <td>Strappy Lace Thong Panty</td>\n",
       "      <td>Victoriassecret US</td>\n",
       "      <td>Lots of cheek peek, pretty lace, a strappy bac...</td>\n",
       "      <td>NaN</td>\n",
       "      <td>NaN</td>\n",
       "      <td>NaN</td>\n",
       "      <td>[\"XS\", \"S\", \"M\", \"L\", \"XL\"]</td>\n",
       "      <td>S</td>\n",
       "      <td>plum dust</td>\n",
       "    </tr>\n",
       "    <tr>\n",
       "      <th>3</th>\n",
       "      <td>Very Sexy Strappy Lace Thong Panty</td>\n",
       "      <td>$14.50</td>\n",
       "      <td>$14.50</td>\n",
       "      <td>https://www.victoriassecret.com/panties/shop-a...</td>\n",
       "      <td>Victoria's Secret</td>\n",
       "      <td>Strappy Lace Thong Panty</td>\n",
       "      <td>Victoriassecret US</td>\n",
       "      <td>Lots of cheek peek, pretty lace, a strappy bac...</td>\n",
       "      <td>NaN</td>\n",
       "      <td>NaN</td>\n",
       "      <td>NaN</td>\n",
       "      <td>[\"XS\", \"S\", \"M\", \"L\", \"XL\"]</td>\n",
       "      <td>S</td>\n",
       "      <td>ensign blue</td>\n",
       "    </tr>\n",
       "    <tr>\n",
       "      <th>4</th>\n",
       "      <td>Very Sexy Strappy Lace Thong Panty</td>\n",
       "      <td>$14.50</td>\n",
       "      <td>$14.50</td>\n",
       "      <td>https://www.victoriassecret.com/panties/shop-a...</td>\n",
       "      <td>Victoria's Secret</td>\n",
       "      <td>Strappy Lace Thong Panty</td>\n",
       "      <td>Victoriassecret US</td>\n",
       "      <td>Lots of cheek peek, pretty lace, a strappy bac...</td>\n",
       "      <td>NaN</td>\n",
       "      <td>NaN</td>\n",
       "      <td>NaN</td>\n",
       "      <td>[\"XS\", \"S\", \"M\", \"L\", \"XL\"]</td>\n",
       "      <td>S</td>\n",
       "      <td>fair orchid</td>\n",
       "    </tr>\n",
       "  </tbody>\n",
       "</table>\n",
       "</div>"
      ],
      "text/plain": [
       "                         product_name      mrp    price  \\\n",
       "0  Very Sexy Strappy Lace Thong Panty  $14.50   $14.50    \n",
       "1  Very Sexy Strappy Lace Thong Panty  $14.50   $14.50    \n",
       "2  Very Sexy Strappy Lace Thong Panty  $14.50   $14.50    \n",
       "3  Very Sexy Strappy Lace Thong Panty  $14.50   $14.50    \n",
       "4  Very Sexy Strappy Lace Thong Panty  $14.50   $14.50    \n",
       "\n",
       "                                             pdp_url         brand_name  \\\n",
       "0  https://www.victoriassecret.com/panties/shop-a...  Victoria's Secret   \n",
       "1  https://www.victoriassecret.com/panties/shop-a...  Victoria's Secret   \n",
       "2  https://www.victoriassecret.com/panties/shop-a...  Victoria's Secret   \n",
       "3  https://www.victoriassecret.com/panties/shop-a...  Victoria's Secret   \n",
       "4  https://www.victoriassecret.com/panties/shop-a...  Victoria's Secret   \n",
       "\n",
       "           product_category            retailer  \\\n",
       "0  Strappy Lace Thong Panty  Victoriassecret US   \n",
       "1  Strappy Lace Thong Panty  Victoriassecret US   \n",
       "2  Strappy Lace Thong Panty  Victoriassecret US   \n",
       "3  Strappy Lace Thong Panty  Victoriassecret US   \n",
       "4  Strappy Lace Thong Panty  Victoriassecret US   \n",
       "\n",
       "                                         description  rating  review_count  \\\n",
       "0  Lots of cheek peek, pretty lace, a strappy bac...     NaN           NaN   \n",
       "1  Lots of cheek peek, pretty lace, a strappy bac...     NaN           NaN   \n",
       "2  Lots of cheek peek, pretty lace, a strappy bac...     NaN           NaN   \n",
       "3  Lots of cheek peek, pretty lace, a strappy bac...     NaN           NaN   \n",
       "4  Lots of cheek peek, pretty lace, a strappy bac...     NaN           NaN   \n",
       "\n",
       "   style_attributes                  total_sizes available_size        color  \n",
       "0               NaN  [\"XS\", \"S\", \"M\", \"L\", \"XL\"]              S  peach melba  \n",
       "1               NaN  [\"XS\", \"S\", \"M\", \"L\", \"XL\"]              S        black  \n",
       "2               NaN  [\"XS\", \"S\", \"M\", \"L\", \"XL\"]              S    plum dust  \n",
       "3               NaN  [\"XS\", \"S\", \"M\", \"L\", \"XL\"]              S  ensign blue  \n",
       "4               NaN  [\"XS\", \"S\", \"M\", \"L\", \"XL\"]              S  fair orchid  "
      ]
     },
     "execution_count": 4,
     "metadata": {},
     "output_type": "execute_result"
    }
   ],
   "source": [
    "df.head(5)"
   ]
  },
  {
   "cell_type": "markdown",
   "metadata": {
    "hidden": true
   },
   "source": [
    "#### Check the type of the df object created "
   ]
  },
  {
   "cell_type": "code",
   "execution_count": 5,
   "metadata": {
    "ExecuteTime": {
     "end_time": "2022-10-09T11:26:16.430480Z",
     "start_time": "2022-10-09T11:26:16.426188Z"
    }
   },
   "outputs": [],
   "source": [
    "## Your code here ##"
   ]
  },
  {
   "cell_type": "code",
   "execution_count": 6,
   "metadata": {
    "ExecuteTime": {
     "end_time": "2022-10-09T11:26:16.440483Z",
     "start_time": "2022-10-09T11:26:16.434669Z"
    }
   },
   "outputs": [
    {
     "data": {
      "text/plain": [
       "pandas.core.frame.DataFrame"
      ]
     },
     "execution_count": 6,
     "metadata": {},
     "output_type": "execute_result"
    }
   ],
   "source": [
    "# using type function to check the type of 'df' dataset\n",
    "type(df)"
   ]
  },
  {
   "cell_type": "code",
   "execution_count": 7,
   "metadata": {
    "ExecuteTime": {
     "end_time": "2022-10-09T11:26:16.461801Z",
     "start_time": "2022-10-09T11:26:16.445052Z"
    },
    "hidden": true
   },
   "outputs": [
    {
     "data": {
      "text/plain": [
       "['T',\n",
       " '_AXIS_LEN',\n",
       " '_AXIS_ORDERS',\n",
       " '_AXIS_TO_AXIS_NUMBER',\n",
       " '_HANDLED_TYPES',\n",
       " '__abs__',\n",
       " '__add__',\n",
       " '__and__',\n",
       " '__annotations__',\n",
       " '__array__',\n",
       " '__array_priority__',\n",
       " '__array_ufunc__',\n",
       " '__array_wrap__',\n",
       " '__bool__',\n",
       " '__class__',\n",
       " '__contains__',\n",
       " '__copy__',\n",
       " '__deepcopy__',\n",
       " '__delattr__',\n",
       " '__delitem__',\n",
       " '__dict__',\n",
       " '__dir__',\n",
       " '__divmod__',\n",
       " '__doc__',\n",
       " '__eq__',\n",
       " '__finalize__',\n",
       " '__floordiv__',\n",
       " '__format__',\n",
       " '__ge__',\n",
       " '__getattr__',\n",
       " '__getattribute__',\n",
       " '__getitem__',\n",
       " '__getstate__',\n",
       " '__gt__',\n",
       " '__hash__',\n",
       " '__iadd__',\n",
       " '__iand__',\n",
       " '__ifloordiv__',\n",
       " '__imod__',\n",
       " '__imul__',\n",
       " '__init__',\n",
       " '__init_subclass__',\n",
       " '__invert__',\n",
       " '__ior__',\n",
       " '__ipow__',\n",
       " '__isub__',\n",
       " '__iter__',\n",
       " '__itruediv__',\n",
       " '__ixor__',\n",
       " '__le__',\n",
       " '__len__',\n",
       " '__lt__',\n",
       " '__matmul__',\n",
       " '__mod__',\n",
       " '__module__',\n",
       " '__mul__',\n",
       " '__ne__',\n",
       " '__neg__',\n",
       " '__new__',\n",
       " '__nonzero__',\n",
       " '__or__',\n",
       " '__pos__',\n",
       " '__pow__',\n",
       " '__radd__',\n",
       " '__rand__',\n",
       " '__rdivmod__',\n",
       " '__reduce__',\n",
       " '__reduce_ex__',\n",
       " '__repr__',\n",
       " '__rfloordiv__',\n",
       " '__rmatmul__',\n",
       " '__rmod__',\n",
       " '__rmul__',\n",
       " '__ror__',\n",
       " '__round__',\n",
       " '__rpow__',\n",
       " '__rsub__',\n",
       " '__rtruediv__',\n",
       " '__rxor__',\n",
       " '__setattr__',\n",
       " '__setitem__',\n",
       " '__setstate__',\n",
       " '__sizeof__',\n",
       " '__str__',\n",
       " '__sub__',\n",
       " '__subclasshook__',\n",
       " '__truediv__',\n",
       " '__weakref__',\n",
       " '__xor__',\n",
       " '_accessors',\n",
       " '_accum_func',\n",
       " '_add_numeric_operations',\n",
       " '_agg_by_level',\n",
       " '_agg_examples_doc',\n",
       " '_agg_summary_and_see_also_doc',\n",
       " '_align_frame',\n",
       " '_align_series',\n",
       " '_append',\n",
       " '_arith_method',\n",
       " '_as_manager',\n",
       " '_attrs',\n",
       " '_box_col_values',\n",
       " '_can_fast_transpose',\n",
       " '_check_inplace_and_allows_duplicate_labels',\n",
       " '_check_inplace_setting',\n",
       " '_check_is_chained_assignment_possible',\n",
       " '_check_label_or_level_ambiguity',\n",
       " '_check_setitem_copy',\n",
       " '_clear_item_cache',\n",
       " '_clip_with_one_bound',\n",
       " '_clip_with_scalar',\n",
       " '_cmp_method',\n",
       " '_combine_frame',\n",
       " '_consolidate',\n",
       " '_consolidate_inplace',\n",
       " '_construct_axes_dict',\n",
       " '_construct_axes_from_arguments',\n",
       " '_construct_result',\n",
       " '_constructor',\n",
       " '_constructor_sliced',\n",
       " '_convert',\n",
       " '_count_level',\n",
       " '_data',\n",
       " '_dir_additions',\n",
       " '_dir_deletions',\n",
       " '_dispatch_frame_op',\n",
       " '_drop_axis',\n",
       " '_drop_labels_or_levels',\n",
       " '_ensure_valid_index',\n",
       " '_find_valid_index',\n",
       " '_flags',\n",
       " '_from_arrays',\n",
       " '_from_mgr',\n",
       " '_get_agg_axis',\n",
       " '_get_axis',\n",
       " '_get_axis_name',\n",
       " '_get_axis_number',\n",
       " '_get_axis_resolvers',\n",
       " '_get_block_manager_axis',\n",
       " '_get_bool_data',\n",
       " '_get_cleaned_column_resolvers',\n",
       " '_get_column_array',\n",
       " '_get_index_resolvers',\n",
       " '_get_item_cache',\n",
       " '_get_label_or_level_values',\n",
       " '_get_numeric_data',\n",
       " '_get_value',\n",
       " '_getitem_bool_array',\n",
       " '_getitem_multilevel',\n",
       " '_gotitem',\n",
       " '_hidden_attrs',\n",
       " '_indexed_same',\n",
       " '_info_axis',\n",
       " '_info_axis_name',\n",
       " '_info_axis_number',\n",
       " '_info_repr',\n",
       " '_init_mgr',\n",
       " '_inplace_method',\n",
       " '_internal_names',\n",
       " '_internal_names_set',\n",
       " '_is_copy',\n",
       " '_is_homogeneous_type',\n",
       " '_is_label_or_level_reference',\n",
       " '_is_label_reference',\n",
       " '_is_level_reference',\n",
       " '_is_mixed_type',\n",
       " '_is_view',\n",
       " '_iset_item',\n",
       " '_iset_item_mgr',\n",
       " '_iset_not_inplace',\n",
       " '_item_cache',\n",
       " '_iter_column_arrays',\n",
       " '_ixs',\n",
       " '_join_compat',\n",
       " '_logical_func',\n",
       " '_logical_method',\n",
       " '_maybe_cache_changed',\n",
       " '_maybe_update_cacher',\n",
       " '_metadata',\n",
       " '_mgr',\n",
       " '_min_count_stat_function',\n",
       " '_needs_reindex_multi',\n",
       " '_protect_consolidate',\n",
       " '_reduce',\n",
       " '_reduce_axis1',\n",
       " '_reindex_axes',\n",
       " '_reindex_columns',\n",
       " '_reindex_index',\n",
       " '_reindex_multi',\n",
       " '_reindex_with_indexers',\n",
       " '_rename',\n",
       " '_replace_columnwise',\n",
       " '_repr_data_resource_',\n",
       " '_repr_fits_horizontal_',\n",
       " '_repr_fits_vertical_',\n",
       " '_repr_html_',\n",
       " '_repr_latex_',\n",
       " '_reset_cache',\n",
       " '_reset_cacher',\n",
       " '_sanitize_column',\n",
       " '_series',\n",
       " '_set_axis',\n",
       " '_set_axis_name',\n",
       " '_set_axis_nocheck',\n",
       " '_set_is_copy',\n",
       " '_set_item',\n",
       " '_set_item_frame_value',\n",
       " '_set_item_mgr',\n",
       " '_set_value',\n",
       " '_setitem_array',\n",
       " '_setitem_frame',\n",
       " '_setitem_slice',\n",
       " '_slice',\n",
       " '_stat_axis',\n",
       " '_stat_axis_name',\n",
       " '_stat_axis_number',\n",
       " '_stat_function',\n",
       " '_stat_function_ddof',\n",
       " '_take_with_is_copy',\n",
       " '_to_dict_of_blocks',\n",
       " '_typ',\n",
       " '_update_inplace',\n",
       " '_validate_dtype',\n",
       " '_values',\n",
       " '_where',\n",
       " 'abs',\n",
       " 'add',\n",
       " 'add_prefix',\n",
       " 'add_suffix',\n",
       " 'agg',\n",
       " 'aggregate',\n",
       " 'align',\n",
       " 'all',\n",
       " 'any',\n",
       " 'append',\n",
       " 'apply',\n",
       " 'applymap',\n",
       " 'asfreq',\n",
       " 'asof',\n",
       " 'assign',\n",
       " 'astype',\n",
       " 'at',\n",
       " 'at_time',\n",
       " 'attrs',\n",
       " 'available_size',\n",
       " 'axes',\n",
       " 'backfill',\n",
       " 'between_time',\n",
       " 'bfill',\n",
       " 'bool',\n",
       " 'boxplot',\n",
       " 'brand_name',\n",
       " 'clip',\n",
       " 'color',\n",
       " 'columns',\n",
       " 'combine',\n",
       " 'combine_first',\n",
       " 'compare',\n",
       " 'convert_dtypes',\n",
       " 'copy',\n",
       " 'corr',\n",
       " 'corrwith',\n",
       " 'count',\n",
       " 'cov',\n",
       " 'cummax',\n",
       " 'cummin',\n",
       " 'cumprod',\n",
       " 'cumsum',\n",
       " 'describe',\n",
       " 'description',\n",
       " 'diff',\n",
       " 'div',\n",
       " 'divide',\n",
       " 'dot',\n",
       " 'drop',\n",
       " 'drop_duplicates',\n",
       " 'droplevel',\n",
       " 'dropna',\n",
       " 'dtypes',\n",
       " 'duplicated',\n",
       " 'empty',\n",
       " 'eq',\n",
       " 'equals',\n",
       " 'eval',\n",
       " 'ewm',\n",
       " 'expanding',\n",
       " 'explode',\n",
       " 'ffill',\n",
       " 'fillna',\n",
       " 'filter',\n",
       " 'first',\n",
       " 'first_valid_index',\n",
       " 'flags',\n",
       " 'floordiv',\n",
       " 'from_dict',\n",
       " 'from_records',\n",
       " 'ge',\n",
       " 'get',\n",
       " 'groupby',\n",
       " 'gt',\n",
       " 'head',\n",
       " 'hist',\n",
       " 'iat',\n",
       " 'idxmax',\n",
       " 'idxmin',\n",
       " 'iloc',\n",
       " 'index',\n",
       " 'infer_objects',\n",
       " 'info',\n",
       " 'insert',\n",
       " 'interpolate',\n",
       " 'isin',\n",
       " 'isna',\n",
       " 'isnull',\n",
       " 'items',\n",
       " 'iteritems',\n",
       " 'iterrows',\n",
       " 'itertuples',\n",
       " 'join',\n",
       " 'keys',\n",
       " 'kurt',\n",
       " 'kurtosis',\n",
       " 'last',\n",
       " 'last_valid_index',\n",
       " 'le',\n",
       " 'loc',\n",
       " 'lookup',\n",
       " 'lt',\n",
       " 'mad',\n",
       " 'mask',\n",
       " 'max',\n",
       " 'mean',\n",
       " 'median',\n",
       " 'melt',\n",
       " 'memory_usage',\n",
       " 'merge',\n",
       " 'min',\n",
       " 'mod',\n",
       " 'mode',\n",
       " 'mrp',\n",
       " 'mul',\n",
       " 'multiply',\n",
       " 'ndim',\n",
       " 'ne',\n",
       " 'nlargest',\n",
       " 'notna',\n",
       " 'notnull',\n",
       " 'nsmallest',\n",
       " 'nunique',\n",
       " 'pad',\n",
       " 'pct_change',\n",
       " 'pdp_url',\n",
       " 'pipe',\n",
       " 'pivot',\n",
       " 'pivot_table',\n",
       " 'plot',\n",
       " 'pop',\n",
       " 'pow',\n",
       " 'price',\n",
       " 'prod',\n",
       " 'product',\n",
       " 'product_category',\n",
       " 'product_name',\n",
       " 'quantile',\n",
       " 'query',\n",
       " 'radd',\n",
       " 'rank',\n",
       " 'rating',\n",
       " 'rdiv',\n",
       " 'reindex',\n",
       " 'reindex_like',\n",
       " 'rename',\n",
       " 'rename_axis',\n",
       " 'reorder_levels',\n",
       " 'replace',\n",
       " 'resample',\n",
       " 'reset_index',\n",
       " 'retailer',\n",
       " 'review_count',\n",
       " 'rfloordiv',\n",
       " 'rmod',\n",
       " 'rmul',\n",
       " 'rolling',\n",
       " 'round',\n",
       " 'rpow',\n",
       " 'rsub',\n",
       " 'rtruediv',\n",
       " 'sample',\n",
       " 'select_dtypes',\n",
       " 'sem',\n",
       " 'set_axis',\n",
       " 'set_flags',\n",
       " 'set_index',\n",
       " 'shape',\n",
       " 'shift',\n",
       " 'size',\n",
       " 'skew',\n",
       " 'slice_shift',\n",
       " 'sort_index',\n",
       " 'sort_values',\n",
       " 'squeeze',\n",
       " 'stack',\n",
       " 'std',\n",
       " 'style',\n",
       " 'style_attributes',\n",
       " 'sub',\n",
       " 'subtract',\n",
       " 'sum',\n",
       " 'swapaxes',\n",
       " 'swaplevel',\n",
       " 'tail',\n",
       " 'take',\n",
       " 'to_clipboard',\n",
       " 'to_csv',\n",
       " 'to_dict',\n",
       " 'to_excel',\n",
       " 'to_feather',\n",
       " 'to_gbq',\n",
       " 'to_hdf',\n",
       " 'to_html',\n",
       " 'to_json',\n",
       " 'to_latex',\n",
       " 'to_markdown',\n",
       " 'to_numpy',\n",
       " 'to_parquet',\n",
       " 'to_period',\n",
       " 'to_pickle',\n",
       " 'to_records',\n",
       " 'to_sql',\n",
       " 'to_stata',\n",
       " 'to_string',\n",
       " 'to_timestamp',\n",
       " 'to_xarray',\n",
       " 'to_xml',\n",
       " 'total_sizes',\n",
       " 'transform',\n",
       " 'transpose',\n",
       " 'truediv',\n",
       " 'truncate',\n",
       " 'tz_convert',\n",
       " 'tz_localize',\n",
       " 'unstack',\n",
       " 'update',\n",
       " 'value_counts',\n",
       " 'values',\n",
       " 'var',\n",
       " 'where',\n",
       " 'xs']"
      ]
     },
     "execution_count": 7,
     "metadata": {},
     "output_type": "execute_result"
    }
   ],
   "source": [
    "# shift to see properties and methods\n",
    "# or execute dir(df)\n",
    "dir(df)"
   ]
  },
  {
   "cell_type": "code",
   "execution_count": 8,
   "metadata": {
    "ExecuteTime": {
     "end_time": "2022-10-09T11:26:16.469812Z",
     "start_time": "2022-10-09T11:26:16.466534Z"
    },
    "hidden": true
   },
   "outputs": [],
   "source": [
    "# shift-tab 1-4 times to show docs\n",
    "#df()"
   ]
  },
  {
   "cell_type": "markdown",
   "metadata": {},
   "source": [
    "#### Compute the dimensions of the dataframe (number of rows and number of columns)"
   ]
  },
  {
   "cell_type": "code",
   "execution_count": 9,
   "metadata": {
    "ExecuteTime": {
     "end_time": "2022-10-09T11:26:16.477289Z",
     "start_time": "2022-10-09T11:26:16.473735Z"
    }
   },
   "outputs": [],
   "source": [
    "## Your code here ##"
   ]
  },
  {
   "cell_type": "code",
   "execution_count": 10,
   "metadata": {
    "ExecuteTime": {
     "end_time": "2022-10-09T11:26:16.490793Z",
     "start_time": "2022-10-09T11:26:16.485469Z"
    }
   },
   "outputs": [
    {
     "data": {
      "text/plain": [
       "(453386, 14)"
      ]
     },
     "execution_count": 10,
     "metadata": {},
     "output_type": "execute_result"
    }
   ],
   "source": [
    "# using shape to check the dimensions of the 'df' dataset\n",
    "df.shape"
   ]
  },
  {
   "cell_type": "code",
   "execution_count": 11,
   "metadata": {
    "ExecuteTime": {
     "end_time": "2022-10-09T11:26:16.502371Z",
     "start_time": "2022-10-09T11:26:16.495772Z"
    }
   },
   "outputs": [
    {
     "name": "stdout",
     "output_type": "stream",
     "text": [
      "Number of rows: 453386\n",
      "Number of columns: 14\n"
     ]
    }
   ],
   "source": [
    "# the output of the df.shape is a 'tuple' containing the number of rows and number of columns\n",
    "\n",
    "# to check the number of rows \n",
    "n_rows = df.shape[0]\n",
    "\n",
    "# to check the number of columns\n",
    "n_columns = df.shape[1]\n",
    "\n",
    "# printing the number of rows and number of columns in the 'df' dataset\n",
    "print(f'Number of rows: {n_rows}')\n",
    "print(f'Number of columns: {n_columns}')"
   ]
  },
  {
   "cell_type": "markdown",
   "metadata": {
    "hidden": true
   },
   "source": [
    "#### Check the different columns of the df (type, length, etc.)\n",
    "See how similar it is compared to the class approach"
   ]
  },
  {
   "cell_type": "code",
   "execution_count": 12,
   "metadata": {
    "ExecuteTime": {
     "end_time": "2022-10-09T11:26:16.512427Z",
     "start_time": "2022-10-09T11:26:16.507109Z"
    }
   },
   "outputs": [],
   "source": [
    "## Your code here ##"
   ]
  },
  {
   "cell_type": "code",
   "execution_count": 13,
   "metadata": {
    "ExecuteTime": {
     "end_time": "2022-10-09T11:26:16.522904Z",
     "start_time": "2022-10-09T11:26:16.517078Z"
    }
   },
   "outputs": [
    {
     "data": {
      "text/plain": [
       "Index(['product_name', 'mrp', 'price', 'pdp_url', 'brand_name',\n",
       "       'product_category', 'retailer', 'description', 'rating', 'review_count',\n",
       "       'style_attributes', 'total_sizes', 'available_size', 'color'],\n",
       "      dtype='object')"
      ]
     },
     "execution_count": 13,
     "metadata": {},
     "output_type": "execute_result"
    }
   ],
   "source": [
    "# Checking the column names\n",
    "df.columns"
   ]
  },
  {
   "cell_type": "code",
   "execution_count": 14,
   "metadata": {
    "ExecuteTime": {
     "end_time": "2022-10-09T11:26:16.534237Z",
     "start_time": "2022-10-09T11:26:16.527151Z"
    }
   },
   "outputs": [
    {
     "data": {
      "text/plain": [
       "'mrp'"
      ]
     },
     "execution_count": 14,
     "metadata": {},
     "output_type": "execute_result"
    }
   ],
   "source": [
    "df.columns[1]"
   ]
  },
  {
   "cell_type": "code",
   "execution_count": 15,
   "metadata": {
    "ExecuteTime": {
     "end_time": "2022-10-09T11:26:16.546100Z",
     "start_time": "2022-10-09T11:26:16.540317Z"
    }
   },
   "outputs": [],
   "source": [
    "# to check the datatypes of the columns names and store it in a variable\n",
    "column_types = df.dtypes"
   ]
  },
  {
   "cell_type": "code",
   "execution_count": 16,
   "metadata": {
    "ExecuteTime": {
     "end_time": "2022-10-09T11:26:16.576561Z",
     "start_time": "2022-10-09T11:26:16.551247Z"
    }
   },
   "outputs": [
    {
     "name": "stdout",
     "output_type": "stream",
     "text": [
      "product_name         object\n",
      "mrp                  object\n",
      "price                object\n",
      "pdp_url              object\n",
      "brand_name           object\n",
      "product_category     object\n",
      "retailer             object\n",
      "description          object\n",
      "rating              float64\n",
      "review_count        float64\n",
      "style_attributes    float64\n",
      "total_sizes          object\n",
      "available_size       object\n",
      "color                object\n",
      "dtype: object\n"
     ]
    }
   ],
   "source": [
    "# to print the datatypes of the column names\n",
    "print(column_types)"
   ]
  },
  {
   "cell_type": "code",
   "execution_count": null,
   "metadata": {},
   "outputs": [],
   "source": []
  },
  {
   "cell_type": "markdown",
   "metadata": {},
   "source": [
    "---\n",
    "Use the method iloc (see the pandas doc) on df. What do you have as output? "
   ]
  },
  {
   "cell_type": "code",
   "execution_count": 17,
   "metadata": {
    "ExecuteTime": {
     "end_time": "2022-10-09T11:26:16.594507Z",
     "start_time": "2022-10-09T11:26:16.584985Z"
    }
   },
   "outputs": [],
   "source": [
    "## Your code here ##"
   ]
  },
  {
   "cell_type": "code",
   "execution_count": 18,
   "metadata": {
    "ExecuteTime": {
     "end_time": "2022-10-09T11:26:16.627584Z",
     "start_time": "2022-10-09T11:26:16.598957Z"
    }
   },
   "outputs": [
    {
     "data": {
      "text/plain": [
       "product_name                       Very Sexy Strappy Lace Thong Panty\n",
       "mrp                                                           $14.50 \n",
       "price                                                         $14.50 \n",
       "pdp_url             https://www.victoriassecret.com/panties/shop-a...\n",
       "brand_name                                          Victoria's Secret\n",
       "product_category                             Strappy Lace Thong Panty\n",
       "retailer                                           Victoriassecret US\n",
       "description         Lots of cheek peek, pretty lace, a strappy bac...\n",
       "rating                                                            NaN\n",
       "review_count                                                      NaN\n",
       "style_attributes                                                  NaN\n",
       "total_sizes                               [\"XS\", \"S\", \"M\", \"L\", \"XL\"]\n",
       "available_size                                                      S\n",
       "color                                                     peach melba\n",
       "Name: 0, dtype: object"
      ]
     },
     "execution_count": 18,
     "metadata": {},
     "output_type": "execute_result"
    }
   ],
   "source": [
    "# method iloc outputs the data in the given index of the dataset\n",
    "df.iloc[0]"
   ]
  },
  {
   "cell_type": "code",
   "execution_count": 19,
   "metadata": {
    "ExecuteTime": {
     "end_time": "2022-10-09T11:26:16.641882Z",
     "start_time": "2022-10-09T11:26:16.631657Z"
    }
   },
   "outputs": [
    {
     "data": {
      "text/plain": [
       "pandas.core.series.Series"
      ]
     },
     "execution_count": 19,
     "metadata": {},
     "output_type": "execute_result"
    }
   ],
   "source": [
    "# finding the type using iloc method for Series\n",
    "type(df.iloc[0])"
   ]
  },
  {
   "cell_type": "code",
   "execution_count": 20,
   "metadata": {
    "ExecuteTime": {
     "end_time": "2022-10-09T11:26:16.656822Z",
     "start_time": "2022-10-09T11:26:16.645367Z"
    }
   },
   "outputs": [
    {
     "data": {
      "text/plain": [
       "product_name                       Very Sexy Strappy Lace Thong Panty\n",
       "mrp                                                           $14.50 \n",
       "price                                                         $14.50 \n",
       "pdp_url             https://www.victoriassecret.com/panties/shop-a...\n",
       "brand_name                                          Victoria's Secret\n",
       "product_category                             Strappy Lace Thong Panty\n",
       "retailer                                           Victoriassecret US\n",
       "description         Lots of cheek peek, pretty lace, a strappy bac...\n",
       "rating                                                            NaN\n",
       "review_count                                                      NaN\n",
       "style_attributes                                                  NaN\n",
       "total_sizes                               [\"XS\", \"S\", \"M\", \"L\", \"XL\"]\n",
       "available_size                                                      S\n",
       "color                                                     peach melba\n",
       "Name: 0, dtype: object"
      ]
     },
     "execution_count": 20,
     "metadata": {},
     "output_type": "execute_result"
    }
   ],
   "source": [
    "# output of the iloc method (Series) \n",
    "df.iloc[0]"
   ]
  },
  {
   "cell_type": "code",
   "execution_count": 21,
   "metadata": {
    "ExecuteTime": {
     "end_time": "2022-10-09T11:26:16.678911Z",
     "start_time": "2022-10-09T11:26:16.660843Z"
    }
   },
   "outputs": [
    {
     "data": {
      "text/plain": [
       "pandas.core.frame.DataFrame"
      ]
     },
     "execution_count": 21,
     "metadata": {},
     "output_type": "execute_result"
    }
   ],
   "source": [
    "# finding the type using iloc method for Dataframe\n",
    "type(df.iloc[[0]])"
   ]
  },
  {
   "cell_type": "code",
   "execution_count": 22,
   "metadata": {
    "ExecuteTime": {
     "end_time": "2022-10-09T11:26:16.711937Z",
     "start_time": "2022-10-09T11:26:16.683072Z"
    },
    "scrolled": true
   },
   "outputs": [
    {
     "data": {
      "text/html": [
       "<div>\n",
       "<style scoped>\n",
       "    .dataframe tbody tr th:only-of-type {\n",
       "        vertical-align: middle;\n",
       "    }\n",
       "\n",
       "    .dataframe tbody tr th {\n",
       "        vertical-align: top;\n",
       "    }\n",
       "\n",
       "    .dataframe thead th {\n",
       "        text-align: right;\n",
       "    }\n",
       "</style>\n",
       "<table border=\"1\" class=\"dataframe\">\n",
       "  <thead>\n",
       "    <tr style=\"text-align: right;\">\n",
       "      <th></th>\n",
       "      <th>product_name</th>\n",
       "      <th>mrp</th>\n",
       "      <th>price</th>\n",
       "      <th>pdp_url</th>\n",
       "      <th>brand_name</th>\n",
       "      <th>product_category</th>\n",
       "      <th>retailer</th>\n",
       "      <th>description</th>\n",
       "      <th>rating</th>\n",
       "      <th>review_count</th>\n",
       "      <th>style_attributes</th>\n",
       "      <th>total_sizes</th>\n",
       "      <th>available_size</th>\n",
       "      <th>color</th>\n",
       "    </tr>\n",
       "  </thead>\n",
       "  <tbody>\n",
       "    <tr>\n",
       "      <th>0</th>\n",
       "      <td>Very Sexy Strappy Lace Thong Panty</td>\n",
       "      <td>$14.50</td>\n",
       "      <td>$14.50</td>\n",
       "      <td>https://www.victoriassecret.com/panties/shop-a...</td>\n",
       "      <td>Victoria's Secret</td>\n",
       "      <td>Strappy Lace Thong Panty</td>\n",
       "      <td>Victoriassecret US</td>\n",
       "      <td>Lots of cheek peek, pretty lace, a strappy bac...</td>\n",
       "      <td>NaN</td>\n",
       "      <td>NaN</td>\n",
       "      <td>NaN</td>\n",
       "      <td>[\"XS\", \"S\", \"M\", \"L\", \"XL\"]</td>\n",
       "      <td>S</td>\n",
       "      <td>peach melba</td>\n",
       "    </tr>\n",
       "  </tbody>\n",
       "</table>\n",
       "</div>"
      ],
      "text/plain": [
       "                         product_name      mrp    price  \\\n",
       "0  Very Sexy Strappy Lace Thong Panty  $14.50   $14.50    \n",
       "\n",
       "                                             pdp_url         brand_name  \\\n",
       "0  https://www.victoriassecret.com/panties/shop-a...  Victoria's Secret   \n",
       "\n",
       "           product_category            retailer  \\\n",
       "0  Strappy Lace Thong Panty  Victoriassecret US   \n",
       "\n",
       "                                         description  rating  review_count  \\\n",
       "0  Lots of cheek peek, pretty lace, a strappy bac...     NaN           NaN   \n",
       "\n",
       "   style_attributes                  total_sizes available_size        color  \n",
       "0               NaN  [\"XS\", \"S\", \"M\", \"L\", \"XL\"]              S  peach melba  "
      ]
     },
     "execution_count": 22,
     "metadata": {},
     "output_type": "execute_result"
    }
   ],
   "source": [
    "# Output of the iloc method (Dataframe)\n",
    "df.iloc[[0]]"
   ]
  },
  {
   "cell_type": "code",
   "execution_count": null,
   "metadata": {},
   "outputs": [],
   "source": []
  },
  {
   "cell_type": "code",
   "execution_count": null,
   "metadata": {},
   "outputs": [],
   "source": []
  },
  {
   "cell_type": "markdown",
   "metadata": {},
   "source": [
    "---\n",
    "Which methods can be used to extract only the few first and last lines of the csv file? "
   ]
  },
  {
   "cell_type": "code",
   "execution_count": 23,
   "metadata": {
    "ExecuteTime": {
     "end_time": "2022-10-09T11:26:16.721702Z",
     "start_time": "2022-10-09T11:26:16.715830Z"
    }
   },
   "outputs": [],
   "source": [
    "## Your code here ##"
   ]
  },
  {
   "cell_type": "code",
   "execution_count": 24,
   "metadata": {
    "ExecuteTime": {
     "end_time": "2022-10-09T11:26:16.753546Z",
     "start_time": "2022-10-09T11:26:16.729732Z"
    }
   },
   "outputs": [
    {
     "data": {
      "text/html": [
       "<div>\n",
       "<style scoped>\n",
       "    .dataframe tbody tr th:only-of-type {\n",
       "        vertical-align: middle;\n",
       "    }\n",
       "\n",
       "    .dataframe tbody tr th {\n",
       "        vertical-align: top;\n",
       "    }\n",
       "\n",
       "    .dataframe thead th {\n",
       "        text-align: right;\n",
       "    }\n",
       "</style>\n",
       "<table border=\"1\" class=\"dataframe\">\n",
       "  <thead>\n",
       "    <tr style=\"text-align: right;\">\n",
       "      <th></th>\n",
       "      <th>product_name</th>\n",
       "      <th>mrp</th>\n",
       "      <th>price</th>\n",
       "      <th>pdp_url</th>\n",
       "      <th>brand_name</th>\n",
       "      <th>product_category</th>\n",
       "      <th>retailer</th>\n",
       "      <th>description</th>\n",
       "      <th>rating</th>\n",
       "      <th>review_count</th>\n",
       "      <th>style_attributes</th>\n",
       "      <th>total_sizes</th>\n",
       "      <th>available_size</th>\n",
       "      <th>color</th>\n",
       "    </tr>\n",
       "  </thead>\n",
       "  <tbody>\n",
       "    <tr>\n",
       "      <th>0</th>\n",
       "      <td>Very Sexy Strappy Lace Thong Panty</td>\n",
       "      <td>$14.50</td>\n",
       "      <td>$14.50</td>\n",
       "      <td>https://www.victoriassecret.com/panties/shop-a...</td>\n",
       "      <td>Victoria's Secret</td>\n",
       "      <td>Strappy Lace Thong Panty</td>\n",
       "      <td>Victoriassecret US</td>\n",
       "      <td>Lots of cheek peek, pretty lace, a strappy bac...</td>\n",
       "      <td>NaN</td>\n",
       "      <td>NaN</td>\n",
       "      <td>NaN</td>\n",
       "      <td>[\"XS\", \"S\", \"M\", \"L\", \"XL\"]</td>\n",
       "      <td>S</td>\n",
       "      <td>peach melba</td>\n",
       "    </tr>\n",
       "    <tr>\n",
       "      <th>1</th>\n",
       "      <td>Very Sexy Strappy Lace Thong Panty</td>\n",
       "      <td>$14.50</td>\n",
       "      <td>$14.50</td>\n",
       "      <td>https://www.victoriassecret.com/panties/shop-a...</td>\n",
       "      <td>Victoria's Secret</td>\n",
       "      <td>Strappy Lace Thong Panty</td>\n",
       "      <td>Victoriassecret US</td>\n",
       "      <td>Lots of cheek peek, pretty lace, a strappy bac...</td>\n",
       "      <td>NaN</td>\n",
       "      <td>NaN</td>\n",
       "      <td>NaN</td>\n",
       "      <td>[\"XS\", \"S\", \"M\", \"L\", \"XL\"]</td>\n",
       "      <td>S</td>\n",
       "      <td>black</td>\n",
       "    </tr>\n",
       "    <tr>\n",
       "      <th>2</th>\n",
       "      <td>Very Sexy Strappy Lace Thong Panty</td>\n",
       "      <td>$14.50</td>\n",
       "      <td>$14.50</td>\n",
       "      <td>https://www.victoriassecret.com/panties/shop-a...</td>\n",
       "      <td>Victoria's Secret</td>\n",
       "      <td>Strappy Lace Thong Panty</td>\n",
       "      <td>Victoriassecret US</td>\n",
       "      <td>Lots of cheek peek, pretty lace, a strappy bac...</td>\n",
       "      <td>NaN</td>\n",
       "      <td>NaN</td>\n",
       "      <td>NaN</td>\n",
       "      <td>[\"XS\", \"S\", \"M\", \"L\", \"XL\"]</td>\n",
       "      <td>S</td>\n",
       "      <td>plum dust</td>\n",
       "    </tr>\n",
       "    <tr>\n",
       "      <th>3</th>\n",
       "      <td>Very Sexy Strappy Lace Thong Panty</td>\n",
       "      <td>$14.50</td>\n",
       "      <td>$14.50</td>\n",
       "      <td>https://www.victoriassecret.com/panties/shop-a...</td>\n",
       "      <td>Victoria's Secret</td>\n",
       "      <td>Strappy Lace Thong Panty</td>\n",
       "      <td>Victoriassecret US</td>\n",
       "      <td>Lots of cheek peek, pretty lace, a strappy bac...</td>\n",
       "      <td>NaN</td>\n",
       "      <td>NaN</td>\n",
       "      <td>NaN</td>\n",
       "      <td>[\"XS\", \"S\", \"M\", \"L\", \"XL\"]</td>\n",
       "      <td>S</td>\n",
       "      <td>ensign blue</td>\n",
       "    </tr>\n",
       "    <tr>\n",
       "      <th>4</th>\n",
       "      <td>Very Sexy Strappy Lace Thong Panty</td>\n",
       "      <td>$14.50</td>\n",
       "      <td>$14.50</td>\n",
       "      <td>https://www.victoriassecret.com/panties/shop-a...</td>\n",
       "      <td>Victoria's Secret</td>\n",
       "      <td>Strappy Lace Thong Panty</td>\n",
       "      <td>Victoriassecret US</td>\n",
       "      <td>Lots of cheek peek, pretty lace, a strappy bac...</td>\n",
       "      <td>NaN</td>\n",
       "      <td>NaN</td>\n",
       "      <td>NaN</td>\n",
       "      <td>[\"XS\", \"S\", \"M\", \"L\", \"XL\"]</td>\n",
       "      <td>S</td>\n",
       "      <td>fair orchid</td>\n",
       "    </tr>\n",
       "  </tbody>\n",
       "</table>\n",
       "</div>"
      ],
      "text/plain": [
       "                         product_name      mrp    price  \\\n",
       "0  Very Sexy Strappy Lace Thong Panty  $14.50   $14.50    \n",
       "1  Very Sexy Strappy Lace Thong Panty  $14.50   $14.50    \n",
       "2  Very Sexy Strappy Lace Thong Panty  $14.50   $14.50    \n",
       "3  Very Sexy Strappy Lace Thong Panty  $14.50   $14.50    \n",
       "4  Very Sexy Strappy Lace Thong Panty  $14.50   $14.50    \n",
       "\n",
       "                                             pdp_url         brand_name  \\\n",
       "0  https://www.victoriassecret.com/panties/shop-a...  Victoria's Secret   \n",
       "1  https://www.victoriassecret.com/panties/shop-a...  Victoria's Secret   \n",
       "2  https://www.victoriassecret.com/panties/shop-a...  Victoria's Secret   \n",
       "3  https://www.victoriassecret.com/panties/shop-a...  Victoria's Secret   \n",
       "4  https://www.victoriassecret.com/panties/shop-a...  Victoria's Secret   \n",
       "\n",
       "           product_category            retailer  \\\n",
       "0  Strappy Lace Thong Panty  Victoriassecret US   \n",
       "1  Strappy Lace Thong Panty  Victoriassecret US   \n",
       "2  Strappy Lace Thong Panty  Victoriassecret US   \n",
       "3  Strappy Lace Thong Panty  Victoriassecret US   \n",
       "4  Strappy Lace Thong Panty  Victoriassecret US   \n",
       "\n",
       "                                         description  rating  review_count  \\\n",
       "0  Lots of cheek peek, pretty lace, a strappy bac...     NaN           NaN   \n",
       "1  Lots of cheek peek, pretty lace, a strappy bac...     NaN           NaN   \n",
       "2  Lots of cheek peek, pretty lace, a strappy bac...     NaN           NaN   \n",
       "3  Lots of cheek peek, pretty lace, a strappy bac...     NaN           NaN   \n",
       "4  Lots of cheek peek, pretty lace, a strappy bac...     NaN           NaN   \n",
       "\n",
       "   style_attributes                  total_sizes available_size        color  \n",
       "0               NaN  [\"XS\", \"S\", \"M\", \"L\", \"XL\"]              S  peach melba  \n",
       "1               NaN  [\"XS\", \"S\", \"M\", \"L\", \"XL\"]              S        black  \n",
       "2               NaN  [\"XS\", \"S\", \"M\", \"L\", \"XL\"]              S    plum dust  \n",
       "3               NaN  [\"XS\", \"S\", \"M\", \"L\", \"XL\"]              S  ensign blue  \n",
       "4               NaN  [\"XS\", \"S\", \"M\", \"L\", \"XL\"]              S  fair orchid  "
      ]
     },
     "execution_count": 24,
     "metadata": {},
     "output_type": "execute_result"
    }
   ],
   "source": [
    "# using head() method to extract first few lines of the dataframe\n",
    "df.head(5)"
   ]
  },
  {
   "cell_type": "code",
   "execution_count": 25,
   "metadata": {
    "ExecuteTime": {
     "end_time": "2022-10-09T11:26:16.783827Z",
     "start_time": "2022-10-09T11:26:16.758978Z"
    }
   },
   "outputs": [
    {
     "data": {
      "text/html": [
       "<div>\n",
       "<style scoped>\n",
       "    .dataframe tbody tr th:only-of-type {\n",
       "        vertical-align: middle;\n",
       "    }\n",
       "\n",
       "    .dataframe tbody tr th {\n",
       "        vertical-align: top;\n",
       "    }\n",
       "\n",
       "    .dataframe thead th {\n",
       "        text-align: right;\n",
       "    }\n",
       "</style>\n",
       "<table border=\"1\" class=\"dataframe\">\n",
       "  <thead>\n",
       "    <tr style=\"text-align: right;\">\n",
       "      <th></th>\n",
       "      <th>product_name</th>\n",
       "      <th>mrp</th>\n",
       "      <th>price</th>\n",
       "      <th>pdp_url</th>\n",
       "      <th>brand_name</th>\n",
       "      <th>product_category</th>\n",
       "      <th>retailer</th>\n",
       "      <th>description</th>\n",
       "      <th>rating</th>\n",
       "      <th>review_count</th>\n",
       "      <th>style_attributes</th>\n",
       "      <th>total_sizes</th>\n",
       "      <th>available_size</th>\n",
       "      <th>color</th>\n",
       "    </tr>\n",
       "  </thead>\n",
       "  <tbody>\n",
       "    <tr>\n",
       "      <th>453381</th>\n",
       "      <td>Dream Angels NEW! Lace Mini Slip</td>\n",
       "      <td>$48.00</td>\n",
       "      <td>$48.00</td>\n",
       "      <td>https://www.victoriassecret.com/lingerie/shop-...</td>\n",
       "      <td>Victoria's Secret</td>\n",
       "      <td>Lace Mini Slip</td>\n",
       "      <td>Victoriassecret US</td>\n",
       "      <td>All you need is a little lace, here in the cut...</td>\n",
       "      <td>NaN</td>\n",
       "      <td>NaN</td>\n",
       "      <td>NaN</td>\n",
       "      <td>[\"XS\", \"S\", \"M\", \"L\", \"XL\"]</td>\n",
       "      <td>L</td>\n",
       "      <td>coconut white</td>\n",
       "    </tr>\n",
       "    <tr>\n",
       "      <th>453382</th>\n",
       "      <td>Dream Angels NEW! Lace Mini Slip</td>\n",
       "      <td>$48.00</td>\n",
       "      <td>$48.00</td>\n",
       "      <td>https://www.victoriassecret.com/lingerie/shop-...</td>\n",
       "      <td>Victoria's Secret</td>\n",
       "      <td>Lace Mini Slip</td>\n",
       "      <td>Victoriassecret US</td>\n",
       "      <td>All you need is a little lace, here in the cut...</td>\n",
       "      <td>NaN</td>\n",
       "      <td>NaN</td>\n",
       "      <td>NaN</td>\n",
       "      <td>[\"XS\", \"S\", \"M\", \"L\", \"XL\"]</td>\n",
       "      <td>L</td>\n",
       "      <td>mulled grape</td>\n",
       "    </tr>\n",
       "    <tr>\n",
       "      <th>453383</th>\n",
       "      <td>Dream Angels NEW! Lace Mini Slip</td>\n",
       "      <td>$48.00</td>\n",
       "      <td>$48.00</td>\n",
       "      <td>https://www.victoriassecret.com/lingerie/shop-...</td>\n",
       "      <td>Victoria's Secret</td>\n",
       "      <td>Lace Mini Slip</td>\n",
       "      <td>Victoriassecret US</td>\n",
       "      <td>All you need is a little lace, here in the cut...</td>\n",
       "      <td>NaN</td>\n",
       "      <td>NaN</td>\n",
       "      <td>NaN</td>\n",
       "      <td>[\"XS\", \"S\", \"M\", \"L\", \"XL\"]</td>\n",
       "      <td>M</td>\n",
       "      <td>sheer pink</td>\n",
       "    </tr>\n",
       "    <tr>\n",
       "      <th>453384</th>\n",
       "      <td>Dream Angels NEW! Lace Mini Slip</td>\n",
       "      <td>$48.00</td>\n",
       "      <td>$48.00</td>\n",
       "      <td>https://www.victoriassecret.com/lingerie/shop-...</td>\n",
       "      <td>Victoria's Secret</td>\n",
       "      <td>Lace Mini Slip</td>\n",
       "      <td>Victoriassecret US</td>\n",
       "      <td>All you need is a little lace, here in the cut...</td>\n",
       "      <td>NaN</td>\n",
       "      <td>NaN</td>\n",
       "      <td>NaN</td>\n",
       "      <td>[\"XS\", \"S\", \"M\", \"L\", \"XL\"]</td>\n",
       "      <td>M</td>\n",
       "      <td>coconut white</td>\n",
       "    </tr>\n",
       "    <tr>\n",
       "      <th>453385</th>\n",
       "      <td>Dream Angels NEW! Lace Mini Slip</td>\n",
       "      <td>$48.00</td>\n",
       "      <td>$48.00</td>\n",
       "      <td>https://www.victoriassecret.com/lingerie/shop-...</td>\n",
       "      <td>Victoria's Secret</td>\n",
       "      <td>Lace Mini Slip</td>\n",
       "      <td>Victoriassecret US</td>\n",
       "      <td>All you need is a little lace, here in the cut...</td>\n",
       "      <td>NaN</td>\n",
       "      <td>NaN</td>\n",
       "      <td>NaN</td>\n",
       "      <td>[\"XS\", \"S\", \"M\", \"L\", \"XL\"]</td>\n",
       "      <td>M</td>\n",
       "      <td>mulled grape</td>\n",
       "    </tr>\n",
       "  </tbody>\n",
       "</table>\n",
       "</div>"
      ],
      "text/plain": [
       "                            product_name      mrp    price  \\\n",
       "453381  Dream Angels NEW! Lace Mini Slip  $48.00   $48.00    \n",
       "453382  Dream Angels NEW! Lace Mini Slip  $48.00   $48.00    \n",
       "453383  Dream Angels NEW! Lace Mini Slip  $48.00   $48.00    \n",
       "453384  Dream Angels NEW! Lace Mini Slip  $48.00   $48.00    \n",
       "453385  Dream Angels NEW! Lace Mini Slip  $48.00   $48.00    \n",
       "\n",
       "                                                  pdp_url         brand_name  \\\n",
       "453381  https://www.victoriassecret.com/lingerie/shop-...  Victoria's Secret   \n",
       "453382  https://www.victoriassecret.com/lingerie/shop-...  Victoria's Secret   \n",
       "453383  https://www.victoriassecret.com/lingerie/shop-...  Victoria's Secret   \n",
       "453384  https://www.victoriassecret.com/lingerie/shop-...  Victoria's Secret   \n",
       "453385  https://www.victoriassecret.com/lingerie/shop-...  Victoria's Secret   \n",
       "\n",
       "       product_category            retailer  \\\n",
       "453381   Lace Mini Slip  Victoriassecret US   \n",
       "453382   Lace Mini Slip  Victoriassecret US   \n",
       "453383   Lace Mini Slip  Victoriassecret US   \n",
       "453384   Lace Mini Slip  Victoriassecret US   \n",
       "453385   Lace Mini Slip  Victoriassecret US   \n",
       "\n",
       "                                              description  rating  \\\n",
       "453381  All you need is a little lace, here in the cut...     NaN   \n",
       "453382  All you need is a little lace, here in the cut...     NaN   \n",
       "453383  All you need is a little lace, here in the cut...     NaN   \n",
       "453384  All you need is a little lace, here in the cut...     NaN   \n",
       "453385  All you need is a little lace, here in the cut...     NaN   \n",
       "\n",
       "        review_count  style_attributes                  total_sizes  \\\n",
       "453381           NaN               NaN  [\"XS\", \"S\", \"M\", \"L\", \"XL\"]   \n",
       "453382           NaN               NaN  [\"XS\", \"S\", \"M\", \"L\", \"XL\"]   \n",
       "453383           NaN               NaN  [\"XS\", \"S\", \"M\", \"L\", \"XL\"]   \n",
       "453384           NaN               NaN  [\"XS\", \"S\", \"M\", \"L\", \"XL\"]   \n",
       "453385           NaN               NaN  [\"XS\", \"S\", \"M\", \"L\", \"XL\"]   \n",
       "\n",
       "       available_size          color  \n",
       "453381              L  coconut white  \n",
       "453382              L   mulled grape  \n",
       "453383              M     sheer pink  \n",
       "453384              M  coconut white  \n",
       "453385              M   mulled grape  "
      ]
     },
     "execution_count": 25,
     "metadata": {},
     "output_type": "execute_result"
    }
   ],
   "source": [
    "# using tail() method to extract last few lines of the dataframe\n",
    "df.tail(5)"
   ]
  },
  {
   "cell_type": "code",
   "execution_count": null,
   "metadata": {},
   "outputs": [],
   "source": []
  },
  {
   "cell_type": "markdown",
   "metadata": {},
   "source": [
    "---\n",
    "Try to extract data from the 'product_name' column. \n",
    "\n",
    "Remember how we used it when defining __getitem__ in the dataFrame class."
   ]
  },
  {
   "cell_type": "code",
   "execution_count": 26,
   "metadata": {
    "ExecuteTime": {
     "end_time": "2022-10-09T11:26:16.796171Z",
     "start_time": "2022-10-09T11:26:16.786955Z"
    }
   },
   "outputs": [],
   "source": [
    "## Your code here ##"
   ]
  },
  {
   "cell_type": "code",
   "execution_count": 27,
   "metadata": {
    "ExecuteTime": {
     "end_time": "2022-10-09T11:26:16.815038Z",
     "start_time": "2022-10-09T11:26:16.801532Z"
    },
    "scrolled": true
   },
   "outputs": [
    {
     "data": {
      "text/plain": [
       "Index(['product_name', 'mrp', 'price', 'pdp_url', 'brand_name',\n",
       "       'product_category', 'retailer', 'description', 'rating', 'review_count',\n",
       "       'style_attributes', 'total_sizes', 'available_size', 'color'],\n",
       "      dtype='object')"
      ]
     },
     "execution_count": 27,
     "metadata": {},
     "output_type": "execute_result"
    }
   ],
   "source": [
    "df.columns"
   ]
  },
  {
   "cell_type": "code",
   "execution_count": 28,
   "metadata": {
    "ExecuteTime": {
     "end_time": "2022-10-09T11:26:16.848370Z",
     "start_time": "2022-10-09T11:26:16.828734Z"
    }
   },
   "outputs": [
    {
     "data": {
      "text/html": [
       "<div>\n",
       "<style scoped>\n",
       "    .dataframe tbody tr th:only-of-type {\n",
       "        vertical-align: middle;\n",
       "    }\n",
       "\n",
       "    .dataframe tbody tr th {\n",
       "        vertical-align: top;\n",
       "    }\n",
       "\n",
       "    .dataframe thead th {\n",
       "        text-align: right;\n",
       "    }\n",
       "</style>\n",
       "<table border=\"1\" class=\"dataframe\">\n",
       "  <thead>\n",
       "    <tr style=\"text-align: right;\">\n",
       "      <th></th>\n",
       "      <th>product_name</th>\n",
       "      <th>mrp</th>\n",
       "      <th>price</th>\n",
       "      <th>pdp_url</th>\n",
       "      <th>brand_name</th>\n",
       "      <th>product_category</th>\n",
       "      <th>retailer</th>\n",
       "      <th>description</th>\n",
       "      <th>rating</th>\n",
       "      <th>review_count</th>\n",
       "      <th>style_attributes</th>\n",
       "      <th>total_sizes</th>\n",
       "      <th>available_size</th>\n",
       "      <th>color</th>\n",
       "    </tr>\n",
       "  </thead>\n",
       "  <tbody>\n",
       "    <tr>\n",
       "      <th>0</th>\n",
       "      <td>Very Sexy Strappy Lace Thong Panty</td>\n",
       "      <td>$14.50</td>\n",
       "      <td>$14.50</td>\n",
       "      <td>https://www.victoriassecret.com/panties/shop-a...</td>\n",
       "      <td>Victoria's Secret</td>\n",
       "      <td>Strappy Lace Thong Panty</td>\n",
       "      <td>Victoriassecret US</td>\n",
       "      <td>Lots of cheek peek, pretty lace, a strappy bac...</td>\n",
       "      <td>NaN</td>\n",
       "      <td>NaN</td>\n",
       "      <td>NaN</td>\n",
       "      <td>[\"XS\", \"S\", \"M\", \"L\", \"XL\"]</td>\n",
       "      <td>S</td>\n",
       "      <td>peach melba</td>\n",
       "    </tr>\n",
       "  </tbody>\n",
       "</table>\n",
       "</div>"
      ],
      "text/plain": [
       "                         product_name      mrp    price  \\\n",
       "0  Very Sexy Strappy Lace Thong Panty  $14.50   $14.50    \n",
       "\n",
       "                                             pdp_url         brand_name  \\\n",
       "0  https://www.victoriassecret.com/panties/shop-a...  Victoria's Secret   \n",
       "\n",
       "           product_category            retailer  \\\n",
       "0  Strappy Lace Thong Panty  Victoriassecret US   \n",
       "\n",
       "                                         description  rating  review_count  \\\n",
       "0  Lots of cheek peek, pretty lace, a strappy bac...     NaN           NaN   \n",
       "\n",
       "   style_attributes                  total_sizes available_size        color  \n",
       "0               NaN  [\"XS\", \"S\", \"M\", \"L\", \"XL\"]              S  peach melba  "
      ]
     },
     "execution_count": 28,
     "metadata": {},
     "output_type": "execute_result"
    }
   ],
   "source": [
    "df.head(1)"
   ]
  },
  {
   "cell_type": "code",
   "execution_count": 29,
   "metadata": {
    "ExecuteTime": {
     "end_time": "2022-10-09T11:26:16.866608Z",
     "start_time": "2022-10-09T11:26:16.853597Z"
    }
   },
   "outputs": [],
   "source": [
    "# function to extract data for the given column name and return the values\n",
    "def __getitem__(self, col_name):\n",
    "            col_index = self.columns.index(col_name)\n",
    "            return [row[col_index] for row in self.df.values()]\n",
    "\n",
    "def extract_column_data(col_name: str) -> pd.Series:\n",
    "    col_data = df[col_name]\n",
    "    return list(col_data)"
   ]
  },
  {
   "cell_type": "code",
   "execution_count": 30,
   "metadata": {
    "ExecuteTime": {
     "end_time": "2022-10-09T11:26:16.933650Z",
     "start_time": "2022-10-09T11:26:16.881131Z"
    }
   },
   "outputs": [],
   "source": [
    "# calling the extract_column_data function and storing the values in a variable called 'product_name'\n",
    "product_name = extract_column_data('product_name')"
   ]
  },
  {
   "cell_type": "code",
   "execution_count": 31,
   "metadata": {
    "ExecuteTime": {
     "end_time": "2022-10-09T11:26:16.953478Z",
     "start_time": "2022-10-09T11:26:16.942588Z"
    }
   },
   "outputs": [
    {
     "data": {
      "text/plain": [
       "(list, 453386)"
      ]
     },
     "execution_count": 31,
     "metadata": {},
     "output_type": "execute_result"
    }
   ],
   "source": [
    "type(product_name), len(product_name)"
   ]
  },
  {
   "cell_type": "code",
   "execution_count": 32,
   "metadata": {
    "ExecuteTime": {
     "end_time": "2022-10-09T11:26:16.975603Z",
     "start_time": "2022-10-09T11:26:16.959654Z"
    }
   },
   "outputs": [
    {
     "data": {
      "text/plain": [
       "('Very Sexy Strappy Lace Thong Panty',\n",
       " 'Victoria Sport NEW! The Player by Victoria Sport Sport Bra')"
      ]
     },
     "execution_count": 32,
     "metadata": {},
     "output_type": "execute_result"
    }
   ],
   "source": [
    "# Check\n",
    "product_name[0], product_name[50]"
   ]
  },
  {
   "cell_type": "code",
   "execution_count": null,
   "metadata": {},
   "outputs": [],
   "source": []
  },
  {
   "cell_type": "code",
   "execution_count": null,
   "metadata": {},
   "outputs": [],
   "source": []
  },
  {
   "cell_type": "markdown",
   "metadata": {},
   "source": [
    "----\n",
    "Use the describe method on df. What kind of output do you get? "
   ]
  },
  {
   "cell_type": "code",
   "execution_count": 33,
   "metadata": {
    "ExecuteTime": {
     "end_time": "2022-10-09T11:26:16.985662Z",
     "start_time": "2022-10-09T11:26:16.981286Z"
    }
   },
   "outputs": [],
   "source": [
    "## Your code here ##"
   ]
  },
  {
   "cell_type": "code",
   "execution_count": 34,
   "metadata": {
    "ExecuteTime": {
     "end_time": "2022-10-09T11:26:17.062664Z",
     "start_time": "2022-10-09T11:26:16.992877Z"
    }
   },
   "outputs": [
    {
     "data": {
      "text/html": [
       "<div>\n",
       "<style scoped>\n",
       "    .dataframe tbody tr th:only-of-type {\n",
       "        vertical-align: middle;\n",
       "    }\n",
       "\n",
       "    .dataframe tbody tr th {\n",
       "        vertical-align: top;\n",
       "    }\n",
       "\n",
       "    .dataframe thead th {\n",
       "        text-align: right;\n",
       "    }\n",
       "</style>\n",
       "<table border=\"1\" class=\"dataframe\">\n",
       "  <thead>\n",
       "    <tr style=\"text-align: right;\">\n",
       "      <th></th>\n",
       "      <th>rating</th>\n",
       "      <th>review_count</th>\n",
       "      <th>style_attributes</th>\n",
       "    </tr>\n",
       "  </thead>\n",
       "  <tbody>\n",
       "    <tr>\n",
       "      <th>count</th>\n",
       "      <td>137734.000000</td>\n",
       "      <td>1.377340e+05</td>\n",
       "      <td>0.0</td>\n",
       "    </tr>\n",
       "    <tr>\n",
       "      <th>mean</th>\n",
       "      <td>4.165819</td>\n",
       "      <td>9.202884e+35</td>\n",
       "      <td>NaN</td>\n",
       "    </tr>\n",
       "    <tr>\n",
       "      <th>std</th>\n",
       "      <td>0.487524</td>\n",
       "      <td>1.162929e+37</td>\n",
       "      <td>NaN</td>\n",
       "    </tr>\n",
       "    <tr>\n",
       "      <th>min</th>\n",
       "      <td>0.000000</td>\n",
       "      <td>2.000000e+00</td>\n",
       "      <td>NaN</td>\n",
       "    </tr>\n",
       "    <tr>\n",
       "      <th>25%</th>\n",
       "      <td>4.000000</td>\n",
       "      <td>3.900000e+01</td>\n",
       "      <td>NaN</td>\n",
       "    </tr>\n",
       "    <tr>\n",
       "      <th>50%</th>\n",
       "      <td>4.300000</td>\n",
       "      <td>1.470000e+02</td>\n",
       "      <td>NaN</td>\n",
       "    </tr>\n",
       "    <tr>\n",
       "      <th>75%</th>\n",
       "      <td>4.500000</td>\n",
       "      <td>4.100000e+02</td>\n",
       "      <td>NaN</td>\n",
       "    </tr>\n",
       "    <tr>\n",
       "      <th>max</th>\n",
       "      <td>5.000000</td>\n",
       "      <td>1.560000e+38</td>\n",
       "      <td>NaN</td>\n",
       "    </tr>\n",
       "  </tbody>\n",
       "</table>\n",
       "</div>"
      ],
      "text/plain": [
       "              rating  review_count  style_attributes\n",
       "count  137734.000000  1.377340e+05               0.0\n",
       "mean        4.165819  9.202884e+35               NaN\n",
       "std         0.487524  1.162929e+37               NaN\n",
       "min         0.000000  2.000000e+00               NaN\n",
       "25%         4.000000  3.900000e+01               NaN\n",
       "50%         4.300000  1.470000e+02               NaN\n",
       "75%         4.500000  4.100000e+02               NaN\n",
       "max         5.000000  1.560000e+38               NaN"
      ]
     },
     "execution_count": 34,
     "metadata": {},
     "output_type": "execute_result"
    }
   ],
   "source": [
    "# using describe() on df dataframe to check the summary statistics of the numerical columns in the dataset\n",
    "df.describe()"
   ]
  },
  {
   "cell_type": "code",
   "execution_count": null,
   "metadata": {},
   "outputs": [],
   "source": []
  },
  {
   "cell_type": "code",
   "execution_count": null,
   "metadata": {},
   "outputs": [],
   "source": []
  },
  {
   "cell_type": "markdown",
   "metadata": {},
   "source": [
    "-----\n",
    "With Pandas, there are also some interesting methods that allow us to identify where you have null values (nan or empty).\n",
    "\n",
    "Apply isnull (or isna) and sum methods on df. \n",
    "\n",
    "What do you get? "
   ]
  },
  {
   "cell_type": "code",
   "execution_count": 35,
   "metadata": {
    "ExecuteTime": {
     "end_time": "2022-10-09T11:26:17.072883Z",
     "start_time": "2022-10-09T11:26:17.066434Z"
    }
   },
   "outputs": [],
   "source": [
    "## Your code here ##"
   ]
  },
  {
   "cell_type": "code",
   "execution_count": 36,
   "metadata": {
    "ExecuteTime": {
     "end_time": "2022-10-09T11:26:18.324163Z",
     "start_time": "2022-10-09T11:26:17.076986Z"
    }
   },
   "outputs": [
    {
     "data": {
      "text/html": [
       "<div>\n",
       "<style scoped>\n",
       "    .dataframe tbody tr th:only-of-type {\n",
       "        vertical-align: middle;\n",
       "    }\n",
       "\n",
       "    .dataframe tbody tr th {\n",
       "        vertical-align: top;\n",
       "    }\n",
       "\n",
       "    .dataframe thead th {\n",
       "        text-align: right;\n",
       "    }\n",
       "</style>\n",
       "<table border=\"1\" class=\"dataframe\">\n",
       "  <thead>\n",
       "    <tr style=\"text-align: right;\">\n",
       "      <th></th>\n",
       "      <th>product_name</th>\n",
       "      <th>mrp</th>\n",
       "      <th>price</th>\n",
       "      <th>pdp_url</th>\n",
       "      <th>brand_name</th>\n",
       "      <th>product_category</th>\n",
       "      <th>retailer</th>\n",
       "      <th>description</th>\n",
       "      <th>rating</th>\n",
       "      <th>review_count</th>\n",
       "      <th>style_attributes</th>\n",
       "      <th>total_sizes</th>\n",
       "      <th>available_size</th>\n",
       "      <th>color</th>\n",
       "    </tr>\n",
       "  </thead>\n",
       "  <tbody>\n",
       "    <tr>\n",
       "      <th>0</th>\n",
       "      <td>False</td>\n",
       "      <td>False</td>\n",
       "      <td>False</td>\n",
       "      <td>False</td>\n",
       "      <td>False</td>\n",
       "      <td>False</td>\n",
       "      <td>False</td>\n",
       "      <td>False</td>\n",
       "      <td>True</td>\n",
       "      <td>True</td>\n",
       "      <td>True</td>\n",
       "      <td>False</td>\n",
       "      <td>False</td>\n",
       "      <td>False</td>\n",
       "    </tr>\n",
       "    <tr>\n",
       "      <th>1</th>\n",
       "      <td>False</td>\n",
       "      <td>False</td>\n",
       "      <td>False</td>\n",
       "      <td>False</td>\n",
       "      <td>False</td>\n",
       "      <td>False</td>\n",
       "      <td>False</td>\n",
       "      <td>False</td>\n",
       "      <td>True</td>\n",
       "      <td>True</td>\n",
       "      <td>True</td>\n",
       "      <td>False</td>\n",
       "      <td>False</td>\n",
       "      <td>False</td>\n",
       "    </tr>\n",
       "    <tr>\n",
       "      <th>2</th>\n",
       "      <td>False</td>\n",
       "      <td>False</td>\n",
       "      <td>False</td>\n",
       "      <td>False</td>\n",
       "      <td>False</td>\n",
       "      <td>False</td>\n",
       "      <td>False</td>\n",
       "      <td>False</td>\n",
       "      <td>True</td>\n",
       "      <td>True</td>\n",
       "      <td>True</td>\n",
       "      <td>False</td>\n",
       "      <td>False</td>\n",
       "      <td>False</td>\n",
       "    </tr>\n",
       "    <tr>\n",
       "      <th>3</th>\n",
       "      <td>False</td>\n",
       "      <td>False</td>\n",
       "      <td>False</td>\n",
       "      <td>False</td>\n",
       "      <td>False</td>\n",
       "      <td>False</td>\n",
       "      <td>False</td>\n",
       "      <td>False</td>\n",
       "      <td>True</td>\n",
       "      <td>True</td>\n",
       "      <td>True</td>\n",
       "      <td>False</td>\n",
       "      <td>False</td>\n",
       "      <td>False</td>\n",
       "    </tr>\n",
       "    <tr>\n",
       "      <th>4</th>\n",
       "      <td>False</td>\n",
       "      <td>False</td>\n",
       "      <td>False</td>\n",
       "      <td>False</td>\n",
       "      <td>False</td>\n",
       "      <td>False</td>\n",
       "      <td>False</td>\n",
       "      <td>False</td>\n",
       "      <td>True</td>\n",
       "      <td>True</td>\n",
       "      <td>True</td>\n",
       "      <td>False</td>\n",
       "      <td>False</td>\n",
       "      <td>False</td>\n",
       "    </tr>\n",
       "    <tr>\n",
       "      <th>...</th>\n",
       "      <td>...</td>\n",
       "      <td>...</td>\n",
       "      <td>...</td>\n",
       "      <td>...</td>\n",
       "      <td>...</td>\n",
       "      <td>...</td>\n",
       "      <td>...</td>\n",
       "      <td>...</td>\n",
       "      <td>...</td>\n",
       "      <td>...</td>\n",
       "      <td>...</td>\n",
       "      <td>...</td>\n",
       "      <td>...</td>\n",
       "      <td>...</td>\n",
       "    </tr>\n",
       "    <tr>\n",
       "      <th>453381</th>\n",
       "      <td>False</td>\n",
       "      <td>False</td>\n",
       "      <td>False</td>\n",
       "      <td>False</td>\n",
       "      <td>False</td>\n",
       "      <td>False</td>\n",
       "      <td>False</td>\n",
       "      <td>False</td>\n",
       "      <td>True</td>\n",
       "      <td>True</td>\n",
       "      <td>True</td>\n",
       "      <td>False</td>\n",
       "      <td>False</td>\n",
       "      <td>False</td>\n",
       "    </tr>\n",
       "    <tr>\n",
       "      <th>453382</th>\n",
       "      <td>False</td>\n",
       "      <td>False</td>\n",
       "      <td>False</td>\n",
       "      <td>False</td>\n",
       "      <td>False</td>\n",
       "      <td>False</td>\n",
       "      <td>False</td>\n",
       "      <td>False</td>\n",
       "      <td>True</td>\n",
       "      <td>True</td>\n",
       "      <td>True</td>\n",
       "      <td>False</td>\n",
       "      <td>False</td>\n",
       "      <td>False</td>\n",
       "    </tr>\n",
       "    <tr>\n",
       "      <th>453383</th>\n",
       "      <td>False</td>\n",
       "      <td>False</td>\n",
       "      <td>False</td>\n",
       "      <td>False</td>\n",
       "      <td>False</td>\n",
       "      <td>False</td>\n",
       "      <td>False</td>\n",
       "      <td>False</td>\n",
       "      <td>True</td>\n",
       "      <td>True</td>\n",
       "      <td>True</td>\n",
       "      <td>False</td>\n",
       "      <td>False</td>\n",
       "      <td>False</td>\n",
       "    </tr>\n",
       "    <tr>\n",
       "      <th>453384</th>\n",
       "      <td>False</td>\n",
       "      <td>False</td>\n",
       "      <td>False</td>\n",
       "      <td>False</td>\n",
       "      <td>False</td>\n",
       "      <td>False</td>\n",
       "      <td>False</td>\n",
       "      <td>False</td>\n",
       "      <td>True</td>\n",
       "      <td>True</td>\n",
       "      <td>True</td>\n",
       "      <td>False</td>\n",
       "      <td>False</td>\n",
       "      <td>False</td>\n",
       "    </tr>\n",
       "    <tr>\n",
       "      <th>453385</th>\n",
       "      <td>False</td>\n",
       "      <td>False</td>\n",
       "      <td>False</td>\n",
       "      <td>False</td>\n",
       "      <td>False</td>\n",
       "      <td>False</td>\n",
       "      <td>False</td>\n",
       "      <td>False</td>\n",
       "      <td>True</td>\n",
       "      <td>True</td>\n",
       "      <td>True</td>\n",
       "      <td>False</td>\n",
       "      <td>False</td>\n",
       "      <td>False</td>\n",
       "    </tr>\n",
       "  </tbody>\n",
       "</table>\n",
       "<p>453386 rows × 14 columns</p>\n",
       "</div>"
      ],
      "text/plain": [
       "        product_name    mrp  price  pdp_url  brand_name  product_category  \\\n",
       "0              False  False  False    False       False             False   \n",
       "1              False  False  False    False       False             False   \n",
       "2              False  False  False    False       False             False   \n",
       "3              False  False  False    False       False             False   \n",
       "4              False  False  False    False       False             False   \n",
       "...              ...    ...    ...      ...         ...               ...   \n",
       "453381         False  False  False    False       False             False   \n",
       "453382         False  False  False    False       False             False   \n",
       "453383         False  False  False    False       False             False   \n",
       "453384         False  False  False    False       False             False   \n",
       "453385         False  False  False    False       False             False   \n",
       "\n",
       "        retailer  description  rating  review_count  style_attributes  \\\n",
       "0          False        False    True          True              True   \n",
       "1          False        False    True          True              True   \n",
       "2          False        False    True          True              True   \n",
       "3          False        False    True          True              True   \n",
       "4          False        False    True          True              True   \n",
       "...          ...          ...     ...           ...               ...   \n",
       "453381     False        False    True          True              True   \n",
       "453382     False        False    True          True              True   \n",
       "453383     False        False    True          True              True   \n",
       "453384     False        False    True          True              True   \n",
       "453385     False        False    True          True              True   \n",
       "\n",
       "        total_sizes  available_size  color  \n",
       "0             False           False  False  \n",
       "1             False           False  False  \n",
       "2             False           False  False  \n",
       "3             False           False  False  \n",
       "4             False           False  False  \n",
       "...             ...             ...    ...  \n",
       "453381        False           False  False  \n",
       "453382        False           False  False  \n",
       "453383        False           False  False  \n",
       "453384        False           False  False  \n",
       "453385        False           False  False  \n",
       "\n",
       "[453386 rows x 14 columns]"
      ]
     },
     "execution_count": 36,
     "metadata": {},
     "output_type": "execute_result"
    }
   ],
   "source": [
    "# using isnull method to identify null values in the dataset\n",
    "df.isnull()"
   ]
  },
  {
   "cell_type": "code",
   "execution_count": 37,
   "metadata": {
    "ExecuteTime": {
     "end_time": "2022-10-09T11:26:19.934943Z",
     "start_time": "2022-10-09T11:26:18.330102Z"
    }
   },
   "outputs": [
    {
     "data": {
      "text/html": [
       "<div>\n",
       "<style scoped>\n",
       "    .dataframe tbody tr th:only-of-type {\n",
       "        vertical-align: middle;\n",
       "    }\n",
       "\n",
       "    .dataframe tbody tr th {\n",
       "        vertical-align: top;\n",
       "    }\n",
       "\n",
       "    .dataframe thead th {\n",
       "        text-align: right;\n",
       "    }\n",
       "</style>\n",
       "<table border=\"1\" class=\"dataframe\">\n",
       "  <thead>\n",
       "    <tr style=\"text-align: right;\">\n",
       "      <th></th>\n",
       "      <th>product_name</th>\n",
       "      <th>mrp</th>\n",
       "      <th>price</th>\n",
       "      <th>pdp_url</th>\n",
       "      <th>brand_name</th>\n",
       "      <th>product_category</th>\n",
       "      <th>retailer</th>\n",
       "      <th>description</th>\n",
       "      <th>rating</th>\n",
       "      <th>review_count</th>\n",
       "      <th>style_attributes</th>\n",
       "      <th>total_sizes</th>\n",
       "      <th>available_size</th>\n",
       "      <th>color</th>\n",
       "    </tr>\n",
       "  </thead>\n",
       "  <tbody>\n",
       "    <tr>\n",
       "      <th>0</th>\n",
       "      <td>False</td>\n",
       "      <td>False</td>\n",
       "      <td>False</td>\n",
       "      <td>False</td>\n",
       "      <td>False</td>\n",
       "      <td>False</td>\n",
       "      <td>False</td>\n",
       "      <td>False</td>\n",
       "      <td>True</td>\n",
       "      <td>True</td>\n",
       "      <td>True</td>\n",
       "      <td>False</td>\n",
       "      <td>False</td>\n",
       "      <td>False</td>\n",
       "    </tr>\n",
       "    <tr>\n",
       "      <th>1</th>\n",
       "      <td>False</td>\n",
       "      <td>False</td>\n",
       "      <td>False</td>\n",
       "      <td>False</td>\n",
       "      <td>False</td>\n",
       "      <td>False</td>\n",
       "      <td>False</td>\n",
       "      <td>False</td>\n",
       "      <td>True</td>\n",
       "      <td>True</td>\n",
       "      <td>True</td>\n",
       "      <td>False</td>\n",
       "      <td>False</td>\n",
       "      <td>False</td>\n",
       "    </tr>\n",
       "    <tr>\n",
       "      <th>2</th>\n",
       "      <td>False</td>\n",
       "      <td>False</td>\n",
       "      <td>False</td>\n",
       "      <td>False</td>\n",
       "      <td>False</td>\n",
       "      <td>False</td>\n",
       "      <td>False</td>\n",
       "      <td>False</td>\n",
       "      <td>True</td>\n",
       "      <td>True</td>\n",
       "      <td>True</td>\n",
       "      <td>False</td>\n",
       "      <td>False</td>\n",
       "      <td>False</td>\n",
       "    </tr>\n",
       "    <tr>\n",
       "      <th>3</th>\n",
       "      <td>False</td>\n",
       "      <td>False</td>\n",
       "      <td>False</td>\n",
       "      <td>False</td>\n",
       "      <td>False</td>\n",
       "      <td>False</td>\n",
       "      <td>False</td>\n",
       "      <td>False</td>\n",
       "      <td>True</td>\n",
       "      <td>True</td>\n",
       "      <td>True</td>\n",
       "      <td>False</td>\n",
       "      <td>False</td>\n",
       "      <td>False</td>\n",
       "    </tr>\n",
       "    <tr>\n",
       "      <th>4</th>\n",
       "      <td>False</td>\n",
       "      <td>False</td>\n",
       "      <td>False</td>\n",
       "      <td>False</td>\n",
       "      <td>False</td>\n",
       "      <td>False</td>\n",
       "      <td>False</td>\n",
       "      <td>False</td>\n",
       "      <td>True</td>\n",
       "      <td>True</td>\n",
       "      <td>True</td>\n",
       "      <td>False</td>\n",
       "      <td>False</td>\n",
       "      <td>False</td>\n",
       "    </tr>\n",
       "    <tr>\n",
       "      <th>...</th>\n",
       "      <td>...</td>\n",
       "      <td>...</td>\n",
       "      <td>...</td>\n",
       "      <td>...</td>\n",
       "      <td>...</td>\n",
       "      <td>...</td>\n",
       "      <td>...</td>\n",
       "      <td>...</td>\n",
       "      <td>...</td>\n",
       "      <td>...</td>\n",
       "      <td>...</td>\n",
       "      <td>...</td>\n",
       "      <td>...</td>\n",
       "      <td>...</td>\n",
       "    </tr>\n",
       "    <tr>\n",
       "      <th>453381</th>\n",
       "      <td>False</td>\n",
       "      <td>False</td>\n",
       "      <td>False</td>\n",
       "      <td>False</td>\n",
       "      <td>False</td>\n",
       "      <td>False</td>\n",
       "      <td>False</td>\n",
       "      <td>False</td>\n",
       "      <td>True</td>\n",
       "      <td>True</td>\n",
       "      <td>True</td>\n",
       "      <td>False</td>\n",
       "      <td>False</td>\n",
       "      <td>False</td>\n",
       "    </tr>\n",
       "    <tr>\n",
       "      <th>453382</th>\n",
       "      <td>False</td>\n",
       "      <td>False</td>\n",
       "      <td>False</td>\n",
       "      <td>False</td>\n",
       "      <td>False</td>\n",
       "      <td>False</td>\n",
       "      <td>False</td>\n",
       "      <td>False</td>\n",
       "      <td>True</td>\n",
       "      <td>True</td>\n",
       "      <td>True</td>\n",
       "      <td>False</td>\n",
       "      <td>False</td>\n",
       "      <td>False</td>\n",
       "    </tr>\n",
       "    <tr>\n",
       "      <th>453383</th>\n",
       "      <td>False</td>\n",
       "      <td>False</td>\n",
       "      <td>False</td>\n",
       "      <td>False</td>\n",
       "      <td>False</td>\n",
       "      <td>False</td>\n",
       "      <td>False</td>\n",
       "      <td>False</td>\n",
       "      <td>True</td>\n",
       "      <td>True</td>\n",
       "      <td>True</td>\n",
       "      <td>False</td>\n",
       "      <td>False</td>\n",
       "      <td>False</td>\n",
       "    </tr>\n",
       "    <tr>\n",
       "      <th>453384</th>\n",
       "      <td>False</td>\n",
       "      <td>False</td>\n",
       "      <td>False</td>\n",
       "      <td>False</td>\n",
       "      <td>False</td>\n",
       "      <td>False</td>\n",
       "      <td>False</td>\n",
       "      <td>False</td>\n",
       "      <td>True</td>\n",
       "      <td>True</td>\n",
       "      <td>True</td>\n",
       "      <td>False</td>\n",
       "      <td>False</td>\n",
       "      <td>False</td>\n",
       "    </tr>\n",
       "    <tr>\n",
       "      <th>453385</th>\n",
       "      <td>False</td>\n",
       "      <td>False</td>\n",
       "      <td>False</td>\n",
       "      <td>False</td>\n",
       "      <td>False</td>\n",
       "      <td>False</td>\n",
       "      <td>False</td>\n",
       "      <td>False</td>\n",
       "      <td>True</td>\n",
       "      <td>True</td>\n",
       "      <td>True</td>\n",
       "      <td>False</td>\n",
       "      <td>False</td>\n",
       "      <td>False</td>\n",
       "    </tr>\n",
       "  </tbody>\n",
       "</table>\n",
       "<p>453386 rows × 14 columns</p>\n",
       "</div>"
      ],
      "text/plain": [
       "        product_name    mrp  price  pdp_url  brand_name  product_category  \\\n",
       "0              False  False  False    False       False             False   \n",
       "1              False  False  False    False       False             False   \n",
       "2              False  False  False    False       False             False   \n",
       "3              False  False  False    False       False             False   \n",
       "4              False  False  False    False       False             False   \n",
       "...              ...    ...    ...      ...         ...               ...   \n",
       "453381         False  False  False    False       False             False   \n",
       "453382         False  False  False    False       False             False   \n",
       "453383         False  False  False    False       False             False   \n",
       "453384         False  False  False    False       False             False   \n",
       "453385         False  False  False    False       False             False   \n",
       "\n",
       "        retailer  description  rating  review_count  style_attributes  \\\n",
       "0          False        False    True          True              True   \n",
       "1          False        False    True          True              True   \n",
       "2          False        False    True          True              True   \n",
       "3          False        False    True          True              True   \n",
       "4          False        False    True          True              True   \n",
       "...          ...          ...     ...           ...               ...   \n",
       "453381     False        False    True          True              True   \n",
       "453382     False        False    True          True              True   \n",
       "453383     False        False    True          True              True   \n",
       "453384     False        False    True          True              True   \n",
       "453385     False        False    True          True              True   \n",
       "\n",
       "        total_sizes  available_size  color  \n",
       "0             False           False  False  \n",
       "1             False           False  False  \n",
       "2             False           False  False  \n",
       "3             False           False  False  \n",
       "4             False           False  False  \n",
       "...             ...             ...    ...  \n",
       "453381        False           False  False  \n",
       "453382        False           False  False  \n",
       "453383        False           False  False  \n",
       "453384        False           False  False  \n",
       "453385        False           False  False  \n",
       "\n",
       "[453386 rows x 14 columns]"
      ]
     },
     "execution_count": 37,
     "metadata": {},
     "output_type": "execute_result"
    }
   ],
   "source": [
    "# using isna method to identify na values in the dataset\n",
    "df.isna()"
   ]
  },
  {
   "cell_type": "code",
   "execution_count": null,
   "metadata": {},
   "outputs": [],
   "source": []
  },
  {
   "cell_type": "code",
   "execution_count": 38,
   "metadata": {
    "ExecuteTime": {
     "end_time": "2022-10-09T11:26:19.957103Z",
     "start_time": "2022-10-09T11:26:19.942191Z"
    }
   },
   "outputs": [
    {
     "data": {
      "text/plain": [
       "Index(['product_name', 'mrp', 'price', 'pdp_url', 'brand_name',\n",
       "       'product_category', 'retailer', 'description', 'rating', 'review_count',\n",
       "       'style_attributes', 'total_sizes', 'available_size', 'color'],\n",
       "      dtype='object')"
      ]
     },
     "execution_count": 38,
     "metadata": {},
     "output_type": "execute_result"
    }
   ],
   "source": [
    "df.columns"
   ]
  },
  {
   "cell_type": "markdown",
   "metadata": {},
   "source": [
    "---\n",
    "Apply the value_counts() method to df considering the 'price' and 'product_name' columns"
   ]
  },
  {
   "cell_type": "code",
   "execution_count": 39,
   "metadata": {
    "ExecuteTime": {
     "end_time": "2022-10-09T11:26:19.971816Z",
     "start_time": "2022-10-09T11:26:19.965208Z"
    }
   },
   "outputs": [],
   "source": [
    "## Your code here ##"
   ]
  },
  {
   "cell_type": "code",
   "execution_count": 40,
   "metadata": {
    "ExecuteTime": {
     "end_time": "2022-10-09T11:26:20.047676Z",
     "start_time": "2022-10-09T11:26:19.976862Z"
    }
   },
   "outputs": [
    {
     "data": {
      "text/plain": [
       "price\n",
       "$10.50     45832\n",
       "$36.50     33365\n",
       "$34.50     24636\n",
       "$34.95     24148\n",
       "$19.99     22784\n",
       "           ...  \n",
       "$16.95        24\n",
       "$64.95        12\n",
       "$59.95        12\n",
       "$32.99        12\n",
       "$9.95         11\n",
       "Length: 96, dtype: int64"
      ]
     },
     "execution_count": 40,
     "metadata": {},
     "output_type": "execute_result"
    }
   ],
   "source": [
    "# to find the count of each values in a given price column\n",
    "df.value_counts('price')"
   ]
  },
  {
   "cell_type": "code",
   "execution_count": 41,
   "metadata": {
    "ExecuteTime": {
     "end_time": "2022-10-09T11:26:20.056746Z",
     "start_time": "2022-10-09T11:26:20.052855Z"
    }
   },
   "outputs": [],
   "source": [
    "## Your code here ##"
   ]
  },
  {
   "cell_type": "code",
   "execution_count": 42,
   "metadata": {
    "ExecuteTime": {
     "end_time": "2022-10-09T11:26:20.157963Z",
     "start_time": "2022-10-09T11:26:20.062656Z"
    }
   },
   "outputs": [
    {
     "data": {
      "text/plain": [
       "product_name\n",
       "Body by Victoria Perfect Coverage Bra              17922\n",
       "Victoria Sport Incredible by Victoria Sport Bra    12274\n",
       "Dream Angels Push-Up Bra                           11878\n",
       "Very Sexy Push-Up Bra                              10985\n",
       "Body by Victoria Demi Bra                          10881\n",
       "                                                   ...  \n",
       "Very Sexy Mesh & Lace Cheeky Panty                     5\n",
       "Very Sexy Embroidered Triangle Bra                     4\n",
       "PINK Fresh & Clean Gym Kit                             3\n",
       "PINK Coconut Waters Travel Kit                         3\n",
       "Very Sexy Heart Lace Garter Belt                       2\n",
       "Length: 617, dtype: int64"
      ]
     },
     "execution_count": 42,
     "metadata": {},
     "output_type": "execute_result"
    }
   ],
   "source": [
    "# to find the count of each values in a given product_name column\n",
    "df.value_counts('product_name')"
   ]
  },
  {
   "cell_type": "markdown",
   "metadata": {},
   "source": [
    "----------"
   ]
  },
  {
   "cell_type": "markdown",
   "metadata": {
    "heading_collapsed": true
   },
   "source": [
    "### II. Preprocess data"
   ]
  },
  {
   "cell_type": "markdown",
   "metadata": {},
   "source": [
    "We are going to preprocess the dataset like we did in week 2 AI Booster, but using the Pandas methods instead. "
   ]
  },
  {
   "cell_type": "markdown",
   "metadata": {
    "heading_collapsed": true,
    "hidden": true
   },
   "source": [
    "#### Step 1:\n",
    "\n",
    "Convert `price` and `mrp` columns into quantitative (numerical)"
   ]
  },
  {
   "cell_type": "markdown",
   "metadata": {},
   "source": [
    "First check all the values of 'mrp' and 'price' columns (by counting them for example).\n",
    "And save them into new variables. "
   ]
  },
  {
   "cell_type": "code",
   "execution_count": 43,
   "metadata": {
    "ExecuteTime": {
     "end_time": "2022-10-09T11:26:20.175060Z",
     "start_time": "2022-10-09T11:26:20.163183Z"
    }
   },
   "outputs": [],
   "source": [
    "## Your code here ##"
   ]
  },
  {
   "cell_type": "code",
   "execution_count": 44,
   "metadata": {
    "ExecuteTime": {
     "end_time": "2022-10-09T11:26:20.252578Z",
     "start_time": "2022-10-09T11:26:20.181656Z"
    }
   },
   "outputs": [
    {
     "data": {
      "text/plain": [
       "(453386, 453386)"
      ]
     },
     "execution_count": 44,
     "metadata": {},
     "output_type": "execute_result"
    }
   ],
   "source": [
    "df['mrp'].count() , df['price'].count()"
   ]
  },
  {
   "cell_type": "code",
   "execution_count": 45,
   "metadata": {
    "ExecuteTime": {
     "end_time": "2022-10-09T11:26:20.264123Z",
     "start_time": "2022-10-09T11:26:20.258257Z"
    }
   },
   "outputs": [],
   "source": [
    "mrp = df['mrp']"
   ]
  },
  {
   "cell_type": "code",
   "execution_count": 46,
   "metadata": {
    "ExecuteTime": {
     "end_time": "2022-10-09T11:26:20.279378Z",
     "start_time": "2022-10-09T11:26:20.268289Z"
    }
   },
   "outputs": [
    {
     "data": {
      "text/plain": [
       "(pandas.core.series.Series, '$14.50 ')"
      ]
     },
     "execution_count": 46,
     "metadata": {},
     "output_type": "execute_result"
    }
   ],
   "source": [
    "type(mrp), mrp[0]"
   ]
  },
  {
   "cell_type": "code",
   "execution_count": 47,
   "metadata": {
    "ExecuteTime": {
     "end_time": "2022-10-09T11:26:20.291994Z",
     "start_time": "2022-10-09T11:26:20.287052Z"
    }
   },
   "outputs": [],
   "source": [
    "price = df['price']"
   ]
  },
  {
   "cell_type": "code",
   "execution_count": 48,
   "metadata": {
    "ExecuteTime": {
     "end_time": "2022-10-09T11:26:20.308485Z",
     "start_time": "2022-10-09T11:26:20.297699Z"
    }
   },
   "outputs": [
    {
     "data": {
      "text/plain": [
       "(pandas.core.series.Series, '$14.50 ')"
      ]
     },
     "execution_count": 48,
     "metadata": {},
     "output_type": "execute_result"
    }
   ],
   "source": [
    "type(price), price[0]"
   ]
  },
  {
   "cell_type": "markdown",
   "metadata": {},
   "source": [
    "Check the last values in the each of these new variables."
   ]
  },
  {
   "cell_type": "code",
   "execution_count": 49,
   "metadata": {
    "ExecuteTime": {
     "end_time": "2022-10-09T11:26:20.325305Z",
     "start_time": "2022-10-09T11:26:20.314592Z"
    }
   },
   "outputs": [],
   "source": [
    "## Your code here ##"
   ]
  },
  {
   "cell_type": "code",
   "execution_count": 50,
   "metadata": {
    "ExecuteTime": {
     "end_time": "2022-10-09T11:26:20.342561Z",
     "start_time": "2022-10-09T11:26:20.331355Z"
    }
   },
   "outputs": [
    {
     "data": {
      "text/plain": [
       "('$48.00 ', '$48.00 ')"
      ]
     },
     "execution_count": 50,
     "metadata": {},
     "output_type": "execute_result"
    }
   ],
   "source": [
    "mrp.iloc[-1] , price.iloc[-1]"
   ]
  },
  {
   "cell_type": "markdown",
   "metadata": {},
   "source": [
    "We can see that the currency is indicated at the beginning of each value. \n",
    "\n",
    "How many types of different currencies do we have ?"
   ]
  },
  {
   "cell_type": "code",
   "execution_count": 51,
   "metadata": {
    "ExecuteTime": {
     "end_time": "2022-10-09T11:26:20.355780Z",
     "start_time": "2022-10-09T11:26:20.349368Z"
    }
   },
   "outputs": [],
   "source": [
    "## Your code here ##"
   ]
  },
  {
   "cell_type": "code",
   "execution_count": 52,
   "metadata": {
    "ExecuteTime": {
     "end_time": "2022-10-09T11:26:21.259412Z",
     "start_time": "2022-10-09T11:26:20.365945Z"
    }
   },
   "outputs": [
    {
     "data": {
      "text/plain": [
       "(array(['$', '₡', 'R'], dtype=object), 3)"
      ]
     },
     "execution_count": 52,
     "metadata": {},
     "output_type": "execute_result"
    }
   ],
   "source": [
    "price.str[0].unique(), price.str[0].nunique()"
   ]
  },
  {
   "cell_type": "code",
   "execution_count": 53,
   "metadata": {
    "ExecuteTime": {
     "end_time": "2022-10-09T11:26:22.049464Z",
     "start_time": "2022-10-09T11:26:21.263399Z"
    },
    "scrolled": true
   },
   "outputs": [
    {
     "data": {
      "text/plain": [
       "(array(['$', '₡', 'R'], dtype=object), 3)"
      ]
     },
     "execution_count": 53,
     "metadata": {},
     "output_type": "execute_result"
    }
   ],
   "source": [
    "mrp.str[0].unique(), mrp.str[0].nunique()"
   ]
  },
  {
   "cell_type": "code",
   "execution_count": null,
   "metadata": {},
   "outputs": [],
   "source": []
  },
  {
   "cell_type": "markdown",
   "metadata": {},
   "source": [
    "---\n",
    "Now create a \"clean_price\" function which takes a price as argument. \n",
    "\n",
    "Then if this element contains $, remove the dollar (put it into a float format).\n",
    "<br>Otherwise do nothing. "
   ]
  },
  {
   "cell_type": "code",
   "execution_count": 54,
   "metadata": {
    "ExecuteTime": {
     "end_time": "2022-10-09T11:26:22.059871Z",
     "start_time": "2022-10-09T11:26:22.053814Z"
    }
   },
   "outputs": [],
   "source": [
    "## Your code here ##"
   ]
  },
  {
   "cell_type": "code",
   "execution_count": 55,
   "metadata": {
    "ExecuteTime": {
     "end_time": "2022-10-09T11:26:22.074476Z",
     "start_time": "2022-10-09T11:26:22.066451Z"
    }
   },
   "outputs": [],
   "source": [
    "def clean_price(x):\n",
    "    if '$' in x:\n",
    "        return x.replace('$',\"\")\n",
    "    else:\n",
    "        pass\n",
    "    "
   ]
  },
  {
   "cell_type": "code",
   "execution_count": null,
   "metadata": {
    "ExecuteTime": {
     "end_time": "2022-10-07T19:45:52.610530Z",
     "start_time": "2022-10-07T19:45:52.584190Z"
    }
   },
   "outputs": [],
   "source": []
  },
  {
   "cell_type": "markdown",
   "metadata": {},
   "source": [
    "Apply this function to 'mrp' and 'price' columns, using apply. \n",
    "\n",
    "Here the **apply method** is only valid for a specific column of a dataset. \n",
    "Use **applymap** if you need to apply a function to 2 or more columns."
   ]
  },
  {
   "cell_type": "code",
   "execution_count": 56,
   "metadata": {
    "ExecuteTime": {
     "end_time": "2022-10-09T11:26:22.092369Z",
     "start_time": "2022-10-09T11:26:22.085941Z"
    }
   },
   "outputs": [],
   "source": [
    "## Your code here ##"
   ]
  },
  {
   "cell_type": "code",
   "execution_count": 57,
   "metadata": {
    "ExecuteTime": {
     "end_time": "2022-10-09T11:26:22.415277Z",
     "start_time": "2022-10-09T11:26:22.101635Z"
    }
   },
   "outputs": [
    {
     "data": {
      "text/plain": [
       "0         14.50 \n",
       "1         14.50 \n",
       "2         14.50 \n",
       "3         14.50 \n",
       "4         14.50 \n",
       "           ...  \n",
       "453381    48.00 \n",
       "453382    48.00 \n",
       "453383    48.00 \n",
       "453384    48.00 \n",
       "453385    48.00 \n",
       "Name: mrp, Length: 453386, dtype: object"
      ]
     },
     "execution_count": 57,
     "metadata": {},
     "output_type": "execute_result"
    }
   ],
   "source": [
    "df['mrp'].apply(lambda x: clean_price(x))"
   ]
  },
  {
   "cell_type": "code",
   "execution_count": 58,
   "metadata": {
    "ExecuteTime": {
     "end_time": "2022-10-09T11:26:22.718549Z",
     "start_time": "2022-10-09T11:26:22.420538Z"
    }
   },
   "outputs": [
    {
     "data": {
      "text/plain": [
       "0         14.50 \n",
       "1         14.50 \n",
       "2         14.50 \n",
       "3         14.50 \n",
       "4         14.50 \n",
       "           ...  \n",
       "453381    48.00 \n",
       "453382    48.00 \n",
       "453383    48.00 \n",
       "453384    48.00 \n",
       "453385    48.00 \n",
       "Name: price, Length: 453386, dtype: object"
      ]
     },
     "execution_count": 58,
     "metadata": {},
     "output_type": "execute_result"
    }
   ],
   "source": [
    "df['price'].apply(lambda x: clean_price(x))"
   ]
  },
  {
   "cell_type": "code",
   "execution_count": null,
   "metadata": {},
   "outputs": [],
   "source": []
  },
  {
   "cell_type": "markdown",
   "metadata": {},
   "source": [
    "Describe your dataset (df) once more. Has anything changed? If so why ?"
   ]
  },
  {
   "cell_type": "code",
   "execution_count": 59,
   "metadata": {
    "ExecuteTime": {
     "end_time": "2022-10-09T11:26:22.832305Z",
     "start_time": "2022-10-09T11:26:22.723472Z"
    }
   },
   "outputs": [
    {
     "data": {
      "text/html": [
       "<div>\n",
       "<style scoped>\n",
       "    .dataframe tbody tr th:only-of-type {\n",
       "        vertical-align: middle;\n",
       "    }\n",
       "\n",
       "    .dataframe tbody tr th {\n",
       "        vertical-align: top;\n",
       "    }\n",
       "\n",
       "    .dataframe thead th {\n",
       "        text-align: right;\n",
       "    }\n",
       "</style>\n",
       "<table border=\"1\" class=\"dataframe\">\n",
       "  <thead>\n",
       "    <tr style=\"text-align: right;\">\n",
       "      <th></th>\n",
       "      <th>rating</th>\n",
       "      <th>review_count</th>\n",
       "      <th>style_attributes</th>\n",
       "    </tr>\n",
       "  </thead>\n",
       "  <tbody>\n",
       "    <tr>\n",
       "      <th>count</th>\n",
       "      <td>137734.000000</td>\n",
       "      <td>1.377340e+05</td>\n",
       "      <td>0.0</td>\n",
       "    </tr>\n",
       "    <tr>\n",
       "      <th>mean</th>\n",
       "      <td>4.165819</td>\n",
       "      <td>9.202884e+35</td>\n",
       "      <td>NaN</td>\n",
       "    </tr>\n",
       "    <tr>\n",
       "      <th>std</th>\n",
       "      <td>0.487524</td>\n",
       "      <td>1.162929e+37</td>\n",
       "      <td>NaN</td>\n",
       "    </tr>\n",
       "    <tr>\n",
       "      <th>min</th>\n",
       "      <td>0.000000</td>\n",
       "      <td>2.000000e+00</td>\n",
       "      <td>NaN</td>\n",
       "    </tr>\n",
       "    <tr>\n",
       "      <th>25%</th>\n",
       "      <td>4.000000</td>\n",
       "      <td>3.900000e+01</td>\n",
       "      <td>NaN</td>\n",
       "    </tr>\n",
       "    <tr>\n",
       "      <th>50%</th>\n",
       "      <td>4.300000</td>\n",
       "      <td>1.470000e+02</td>\n",
       "      <td>NaN</td>\n",
       "    </tr>\n",
       "    <tr>\n",
       "      <th>75%</th>\n",
       "      <td>4.500000</td>\n",
       "      <td>4.100000e+02</td>\n",
       "      <td>NaN</td>\n",
       "    </tr>\n",
       "    <tr>\n",
       "      <th>max</th>\n",
       "      <td>5.000000</td>\n",
       "      <td>1.560000e+38</td>\n",
       "      <td>NaN</td>\n",
       "    </tr>\n",
       "  </tbody>\n",
       "</table>\n",
       "</div>"
      ],
      "text/plain": [
       "              rating  review_count  style_attributes\n",
       "count  137734.000000  1.377340e+05               0.0\n",
       "mean        4.165819  9.202884e+35               NaN\n",
       "std         0.487524  1.162929e+37               NaN\n",
       "min         0.000000  2.000000e+00               NaN\n",
       "25%         4.000000  3.900000e+01               NaN\n",
       "50%         4.300000  1.470000e+02               NaN\n",
       "75%         4.500000  4.100000e+02               NaN\n",
       "max         5.000000  1.560000e+38               NaN"
      ]
     },
     "execution_count": 59,
     "metadata": {},
     "output_type": "execute_result"
    }
   ],
   "source": [
    "df.describe()"
   ]
  },
  {
   "cell_type": "markdown",
   "metadata": {},
   "source": [
    "#### <span style=\"color:red\">Do you notice anything bizarre ? If so should you do something ?</span>"
   ]
  },
  {
   "cell_type": "code",
   "execution_count": 60,
   "metadata": {
    "ExecuteTime": {
     "end_time": "2022-10-09T11:26:23.245056Z",
     "start_time": "2022-10-09T11:26:22.838733Z"
    }
   },
   "outputs": [],
   "source": [
    "df['mrp']= df['mrp'].apply(lambda x: clean_price(x))"
   ]
  },
  {
   "cell_type": "code",
   "execution_count": 61,
   "metadata": {
    "ExecuteTime": {
     "end_time": "2022-10-09T11:26:23.628406Z",
     "start_time": "2022-10-09T11:26:23.249290Z"
    }
   },
   "outputs": [],
   "source": [
    "df['price']= df['price'].apply(lambda x: clean_price(x))"
   ]
  },
  {
   "cell_type": "code",
   "execution_count": null,
   "metadata": {},
   "outputs": [],
   "source": []
  },
  {
   "cell_type": "code",
   "execution_count": null,
   "metadata": {},
   "outputs": [],
   "source": []
  },
  {
   "cell_type": "markdown",
   "metadata": {},
   "source": [
    "----"
   ]
  },
  {
   "cell_type": "code",
   "execution_count": null,
   "metadata": {},
   "outputs": [],
   "source": []
  },
  {
   "cell_type": "markdown",
   "metadata": {
    "heading_collapsed": true,
    "hidden": true
   },
   "source": [
    "#### Step 2:\n",
    "\n",
    "Fill missing values by columns' medians"
   ]
  },
  {
   "cell_type": "code",
   "execution_count": 62,
   "metadata": {
    "ExecuteTime": {
     "end_time": "2022-10-09T11:26:23.637503Z",
     "start_time": "2022-10-09T11:26:23.632016Z"
    }
   },
   "outputs": [],
   "source": [
    "## Your code here ##"
   ]
  },
  {
   "cell_type": "code",
   "execution_count": 63,
   "metadata": {
    "ExecuteTime": {
     "end_time": "2022-10-09T11:26:23.652852Z",
     "start_time": "2022-10-09T11:26:23.643108Z"
    }
   },
   "outputs": [
    {
     "data": {
      "text/plain": [
       "(453386, 14)"
      ]
     },
     "execution_count": 63,
     "metadata": {},
     "output_type": "execute_result"
    }
   ],
   "source": [
    "df.shape"
   ]
  },
  {
   "cell_type": "code",
   "execution_count": 64,
   "metadata": {
    "ExecuteTime": {
     "end_time": "2022-10-09T11:26:25.024290Z",
     "start_time": "2022-10-09T11:26:23.657419Z"
    }
   },
   "outputs": [
    {
     "data": {
      "text/plain": [
       "product_name             0\n",
       "mrp                    506\n",
       "price                  506\n",
       "pdp_url                  0\n",
       "brand_name               0\n",
       "product_category         0\n",
       "retailer                 0\n",
       "description              0\n",
       "rating              315652\n",
       "review_count        315652\n",
       "style_attributes    453386\n",
       "total_sizes              0\n",
       "available_size           0\n",
       "color                    0\n",
       "dtype: int64"
      ]
     },
     "execution_count": 64,
     "metadata": {},
     "output_type": "execute_result"
    }
   ],
   "source": [
    "df.isna().sum()"
   ]
  },
  {
   "cell_type": "code",
   "execution_count": 65,
   "metadata": {
    "ExecuteTime": {
     "end_time": "2022-10-09T11:26:25.035689Z",
     "start_time": "2022-10-09T11:26:25.028276Z"
    }
   },
   "outputs": [],
   "source": [
    "## Your code here ##"
   ]
  },
  {
   "cell_type": "markdown",
   "metadata": {},
   "source": [
    "Apply the **median() method** to df on the relevant features (columns)\n",
    "\n",
    "And save the output into a variable called medians."
   ]
  },
  {
   "cell_type": "code",
   "execution_count": 66,
   "metadata": {
    "ExecuteTime": {
     "end_time": "2022-10-09T11:26:25.048318Z",
     "start_time": "2022-10-09T11:26:25.042678Z"
    }
   },
   "outputs": [],
   "source": [
    "## Your code here ##"
   ]
  },
  {
   "cell_type": "code",
   "execution_count": 67,
   "metadata": {
    "ExecuteTime": {
     "end_time": "2022-10-09T11:26:25.066860Z",
     "start_time": "2022-10-09T11:26:25.052517Z"
    }
   },
   "outputs": [],
   "source": [
    "## Your code here ##"
   ]
  },
  {
   "cell_type": "code",
   "execution_count": 68,
   "metadata": {
    "ExecuteTime": {
     "end_time": "2022-10-09T11:26:25.337875Z",
     "start_time": "2022-10-09T11:26:25.072146Z"
    }
   },
   "outputs": [],
   "source": [
    "mrp_median = df['mrp'].median()\n",
    "price_median = df['price'].median()\n",
    "rating_median = df['rating'].median()\n",
    "review_count_median = df['review_count'].median()"
   ]
  },
  {
   "cell_type": "markdown",
   "metadata": {},
   "source": [
    "----\n",
    "The fillna method exists in Pandas. It does exactly what we saw in the class refactoring methods. \n",
    "(https://pandas.pydata.org/pandas-docs/stable/reference/api/pandas.DataFrame.fillna.html)\n",
    "\n",
    "Apply this one to the 'mrp', 'price', 'rating' and 'review_count' columns in df, replacing nan values by medians.\n",
    "\n",
    "Then again describe your dataframe. Anything different ?"
   ]
  },
  {
   "cell_type": "code",
   "execution_count": 69,
   "metadata": {
    "ExecuteTime": {
     "end_time": "2022-10-09T11:26:25.347487Z",
     "start_time": "2022-10-09T11:26:25.341256Z"
    }
   },
   "outputs": [],
   "source": [
    "## Your code here ##"
   ]
  },
  {
   "cell_type": "code",
   "execution_count": 70,
   "metadata": {
    "ExecuteTime": {
     "end_time": "2022-10-09T11:26:25.361960Z",
     "start_time": "2022-10-09T11:26:25.354457Z"
    }
   },
   "outputs": [],
   "source": [
    "## Your code here ##"
   ]
  },
  {
   "cell_type": "code",
   "execution_count": 71,
   "metadata": {
    "ExecuteTime": {
     "end_time": "2022-10-09T11:26:25.544183Z",
     "start_time": "2022-10-09T11:26:25.366418Z"
    }
   },
   "outputs": [],
   "source": [
    "df['mrp'] = df['mrp'].fillna(df['mrp'].median())"
   ]
  },
  {
   "cell_type": "code",
   "execution_count": 72,
   "metadata": {
    "ExecuteTime": {
     "end_time": "2022-10-09T11:26:25.736709Z",
     "start_time": "2022-10-09T11:26:25.550838Z"
    }
   },
   "outputs": [],
   "source": [
    "df['price'] = df['price'].fillna(df['price'].median())"
   ]
  },
  {
   "cell_type": "code",
   "execution_count": 73,
   "metadata": {
    "ExecuteTime": {
     "end_time": "2022-10-09T11:26:25.759274Z",
     "start_time": "2022-10-09T11:26:25.742556Z"
    }
   },
   "outputs": [],
   "source": [
    "df['rating'] = df['rating'].fillna(df['rating'].median())"
   ]
  },
  {
   "cell_type": "code",
   "execution_count": 74,
   "metadata": {
    "ExecuteTime": {
     "end_time": "2022-10-09T11:26:25.778583Z",
     "start_time": "2022-10-09T11:26:25.764494Z"
    }
   },
   "outputs": [],
   "source": [
    "df['review_count'] = df['review_count'].fillna(df['review_count'].median())"
   ]
  },
  {
   "cell_type": "code",
   "execution_count": 75,
   "metadata": {
    "ExecuteTime": {
     "end_time": "2022-10-09T11:26:27.057834Z",
     "start_time": "2022-10-09T11:26:25.783896Z"
    }
   },
   "outputs": [
    {
     "data": {
      "text/plain": [
       "product_name             0\n",
       "mrp                      0\n",
       "price                    0\n",
       "pdp_url                  0\n",
       "brand_name               0\n",
       "product_category         0\n",
       "retailer                 0\n",
       "description              0\n",
       "rating                   0\n",
       "review_count             0\n",
       "style_attributes    453386\n",
       "total_sizes              0\n",
       "available_size           0\n",
       "color                    0\n",
       "dtype: int64"
      ]
     },
     "execution_count": 75,
     "metadata": {},
     "output_type": "execute_result"
    }
   ],
   "source": [
    "df.isna().sum()"
   ]
  },
  {
   "cell_type": "code",
   "execution_count": 76,
   "metadata": {
    "ExecuteTime": {
     "end_time": "2022-10-09T11:26:27.134937Z",
     "start_time": "2022-10-09T11:26:27.061406Z"
    }
   },
   "outputs": [
    {
     "data": {
      "text/html": [
       "<div>\n",
       "<style scoped>\n",
       "    .dataframe tbody tr th:only-of-type {\n",
       "        vertical-align: middle;\n",
       "    }\n",
       "\n",
       "    .dataframe tbody tr th {\n",
       "        vertical-align: top;\n",
       "    }\n",
       "\n",
       "    .dataframe thead th {\n",
       "        text-align: right;\n",
       "    }\n",
       "</style>\n",
       "<table border=\"1\" class=\"dataframe\">\n",
       "  <thead>\n",
       "    <tr style=\"text-align: right;\">\n",
       "      <th></th>\n",
       "      <th>rating</th>\n",
       "      <th>review_count</th>\n",
       "      <th>style_attributes</th>\n",
       "    </tr>\n",
       "  </thead>\n",
       "  <tbody>\n",
       "    <tr>\n",
       "      <th>count</th>\n",
       "      <td>453386.000000</td>\n",
       "      <td>4.533860e+05</td>\n",
       "      <td>0.0</td>\n",
       "    </tr>\n",
       "    <tr>\n",
       "      <th>mean</th>\n",
       "      <td>4.259237</td>\n",
       "      <td>2.795741e+35</td>\n",
       "      <td>NaN</td>\n",
       "    </tr>\n",
       "    <tr>\n",
       "      <th>std</th>\n",
       "      <td>0.275703</td>\n",
       "      <td>6.423671e+36</td>\n",
       "      <td>NaN</td>\n",
       "    </tr>\n",
       "    <tr>\n",
       "      <th>min</th>\n",
       "      <td>0.000000</td>\n",
       "      <td>2.000000e+00</td>\n",
       "      <td>NaN</td>\n",
       "    </tr>\n",
       "    <tr>\n",
       "      <th>25%</th>\n",
       "      <td>4.300000</td>\n",
       "      <td>1.470000e+02</td>\n",
       "      <td>NaN</td>\n",
       "    </tr>\n",
       "    <tr>\n",
       "      <th>50%</th>\n",
       "      <td>4.300000</td>\n",
       "      <td>1.470000e+02</td>\n",
       "      <td>NaN</td>\n",
       "    </tr>\n",
       "    <tr>\n",
       "      <th>75%</th>\n",
       "      <td>4.300000</td>\n",
       "      <td>1.470000e+02</td>\n",
       "      <td>NaN</td>\n",
       "    </tr>\n",
       "    <tr>\n",
       "      <th>max</th>\n",
       "      <td>5.000000</td>\n",
       "      <td>1.560000e+38</td>\n",
       "      <td>NaN</td>\n",
       "    </tr>\n",
       "  </tbody>\n",
       "</table>\n",
       "</div>"
      ],
      "text/plain": [
       "              rating  review_count  style_attributes\n",
       "count  453386.000000  4.533860e+05               0.0\n",
       "mean        4.259237  2.795741e+35               NaN\n",
       "std         0.275703  6.423671e+36               NaN\n",
       "min         0.000000  2.000000e+00               NaN\n",
       "25%         4.300000  1.470000e+02               NaN\n",
       "50%         4.300000  1.470000e+02               NaN\n",
       "75%         4.300000  1.470000e+02               NaN\n",
       "max         5.000000  1.560000e+38               NaN"
      ]
     },
     "execution_count": 76,
     "metadata": {},
     "output_type": "execute_result"
    }
   ],
   "source": [
    "df.describe()"
   ]
  },
  {
   "cell_type": "markdown",
   "metadata": {},
   "source": [
    "Apply fillna to df using inplace = True <br>\n",
    "What does is accomplish precisely ? <br> Provide an illustration. \n"
   ]
  },
  {
   "cell_type": "code",
   "execution_count": 77,
   "metadata": {
    "ExecuteTime": {
     "end_time": "2022-10-09T11:26:27.147830Z",
     "start_time": "2022-10-09T11:26:27.142709Z"
    }
   },
   "outputs": [],
   "source": [
    "## Your code here ##"
   ]
  },
  {
   "cell_type": "code",
   "execution_count": 78,
   "metadata": {
    "ExecuteTime": {
     "end_time": "2022-10-09T11:26:27.160559Z",
     "start_time": "2022-10-09T11:26:27.154654Z"
    }
   },
   "outputs": [],
   "source": [
    "## Your code here ##"
   ]
  },
  {
   "cell_type": "code",
   "execution_count": 79,
   "metadata": {
    "ExecuteTime": {
     "end_time": "2022-10-09T11:26:27.319427Z",
     "start_time": "2022-10-09T11:26:27.164378Z"
    }
   },
   "outputs": [],
   "source": [
    "df['mrp'].fillna(df['mrp'].median(), inplace=True)"
   ]
  },
  {
   "cell_type": "code",
   "execution_count": 80,
   "metadata": {
    "ExecuteTime": {
     "end_time": "2022-10-09T11:26:27.340301Z",
     "start_time": "2022-10-09T11:26:27.326915Z"
    }
   },
   "outputs": [],
   "source": [
    "# if we use inplace=True then all the na's in the columns will be replaced with median permanently"
   ]
  },
  {
   "cell_type": "markdown",
   "metadata": {
    "hidden": true
   },
   "source": [
    "For further use, let's make a preprocess function that cleans the price and imputes missing values <br>\n",
    "Justify your imputation method (which imputation method did you chose and why ?)"
   ]
  },
  {
   "cell_type": "code",
   "execution_count": 81,
   "metadata": {
    "ExecuteTime": {
     "end_time": "2022-10-09T11:26:27.355345Z",
     "start_time": "2022-10-09T11:26:27.346156Z"
    }
   },
   "outputs": [],
   "source": [
    "## Your code here ##"
   ]
  },
  {
   "cell_type": "code",
   "execution_count": 82,
   "metadata": {
    "ExecuteTime": {
     "end_time": "2022-10-09T11:26:27.408782Z",
     "start_time": "2022-10-09T11:26:27.405620Z"
    },
    "code_folding": [],
    "hidden": true
   },
   "outputs": [],
   "source": [
    "## Your code here ##"
   ]
  },
  {
   "cell_type": "code",
   "execution_count": 83,
   "metadata": {
    "ExecuteTime": {
     "end_time": "2022-10-09T11:26:27.529719Z",
     "start_time": "2022-10-09T11:26:27.412143Z"
    }
   },
   "outputs": [],
   "source": [
    "df['mrp'] = df['mrp'].astype(float)"
   ]
  },
  {
   "cell_type": "code",
   "execution_count": 84,
   "metadata": {
    "ExecuteTime": {
     "end_time": "2022-10-09T11:26:27.959067Z",
     "start_time": "2022-10-09T11:26:27.535302Z"
    },
    "scrolled": true
   },
   "outputs": [
    {
     "data": {
      "text/plain": [
       "<AxesSubplot:ylabel='Frequency'>"
      ]
     },
     "execution_count": 84,
     "metadata": {},
     "output_type": "execute_result"
    },
    {
     "data": {
      "image/png": "[encoded data removed]",
      "text/plain": [
       "<Figure size 432x288 with 1 Axes>"
      ]
     },
     "metadata": {
      "needs_background": "light"
     },
     "output_type": "display_data"
    }
   ],
   "source": [
    "df['mrp'].plot(kind = 'hist')"
   ]
  },
  {
   "cell_type": "code",
   "execution_count": 85,
   "metadata": {
    "ExecuteTime": {
     "end_time": "2022-10-09T11:26:27.979861Z",
     "start_time": "2022-10-09T11:26:27.964512Z"
    }
   },
   "outputs": [
    {
     "data": {
      "text/plain": [
       "(36.0, 36.028962517552806)"
      ]
     },
     "execution_count": 85,
     "metadata": {},
     "output_type": "execute_result"
    }
   ],
   "source": [
    "df['mrp'].median(), df['mrp'].mean()"
   ]
  },
  {
   "cell_type": "code",
   "execution_count": null,
   "metadata": {},
   "outputs": [],
   "source": []
  },
  {
   "cell_type": "code",
   "execution_count": 86,
   "metadata": {
    "ExecuteTime": {
     "end_time": "2022-10-09T11:26:28.103500Z",
     "start_time": "2022-10-09T11:26:27.983970Z"
    }
   },
   "outputs": [],
   "source": [
    "df['price'] = df['price'].astype(float)"
   ]
  },
  {
   "cell_type": "code",
   "execution_count": 87,
   "metadata": {
    "ExecuteTime": {
     "end_time": "2022-10-09T11:26:28.398786Z",
     "start_time": "2022-10-09T11:26:28.109496Z"
    },
    "scrolled": true
   },
   "outputs": [
    {
     "data": {
      "text/plain": [
       "<AxesSubplot:ylabel='Frequency'>"
      ]
     },
     "execution_count": 87,
     "metadata": {},
     "output_type": "execute_result"
    },
    {
     "data": {
      "image/png": "[encoded data removed]",
      "text/plain": [
       "<Figure size 432x288 with 1 Axes>"
      ]
     },
     "metadata": {
      "needs_background": "light"
     },
     "output_type": "display_data"
    }
   ],
   "source": [
    "df['price'].plot(kind = 'hist')"
   ]
  },
  {
   "cell_type": "code",
   "execution_count": 88,
   "metadata": {
    "ExecuteTime": {
     "end_time": "2022-10-09T11:26:28.419308Z",
     "start_time": "2022-10-09T11:26:28.404663Z"
    }
   },
   "outputs": [
    {
     "data": {
      "text/plain": [
       "(34.5, 32.34105534798886)"
      ]
     },
     "execution_count": 88,
     "metadata": {},
     "output_type": "execute_result"
    }
   ],
   "source": [
    "df['price'].median(), df['price'].mean()"
   ]
  },
  {
   "cell_type": "code",
   "execution_count": 89,
   "metadata": {
    "ExecuteTime": {
     "end_time": "2022-10-09T11:26:28.433414Z",
     "start_time": "2022-10-09T11:26:28.425199Z"
    }
   },
   "outputs": [],
   "source": [
    "# function to clean and impute missing values \n",
    "# mean is chosen to impute because for mrp column both median and mean are same, \n",
    "    # for price column the distribution is right skewed and hence mean is chosen \n",
    "def preprocess(x):\n",
    "    for i in df[x]:\n",
    "        if '$' in x:\n",
    "            return x.replace('$',\"\")\n",
    "        else:\n",
    "            pass\n",
    "    df[x].fillna(df[x].median(), inplace=True) \n"
   ]
  },
  {
   "cell_type": "code",
   "execution_count": 90,
   "metadata": {
    "ExecuteTime": {
     "end_time": "2022-10-09T11:26:28.645571Z",
     "start_time": "2022-10-09T11:26:28.440141Z"
    }
   },
   "outputs": [],
   "source": [
    "# calling the preprocess function\n",
    "preprocess('mrp')\n",
    "preprocess('price')"
   ]
  },
  {
   "cell_type": "code",
   "execution_count": 91,
   "metadata": {
    "ExecuteTime": {
     "end_time": "2022-10-09T11:26:28.665314Z",
     "start_time": "2022-10-09T11:26:28.651150Z"
    }
   },
   "outputs": [
    {
     "data": {
      "text/plain": [
       "(0, False)"
      ]
     },
     "execution_count": 91,
     "metadata": {},
     "output_type": "execute_result"
    }
   ],
   "source": [
    "# to check whether the preprocessing is completed or not\n",
    "df['mrp'].isna().sum(), '$' in df['mrp']"
   ]
  },
  {
   "cell_type": "code",
   "execution_count": 92,
   "metadata": {
    "ExecuteTime": {
     "end_time": "2022-10-09T11:26:28.686101Z",
     "start_time": "2022-10-09T11:26:28.670977Z"
    }
   },
   "outputs": [
    {
     "data": {
      "text/plain": [
       "(0, False)"
      ]
     },
     "execution_count": 92,
     "metadata": {},
     "output_type": "execute_result"
    }
   ],
   "source": [
    "# to check whether the preprocessing is completed or not\n",
    "df['price'].isna().sum(), '$' in df['price']"
   ]
  },
  {
   "cell_type": "code",
   "execution_count": null,
   "metadata": {},
   "outputs": [],
   "source": []
  },
  {
   "cell_type": "markdown",
   "metadata": {
    "heading_collapsed": true
   },
   "source": [
    "### III. Data lookup\n",
    "\n"
   ]
  },
  {
   "cell_type": "markdown",
   "metadata": {},
   "source": [
    "Let's repeat our previous exploration, but this time using Pandas methods. "
   ]
  },
  {
   "cell_type": "markdown",
   "metadata": {
    "heading_collapsed": true,
    "hidden": true
   },
   "source": [
    "#### Question 1\n",
    "\n",
    "Which product are the most expensive? what are the indices of the correponding rows and correponding products?"
   ]
  },
  {
   "cell_type": "code",
   "execution_count": 93,
   "metadata": {
    "ExecuteTime": {
     "end_time": "2022-10-09T11:26:28.701645Z",
     "start_time": "2022-10-09T11:26:28.692256Z"
    }
   },
   "outputs": [
    {
     "data": {
      "text/plain": [
       "98.0"
      ]
     },
     "execution_count": 93,
     "metadata": {},
     "output_type": "execute_result"
    }
   ],
   "source": [
    "# most expensive price \n",
    "df['price'].max()"
   ]
  },
  {
   "cell_type": "code",
   "execution_count": 94,
   "metadata": {
    "ExecuteTime": {
     "end_time": "2022-10-09T11:26:28.716311Z",
     "start_time": "2022-10-09T11:26:28.708468Z"
    }
   },
   "outputs": [],
   "source": [
    "max_price = df['price'].max()"
   ]
  },
  {
   "cell_type": "code",
   "execution_count": 95,
   "metadata": {
    "ExecuteTime": {
     "end_time": "2022-10-09T11:26:28.770565Z",
     "start_time": "2022-10-09T11:26:28.721465Z"
    },
    "scrolled": true
   },
   "outputs": [
    {
     "data": {
      "text/plain": [
       "Int64Index([   578,    579,  22386,  22387,  22388,  22389,  22390,  22391,\n",
       "             22392,  22393,\n",
       "            ...\n",
       "            444130, 444131, 444132, 444133, 444134, 444135, 444136, 444137,\n",
       "            444138, 444139],\n",
       "           dtype='int64', length=143)"
      ]
     },
     "execution_count": 95,
     "metadata": {},
     "output_type": "execute_result"
    }
   ],
   "source": [
    "# indices of the most expensive products \n",
    "df.loc[df['price'] == max_price].index"
   ]
  },
  {
   "cell_type": "code",
   "execution_count": 96,
   "metadata": {
    "ExecuteTime": {
     "end_time": "2022-10-09T11:26:28.790760Z",
     "start_time": "2022-10-09T11:26:28.776954Z"
    }
   },
   "outputs": [
    {
     "data": {
      "text/plain": [
       "array(['Very Sexy Fishnet Lace Kimono',\n",
       "       'Very Sexy NEW! Keyhole Lace Teddy',\n",
       "       'Very Sexy Fishnet Lace Dress'], dtype=object)"
      ]
     },
     "execution_count": 96,
     "metadata": {},
     "output_type": "execute_result"
    }
   ],
   "source": [
    "# Names of the most expensive products\n",
    "df['product_name'].loc[df['price'] == max_price].unique()"
   ]
  },
  {
   "cell_type": "code",
   "execution_count": 97,
   "metadata": {
    "ExecuteTime": {
     "end_time": "2022-10-09T11:26:28.880693Z",
     "start_time": "2022-10-09T11:26:28.798185Z"
    }
   },
   "outputs": [],
   "source": [
    "df.drop(['style_attributes'], axis=1, inplace = True)"
   ]
  },
  {
   "cell_type": "code",
   "execution_count": null,
   "metadata": {},
   "outputs": [],
   "source": []
  },
  {
   "cell_type": "code",
   "execution_count": null,
   "metadata": {},
   "outputs": [],
   "source": []
  },
  {
   "cell_type": "markdown",
   "metadata": {
    "heading_collapsed": true,
    "hidden": true
   },
   "source": [
    "#### Question 2\n",
    "\n",
    "What are the cheapest products which exists in size 36B? In which colors are they available?"
   ]
  },
  {
   "cell_type": "code",
   "execution_count": 98,
   "metadata": {
    "ExecuteTime": {
     "end_time": "2022-10-09T11:26:29.249662Z",
     "start_time": "2022-10-09T11:26:28.884857Z"
    }
   },
   "outputs": [],
   "source": [
    "# finding the index of the products which exists in size 36B\n",
    "_36B_product_name_index = df['product_name'].loc[df['available_size'].str.contains('36B', regex=True)].index"
   ]
  },
  {
   "cell_type": "code",
   "execution_count": 99,
   "metadata": {
    "ExecuteTime": {
     "end_time": "2022-10-09T11:26:29.268854Z",
     "start_time": "2022-10-09T11:26:29.252686Z"
    },
    "hidden": true
   },
   "outputs": [],
   "source": [
    "# creating a new dataframe which contains on products of size 36B\n",
    "df_36B = df.loc[_36B_product_name_index]"
   ]
  },
  {
   "cell_type": "code",
   "execution_count": 100,
   "metadata": {
    "ExecuteTime": {
     "end_time": "2022-10-09T11:26:29.355479Z",
     "start_time": "2022-10-09T11:26:29.273153Z"
    }
   },
   "outputs": [
    {
     "data": {
      "text/plain": [
       "array(['Victoria Sport Lightweight by Victoria Sport Bra'], dtype=object)"
      ]
     },
     "execution_count": 100,
     "metadata": {},
     "output_type": "execute_result"
    }
   ],
   "source": [
    "# finding the cheapest product which exists in size 36B\n",
    "df_36B['product_name'].loc[df_36B['price'] == df_36B['price'].min()].unique()"
   ]
  },
  {
   "cell_type": "code",
   "execution_count": 101,
   "metadata": {
    "ExecuteTime": {
     "end_time": "2022-10-09T11:26:29.379810Z",
     "start_time": "2022-10-09T11:26:29.362371Z"
    }
   },
   "outputs": [
    {
     "data": {
      "text/plain": [
       "array(['Black Marl', 'Hello Lovely', 'White', 'Black',\n",
       "       'Multi Slasher Stripe', 'Blackberry', 'Coral Reef', 'Tinted Plum',\n",
       "       'Faded Denim', 'Summer Blues', 'Black/White Stripe',\n",
       "       'Cool Spraypaint Triangles', 'Grey Oasis Monofilament',\n",
       "       'Border Line', 'Black Monofilament', 'White Colorblock',\n",
       "       'Inkblot Colorblock', 'Black Blocked Curves',\n",
       "       'Tinted Plum Mesh Curves', 'Firework Texture', 'Seychelles',\n",
       "       'Cool Rainbow Rings', 'Endless Orange', 'Grey Oasis',\n",
       "       'Red Geometric', 'Red Sacred Geometry', 'Cool Textile Stripe',\n",
       "       'Wavy Arrows', 'Purple Rapture', 'Blue Camo Zebra',\n",
       "       'Warm Spraypaint Triangles', 'Laced Arrows', 'Floral Wave',\n",
       "       'Cadette Green', 'Grape Soda', 'Inkblot', 'Inkblot Monofilament',\n",
       "       'White Monofilament'], dtype=object)"
      ]
     },
     "execution_count": 101,
     "metadata": {},
     "output_type": "execute_result"
    }
   ],
   "source": [
    "# colors in which the cheapest product in size 36B are available\n",
    "df_36B['color'].loc[df_36B['product_name'] == 'Victoria Sport Lightweight by Victoria Sport Bra'].unique()"
   ]
  },
  {
   "cell_type": "code",
   "execution_count": null,
   "metadata": {},
   "outputs": [],
   "source": []
  },
  {
   "cell_type": "code",
   "execution_count": null,
   "metadata": {},
   "outputs": [],
   "source": []
  },
  {
   "cell_type": "markdown",
   "metadata": {
    "hidden": true
   },
   "source": [
    "#### Question 3\n",
    "\n",
    "We can do the same, but checking for products for which `total_sizes` contains '36B'"
   ]
  },
  {
   "cell_type": "code",
   "execution_count": 102,
   "metadata": {
    "ExecuteTime": {
     "end_time": "2022-10-09T11:26:29.871906Z",
     "start_time": "2022-10-09T11:26:29.387227Z"
    }
   },
   "outputs": [],
   "source": [
    "# finding the index of the products which exists in size 36B in total sizes\n",
    "_36B_product_name_total_sizes_index = df['product_name'].loc[df['total_sizes'].str.contains('36B', regex=True)].index"
   ]
  },
  {
   "cell_type": "code",
   "execution_count": 103,
   "metadata": {
    "ExecuteTime": {
     "end_time": "2022-10-09T11:26:29.930440Z",
     "start_time": "2022-10-09T11:26:29.875336Z"
    }
   },
   "outputs": [],
   "source": [
    "# creating a new dataframe which contains on products of size 36B in total sizes\n",
    "df_36B_total_sizes = df.loc[_36B_product_name_total_sizes_index]"
   ]
  },
  {
   "cell_type": "code",
   "execution_count": 104,
   "metadata": {
    "ExecuteTime": {
     "end_time": "2022-10-09T11:26:29.948106Z",
     "start_time": "2022-10-09T11:26:29.933637Z"
    },
    "hidden": true
   },
   "outputs": [
    {
     "data": {
      "text/plain": [
       "array(['Victoria Sport Lightweight by Victoria Sport Bra'], dtype=object)"
      ]
     },
     "execution_count": 104,
     "metadata": {},
     "output_type": "execute_result"
    }
   ],
   "source": [
    "# finding the cheapest product which exists in size 36B in total sizes\n",
    "df_36B_total_sizes['product_name'].loc[df_36B_total_sizes['price'] == df_36B_total_sizes['price'].min()].unique()"
   ]
  },
  {
   "cell_type": "code",
   "execution_count": 105,
   "metadata": {
    "ExecuteTime": {
     "end_time": "2022-10-09T11:26:29.989072Z",
     "start_time": "2022-10-09T11:26:29.954269Z"
    }
   },
   "outputs": [
    {
     "data": {
      "text/plain": [
       "array(['Black Marl', 'Hello Lovely', 'White', 'Black',\n",
       "       'Multi Slasher Stripe', 'Blackberry', 'Coral Reef', 'Tinted Plum',\n",
       "       'Faded Denim', 'Summer Blues', 'Black/White Stripe',\n",
       "       'Cool Spraypaint Triangles', 'Grey Oasis Monofilament',\n",
       "       'Border Line', 'Black Monofilament', 'White Colorblock',\n",
       "       'Inkblot Colorblock', 'Black Blocked Curves',\n",
       "       'Tinted Plum Mesh Curves', 'Firework Texture', 'Seychelles',\n",
       "       'Cool Rainbow Rings', 'Endless Orange', 'Grey Oasis',\n",
       "       'Red Geometric', 'Red Sacred Geometry', 'Cool Textile Stripe',\n",
       "       'Wavy Arrows', 'Purple Rapture', 'Blue Camo Zebra',\n",
       "       'Warm Spraypaint Triangles', 'Laced Arrows', 'Floral Wave',\n",
       "       'Cadette Green', 'Grape Soda', 'Inkblot', 'Inkblot Monofilament',\n",
       "       'White Monofilament'], dtype=object)"
      ]
     },
     "execution_count": 105,
     "metadata": {},
     "output_type": "execute_result"
    }
   ],
   "source": [
    "# colors in which the cheapest product in size 36B are available in total sizes\n",
    "df_36B_total_sizes['color'].loc[df_36B_total_sizes['product_name'] == 'Victoria Sport Lightweight by Victoria Sport Bra'].unique()"
   ]
  },
  {
   "cell_type": "code",
   "execution_count": null,
   "metadata": {},
   "outputs": [],
   "source": []
  },
  {
   "cell_type": "code",
   "execution_count": null,
   "metadata": {},
   "outputs": [],
   "source": []
  },
  {
   "cell_type": "markdown",
   "metadata": {
    "heading_collapsed": true,
    "hidden": true
   },
   "source": [
    "#### Question 4\n",
    "\n",
    "What are the cheapest 'sport bras'?"
   ]
  },
  {
   "cell_type": "code",
   "execution_count": 106,
   "metadata": {
    "ExecuteTime": {
     "end_time": "2022-10-09T11:26:30.724587Z",
     "start_time": "2022-10-09T11:26:29.995298Z"
    }
   },
   "outputs": [],
   "source": [
    "# finding the index of the sport bras\n",
    "sport_bras_index = df['product_name'].loc[df['product_category'].str.contains('Sport', case = False)].index"
   ]
  },
  {
   "cell_type": "code",
   "execution_count": 107,
   "metadata": {
    "ExecuteTime": {
     "end_time": "2022-10-09T11:26:30.767819Z",
     "start_time": "2022-10-09T11:26:30.730203Z"
    }
   },
   "outputs": [],
   "source": [
    "# creating a new dataframe which contains only sport bras\n",
    "df_sport_bras = df.loc[sport_bras_index]"
   ]
  },
  {
   "cell_type": "code",
   "execution_count": 108,
   "metadata": {
    "ExecuteTime": {
     "end_time": "2022-10-09T11:26:30.792701Z",
     "start_time": "2022-10-09T11:26:30.775539Z"
    },
    "scrolled": true
   },
   "outputs": [
    {
     "data": {
      "text/plain": [
       "array(['Victoria Sport Strappy Triangle Sport Bra',\n",
       "       'The Player Lace-Up Sport Bra',\n",
       "       'Victoria Sport Lightweight by Victoria Sport Bra'], dtype=object)"
      ]
     },
     "execution_count": 108,
     "metadata": {},
     "output_type": "execute_result"
    }
   ],
   "source": [
    "# finding the cheapest sport bra \n",
    "df_sport_bras['product_name'].loc[df_sport_bras['price'] == df_sport_bras['price'].min()].unique()"
   ]
  },
  {
   "cell_type": "code",
   "execution_count": null,
   "metadata": {},
   "outputs": [],
   "source": []
  },
  {
   "cell_type": "markdown",
   "metadata": {
    "heading_collapsed": true,
    "hidden": true
   },
   "source": [
    "#### Question 5\n",
    "What is the most expensive belt? in which color is it available?"
   ]
  },
  {
   "cell_type": "code",
   "execution_count": 109,
   "metadata": {
    "ExecuteTime": {
     "end_time": "2022-10-09T11:26:31.472887Z",
     "start_time": "2022-10-09T11:26:30.800234Z"
    }
   },
   "outputs": [],
   "source": [
    "# finding the index of the belts\n",
    "df_belts_index = df.loc[df['product_category'].str.contains('belt',case = False)].index"
   ]
  },
  {
   "cell_type": "code",
   "execution_count": 110,
   "metadata": {
    "ExecuteTime": {
     "end_time": "2022-10-09T11:26:31.510230Z",
     "start_time": "2022-10-09T11:26:31.476247Z"
    }
   },
   "outputs": [],
   "source": [
    "# creating a new dataframe which contains only belts\n",
    "df_belts = df.loc[df_belts_index]"
   ]
  },
  {
   "cell_type": "code",
   "execution_count": 111,
   "metadata": {
    "ExecuteTime": {
     "end_time": "2022-10-09T11:26:31.532888Z",
     "start_time": "2022-10-09T11:26:31.518492Z"
    }
   },
   "outputs": [
    {
     "data": {
      "text/plain": [
       "array(['Very Sexy Heart Lace Garter Belt'], dtype=object)"
      ]
     },
     "execution_count": 111,
     "metadata": {},
     "output_type": "execute_result"
    }
   ],
   "source": [
    "# finding the most expensive belt \n",
    "df_belts['product_name'].loc[df_belts['price'] == df_belts['price'].max()].unique()"
   ]
  },
  {
   "cell_type": "code",
   "execution_count": 112,
   "metadata": {
    "ExecuteTime": {
     "end_time": "2022-10-09T11:26:31.558098Z",
     "start_time": "2022-10-09T11:26:31.543775Z"
    }
   },
   "outputs": [
    {
     "data": {
      "text/plain": [
       "array(['black hearts print'], dtype=object)"
      ]
     },
     "execution_count": 112,
     "metadata": {},
     "output_type": "execute_result"
    }
   ],
   "source": [
    "# to find the available color of the most expensive belt\n",
    "df_belts['color'].loc[df_belts['product_name'] == 'Very Sexy Heart Lace Garter Belt'].unique()"
   ]
  },
  {
   "cell_type": "code",
   "execution_count": null,
   "metadata": {},
   "outputs": [],
   "source": []
  },
  {
   "cell_type": "code",
   "execution_count": null,
   "metadata": {},
   "outputs": [],
   "source": []
  },
  {
   "cell_type": "markdown",
   "metadata": {
    "heading_collapsed": true,
    "hidden": true
   },
   "source": [
    "#### Question 6\n",
    "\n",
    "What is the most common color of the best rated products?\n",
    "\n",
    "What is then the best rated product available in the most popular color?"
   ]
  },
  {
   "cell_type": "code",
   "execution_count": 113,
   "metadata": {
    "ExecuteTime": {
     "end_time": "2022-10-09T11:26:31.594658Z",
     "start_time": "2022-10-09T11:26:31.562582Z"
    }
   },
   "outputs": [
    {
     "data": {
      "text/html": [
       "<div>\n",
       "<style scoped>\n",
       "    .dataframe tbody tr th:only-of-type {\n",
       "        vertical-align: middle;\n",
       "    }\n",
       "\n",
       "    .dataframe tbody tr th {\n",
       "        vertical-align: top;\n",
       "    }\n",
       "\n",
       "    .dataframe thead th {\n",
       "        text-align: right;\n",
       "    }\n",
       "</style>\n",
       "<table border=\"1\" class=\"dataframe\">\n",
       "  <thead>\n",
       "    <tr style=\"text-align: right;\">\n",
       "      <th></th>\n",
       "      <th>product_name</th>\n",
       "      <th>mrp</th>\n",
       "      <th>price</th>\n",
       "      <th>pdp_url</th>\n",
       "      <th>brand_name</th>\n",
       "      <th>product_category</th>\n",
       "      <th>retailer</th>\n",
       "      <th>description</th>\n",
       "      <th>rating</th>\n",
       "      <th>review_count</th>\n",
       "      <th>total_sizes</th>\n",
       "      <th>available_size</th>\n",
       "      <th>color</th>\n",
       "    </tr>\n",
       "  </thead>\n",
       "  <tbody>\n",
       "    <tr>\n",
       "      <th>0</th>\n",
       "      <td>Very Sexy Strappy Lace Thong Panty</td>\n",
       "      <td>14.5</td>\n",
       "      <td>14.5</td>\n",
       "      <td>https://www.victoriassecret.com/panties/shop-a...</td>\n",
       "      <td>Victoria's Secret</td>\n",
       "      <td>Strappy Lace Thong Panty</td>\n",
       "      <td>Victoriassecret US</td>\n",
       "      <td>Lots of cheek peek, pretty lace, a strappy bac...</td>\n",
       "      <td>4.3</td>\n",
       "      <td>147.0</td>\n",
       "      <td>[\"XS\", \"S\", \"M\", \"L\", \"XL\"]</td>\n",
       "      <td>S</td>\n",
       "      <td>peach melba</td>\n",
       "    </tr>\n",
       "    <tr>\n",
       "      <th>1</th>\n",
       "      <td>Very Sexy Strappy Lace Thong Panty</td>\n",
       "      <td>14.5</td>\n",
       "      <td>14.5</td>\n",
       "      <td>https://www.victoriassecret.com/panties/shop-a...</td>\n",
       "      <td>Victoria's Secret</td>\n",
       "      <td>Strappy Lace Thong Panty</td>\n",
       "      <td>Victoriassecret US</td>\n",
       "      <td>Lots of cheek peek, pretty lace, a strappy bac...</td>\n",
       "      <td>4.3</td>\n",
       "      <td>147.0</td>\n",
       "      <td>[\"XS\", \"S\", \"M\", \"L\", \"XL\"]</td>\n",
       "      <td>S</td>\n",
       "      <td>black</td>\n",
       "    </tr>\n",
       "  </tbody>\n",
       "</table>\n",
       "</div>"
      ],
      "text/plain": [
       "                         product_name   mrp  price  \\\n",
       "0  Very Sexy Strappy Lace Thong Panty  14.5   14.5   \n",
       "1  Very Sexy Strappy Lace Thong Panty  14.5   14.5   \n",
       "\n",
       "                                             pdp_url         brand_name  \\\n",
       "0  https://www.victoriassecret.com/panties/shop-a...  Victoria's Secret   \n",
       "1  https://www.victoriassecret.com/panties/shop-a...  Victoria's Secret   \n",
       "\n",
       "           product_category            retailer  \\\n",
       "0  Strappy Lace Thong Panty  Victoriassecret US   \n",
       "1  Strappy Lace Thong Panty  Victoriassecret US   \n",
       "\n",
       "                                         description  rating  review_count  \\\n",
       "0  Lots of cheek peek, pretty lace, a strappy bac...     4.3         147.0   \n",
       "1  Lots of cheek peek, pretty lace, a strappy bac...     4.3         147.0   \n",
       "\n",
       "                   total_sizes available_size        color  \n",
       "0  [\"XS\", \"S\", \"M\", \"L\", \"XL\"]              S  peach melba  \n",
       "1  [\"XS\", \"S\", \"M\", \"L\", \"XL\"]              S        black  "
      ]
     },
     "execution_count": 113,
     "metadata": {},
     "output_type": "execute_result"
    }
   ],
   "source": [
    "df.head(2)"
   ]
  },
  {
   "cell_type": "code",
   "execution_count": 114,
   "metadata": {
    "ExecuteTime": {
     "end_time": "2022-10-09T11:26:31.611915Z",
     "start_time": "2022-10-09T11:26:31.599836Z"
    }
   },
   "outputs": [],
   "source": [
    "# creating a dataset of best rated products\n",
    "df_best_rated = df.loc[df['rating'] == 5.0]"
   ]
  },
  {
   "cell_type": "code",
   "execution_count": 115,
   "metadata": {
    "ExecuteTime": {
     "end_time": "2022-10-09T11:26:31.629982Z",
     "start_time": "2022-10-09T11:26:31.616404Z"
    }
   },
   "outputs": [
    {
     "data": {
      "text/plain": [
       "0    Black\n",
       "Name: color, dtype: object"
      ]
     },
     "execution_count": 115,
     "metadata": {},
     "output_type": "execute_result"
    }
   ],
   "source": [
    "# finding the most common color of the best rated products\n",
    "df_best_rated['color'].mode()"
   ]
  },
  {
   "cell_type": "code",
   "execution_count": 116,
   "metadata": {
    "ExecuteTime": {
     "end_time": "2022-10-09T11:26:31.725776Z",
     "start_time": "2022-10-09T11:26:31.643861Z"
    }
   },
   "outputs": [
    {
     "data": {
      "text/plain": [
       "array(['Victoria Sport NEW! Lightweight by Victoria Sport Strappy Sport Bra',\n",
       "       'Very Sexy NEW! Lace-up High-neck Bra'], dtype=object)"
      ]
     },
     "execution_count": 116,
     "metadata": {},
     "output_type": "execute_result"
    }
   ],
   "source": [
    "# the best rated products available in the most popular color\n",
    "df_best_rated['product_name'].loc[df['color'] == 'Black'].unique()"
   ]
  },
  {
   "cell_type": "markdown",
   "metadata": {},
   "source": [
    "# Thank You "
   ]
  },
  {
   "cell_type": "markdown",
   "metadata": {},
   "source": [
    "---"
   ]
  },
  {
   "cell_type": "markdown",
   "metadata": {},
   "source": [
    "---"
   ]
  }
 ],
 "metadata": {
  "kernelspec": {
   "display_name": "Python 3 (ipykernel)",
   "language": "python",
   "name": "python3"
  },
  "language_info": {
   "codemirror_mode": {
    "name": "ipython",
    "version": 3
   },
   "file_extension": ".py",
   "mimetype": "text/x-python",
   "name": "python",
   "nbconvert_exporter": "python",
   "pygments_lexer": "ipython3",
   "version": "3.9.12"
  },
  "toc": {
   "base_numbering": 1,
   "nav_menu": {},
   "number_sections": true,
   "sideBar": true,
   "skip_h1_title": false,
   "title_cell": "Table of Contents",
   "title_sidebar": "Contents",
   "toc_cell": false,
   "toc_position": {},
   "toc_section_display": true,
   "toc_window_display": false
  },
  "varInspector": {
   "cols": {
    "lenName": 16,
    "lenType": 16,
    "lenVar": 40
   },
   "kernels_config": {
    "python": {
     "delete_cmd_postfix": "",
     "delete_cmd_prefix": "del ",
     "library": "var_list.py",
     "varRefreshCmd": "print(var_dic_list())"
    },
    "r": {
     "delete_cmd_postfix": ") ",
     "delete_cmd_prefix": "rm(",
     "library": "var_list.r",
     "varRefreshCmd": "cat(var_dic_list()) "
    }
   },
   "types_to_exclude": [
    "module",
    "function",
    "builtin_function_or_method",
    "instance",
    "_Feature"
   ],
   "window_display": false
  }
 },
 "nbformat": 4,
 "nbformat_minor": 4
}
